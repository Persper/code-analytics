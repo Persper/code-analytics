{
 "cells": [
  {
   "cell_type": "code",
   "execution_count": 2,
   "metadata": {},
   "outputs": [],
   "source": [
    "from persper.analytics.cpp import CPPGraphServer\n",
    "from persper.analytics.analyzer import Analyzer\n",
    "from persper.analytics.graph_server import CPP_FILENAME_REGEXES\n",
    "import pickle\n",
    "\n",
    "ALPHA = 0.85\n"
   ]
  },
  {
   "cell_type": "code",
   "execution_count": 3,
   "metadata": {},
   "outputs": [],
   "source": [
    "def is_merged_commit(commit):\n",
    "    if len(commit.parents) > 1:\n",
    "        return True\n",
    "    else:\n",
    "        return False\n",
    "\n",
    "def share_distribution(commits, commit_share):\n",
    "    print(commit_share)\n",
    "    shares = {}\n",
    "    for commit in commits:\n",
    "        if commit.hexsha in commit_share:\n",
    "            if commit.authored_date in shares:\n",
    "                shares[commit.authored_date] += commit_share[commit.hexsha]\n",
    "            else:\n",
    "                shares[commit.authored_date] = commit_share[commit.hexsha]\n",
    "    \n",
    "    shares = dict(sorted(shares.items()))\n",
    "    \n",
    "    print(shares.keys())\n",
    "#     init_commit = shares.keys()[0]\n",
    "#     last_commit = shares.keys()[-1]\n",
    "    \n",
    "    print(init_commit)\n",
    "    print(last_commit)\n",
    "\n",
    "    values = []\n",
    "    for date in interval(init_commit, last_commit):\n",
    "        if shares[date]:\n",
    "            values.appned(shares[date])\n",
    "        else:\n",
    "            values.appned(0)\n",
    "\n",
    "    return init_commit, last_commit, values\n",
    "\n",
    "def developer_profile(pickle_path, alpha=0.85, show_merge=True):\n",
    "    dev_share = {}\n",
    "    az = pickle.load(open(pickle_path, 'rb'))\n",
    "\n",
    "    commit_share = az.get_graph().commit_devranks(alpha, black_set=[])\n",
    "\n",
    "    for commit in az._ri.repo.iter_commits():\n",
    "\n",
    "        if is_merged_commit(commit) and not show_merge:\n",
    "            continue\n",
    "\n",
    "        email = commit.author.email\n",
    "\n",
    "        if email in dev_share:\n",
    "            # dev_share[email][\"share\"] += commit_share\n",
    "            dev_share[email][\"commits\"].append(commit)\n",
    "        else:\n",
    "            dev_share[email] = {}\n",
    "            dev_share[email][\"commits\"] = [commit]\n",
    "            dev_share[email][\"email\"] = email\n",
    "            # dev_share[email][\"share\"] = commit_share\n",
    "\n",
    "    for values in dev_share.values():\n",
    "        init_commit, last_commit, values = share_distribution(values['commits'], commit_share)\n",
    "        values['distribution'] = {\n",
    "            'init_commit': init_commit,\n",
    "            'last_commit': last_commit,\n",
    "            'values': values\n",
    "        }\n",
    "        values['dev_value'] = sum(values)\n",
    "\n",
    "    return dev_share"
   ]
  },
  {
   "cell_type": "code",
   "execution_count": 4,
   "metadata": {},
   "outputs": [],
   "source": [
    "pickle_path = '/Users/xu.b.zheng/pickles/zhengxu001/bitcoin/1550271482.pickle'"
   ]
  },
  {
   "cell_type": "code",
   "execution_count": 5,
   "metadata": {},
   "outputs": [
    {
     "name": "stdout",
     "output_type": "stream",
     "text": [
      "{}\n",
      "dict_keys([])\n"
     ]
    },
    {
     "ename": "NameError",
     "evalue": "name 'init_commit' is not defined",
     "output_type": "error",
     "traceback": [
      "\u001b[0;31m---------------------------------------------------------------------------\u001b[0m",
      "\u001b[0;31mNameError\u001b[0m                                 Traceback (most recent call last)",
      "\u001b[0;32m<ipython-input-5-1b96ab5b8bf3>\u001b[0m in \u001b[0;36m<module>\u001b[0;34m\u001b[0m\n\u001b[0;32m----> 1\u001b[0;31m \u001b[0mdev_share\u001b[0m \u001b[0;34m=\u001b[0m \u001b[0mdeveloper_profile\u001b[0m\u001b[0;34m(\u001b[0m\u001b[0mpickle_path\u001b[0m\u001b[0;34m)\u001b[0m\u001b[0;34m\u001b[0m\u001b[0;34m\u001b[0m\u001b[0m\n\u001b[0m",
      "\u001b[0;32m<ipython-input-3-0007b472a9bd>\u001b[0m in \u001b[0;36mdeveloper_profile\u001b[0;34m(pickle_path, alpha, show_merge)\u001b[0m\n\u001b[1;32m     56\u001b[0m \u001b[0;34m\u001b[0m\u001b[0m\n\u001b[1;32m     57\u001b[0m     \u001b[0;32mfor\u001b[0m \u001b[0mvalues\u001b[0m \u001b[0;32min\u001b[0m \u001b[0mdev_share\u001b[0m\u001b[0;34m.\u001b[0m\u001b[0mvalues\u001b[0m\u001b[0;34m(\u001b[0m\u001b[0;34m)\u001b[0m\u001b[0;34m:\u001b[0m\u001b[0;34m\u001b[0m\u001b[0;34m\u001b[0m\u001b[0m\n\u001b[0;32m---> 58\u001b[0;31m         \u001b[0minit_commit\u001b[0m\u001b[0;34m,\u001b[0m \u001b[0mlast_commit\u001b[0m\u001b[0;34m,\u001b[0m \u001b[0mvalues\u001b[0m \u001b[0;34m=\u001b[0m \u001b[0mshare_distribution\u001b[0m\u001b[0;34m(\u001b[0m\u001b[0mvalues\u001b[0m\u001b[0;34m[\u001b[0m\u001b[0;34m'commits'\u001b[0m\u001b[0;34m]\u001b[0m\u001b[0;34m,\u001b[0m \u001b[0mcommit_share\u001b[0m\u001b[0;34m)\u001b[0m\u001b[0;34m\u001b[0m\u001b[0;34m\u001b[0m\u001b[0m\n\u001b[0m\u001b[1;32m     59\u001b[0m         values['distribution'] = {\n\u001b[1;32m     60\u001b[0m             \u001b[0;34m'init_commit'\u001b[0m\u001b[0;34m:\u001b[0m \u001b[0minit_commit\u001b[0m\u001b[0;34m,\u001b[0m\u001b[0;34m\u001b[0m\u001b[0;34m\u001b[0m\u001b[0m\n",
      "\u001b[0;32m<ipython-input-3-0007b472a9bd>\u001b[0m in \u001b[0;36mshare_distribution\u001b[0;34m(commits, commit_share)\u001b[0m\n\u001b[1;32m     21\u001b[0m \u001b[0;31m#     last_commit = shares.keys()[-1]\u001b[0m\u001b[0;34m\u001b[0m\u001b[0;34m\u001b[0m\u001b[0;34m\u001b[0m\u001b[0m\n\u001b[1;32m     22\u001b[0m \u001b[0;34m\u001b[0m\u001b[0m\n\u001b[0;32m---> 23\u001b[0;31m     \u001b[0mprint\u001b[0m\u001b[0;34m(\u001b[0m\u001b[0minit_commit\u001b[0m\u001b[0;34m)\u001b[0m\u001b[0;34m\u001b[0m\u001b[0;34m\u001b[0m\u001b[0m\n\u001b[0m\u001b[1;32m     24\u001b[0m     \u001b[0mprint\u001b[0m\u001b[0;34m(\u001b[0m\u001b[0mlast_commit\u001b[0m\u001b[0;34m)\u001b[0m\u001b[0;34m\u001b[0m\u001b[0;34m\u001b[0m\u001b[0m\n\u001b[1;32m     25\u001b[0m \u001b[0;34m\u001b[0m\u001b[0m\n",
      "\u001b[0;31mNameError\u001b[0m: name 'init_commit' is not defined"
     ]
    }
   ],
   "source": [
    "dev_share = developer_profile(pickle_path)"
   ]
  },
  {
   "cell_type": "code",
   "execution_count": null,
   "metadata": {},
   "outputs": [],
   "source": []
  }
 ],
 "metadata": {
  "kernelspec": {
   "display_name": "code-analytics",
   "language": "python",
   "name": "code-analytics"
  },
  "language_info": {
   "codemirror_mode": {
    "name": "ipython",
    "version": 3
   },
   "file_extension": ".py",
   "mimetype": "text/x-python",
   "name": "python",
   "nbconvert_exporter": "python",
   "pygments_lexer": "ipython3",
   "version": "3.6.7"
  }
 },
 "nbformat": 4,
 "nbformat_minor": 2
}
