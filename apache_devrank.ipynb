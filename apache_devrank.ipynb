{
 "cells": [
  {
   "cell_type": "code",
   "execution_count": null,
   "metadata": {
    "collapsed": true
   },
   "outputs": [],
   "source": [
    "%%javascript\n",
    "IPython.OutputArea.auto_scroll_threshold = 9999;"
   ]
  },
  {
   "cell_type": "markdown",
   "metadata": {},
   "source": [
    "## Load Call-Commit Graph\n",
    "We have two options:\n",
    "1. Analyze target repo from scratch and save result in a pickle file\n",
    "2. Load existing analysis result from a pickle file"
   ]
  },
  {
   "cell_type": "code",
   "execution_count": null,
   "metadata": {
    "collapsed": true
   },
   "outputs": [],
   "source": [
    "# import dependencies and set default alpha value\n",
    "import pickle\n",
    "import pprint\n",
    "from graphs.call_commit_graph import CallCommitGraph\n",
    "from scipy.stats import spearmanr, kendalltau\n",
    "default_alpha = 0.85\n",
    "pp = pprint.PrettyPrinter(indent=4)"
   ]
  },
  {
   "cell_type": "code",
   "execution_count": null,
   "metadata": {
    "collapsed": true
   },
   "outputs": [],
   "source": [
    "# Analyzing from scratch, this will generate a pickle file at the end of analysis\n",
    "ccg = CallCommitGraph(\"repos/httpd\")\n",
    "ccg.process(from_beginning=True, into_branches=True, max_branch_length=200)"
   ]
  },
  {
   "cell_type": "code",
   "execution_count": null,
   "metadata": {
    "collapsed": true
   },
   "outputs": [],
   "source": [
    "# Load existing analysis result\n",
    "# Apache Portable Runtime\n",
    "#ccg = pickle.load(open(\"data/apr-finished.pickle\", \"rb\"))\n",
    "\n",
    "# Apache HTTP Server (httpd)\n",
    "# Note: the httpd repo must exist to correctly load the pickle file\n",
    "ccg = None\n",
    "with open(\"data/httpd-finished.pickle\", \"rb\") as httpd_pickle:\n",
    "    ccg = pickle.load(httpd_pickle)"
   ]
  },
  {
   "cell_type": "markdown",
   "metadata": {},
   "source": [
    "## DevRank Share"
   ]
  },
  {
   "cell_type": "code",
   "execution_count": null,
   "metadata": {
    "collapsed": true
   },
   "outputs": [],
   "source": [
    "# Run DevRank on Call-Commit Graph and them map developer name to share\n",
    "# WARNING: this code doesn't work in the case that two developers have same name\n",
    "def get_name_to_share(alpha):\n",
    "    sorted_share, email_to_name = ccg.devrank_developers(alpha)\n",
    "    name_to_share = {}\n",
    "    for email, share in sorted_share:\n",
    "        name = email_to_name[email]\n",
    "        if name in name_to_share:\n",
    "            name_to_share[name] += share\n",
    "        else:\n",
    "            name_to_share[name] = share\n",
    "    return name_to_share, email_to_name\n",
    "name_to_share, email_to_name = get_name_to_share(default_alpha)\n",
    "sorted(name_to_share.items(), key=lambda x: x[1], reverse=True)"
   ]
  },
  {
   "cell_type": "markdown",
   "metadata": {},
   "source": [
    "## LOC"
   ]
  },
  {
   "cell_type": "code",
   "execution_count": null,
   "metadata": {
    "collapsed": true
   },
   "outputs": [],
   "source": [
    "# Extract LOC info from ccg.history\n",
    "email_to_loc = {}\n",
    "for sha in ccg.history:\n",
    "    actor = ccg.repo.commit(sha).author\n",
    "    email = actor.email\n",
    "    if email not in email_to_loc:\n",
    "        email_to_loc[email] = 0\n",
    "    for func in ccg.history[sha]:\n",
    "        email_to_loc[email] += ccg.history[sha][func]\n",
    "        \n",
    "# WARNING: this code doesn't work in the case that two people have same name\n",
    "name_to_loc = {}\n",
    "for email, loc in email_to_loc.items():\n",
    "    name = email_to_name[email]\n",
    "    if name in name_to_loc:\n",
    "        name_to_loc[name] += loc\n",
    "    else:\n",
    "        name_to_loc[name] = loc\n",
    "sorted(name_to_loc.items(), key=lambda x: x[1], reverse=True)"
   ]
  },
  {
   "cell_type": "markdown",
   "metadata": {},
   "source": [
    "## Calculate Gini Coefficient"
   ]
  },
  {
   "cell_type": "code",
   "execution_count": null,
   "metadata": {
    "collapsed": true
   },
   "outputs": [],
   "source": [
    "import numpy\n",
    "from tools.excel_charts.gini.gini import gini\n",
    "\n",
    "def get_gini(name_to_values):\n",
    "    return gini(numpy.array([float(x) for x in name_to_values.values()]))\n",
    "\n",
    "print(get_gini(name_to_share))\n",
    "print(get_gini(name_to_loc))"
   ]
  },
  {
   "cell_type": "markdown",
   "metadata": {},
   "source": [
    "## Basic Validation of Analysis Result"
   ]
  },
  {
   "cell_type": "code",
   "execution_count": null,
   "metadata": {
    "collapsed": true
   },
   "outputs": [],
   "source": [
    "# If a person gets no share, he/she must have made no contribution\n",
    "ccg.update_shares(default_alpha)\n",
    "for sha in ccg.history:\n",
    "    if ccg.share[sha] == 0:\n",
    "        assert(len(ccg.history[sha]) == 0)"
   ]
  },
  {
   "cell_type": "code",
   "execution_count": null,
   "metadata": {
    "collapsed": true
   },
   "outputs": [],
   "source": [
    "# Print out number of commits analyzed, manually check it against total number of commits on github\n",
    "print(\"Number of commits analyzed: \", len(ccg.visited))"
   ]
  },
  {
   "cell_type": "code",
   "execution_count": null,
   "metadata": {
    "collapsed": true
   },
   "outputs": [],
   "source": [
    "# Get all distinct author and committer emails/names\n",
    "# Number of distinct committer emails is also the upper bound for number of committers)\n",
    "all_commits = list(ccg.repo.iter_commits())\n",
    "author_emails = set()\n",
    "author_names = set()\n",
    "committer_emails = set()\n",
    "committer_names = set()\n",
    "for commit in all_commits:\n",
    "    author_emails.add(commit.author.email)\n",
    "    author_names.add(commit.author.name)\n",
    "    committer_emails.add(commit.committer.email)\n",
    "    committer_names.add(commit.committer.name)\n",
    "print(\"Number of distinct author emails: \", len(author_emails))\n",
    "print(\"Number of distinct author names: \", len(author_names))\n",
    "print(\"Number of distinct committer emails: \", len(committer_emails))\n",
    "print(\"Number of distinct committer names: \", len(committer_names))"
   ]
  },
  {
   "cell_type": "markdown",
   "metadata": {},
   "source": [
    "## Get Developer Role from Apache"
   ]
  },
  {
   "cell_type": "code",
   "execution_count": null,
   "metadata": {
    "collapsed": true
   },
   "outputs": [],
   "source": [
    "# NOTE: Only run this cell if you're analyzing apr repo\n",
    "# https://projects.apache.org/committee.html?apr\n",
    "# Copy the roster as a string below\n",
    "pmc_string = \"Aaron Bannert,  Brian Havard, Bradley Nicholes,  Bojan Smojver,  Branko Čibej,  Colm MacCarthaigh,  Eric Covener,  Davi Arnaut,  Dirk-Willem van Gulik,  Brian Fitzpatrick,  Guenter Knauf,  Greg Ames,  Gregg Lewis Smith,  Greg Stein,  Christophe Jaillet,  Justin Erenkrantz,  Jean-Frederic Clere,  Jim Jagielski,  Joe Orton,  Cliff Woolley,  Karl Fogel,  Martin Kraemer,  Max Oliver Bowsher,  Graham Leggett,  Mladen Turk,  Nick Kew,  Paul Querna,  Rainer Jung,  Garrett Rooney,  Ruediger Pluem,  Sascha Schumann,  Stefan Fritsch,  Bill Stoddard,  Sander Striker,  Ben Collins-Sussman,  Thom May,  Jeff Trawick,  William A. Rowe Jr.,  Wilfredo Sanchez,  Yann Ylavic\"\n",
    "committer_string = \"Aaron Bannert,  Allan K. Edwards,  Ben Laurie,  Brian Havard,  Bradley Nicholes,  Bojan Smojver,  Branko Čibej,  Brian Pane,  Chuck Murcko,  Jean-Jacques Clar,  Ken Coar,  Colm MacCarthaigh,  Eric Covener,  Davi Arnaut,  Dirk-Willem van Gulik,  Doug MacEachern,  David Reid,  Tony Finch,  Roy T. Fielding,  Brian Fitzpatrick,  Guenter Knauf,  Greg Ames,  Gregg Lewis Smith,  Greg Stein,  Henry Jen,  Hyrum Kurt Wright,  Ian Holsman,  Issac Goldstand,  Ivan Zhakov,  Christophe Jaillet,  Justin Erenkrantz,  Jean-Frederic Clere,  Jim Jagielski,  Joe Orton,  Cliff Woolley,  Karl Fogel,  Madhusudan Mathihalli,  Martin Kraemer,  Max Oliver Bowsher,  Graham Leggett,  Mladen Turk,  André Malo,  Neil Conway,  Nick Kew,  Victor J. Orlikowski,  Philip M. Gollucci,  Daniel Earl Poirier,  Paul Querna,  Ryan Bloom,  Paul J. Reder,  Rainer Jung,  Garrett Rooney,  Ruediger Pluem,  Ralf S. Engelschall,  Sascha Schumann,  Sander Temme,  Stefan Fritsch,  Bill Stoddard,  Sander Striker,  Ben Collins-Sussman,  Takashi Sato,  Thomas J. Donovan,  Jeff Trawick,  William A. Rowe Jr.,  Wilfredo Sanchez,  Yann Ylavic\""
   ]
  },
  {
   "cell_type": "code",
   "execution_count": null,
   "metadata": {
    "collapsed": true
   },
   "outputs": [],
   "source": [
    "# NOTE: Only run this cell if you're analyzing httpd repo\n",
    "# https://projects.apache.org/committee.html?httpd\n",
    "# Copy the roster as a string below\n",
    "pmc_string = \"Brian Havard,  Bradley Nicholes,  Bojan Smojver,  Ben Reser,  Brian McCallister,  Chris Darroch,  Colm MacCarthaigh,  Eric Covener,  Dirk-Willem van Gulik,  Stephen Henson,  Daniel Ruggeri,  Luca Toscano,  Roy T. Fielding,  Guenter Knauf,  Graham Phillip Dumpleton,  Greg Ames,  Gregg Lewis Smith,  Greg Stein,  Daniel Gruno,  Stefan Eissing,  Igor Galić,  Issac Goldstand,  Christophe Jaillet,  Jacob Champion,  Justin Erenkrantz,  Jean-Frederic Clere,  Jim Jagielski,  Joe Schaefer,  Joe Orton,  Kaspar Brand,  Astrid Malo,  Lars Eilebrecht,  Lucien Gentis,  Graham Leggett,  Mark J. Cox,  André Malo,  Nick Kew,  Tony Stevenson,  Philip M. Gollucci,  Paul Querna,  Rich Bowen,  Rainer Jung,  Ruediger Pluem,  Sander Temme,  Stefan Fritsch,  Steffen Land,  Jeff Trawick,  William A. Rowe Jr.,  Yann Ylavic\"\n",
    "committer_string = \"Aaron Bannert,  Andrew William John Ford,  Allan K. Edwards,  Ask Bjørn Hansen,  Andreas Steinmetz,  Ben Laurie,  Jem Berkes,  Jesus Blanco Izquierdo,  Bradley Nicholes,  Bojan Smojver,  Ben Reser,  Brian McCallister,  Chris Darroch,  Chuck Murcko,  Jean-Jacques Clar,  Ken Coar,  Colm MacCarthaigh,  Eric Covener,  Daniel Ferradal,  David Harris,  Dirk-Willem van Gulik,  Doug MacEachern,  David Shane Holden,  Stephen Henson,  Daniel Ruggeri,  Edward Lu,  Luca Toscano,  Erik Abele,  Fabien Coelho,  Roy T. Fielding,  Guenter Knauf,  Guy Ferraiolo,  Geoffrey Young,  Philippe Chiasson,  Graham Phillip Dumpleton,  Greg Ames,  Gregory Trubetskoy,  Vincent Deffontaines,  Gregg Lewis Smith,  Greg Stein,  Daniel Gruno,  Ian Holsman,  Stefan Eissing,  Igor Galić,  Issac Goldstand,  Ivan Alexis Barrera Andrade,  Jacek Prucia,  Christophe Jaillet,  Jacob Champion,  Justin Erenkrantz,  Jean-Frederic Clere,  James Paul Gallacher,  Jim Jagielski,  Jim Winstead Jr.,  Jan Kaluža,  Joe Schaefer,  Joe Orton,  John Sachs,  Jason S. Lingohr,  Hiroaki Kawai,  Kaspar Brand,  Keith Wannamaker,  Astrid Malo,  Evgeny Kotkov,  Lars Eilebrecht,  Lucien Gentis,  Luis Gil,  Jeon Jeongho,  Madhusudan Mathihalli,  Mads Toftum,  Manoj Kasichainula,  Martin Kraemer,  Matt Sergeant,  Max Kellermann,  Maxime Petazzoni,  Matthieu Estrade,  Graham Leggett,  Mark J. Cox,  Mike Rumph,  Mladen Turk,  André Malo,  Niklas Edmundsson,  Nilgun Belma Buguner,  Nick Kew,  Nicolas Lehuen,  Vincent Bray,  Victor J. Orlikowski,  Parinkumar Shah,  Tony Stevenson,  Chris Pepper,  Philip M. Gollucci,  Daniel Earl Poirier,  Ryan Pan,  Paul Querna,  Rich Bowen,  Paul J. Reder,  Rian Hunter,  Rici Lake,  Rainer Jung,  Ruediger Pluem,  Ralf S. Engelschall,  Sascha Schumann,  Sander Temme,  Stefan Fritsch,  Joshua Slive,  Ilia Soldatenko,  Steffen Land,  Steve Hay,  Sander Striker,  Stefan Sperling,  Takashi Sato,  Thomas J. Donovan,  David Wheeler,  Frank Gingras,  Jeff Trawick,  William A. Rowe Jr.,  Wilfredo Sanchez,  Yann Ylavic,  Yoshiki Hayashi\""
   ]
  },
  {
   "cell_type": "code",
   "execution_count": null,
   "metadata": {
    "collapsed": true
   },
   "outputs": [],
   "source": [
    "# Parse roster strings\n",
    "pmc_names = set([n.strip() for n in pmc_string.split(',')])\n",
    "committer_names = set([n.strip() for n in committer_string.split(',')])"
   ]
  },
  {
   "cell_type": "code",
   "execution_count": null,
   "metadata": {
    "collapsed": true
   },
   "outputs": [],
   "source": [
    "# Basic statistic of the roster\n",
    "print(\"Number of PMC members: \", len(pmc_names))\n",
    "print(\"Number of committers: \", len(committer_names))\n",
    "print(\"Number of committers in PMC: \", len(pmc_names & committer_names))\n",
    "print(\"Number of committers not in PMC: \", len(committer_names) - len(pmc_names & committer_names))\n",
    "print(\"Number of PMC members not in committers: \", len(pmc_names - committer_names))\n",
    "print(\"Total number of people: \", len(committer_names) + len(pmc_names - committer_names))\n",
    "print(\"In PMC but not a committer:\\n\")\n",
    "for n in pmc_names:\n",
    "    if n not in committer_names:\n",
    "        print(\"\\t\" + n)"
   ]
  },
  {
   "cell_type": "markdown",
   "metadata": {},
   "source": [
    "## Mismatch between Apache Roster and Analysis Result"
   ]
  },
  {
   "cell_type": "code",
   "execution_count": null,
   "metadata": {
    "collapsed": true
   },
   "outputs": [],
   "source": [
    "# NOTE: Only run this cell if you're analyzing apr repo\n",
    "roster_spelling = [\"Branko Čibej\", \"William A. Rowe Jr.\", \"Gregg Lewis Smith\", \"André Malo\"]\n",
    "repo_spelling = [\"Branko Cibej\", \"William A. Rowe Jr\", \"Gregg L. Smith\", \"Andre Malo\"]"
   ]
  },
  {
   "cell_type": "code",
   "execution_count": null,
   "metadata": {
    "collapsed": true
   },
   "outputs": [],
   "source": [
    "# NOTE: Only run this cell if you're analyzing httpd repo\n",
    "roster_spelling = [\"André Malo\", \"Ask Bjørn Hansen\", \"William A. Rowe Jr.\"]\n",
    "repo_spelling = [\"Andre Malo\", \"Ask Bjorn Hansen\", \"William A. Rowe Jr\"]"
   ]
  },
  {
   "cell_type": "code",
   "execution_count": null,
   "metadata": {
    "collapsed": true
   },
   "outputs": [],
   "source": [
    "# Fix different spelling between repo and apache roster\n",
    "for i in range(len(roster_spelling)):\n",
    "    committer_names.remove(roster_spelling[i])\n",
    "    committer_names.add(repo_spelling[i])"
   ]
  },
  {
   "cell_type": "code",
   "execution_count": null,
   "metadata": {
    "collapsed": true
   },
   "outputs": [],
   "source": [
    "# Compare names in analysis result with names in roster\n",
    "sorted_name_to_share = sorted(name_to_share.items(), key=lambda x: x[1], reverse=True)\n",
    "name_to_devrank = {}\n",
    "for idx, pair in enumerate(sorted_name_to_share, 1):\n",
    "    name_to_devrank[pair[0]] = idx\n",
    "    \n",
    "apache_only = committer_names - set(name_to_devrank.keys())\n",
    "repo_only = set(name_to_devrank.keys()) - committer_names\n",
    "print(\"Number of people present in Apache roster but absent from analysis result: \", len(apache_only))\n",
    "#pp.pprint(apache_only)\n",
    "print(\"Number of people present in analysis result but absent in Apache roster: \", len(repo_only))\n",
    "#pp.pprint(repo_only)"
   ]
  },
  {
   "cell_type": "markdown",
   "metadata": {},
   "source": [
    "## Correlation Coefficient and Significance Test"
   ]
  },
  {
   "cell_type": "code",
   "execution_count": null,
   "metadata": {
    "collapsed": true
   },
   "outputs": [],
   "source": [
    "initial_alpha = 0.05\n",
    "step = 0.05\n",
    "for i in range(19):\n",
    "    alpha = initial_alpha + step * i\n",
    "    name_to_share, _ = get_name_to_share(alpha)\n",
    "\n",
    "    truth = {}\n",
    "    for n in name_to_share:\n",
    "        if n in committer_names:\n",
    "            if n in pmc_names:\n",
    "                truth[n] = 2\n",
    "            else:\n",
    "                truth[n] = 1\n",
    "\n",
    "    truth_lst = []\n",
    "    pred_lst = []\n",
    "    loc_lst = []\n",
    "    for n in truth:\n",
    "        truth_lst.append(truth[n])\n",
    "        pred_lst.append(name_to_share[n])\n",
    "        loc_lst.append(name_to_loc[n])\n",
    "\n",
    "    print(\"Alpha: %.2f\" % alpha, spearmanr(truth_lst, pred_lst))\n",
    "    # print(\"Alpha: %.2f\" % alpha, spearmanr(pred_lst, loc_lst))\n",
    "    # print(\"Alpha: %.2f\" % alpha, kendalltau(pred_lst, truth_lst))\n",
    "    # print(\"Alpha: %.2f\" % alpha, kendalltau(pred_lst, loc_lst))"
   ]
  },
  {
   "cell_type": "markdown",
   "metadata": {},
   "source": [
    "## Gini Coefficients over Alpha"
   ]
  },
  {
   "cell_type": "code",
   "execution_count": null,
   "metadata": {
    "collapsed": true
   },
   "outputs": [],
   "source": [
    "initial_alpha = 0.05\n",
    "step = 0.05\n",
    "for i in range(19):\n",
    "    alpha = initial_alpha + step * i\n",
    "    name_to_share, _ = get_name_to_share(alpha)\n",
    "    \n",
    "    print(\"Overall Gini: %.2f\" % alpha, get_gini(name_to_share))\n",
    "    top = sorted(name_to_share.items(), key=lambda x: x[1], reverse=True)[:10]\n",
    "    print(\"Top Gini: %.2f\" % alpha, gini(numpy.array([x[1] for x in top])))\n",
    "    pp.pprint(top)\n",
    "    print()"
   ]
  },
  {
   "cell_type": "code",
   "execution_count": null,
   "metadata": {
    "collapsed": true
   },
   "outputs": [],
   "source": []
  }
 ],
 "metadata": {
  "anaconda-cloud": {},
  "kernelspec": {
   "display_name": "Python 3",
   "language": "python",
   "name": "python3"
  },
  "language_info": {
   "codemirror_mode": {
    "name": "ipython",
    "version": 3
   },
   "file_extension": ".py",
   "mimetype": "text/x-python",
   "name": "python",
   "nbconvert_exporter": "python",
   "pygments_lexer": "ipython3",
   "version": "3.6.1"
  }
 },
 "nbformat": 4,
 "nbformat_minor": 1
}
