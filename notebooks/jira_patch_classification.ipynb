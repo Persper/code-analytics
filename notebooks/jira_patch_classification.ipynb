{
 "cells": [
  {
   "cell_type": "code",
   "execution_count": null,
   "metadata": {},
   "outputs": [],
   "source": [
    "import sys\n",
    "sys.path.append('../lib')\n",
    "import classifier\n",
    "from classifier import binary_bug, multi_patch_type, limited_patch_type, stem, lemmatize\n",
    "from sklearn.svm import LinearSVC\n",
    "\n",
    "import warnings\n",
    "warnings.simplefilter('ignore')"
   ]
  },
  {
   "cell_type": "code",
   "execution_count": null,
   "metadata": {
    "collapsed": true
   },
   "outputs": [],
   "source": [
    "import pickle\n",
    "datasets = pickle.load(open('./data-jira/jira-issues.pickle', 'rb'))"
   ]
  },
  {
   "cell_type": "code",
   "execution_count": null,
   "metadata": {
    "collapsed": true
   },
   "outputs": [],
   "source": [
    "project_set = ['ace', 'activemq', 'aurora', 'beam', 'cassandra', 'couchdb', 'hbase', 'hive', 'incubator-systemml', 'maven', 'spark', 'zookeeper']\n",
    "exp = classifier.Classifier(datasets, project_set)"
   ]
  },
  {
   "cell_type": "markdown",
   "metadata": {},
   "source": [
    "# 1. Binary Classification of Bug Fix Patch"
   ]
  },
  {
   "cell_type": "markdown",
   "metadata": {},
   "source": [
    "## 1.1 Use TF-IDF"
   ]
  },
  {
   "cell_type": "code",
   "execution_count": null,
   "metadata": {},
   "outputs": [],
   "source": [
    "# only using title (TF * IDF) \n",
    "exp.run(binary_bug, LinearSVC, text_feature='title')"
   ]
  },
  {
   "cell_type": "code",
   "execution_count": null,
   "metadata": {},
   "outputs": [],
   "source": [
    "# only using description (TF * IDF)  \n",
    "exp.run(binary_bug, LinearSVC, text_feature='description')"
   ]
  },
  {
   "cell_type": "code",
   "execution_count": null,
   "metadata": {
    "scrolled": true
   },
   "outputs": [],
   "source": [
    "# only using comment (TF * IDF) \n",
    "exp.run(binary_bug, LinearSVC, text_feature='comment')"
   ]
  },
  {
   "cell_type": "code",
   "execution_count": null,
   "metadata": {
    "scrolled": true
   },
   "outputs": [],
   "source": [
    "# using both title + description (TF * IDF)\n",
    "exp.run(binary_bug, LinearSVC, text_feature='title', use_description = True)"
   ]
  },
  {
   "cell_type": "code",
   "execution_count": null,
   "metadata": {
    "collapsed": true
   },
   "outputs": [],
   "source": [
    "# using all title + description + comment (TF * IDF) \n",
    "exp.run(binary_bug, LinearSVC, text_feature='title', use_description = True, use_comment = True)"
   ]
  },
  {
   "cell_type": "code",
   "execution_count": null,
   "metadata": {
    "collapsed": true
   },
   "outputs": [],
   "source": [
    "# using all text (TF * IDF) and drop terms with frequency lower than min_df\n",
    "exp.run(binary_bug, LinearSVC, min_df=3, text_feature='title', use_description = True, use_comment = True)"
   ]
  },
  {
   "cell_type": "code",
   "execution_count": null,
   "metadata": {
    "scrolled": true
   },
   "outputs": [],
   "source": [
    "# using stemmed text (TF * IDF) \n",
    "exp.run(binary_bug, LinearSVC, tokenizer=stem, text_feature='title')"
   ]
  },
  {
   "cell_type": "code",
   "execution_count": null,
   "metadata": {
    "collapsed": true
   },
   "outputs": [],
   "source": [
    "# using stemmed text and descrption/comments (TF * IDF) \n",
    "exp.run(binary_bug, LinearSVC, tokenizer=stem, text_feature='title', use_description = True, use_comment = True)"
   ]
  },
  {
   "cell_type": "code",
   "execution_count": null,
   "metadata": {
    "scrolled": true
   },
   "outputs": [],
   "source": [
    "# using lemmatized text (TF * IDF)\n",
    "exp.run(binary_bug, LinearSVC, tokenizer=lemmatize, text_feature='title')"
   ]
  },
  {
   "cell_type": "code",
   "execution_count": null,
   "metadata": {
    "collapsed": true
   },
   "outputs": [],
   "source": [
    "# using lemmatized text and descrption/comments (TF * IDF)\n",
    "exp.run(binary_bug, LinearSVC, tokenizer=lemmatize, text_feature='title', use_description = True, use_comment = True)"
   ]
  },
  {
   "cell_type": "code",
   "execution_count": null,
   "metadata": {
    "collapsed": true
   },
   "outputs": [],
   "source": [
    "# using only title(TF * IDF) \n",
    "# select top k features by mutual information\n",
    "exp.run(binary_bug, LinearSVC, k=5000, text_feature='title')"
   ]
  },
  {
   "cell_type": "code",
   "execution_count": null,
   "metadata": {
    "collapsed": true
   },
   "outputs": [],
   "source": [
    "# using all texts (TF * IDF) \n",
    "# select top k features by mutual information\n",
    "exp.run(binary_bug, LinearSVC, k=5000, text_feature='title', use_description = True, use_comment = True)"
   ]
  },
  {
   "cell_type": "code",
   "execution_count": null,
   "metadata": {
    "collapsed": true
   },
   "outputs": [],
   "source": [
    "# using both stemmed text and stem=3000 (TF * IDF) \n",
    "exp.run(binary_bug, LinearSVC, tokenizer=stem, k=3000, text_feature='title')"
   ]
  },
  {
   "cell_type": "code",
   "execution_count": null,
   "metadata": {
    "collapsed": true
   },
   "outputs": [],
   "source": [
    "# using both stemmed text and stem=5000 (TF * IDF) \n",
    "exp.run(binary_bug, LinearSVC, tokenizer=stem, k=5000, text_feature='title')"
   ]
  },
  {
   "cell_type": "markdown",
   "metadata": {},
   "source": [
    "## 1.2 Use bns not tf-idf"
   ]
  },
  {
   "cell_type": "code",
   "execution_count": null,
   "metadata": {
    "collapsed": true
   },
   "outputs": [],
   "source": [
    "# only using text (TF * BNS)\n",
    "exp.run(binary_bug, LinearSVC, use_bns=True)"
   ]
  },
  {
   "cell_type": "code",
   "execution_count": null,
   "metadata": {
    "collapsed": true
   },
   "outputs": [],
   "source": [
    "# using all title + description + comment (TF * BNS)\n",
    "exp.run(binary_bug, LinearSVC, use_bns=True, text_feature='title', use_description = True, use_comment = True)"
   ]
  },
  {
   "cell_type": "code",
   "execution_count": null,
   "metadata": {
    "collapsed": true
   },
   "outputs": [],
   "source": [
    "# using all text (TF * BNS) and drop terms with frequency lower than min_df\n",
    "exp.run(binary_bug, LinearSVC, use_bns=True, min_df=3, text_feature='title', use_description = True, use_comment = True)"
   ]
  },
  {
   "cell_type": "code",
   "execution_count": null,
   "metadata": {
    "collapsed": true
   },
   "outputs": [],
   "source": [
    "# using both stemmed text (TF * BNS)\n",
    "exp.run(binary_bug, LinearSVC, use_bns=True, tokenizer=stem, text_feature='title', use_description = True, use_comment = True)"
   ]
  },
  {
   "cell_type": "code",
   "execution_count": null,
   "metadata": {
    "collapsed": true
   },
   "outputs": [],
   "source": [
    "# using both lemmatized text (TF * BNS) \n",
    "exp.run(binary_bug, LinearSVC, use_bns=True, tokenizer=lemmatize, text_feature='title', use_description = True, use_comment = True)"
   ]
  },
  {
   "cell_type": "code",
   "execution_count": null,
   "metadata": {
    "collapsed": true
   },
   "outputs": [],
   "source": [
    "# using both text (TF * BNS) and select top k features by mutual information\n",
    "exp.run(binary_bug, LinearSVC, use_bns=True, k=5000, text_feature='title', use_description = True, use_comment = True)"
   ]
  },
  {
   "cell_type": "markdown",
   "metadata": {
    "collapsed": true
   },
   "source": [
    "# 2. Multi-Class Classification of Patch Type"
   ]
  },
  {
   "cell_type": "markdown",
   "metadata": {
    "collapsed": true
   },
   "source": [
    "## 2.1 Merged-Type Classification"
   ]
  },
  {
   "cell_type": "code",
   "execution_count": null,
   "metadata": {
    "scrolled": true
   },
   "outputs": [],
   "source": [
    "# only using title (TF * IDF)\n",
    "exp.run(limited_patch_type, LinearSVC, text_feature='title')"
   ]
  },
  {
   "cell_type": "code",
   "execution_count": null,
   "metadata": {
    "collapsed": true
   },
   "outputs": [],
   "source": [
    "# using title and discription (TF * IDF)\n",
    "exp.run(limited_patch_type, LinearSVC, text_feature='title', use_description = True)"
   ]
  },
  {
   "cell_type": "code",
   "execution_count": null,
   "metadata": {
    "collapsed": true
   },
   "outputs": [],
   "source": [
    "# using title, discription and comments (TF * IDF)\n",
    "exp.run(limited_patch_type, LinearSVC, text_feature='title', use_description = True, use_comment = True)"
   ]
  },
  {
   "cell_type": "code",
   "execution_count": null,
   "metadata": {
    "collapsed": true
   },
   "outputs": [],
   "source": [
    "# using title and stem\n",
    "exp.run(limited_patch_type, LinearSVC, tokenizer=stem, k=3000, text_feature='title')"
   ]
  },
  {
   "cell_type": "markdown",
   "metadata": {},
   "source": [
    "## 2.2 Non-Merged-Type Classification"
   ]
  },
  {
   "cell_type": "code",
   "execution_count": null,
   "metadata": {},
   "outputs": [],
   "source": [
    "# only using text (TF * IDF)\n",
    "exp.run(multi_patch_type, LinearSVC, text_feature='title')"
   ]
  },
  {
   "cell_type": "code",
   "execution_count": null,
   "metadata": {
    "collapsed": true
   },
   "outputs": [],
   "source": [
    "# only using title (TF * IDF)\n",
    "exp.run(multi_patch_type, LinearSVC, text_feature='description')"
   ]
  },
  {
   "cell_type": "code",
   "execution_count": null,
   "metadata": {
    "collapsed": true
   },
   "outputs": [],
   "source": [
    "# only using title (TF * IDF)\n",
    "exp.run(multi_patch_type, LinearSVC, text_feature='comment')"
   ]
  },
  {
   "cell_type": "code",
   "execution_count": null,
   "metadata": {
    "collapsed": true
   },
   "outputs": [],
   "source": [
    "# using title and description (TF * IDF)\n",
    "exp.run(multi_patch_type, LinearSVC, text_feature='title', use_description = True)"
   ]
  },
  {
   "cell_type": "code",
   "execution_count": null,
   "metadata": {
    "collapsed": true
   },
   "outputs": [],
   "source": [
    "# using all text (TF * IDF)\n",
    "exp.run(multi_patch_type, LinearSVC, text_feature='title', use_description = True, use_comment = True)"
   ]
  },
  {
   "cell_type": "code",
   "execution_count": null,
   "metadata": {
    "collapsed": true
   },
   "outputs": [],
   "source": [
    "# using both stemmed text (TF * IDF) \n",
    "exp.run(multi_patch_type, LinearSVC, tokenizer=stem, text_feature='title', use_description = True, use_comment = True)"
   ]
  },
  {
   "cell_type": "code",
   "execution_count": null,
   "metadata": {
    "collapsed": true
   },
   "outputs": [],
   "source": [
    "# using both text (TF * IDF) and drop terms with frequency lower than min_df\n",
    "exp.run(multi_patch_type, LinearSVC, min_df=3, text_feature='title', use_description = True, use_comment = True)"
   ]
  },
  {
   "cell_type": "code",
   "execution_count": null,
   "metadata": {
    "collapsed": true
   },
   "outputs": [],
   "source": [
    "# using both text (TF * IDF) and select top k features by mutual information\n",
    "exp.run(multi_patch_type, LinearSVC, k=5000, text_feature='title', use_description = True, use_comment = True)"
   ]
  },
  {
   "cell_type": "code",
   "execution_count": null,
   "metadata": {
    "collapsed": true
   },
   "outputs": [],
   "source": [
    "# using both text (TF * IDF) and select top k features by mutual information\n",
    "exp.run(multi_patch_type, LinearSVC, tokenizer=stem, k=3000, text_feature='title')"
   ]
  },
  {
   "cell_type": "code",
   "execution_count": null,
   "metadata": {
    "collapsed": true
   },
   "outputs": [],
   "source": [
    "# using all text (TF * BNS)\n",
    "exp.run(multi_patch_type, LinearSVC, use_bns=True, text_feature='title', use_description = True, use_comment = True)"
   ]
  },
  {
   "cell_type": "code",
   "execution_count": null,
   "metadata": {
    "collapsed": true
   },
   "outputs": [],
   "source": [
    "# using all text (TF * BNS) and drop terms with frequency lower than min_df\n",
    "exp.run(multi_patch_type, LinearSVC, use_bns=True, min_df=3, text_feature='title', use_description = True, use_comment = True)"
   ]
  },
  {
   "cell_type": "code",
   "execution_count": null,
   "metadata": {
    "collapsed": true
   },
   "outputs": [],
   "source": [
    "# using all text (TF * BNS) and select top k features by mutual information\n",
    "exp.run(multi_patch_type, LinearSVC, use_bns=True, k=5000, text_feature='title', use_description = True, use_comment = True)"
   ]
  },
  {
   "cell_type": "markdown",
   "metadata": {},
   "source": [
    "# 3. Random Forest"
   ]
  },
  {
   "cell_type": "code",
   "execution_count": null,
   "metadata": {
    "collapsed": true
   },
   "outputs": [],
   "source": [
    "import pprint\n",
    "from sklearn.ensemble import RandomForestClassifier\n",
    "pp = pprint.PrettyPrinter()"
   ]
  },
  {
   "cell_type": "markdown",
   "metadata": {},
   "source": [
    "## 3.1 Binary Classification"
   ]
  },
  {
   "cell_type": "code",
   "execution_count": null,
   "metadata": {
    "scrolled": true
   },
   "outputs": [],
   "source": [
    "exp.run(binary_bug, RandomForestClassifier, text_feature='title', use_rf=True, num_estimators = 100)"
   ]
  },
  {
   "cell_type": "code",
   "execution_count": null,
   "metadata": {
    "collapsed": true
   },
   "outputs": [],
   "source": [
    "exp.run(binary_bug, RandomForestClassifier, text_feature='title', use_rf=True, num_estimators = 300)"
   ]
  },
  {
   "cell_type": "code",
   "execution_count": null,
   "metadata": {
    "collapsed": true
   },
   "outputs": [],
   "source": [
    "exp.run(binary_bug, RandomForestClassifier, text_feature='title', use_rf=True, num_estimators = 500)"
   ]
  },
  {
   "cell_type": "code",
   "execution_count": null,
   "metadata": {
    "collapsed": true
   },
   "outputs": [],
   "source": [
    "exp.run(binary_bug, RandomForestClassifier, text_feature='description', use_rf=True)"
   ]
  },
  {
   "cell_type": "code",
   "execution_count": null,
   "metadata": {
    "collapsed": true
   },
   "outputs": [],
   "source": [
    "exp.run(binary_bug, RandomForestClassifier, text_feature='comment', use_rf=True)"
   ]
  },
  {
   "cell_type": "code",
   "execution_count": null,
   "metadata": {
    "collapsed": true
   },
   "outputs": [],
   "source": [
    "exp.run(binary_bug, RandomForestClassifier, text_feature='title', use_rf=True, use_description = True)"
   ]
  },
  {
   "cell_type": "code",
   "execution_count": null,
   "metadata": {
    "collapsed": true
   },
   "outputs": [],
   "source": [
    "exp.run(binary_bug, RandomForestClassifier, text_feature='title', use_rf=True, use_description = True, use_comment = True)"
   ]
  },
  {
   "cell_type": "code",
   "execution_count": null,
   "metadata": {
    "collapsed": true
   },
   "outputs": [],
   "source": [
    "exp.run(binary_bug, RandomForestClassifier, tokenizer=stem, k=3000, text_feature='title', use_rf=True)"
   ]
  },
  {
   "cell_type": "markdown",
   "metadata": {},
   "source": [
    "## 3.2 Merged Type Classification"
   ]
  },
  {
   "cell_type": "code",
   "execution_count": null,
   "metadata": {
    "collapsed": true
   },
   "outputs": [],
   "source": [
    "exp.run(limited_patch_type, RandomForestClassifier, text_feature='title', use_rf=True)"
   ]
  },
  {
   "cell_type": "code",
   "execution_count": null,
   "metadata": {
    "collapsed": true
   },
   "outputs": [],
   "source": [
    "exp.run(limited_patch_type, RandomForestClassifier, text_feature='title', use_rf=True, use_description = True)"
   ]
  },
  {
   "cell_type": "code",
   "execution_count": null,
   "metadata": {
    "collapsed": true
   },
   "outputs": [],
   "source": [
    "exp.run(limited_patch_type, RandomForestClassifier, text_feature='title', use_rf=True, use_description = True, use_comment = True)"
   ]
  },
  {
   "cell_type": "code",
   "execution_count": null,
   "metadata": {
    "collapsed": true
   },
   "outputs": [],
   "source": [
    "exp.run(limited_patch_type, RandomForestClassifier, tokenizer=stem, k=3000, text_feature='title', use_rf=True)"
   ]
  },
  {
   "cell_type": "markdown",
   "metadata": {},
   "source": [
    "## 3.3 Non-Merged Type Classification"
   ]
  },
  {
   "cell_type": "code",
   "execution_count": null,
   "metadata": {
    "collapsed": true
   },
   "outputs": [],
   "source": [
    "exp.run(multi_patch_type, RandomForestClassifier, text_feature='title', use_rf=True)"
   ]
  },
  {
   "cell_type": "code",
   "execution_count": null,
   "metadata": {
    "collapsed": true
   },
   "outputs": [],
   "source": [
    "exp.run(multi_patch_type, RandomForestClassifier, text_feature='title', use_rf=True, use_description = True)"
   ]
  },
  {
   "cell_type": "code",
   "execution_count": null,
   "metadata": {
    "collapsed": true
   },
   "outputs": [],
   "source": [
    "exp.run(multi_patch_type, RandomForestClassifier, text_feature='title', use_rf=True, use_description = True, use_comment = True)"
   ]
  },
  {
   "cell_type": "code",
   "execution_count": null,
   "metadata": {
    "collapsed": true
   },
   "outputs": [],
   "source": [
    "exp.run(multi_patch_type, RandomForestClassifier, tokenizer=stem, k=3000, text_feature='title', use_rf=True)"
   ]
  },
  {
   "cell_type": "markdown",
   "metadata": {},
   "source": [
    "# 4. KNN"
   ]
  },
  {
   "cell_type": "code",
   "execution_count": null,
   "metadata": {
    "collapsed": true
   },
   "outputs": [],
   "source": [
    "from sklearn.neighbors import KNeighborsClassifier"
   ]
  },
  {
   "cell_type": "code",
   "execution_count": null,
   "metadata": {
    "scrolled": true
   },
   "outputs": [],
   "source": [
    "exp.run(binary_bug, KNeighborsClassifier, text_feature='title')"
   ]
  },
  {
   "cell_type": "code",
   "execution_count": null,
   "metadata": {
    "collapsed": true
   },
   "outputs": [],
   "source": [
    "exp.run(binary_bug, KNeighborsClassifier, text_feature='description')"
   ]
  },
  {
   "cell_type": "code",
   "execution_count": null,
   "metadata": {
    "collapsed": true
   },
   "outputs": [],
   "source": [
    "exp.run(binary_bug, KNeighborsClassifier, text_feature='comment')"
   ]
  },
  {
   "cell_type": "code",
   "execution_count": null,
   "metadata": {
    "collapsed": true
   },
   "outputs": [],
   "source": [
    "exp.run(binary_bug, KNeighborsClassifier, text_feature='title', use_description = True, use_comment = True)"
   ]
  },
  {
   "cell_type": "code",
   "execution_count": null,
   "metadata": {
    "collapsed": true
   },
   "outputs": [],
   "source": [
    "exp.run(multi_patch_type, KNeighborsClassifier, text_feature='title', use_description = True, use_comment = True)"
   ]
  },
  {
   "cell_type": "markdown",
   "metadata": {},
   "source": [
    "# 5. SVM "
   ]
  },
  {
   "cell_type": "code",
   "execution_count": null,
   "metadata": {
    "collapsed": true
   },
   "outputs": [],
   "source": [
    "from sklearn import svm"
   ]
  },
  {
   "cell_type": "code",
   "execution_count": null,
   "metadata": {},
   "outputs": [],
   "source": [
    "exp.run(binary_bug, svm.SVC, text_feature='title', use_svm=True, svm_type='linear')"
   ]
  },
  {
   "cell_type": "code",
   "execution_count": null,
   "metadata": {
    "collapsed": true
   },
   "outputs": [],
   "source": [
    "exp.run(binary_bug, svm.SVC, text_feature='title', use_svm=True, svm_type='poly')"
   ]
  },
  {
   "cell_type": "code",
   "execution_count": null,
   "metadata": {
    "collapsed": true
   },
   "outputs": [],
   "source": [
    "exp.run(binary_bug, svm.SVC, text_feature='title', use_svm=True, svm_type='rbf')"
   ]
  },
  {
   "cell_type": "code",
   "execution_count": null,
   "metadata": {
    "collapsed": true
   },
   "outputs": [],
   "source": []
  }
 ],
 "metadata": {
  "kernelspec": {
   "display_name": "Python 3",
   "language": "python",
   "name": "python3"
  },
  "language_info": {
   "codemirror_mode": {
    "name": "ipython",
    "version": 3
   },
   "file_extension": ".py",
   "mimetype": "text/x-python",
   "name": "python",
   "nbconvert_exporter": "python",
   "pygments_lexer": "ipython3",
   "version": "3.4.3"
  }
 },
 "nbformat": 4,
 "nbformat_minor": 2
}
