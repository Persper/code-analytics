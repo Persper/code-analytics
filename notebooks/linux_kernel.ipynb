{
 "cells": [
  {
   "cell_type": "code",
   "execution_count": null,
   "metadata": {},
   "outputs": [],
   "source": [
    "import glob\n",
    "import pdb\n",
    "import cProfile\n",
    "import warnings\n",
    "import networkx as nx\n",
    "from lxml import etree\n",
    "from graphs.call_graph.c import build_call_graph\n",
    "from graphs.devrank import devrank\n",
    "from graphs.call_commit_graph import CallCommitGraph\n",
    "warnings.simplefilter('ignore')"
   ]
  },
  {
   "cell_type": "code",
   "execution_count": null,
   "metadata": {},
   "outputs": [],
   "source": [
    "c_roots = []\n",
    "for xml in glob.glob('../repos/linux-kernel-xml/kernel/*.c.xml'):\n",
    "    tree = etree.parse(xml)\n",
    "    c_roots.append(tree.getroot())\n",
    "G, _, func_to_file = build_call_graph(c_roots)\n",
    "print(\"Number of nodes: {}\".format(len(G.nodes())))\n",
    "print(\"Number of edges: {}\".format(len(G.edges())))\n",
    "print(\"Number of connected components: {}\".format(nx.number_weakly_connected_components(G)))"
   ]
  },
  {
   "cell_type": "code",
   "execution_count": null,
   "metadata": {},
   "outputs": [],
   "source": [
    "pr = devrank(G, alpha=0.85)\n",
    "sorted_pr = sorted(pr.items(), key=lambda x: x[1])\n",
    "# draw_call_graph(G)\n",
    "[(x[0], x[1], func_to_file[x[0]] if x[0] in func_to_file else 'Unknown') for x in reversed(sorted_pr[-20:])]"
   ]
  },
  {
   "cell_type": "code",
   "execution_count": null,
   "metadata": {},
   "outputs": [],
   "source": [
    "pr = devrank(G, alpha=0.1)\n",
    "sorted_pr = sorted(pr.items(), key=lambda x: x[1])\n",
    "# draw_call_graph(G)\n",
    "[(x[0], x[1], func_to_file[x[0]] if x[0] in func_to_file else 'Unknown') for x in reversed(sorted_pr[-20:])]"
   ]
  },
  {
   "cell_type": "code",
   "execution_count": null,
   "metadata": {},
   "outputs": [],
   "source": [
    "g = CallCommitGraph('../repos/linux-kernel')\n",
    "cProfile.run(\"g.process(rev='v2.6.12', num_commits=500)\")\n",
    "g.devrank_functions(0.85)"
   ]
  },
  {
   "cell_type": "code",
   "execution_count": null,
   "metadata": {},
   "outputs": [],
   "source": [
    "def checker(analyzer):\n",
    "    for func_name in analyzer.G:\n",
    "        edits_sum = 0\n",
    "        seen = False\n",
    "        for sha in analyzer.history:\n",
    "            if func_name in analyzer.history[sha]:\n",
    "                seen = True\n",
    "                edits_sum += analyzer.history[sha][func_name]\n",
    "        if seen:\n",
    "            try:\n",
    "                assert(edits_sum == analyzer.G.node[func_name]['num_lines'])\n",
    "            except:\n",
    "                print(func_name)\n",
    "                print('edit_sum: %d'%(edits_sum,))\n",
    "                print('num_lines: %d'%(analyzer.G.node[func_name]['num_lines'],))\n",
    "                pdb.set_trace()\n",
    "                \n",
    "def order_checker(analyzer, every_n):\n",
    "    devrank = analyzer.devrank()\n",
    "    locrank = analyzer.locrank()\n",
    "    assert(len(devrank) == len(locrank))\n",
    "    counter = 0\n",
    "    for i in range(len(devrank)):\n",
    "        if devrank[i][0] != locrank[i][0]:\n",
    "            counter += 1\n",
    "            \n",
    "    left = len(devrank)\n",
    "    ptr = 0\n",
    "    diff = []\n",
    "    while left >= every_n:\n",
    "        set1 = set([x[0] for x in devrank[ptr:ptr+every_n]])\n",
    "        set2 = set([y[0] for y in locrank[ptr:ptr+every_n]])\n",
    "        diff.append(every_n - len(set1 & set2))\n",
    "        ptr += every_n\n",
    "        left -= every_n\n",
    "        \n",
    "    change = []\n",
    "    for i in range(len(locrank)):\n",
    "        sha = locrank[i][0]\n",
    "        for j in range(len(devrank)):\n",
    "            if sha == devrank[j][0] and i != j:\n",
    "                change.append([sha, locrank[i][1], i, j])\n",
    "    return counter, diff, change"
   ]
  },
  {
   "cell_type": "code",
   "execution_count": null,
   "metadata": {},
   "outputs": [],
   "source": [
    "checker(analyzer)"
   ]
  },
  {
   "cell_type": "code",
   "execution_count": null,
   "metadata": {},
   "outputs": [],
   "source": [
    "order_checker(analyzer, 3)"
   ]
  },
  {
   "cell_type": "code",
   "execution_count": null,
   "metadata": {},
   "outputs": [],
   "source": []
  }
 ],
 "metadata": {
  "anaconda-cloud": {},
  "kernelspec": {
   "display_name": "Python 3",
   "language": "python",
   "name": "python3"
  },
  "language_info": {
   "codemirror_mode": {
    "name": "ipython",
    "version": 3
   },
   "file_extension": ".py",
   "mimetype": "text/x-python",
   "name": "python",
   "nbconvert_exporter": "python",
   "pygments_lexer": "ipython3",
   "version": "3.5.2"
  }
 },
 "nbformat": 4,
 "nbformat_minor": 1
}
