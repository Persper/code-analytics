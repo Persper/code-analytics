{
 "cells": [
  {
   "cell_type": "code",
   "execution_count": 1,
   "metadata": {
    "collapsed": true
   },
   "outputs": [],
   "source": [
    "example_patch = r\"\"\"@@ -5,6 +5,37 @@\n",
    "  \n",
    "  using namespace std;\n",
    "  \n",
    " +void MigrationController::FillNVMPageHeap() {\n",
    " +  for (unordered_map<uint64_t, NVMPage>::iterator it = nvm_pages_.begin();\n",
    " +      it != nvm_pages_.end(); ++it) {\n",
    " +    double dr = it->second.blocks.size() / page_blocks_;\n",
    " +    double wr = it->second.epoch_writes / page_blocks_;\n",
    " +    nvm_heap_.push_back({it->first, dr, wr});\n",
    " +\n",
    " +    total_nvm_writes_ += it->second.epoch_writes;\n",
    " +    dirty_nvm_blocks_ += it->second.blocks.size();\n",
    " +  }\n",
    " +  make_heap(nvm_heap_.begin(), nvm_heap_.end());\n",
    " +  nvm_heap_filled_ = true;\n",
    " +}\n",
    " +\n",
    " +void MigrationController::FillDRAMPageHeap() {\n",
    " +  int dirts = 0;\n",
    " +  for (unordered_map<uint64_t, PTTEntry>::iterator it = entries_.begin();\n",
    " +       it != entries_.end(); ++it) {\n",
    " +    double wr = it->second.epoch_writes / page_blocks_;\n",
    " +    dram_heap_.push_back({it->first, it->second.state, wr});\n",
    " +\n",
    " +    total_dram_writes_ += it->second.epoch_writes;\n",
    " +    dirts += (it->second.epoch_writes ? 1 : 0);\n",
    " +  }\n",
    " +  assert(dirts == dirty_entries_);\n",
    " +  dirty_dram_pages_ += dirty_entries_;\n",
    " +\n",
    " +  make_heap(dram_heap_.begin(), dram_heap_.end());\n",
    " +  dram_heap_filled_ = true;\n",
    " +}\n",
    " +\n",
    "  void MigrationController::InputBlocks(\n",
    "      const vector<ATTEntry>& blocks) {\n",
    "    assert(nvm_pages_.empty());\n",
    " @@ -25,56 +56,37 @@ void MigrationController::InputBlocks(\n",
    "      }\n",
    "    }\n",
    "    dirty_nvm_pages_ += nvm_pages_.size();\n",
    " +\n",
    " +  FillNVMPageHeap();\n",
    " +  FillDRAMPageHeap();\n",
    "  }\n",
    "  \n",
    "  bool MigrationController::ExtractNVMPage(NVMPageStats& stats,\n",
    "      Profiler& profiler) {\n",
    " -  if (nvm_heap_.empty()) {\n",
    " -    for (unordered_map<uint64_t, NVMPage>::iterator it = nvm_pages_.begin();\n",
    " -        it != nvm_pages_.end(); ++it) {\n",
    " -      double dr = it->second.blocks.size() / page_blocks_;\n",
    " -      double wr = it->second.epoch_writes / page_blocks_;\n",
    " -      nvm_heap_.push_back({it->first, dr, wr});\n",
    " -\n",
    " -      total_nvm_writes_ += it->second.epoch_writes;\n",
    " -      dirty_nvm_blocks_ += it->second.blocks.size();\n",
    " -    }\n",
    " -    make_heap(nvm_heap_.begin(), nvm_heap_.end());\n",
    " -  }\n",
    " -  profiler.AddTableOp();\n",
    " +  assert(nvm_heap_filled_);\n",
    "  \n",
    "    if (nvm_heap_.empty()) return false;\n",
    "  \n",
    "    stats = nvm_heap_.front();\n",
    "    pop_heap(nvm_heap_.begin(), nvm_heap_.end());\n",
    "    nvm_heap_.pop_back();\n",
    " +\n",
    " +  profiler.AddTableOp();\n",
    "    return true;\n",
    "  }\n",
    "  \n",
    "  bool MigrationController::ExtractDRAMPage(DRAMPageStats& stats,\n",
    "      Profiler& profiler) {\n",
    " -  if (dram_heap_.empty()) {\n",
    " -    int dirts = 0;\n",
    " -    for (unordered_map<uint64_t, PTTEntry>::iterator it = entries_.begin();\n",
    " -         it != entries_.end(); ++it) {\n",
    " -      double wr = it->second.epoch_writes / page_blocks_;\n",
    " -      dram_heap_.push_back({it->first, it->second.state, wr});\n",
    " -\n",
    " -      total_dram_writes_ += it->second.epoch_writes;\n",
    " -      dirts += (it->second.epoch_writes ? 1 : 0);\n",
    " -    }\n",
    " -    assert(dirts == dirty_entries_);\n",
    " -    dirty_dram_pages_ += dirty_entries_;\n",
    " -\n",
    " -    make_heap(dram_heap_.begin(), dram_heap_.end());\n",
    " -  }\n",
    " +  assert(dram_heap_filled_);\n",
    "    profiler.AddTableOp();\n",
    "  \n",
    "    if (dram_heap_.empty()) return false;\n",
    "  \n",
    "    stats = dram_heap_.front();\n",
    "    pop_heap(dram_heap_.begin(), dram_heap_.end());\n",
    "    dram_heap_.pop_back();\n",
    " +\n",
    " +  profiler.AddTableOp();\n",
    "    return true;\n",
    "  }\n",
    "  \n",
    " @@ -97,4 +109,6 @@ void MigrationController::Clear(Profiler& profiler) {\n",
    "    nvm_pages_.clear();\n",
    "    dram_heap_.clear();\n",
    "    nvm_heap_.clear();\n",
    " +  dram_heap_filled_ = false;\n",
    " +  nvm_heap_filled_ = false;\n",
    "  }\"\"\""
   ]
  },
  {
   "cell_type": "code",
   "execution_count": 2,
   "metadata": {
    "collapsed": false
   },
   "outputs": [
    {
     "data": {
      "text/plain": [
       "([[7, 31], [27, 3], [44, 1], [50, 2], [70, 1], [77, 2], [99, 2]],\n",
       " [[32, 44], [56, 70]])"
      ]
     },
     "execution_count": 2,
     "metadata": {},
     "output_type": "execute_result"
    }
   ],
   "source": [
    "# view ground truth here \n",
    "# https://github.com/basicthinker/Sexain-MemController/commit/f050c6f6dd4b1d3626574b0d23bb41125f7b75ca\n",
    "#([[7, 31], [27, 3], [44, 1], [50, 2], [70, 1], [77, 2], [99, 2]],\n",
    "#[[32, 44], [56, 70]])\n",
    "from patch_parser import PatchParser\n",
    "parser = PatchParser()\n",
    "parser.parse(example_patch)"
   ]
  },
  {
   "cell_type": "code",
   "execution_count": 3,
   "metadata": {
    "collapsed": false
   },
   "outputs": [],
   "source": [
    "additions, deletions = parser.parse(example_patch)\n",
    "# tranform_src_to_tree can't handle cpp code\n",
    "# https://github.com/basicthinker/Sexain-MemController/blob/5b8886d9da3bb07140bfb1ff2d2b215b2dff584b/migration_controller.cc\n",
    "# root = transform_src_to_tree(example_src)\n",
    "# get_func_ranges_c(root)\n",
    "func_names = [\"InputBlocks\", \"ExtractNVMPage\", \"ExtractDRAMPage\", \"Clear\"]\n",
    "func_ranges = [[8, 28], [30, 52], [54, 79], [81, 100]]"
   ]
  },
  {
   "cell_type": "code",
   "execution_count": 4,
   "metadata": {
    "collapsed": false
   },
   "outputs": [
    {
     "data": {
      "text/plain": [
       "{'Clear': 2, 'ExtractDRAMPage': 18, 'ExtractNVMPage': 16, 'InputBlocks': 3}"
      ]
     },
     "execution_count": 4,
     "metadata": {},
     "output_type": "execute_result"
    }
   ],
   "source": [
    "# correct output: {'Clear': 2, 'ExtractDRAMPage': 18, 'ExtractNVMPage': 16, 'InputBlocks': 3}\n",
    "from detect_change import get_changed_functions\n",
    "get_changed_functions(func_names, func_ranges, additions, deletions)"
   ]
  },
  {
   "cell_type": "code",
   "execution_count": 6,
   "metadata": {
    "collapsed": false
   },
   "outputs": [
    {
     "data": {
      "text/plain": [
       "([[0, 6]], [])"
      ]
     },
     "execution_count": 6,
     "metadata": {},
     "output_type": "execute_result"
    }
   ],
   "source": [
    "# edge case (see header of this patch)\n",
    "example_patch2 = '@@ -1 +1,7 @@\\n+/*\\n+ *  linux/lib/errno.c\\n+ *\\n+ *  (C) 1991  Linus Torvalds\\n+ */\\n+\\n int errno;\\n'\n",
    "parser.parse(example_patch2)"
   ]
  },
  {
   "cell_type": "code",
   "execution_count": null,
   "metadata": {
    "collapsed": true
   },
   "outputs": [],
   "source": []
  }
 ],
 "metadata": {
  "anaconda-cloud": {},
  "kernelspec": {
   "display_name": "Python [conda root]",
   "language": "python",
   "name": "conda-root-py"
  },
  "language_info": {
   "codemirror_mode": {
    "name": "ipython",
    "version": 3
   },
   "file_extension": ".py",
   "mimetype": "text/x-python",
   "name": "python",
   "nbconvert_exporter": "python",
   "pygments_lexer": "ipython3",
   "version": "3.5.2"
  }
 },
 "nbformat": 4,
 "nbformat_minor": 1
}
