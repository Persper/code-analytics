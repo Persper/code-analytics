{
 "cells": [
  {
   "cell_type": "code",
   "execution_count": 1,
   "metadata": {},
   "outputs": [],
   "source": [
    "import logging\n",
    "\n",
    "logging.basicConfig(format='%(asctime)s %(levelname)-8s [%(name)s] %(message)s',\n",
    "                    level=logging.CRITICAL)\n",
    "logging.getLogger(\"persper.analytics.lsp_graph_server.callgraph.manager\").setLevel(logging.INFO)\n",
    "logging.getLogger('asyncio').setLevel(logging.WARNING)"
   ]
  },
  {
   "cell_type": "code",
   "execution_count": 2,
   "metadata": {},
   "outputs": [
    {
     "name": "stdout",
     "output_type": "stream",
     "text": [
      "Workspace root:  C:\\Users\\CXy\\AppData\\Local\\Temp\\tmpd69om9e8\n",
      "----- Overview ------\n",
      "# of commits on master: 108\n",
      "# of commits on branch: 0\n",
      "----- No.1 5dbde940b60cab1d6a4cd45a90aa45959f7ad84b on main -----\n"
     ]
    },
    {
     "name": "stderr",
     "output_type": "stream",
     "text": [
      "2019-01-17 22:49:38,759 INFO     [persper.analytics.lsp_graph_server.callgraph.manager] Added 687 branches from 31 files.\n"
     ]
    },
    {
     "name": "stdout",
     "output_type": "stream",
     "text": [
      "----- No.2 0dc27bd3acfc0526ac713d15d32c8d784297b6a9 on main -----\n"
     ]
    },
    {
     "name": "stderr",
     "output_type": "stream",
     "text": [
      "2019-01-17 22:49:59,630 INFO     [persper.analytics.lsp_graph_server.callgraph.manager] Added 1516 branches from 28 files.\n"
     ]
    },
    {
     "name": "stdout",
     "output_type": "stream",
     "text": [
      "----- No.3 0718435400ed2a4ff1ae958d565dc6de5b695ab4 on main -----\n"
     ]
    },
    {
     "name": "stderr",
     "output_type": "stream",
     "text": [
      "2019-01-17 22:50:21,756 INFO     [persper.analytics.lsp_graph_server.callgraph.manager] Added 1139 branches from 38 files.\n"
     ]
    },
    {
     "name": "stdout",
     "output_type": "stream",
     "text": [
      "----- No.4 46cec6f08355cb9a985f8fce657c35fbd09a4f9a on main -----\n"
     ]
    },
    {
     "name": "stderr",
     "output_type": "stream",
     "text": [
      "2019-01-17 22:50:39,501 INFO     [persper.analytics.lsp_graph_server.callgraph.manager] Added 886 branches from 39 files.\n"
     ]
    },
    {
     "name": "stdout",
     "output_type": "stream",
     "text": [
      "----- No.5 a8cdadc201620993ece0be8d8e2b3d200448701b on main -----\n"
     ]
    },
    {
     "name": "stderr",
     "output_type": "stream",
     "text": [
      "2019-01-17 22:50:59,757 INFO     [persper.analytics.lsp_graph_server.callgraph.manager] Added 1086 branches from 38 files.\n"
     ]
    },
    {
     "name": "stdout",
     "output_type": "stream",
     "text": [
      "----- No.6 e54d70e464e93daa3058e6a34584f1d073609efa on main -----\n"
     ]
    },
    {
     "name": "stderr",
     "output_type": "stream",
     "text": [
      "2019-01-17 22:51:17,096 INFO     [persper.analytics.lsp_graph_server.callgraph.manager] Added 1051 branches from 22 files.\n"
     ]
    },
    {
     "name": "stdout",
     "output_type": "stream",
     "text": [
      "----- No.7 41f2a75de02707b2972a654b48c86955b60d9385 on main -----\n"
     ]
    },
    {
     "name": "stderr",
     "output_type": "stream",
     "text": [
      "2019-01-17 22:51:35,236 INFO     [persper.analytics.lsp_graph_server.callgraph.manager] Added 1128 branches from 25 files.\n"
     ]
    },
    {
     "name": "stdout",
     "output_type": "stream",
     "text": [
      "----- No.8 fd1d8c8785a942b3efcf4e88a4ad771c344fa347 on main -----\n"
     ]
    },
    {
     "name": "stderr",
     "output_type": "stream",
     "text": [
      "2019-01-17 22:51:50,596 INFO     [persper.analytics.lsp_graph_server.callgraph.manager] Added 1102 branches from 13 files.\n"
     ]
    },
    {
     "name": "stdout",
     "output_type": "stream",
     "text": [
      "----- No.9 7f6354f9c8810321337ef705b132684497f45fa5 on main -----\n"
     ]
    },
    {
     "name": "stderr",
     "output_type": "stream",
     "text": [
      "2019-01-17 22:52:02,589 INFO     [persper.analytics.lsp_graph_server.callgraph.manager] Added 798 branches from 4 files.\n"
     ]
    },
    {
     "name": "stdout",
     "output_type": "stream",
     "text": [
      "----- No.10 ca9918b8c4284d432cbf224c6dcac7dbe170ce7b on main -----\n"
     ]
    },
    {
     "name": "stderr",
     "output_type": "stream",
     "text": [
      "2019-01-17 22:52:17,925 INFO     [persper.analytics.lsp_graph_server.callgraph.manager] Added 1091 branches from 15 files.\n"
     ]
    },
    {
     "name": "stdout",
     "output_type": "stream",
     "text": [
      "----- No.11 4ed00a32622b64df920c342251a417bc8ebd27e9 on main -----\n"
     ]
    },
    {
     "name": "stderr",
     "output_type": "stream",
     "text": [
      "2019-01-17 22:52:33,381 INFO     [persper.analytics.lsp_graph_server.callgraph.manager] Added 1150 branches from 4 files.\n"
     ]
    },
    {
     "name": "stdout",
     "output_type": "stream",
     "text": [
      "----- No.12 e25d54c8b941d1074383333b2542f4740e668eae on main -----\n"
     ]
    },
    {
     "name": "stderr",
     "output_type": "stream",
     "text": [
      "2019-01-17 22:52:50,679 INFO     [persper.analytics.lsp_graph_server.callgraph.manager] Added 1322 branches from 20 files.\n"
     ]
    },
    {
     "name": "stdout",
     "output_type": "stream",
     "text": [
      "----- No.13 e637de145af8aff3cbb0f0761928c6496eb9bed2 on main -----\n"
     ]
    },
    {
     "name": "stderr",
     "output_type": "stream",
     "text": [
      "2019-01-17 22:53:03,821 INFO     [persper.analytics.lsp_graph_server.callgraph.manager] Added 957 branches from 2 files.\n"
     ]
    },
    {
     "name": "stdout",
     "output_type": "stream",
     "text": [
      "----- No.14 161aab3a09ba7b3cf30d540d7ed12676750e732e on main -----\n"
     ]
    },
    {
     "name": "stderr",
     "output_type": "stream",
     "text": [
      "2019-01-17 22:53:17,070 INFO     [persper.analytics.lsp_graph_server.callgraph.manager] Added 935 branches from 2 files.\n"
     ]
    },
    {
     "name": "stdout",
     "output_type": "stream",
     "text": [
      "----- No.15 8b534175f5b7368d6bf8a1a0a3cdd98b6aacef89 on main -----\n"
     ]
    },
    {
     "name": "stderr",
     "output_type": "stream",
     "text": [
      "2019-01-17 22:53:31,372 INFO     [persper.analytics.lsp_graph_server.callgraph.manager] Added 1041 branches from 6 files.\n"
     ]
    },
    {
     "name": "stdout",
     "output_type": "stream",
     "text": [
      "----- No.16 d87d74083caa18aa990f3f9e0ca60a3d72f45067 on main -----\n"
     ]
    },
    {
     "name": "stderr",
     "output_type": "stream",
     "text": [
      "2019-01-17 22:54:01,717 INFO     [persper.analytics.lsp_graph_server.callgraph.manager] Added 1926 branches from 32 files.\n"
     ]
    },
    {
     "name": "stdout",
     "output_type": "stream",
     "text": [
      "----- No.17 7701822aa9cfcfd6f82db2b8652f24f3c477cc66 on main -----\n"
     ]
    },
    {
     "name": "stderr",
     "output_type": "stream",
     "text": [
      "2019-01-17 22:54:28,115 INFO     [persper.analytics.lsp_graph_server.callgraph.manager] Added 1609 branches from 13 files.\n"
     ]
    },
    {
     "name": "stdout",
     "output_type": "stream",
     "text": [
      "----- No.18 3cd39ae91ab53587af59abefd0431a49dd2d008b on main -----\n"
     ]
    },
    {
     "name": "stderr",
     "output_type": "stream",
     "text": [
      "2019-01-17 22:54:51,311 INFO     [persper.analytics.lsp_graph_server.callgraph.manager] Added 1355 branches from 2 files.\n"
     ]
    },
    {
     "name": "stdout",
     "output_type": "stream",
     "text": [
      "----- No.19 d3b57ac30108251a3334058b1b9c4dc0a7bd894b on main -----\n"
     ]
    },
    {
     "name": "stderr",
     "output_type": "stream",
     "text": [
      "2019-01-17 22:55:19,094 INFO     [persper.analytics.lsp_graph_server.callgraph.manager] Added 1744 branches from 22 files.\n"
     ]
    },
    {
     "name": "stdout",
     "output_type": "stream",
     "text": [
      "----- No.20 d01eb6b86f22e7aad01cdcc53f3c917e26329156 on main -----\n"
     ]
    },
    {
     "name": "stderr",
     "output_type": "stream",
     "text": [
      "2019-01-17 22:55:43,285 INFO     [persper.analytics.lsp_graph_server.callgraph.manager] Added 1414 branches from 5 files.\n"
     ]
    },
    {
     "name": "stdout",
     "output_type": "stream",
     "text": [
      "----- No.21 d26cb81854526c1ddaf95d80ed5b8c984851e9be on main -----\n"
     ]
    },
    {
     "name": "stderr",
     "output_type": "stream",
     "text": [
      "2019-01-17 22:56:07,344 INFO     [persper.analytics.lsp_graph_server.callgraph.manager] Added 1358 branches from 3 files.\n"
     ]
    },
    {
     "name": "stdout",
     "output_type": "stream",
     "text": [
      "----- No.22 6970d60dca9454227a3d85006193d625f63e0603 on main -----\n"
     ]
    },
    {
     "name": "stderr",
     "output_type": "stream",
     "text": [
      "2019-01-17 22:56:29,110 INFO     [persper.analytics.lsp_graph_server.callgraph.manager] Added 1157 branches from 1 files.\n"
     ]
    },
    {
     "name": "stdout",
     "output_type": "stream",
     "text": [
      "----- No.23 da6fbf7c5a750036a2c5013a6edadc638d789aca on main -----\n"
     ]
    },
    {
     "name": "stderr",
     "output_type": "stream",
     "text": [
      "2019-01-17 22:56:29,402 INFO     [persper.analytics.lsp_graph_server.callgraph.manager] Added 70 branches from 1 files.\n"
     ]
    },
    {
     "name": "stdout",
     "output_type": "stream",
     "text": [
      "----- No.24 657260eeabf7b933dce952ef31c62a95c933d883 on main -----\n"
     ]
    },
    {
     "name": "stderr",
     "output_type": "stream",
     "text": [
      "2019-01-17 22:56:52,954 INFO     [persper.analytics.lsp_graph_server.callgraph.manager] Added 1177 branches from 5 files.\n"
     ]
    },
    {
     "name": "stdout",
     "output_type": "stream",
     "text": [
      "----- No.25 0dabbb30932ea04a718d719ae3b66822a84d9647 on main -----\n"
     ]
    },
    {
     "name": "stderr",
     "output_type": "stream",
     "text": [
      "2019-01-17 22:57:24,481 INFO     [persper.analytics.lsp_graph_server.callgraph.manager] Already added 2000 branches.\n",
      "2019-01-17 22:57:27,024 INFO     [persper.analytics.lsp_graph_server.callgraph.manager] Added 2654 branches from 49 files.\n"
     ]
    },
    {
     "name": "stdout",
     "output_type": "stream",
     "text": [
      "----- No.26 43072452e5666869777cddda80b4a36e5f373c86 on main -----\n"
     ]
    },
    {
     "name": "stderr",
     "output_type": "stream",
     "text": [
      "2019-01-17 22:57:49,788 INFO     [persper.analytics.lsp_graph_server.callgraph.manager] Added 1274 branches from 3 files.\n"
     ]
    },
    {
     "name": "stdout",
     "output_type": "stream",
     "text": [
      "----- No.27 e78945a80f1908cf5c759f47bbc35e9ecaccf244 on main -----\n"
     ]
    },
    {
     "name": "stderr",
     "output_type": "stream",
     "text": [
      "2019-01-17 22:58:14,737 INFO     [persper.analytics.lsp_graph_server.callgraph.manager] Added 1314 branches from 6 files.\n"
     ]
    },
    {
     "name": "stdout",
     "output_type": "stream",
     "text": [
      "----- No.28 04412f056f6b7f0c19585a14f58c4a4a699a6d21 on main -----\n"
     ]
    },
    {
     "name": "stderr",
     "output_type": "stream",
     "text": [
      "2019-01-17 22:58:40,763 INFO     [persper.analytics.lsp_graph_server.callgraph.manager] Added 1410 branches from 5 files.\n"
     ]
    },
    {
     "name": "stdout",
     "output_type": "stream",
     "text": [
      "----- No.29 561f747133c0f045da56076f1b60680508580cf9 on main -----\n"
     ]
    },
    {
     "name": "stderr",
     "output_type": "stream",
     "text": [
      "2019-01-17 22:58:58,677 INFO     [persper.analytics.lsp_graph_server.callgraph.manager] Added 1081 branches from 3 files.\n"
     ]
    },
    {
     "name": "stdout",
     "output_type": "stream",
     "text": [
      "----- No.30 f3edc6e2f010cf0eabe5605549b8e33e22891af4 on main -----\n"
     ]
    },
    {
     "name": "stderr",
     "output_type": "stream",
     "text": [
      "2019-01-17 22:59:13,770 INFO     [persper.analytics.lsp_graph_server.callgraph.manager] Added 945 branches from 3 files.\n"
     ]
    },
    {
     "name": "stdout",
     "output_type": "stream",
     "text": [
      "----- No.31 ab7138bd915c9d0b0ea2585e6d8cafaa8990d30c on main -----\n"
     ]
    },
    {
     "name": "stderr",
     "output_type": "stream",
     "text": [
      "2019-01-17 22:59:29,088 INFO     [persper.analytics.lsp_graph_server.callgraph.manager] Added 862 branches from 5 files.\n"
     ]
    },
    {
     "name": "stdout",
     "output_type": "stream",
     "text": [
      "----- No.32 7c70d7fafde186f9defd58590bee0b3a7a96124b on main -----\n"
     ]
    },
    {
     "name": "stderr",
     "output_type": "stream",
     "text": [
      "2019-01-17 22:59:59,882 INFO     [persper.analytics.lsp_graph_server.callgraph.manager] Already added 2000 branches.\n",
      "2019-01-17 23:00:03,505 INFO     [persper.analytics.lsp_graph_server.callgraph.manager] Added 3015 branches from 72 files.\n"
     ]
    },
    {
     "name": "stdout",
     "output_type": "stream",
     "text": [
      "----- No.33 f067f6dcc428ca53d4612b7661443d27a6a7f83a on main -----\n"
     ]
    },
    {
     "name": "stderr",
     "output_type": "stream",
     "text": [
      "2019-01-17 23:00:22,231 INFO     [persper.analytics.lsp_graph_server.callgraph.manager] Added 1133 branches from 4 files.\n"
     ]
    },
    {
     "name": "stdout",
     "output_type": "stream",
     "text": [
      "----- No.34 ef1ff80a58232aa0efe3d1c7e32240bf7b9a29a3 on main -----\n"
     ]
    },
    {
     "name": "stderr",
     "output_type": "stream",
     "text": [
      "2019-01-17 23:00:52,943 INFO     [persper.analytics.lsp_graph_server.callgraph.manager] Already added 2000 branches.\n",
      "2019-01-17 23:00:55,921 INFO     [persper.analytics.lsp_graph_server.callgraph.manager] Added 2950 branches from 71 files.\n"
     ]
    },
    {
     "name": "stdout",
     "output_type": "stream",
     "text": [
      "----- No.35 6b95f51a25849122a7e0093ea2e243c9b7b64cfb on main -----\n"
     ]
    },
    {
     "name": "stderr",
     "output_type": "stream",
     "text": [
      "2019-01-17 23:01:17,915 INFO     [persper.analytics.lsp_graph_server.callgraph.manager] Added 1320 branches from 11 files.\n"
     ]
    },
    {
     "name": "stdout",
     "output_type": "stream",
     "text": [
      "----- No.36 5f0f290d1876ff13259709f62bcbeff57ea1334c on main -----\n"
     ]
    },
    {
     "name": "stderr",
     "output_type": "stream",
     "text": [
      "2019-01-17 23:01:37,582 INFO     [persper.analytics.lsp_graph_server.callgraph.manager] Added 991 branches from 7 files.\n"
     ]
    },
    {
     "name": "stdout",
     "output_type": "stream",
     "text": [
      "----- No.37 a7f5231e4cc4bb8ea676ef93851b9edaeeb13123 on main -----\n"
     ]
    },
    {
     "name": "stderr",
     "output_type": "stream",
     "text": [
      "2019-01-17 23:02:10,127 INFO     [persper.analytics.lsp_graph_server.callgraph.manager] Already added 2000 branches.\n",
      "2019-01-17 23:02:13,838 INFO     [persper.analytics.lsp_graph_server.callgraph.manager] Added 3038 branches from 77 files.\n"
     ]
    },
    {
     "name": "stdout",
     "output_type": "stream",
     "text": [
      "----- No.38 6a95d2f46f382a460ece15c976926967247d4ebb on main -----\n"
     ]
    },
    {
     "name": "stderr",
     "output_type": "stream",
     "text": [
      "2019-01-17 23:02:41,859 INFO     [persper.analytics.lsp_graph_server.callgraph.manager] Already added 2000 branches.\n",
      "2019-01-17 23:02:43,349 INFO     [persper.analytics.lsp_graph_server.callgraph.manager] Added 2530 branches from 47 files.\n"
     ]
    },
    {
     "name": "stdout",
     "output_type": "stream",
     "text": [
      "----- No.39 2932b5d41b531fd51b0758b0239fecda2d286790 on main -----\n"
     ]
    },
    {
     "name": "stderr",
     "output_type": "stream",
     "text": [
      "2019-01-17 23:03:02,148 INFO     [persper.analytics.lsp_graph_server.callgraph.manager] Added 976 branches from 1 files.\n"
     ]
    },
    {
     "name": "stdout",
     "output_type": "stream",
     "text": [
      "----- No.40 b33bd54922f74a92ca0d8f82301ffbeae3d95c33 on main -----\n"
     ]
    },
    {
     "name": "stderr",
     "output_type": "stream",
     "text": [
      "2019-01-17 23:03:21,097 INFO     [persper.analytics.lsp_graph_server.callgraph.manager] Added 979 branches from 2 files.\n"
     ]
    },
    {
     "name": "stdout",
     "output_type": "stream",
     "text": [
      "----- No.41 bebb2306038702e0ee600926e9f4ddff66a9ce17 on main -----\n"
     ]
    },
    {
     "name": "stderr",
     "output_type": "stream",
     "text": [
      "2019-01-17 23:03:39,146 INFO     [persper.analytics.lsp_graph_server.callgraph.manager] Added 981 branches from 1 files.\n"
     ]
    },
    {
     "name": "stdout",
     "output_type": "stream",
     "text": [
      "----- No.42 9b351ce52faa76aab2564e9fba5f9fd3394344f6 on main -----\n"
     ]
    },
    {
     "name": "stderr",
     "output_type": "stream",
     "text": [
      "2019-01-17 23:03:57,577 INFO     [persper.analytics.lsp_graph_server.callgraph.manager] Added 1014 branches from 2 files.\n"
     ]
    },
    {
     "name": "stdout",
     "output_type": "stream",
     "text": [
      "----- No.43 683cac602e7a6952abad2c280f7662edd3d7e268 on main -----\n"
     ]
    },
    {
     "name": "stderr",
     "output_type": "stream",
     "text": [
      "2019-01-17 23:04:31,849 INFO     [persper.analytics.lsp_graph_server.callgraph.manager] Added 1961 branches from 3 files.\n"
     ]
    },
    {
     "name": "stdout",
     "output_type": "stream",
     "text": [
      "----- No.44 358b4434c2dddaaccfff8400ce0c5497629b605a on main -----\n"
     ]
    },
    {
     "name": "stderr",
     "output_type": "stream",
     "text": [
      "2019-01-17 23:05:02,159 INFO     [persper.analytics.lsp_graph_server.callgraph.manager] Already added 2000 branches.\n",
      "2019-01-17 23:05:03,906 INFO     [persper.analytics.lsp_graph_server.callgraph.manager] Added 2249 branches from 3 files.\n"
     ]
    },
    {
     "name": "stdout",
     "output_type": "stream",
     "text": [
      "----- No.45 ce4c2232d7599403388a945a53968a8ff5c2cb4c on main -----\n"
     ]
    },
    {
     "name": "stderr",
     "output_type": "stream",
     "text": [
      "2019-01-17 23:05:29,698 INFO     [persper.analytics.lsp_graph_server.callgraph.manager] Added 1549 branches from 17 files.\n"
     ]
    },
    {
     "name": "stdout",
     "output_type": "stream",
     "text": [
      "----- No.46 d867d962d82abae8b40ed5e433a02646a5aacbe0 on main -----\n"
     ]
    },
    {
     "name": "stderr",
     "output_type": "stream",
     "text": [
      "2019-01-17 23:05:49,879 INFO     [persper.analytics.lsp_graph_server.callgraph.manager] Added 1231 branches from 6 files.\n"
     ]
    },
    {
     "name": "stdout",
     "output_type": "stream",
     "text": [
      "----- No.47 b165cfa59d03fec0776b6b0b28f4065a587086a0 on main -----\n"
     ]
    },
    {
     "name": "stderr",
     "output_type": "stream",
     "text": [
      "2019-01-17 23:05:55,146 INFO     [persper.analytics.lsp_graph_server.callgraph.manager] Added 305 branches from 5 files.\n"
     ]
    },
    {
     "name": "stdout",
     "output_type": "stream",
     "text": [
      "----- No.48 0f17a49d40aacaf29a6d7eaefe3762072c0b30f7 on main -----\n"
     ]
    },
    {
     "name": "stderr",
     "output_type": "stream",
     "text": [
      "2019-01-17 23:06:05,985 INFO     [persper.analytics.lsp_graph_server.callgraph.manager] Added 796 branches from 3 files.\n"
     ]
    },
    {
     "name": "stdout",
     "output_type": "stream",
     "text": [
      "----- No.49 264b687e4312fa022ebca264945af344c12b78ef on main -----\n"
     ]
    },
    {
     "name": "stderr",
     "output_type": "stream",
     "text": [
      "2019-01-17 23:06:08,113 INFO     [persper.analytics.lsp_graph_server.callgraph.manager] Added 104 branches from 1 files.\n"
     ]
    },
    {
     "name": "stdout",
     "output_type": "stream",
     "text": [
      "----- No.50 5faf9d1f6b54d89113eb0b0aac5ccb798e630fe8 on main -----\n"
     ]
    },
    {
     "name": "stderr",
     "output_type": "stream",
     "text": [
      "2019-01-17 23:06:20,942 INFO     [persper.analytics.lsp_graph_server.callgraph.manager] Added 788 branches from 4 files.\n"
     ]
    },
    {
     "name": "stdout",
     "output_type": "stream",
     "text": [
      "----- No.51 d59b7c7379c4fa2653b388dcd988d58c439f2e9b on main -----\n"
     ]
    },
    {
     "name": "stderr",
     "output_type": "stream",
     "text": [
      "2019-01-17 23:06:39,811 INFO     [persper.analytics.lsp_graph_server.callgraph.manager] Added 1302 branches from 6 files.\n"
     ]
    },
    {
     "name": "stdout",
     "output_type": "stream",
     "text": [
      "----- No.52 f3f72a0dfabb6ac2dead437e829960d2910c65a0 on main -----\n"
     ]
    },
    {
     "name": "stderr",
     "output_type": "stream",
     "text": [
      "2019-01-17 23:07:03,955 INFO     [persper.analytics.lsp_graph_server.callgraph.manager] Already added 2000 branches.\n",
      "2019-01-17 23:07:05,376 INFO     [persper.analytics.lsp_graph_server.callgraph.manager] Added 2405 branches from 29 files.\n"
     ]
    },
    {
     "name": "stdout",
     "output_type": "stream",
     "text": [
      "----- No.53 b7d9a0f815f825d0a4e6993395b15e9a0fba51c7 on main -----\n"
     ]
    },
    {
     "name": "stderr",
     "output_type": "stream",
     "text": [
      "2019-01-17 23:07:31,312 INFO     [persper.analytics.lsp_graph_server.callgraph.manager] Already added 2000 branches.\n",
      "2019-01-17 23:07:33,346 INFO     [persper.analytics.lsp_graph_server.callgraph.manager] Added 2274 branches from 9 files.\n"
     ]
    },
    {
     "name": "stdout",
     "output_type": "stream",
     "text": [
      "----- No.54 243ed8dfa523092e77ee8c6341ffffcd623fe93d on main -----\n"
     ]
    },
    {
     "name": "stderr",
     "output_type": "stream",
     "text": [
      "2019-01-17 23:07:57,378 INFO     [persper.analytics.lsp_graph_server.callgraph.manager] Already added 2000 branches.\n",
      "2019-01-17 23:07:58,810 INFO     [persper.analytics.lsp_graph_server.callgraph.manager] Added 2195 branches from 5 files.\n"
     ]
    },
    {
     "name": "stdout",
     "output_type": "stream",
     "text": [
      "----- No.55 f3aa91d8dbf457e09897b52e70d3a80fa4c305f5 on main -----\n"
     ]
    },
    {
     "name": "stderr",
     "output_type": "stream",
     "text": [
      "2019-01-17 23:08:10,003 INFO     [persper.analytics.lsp_graph_server.callgraph.manager] Added 1042 branches from 2 files.\n"
     ]
    },
    {
     "name": "stdout",
     "output_type": "stream",
     "text": [
      "----- No.56 aaa3542670a9e4ada6973d3077df8d73d9e0ab40 on main -----\n"
     ]
    },
    {
     "name": "stderr",
     "output_type": "stream",
     "text": [
      "2019-01-17 23:08:34,505 INFO     [persper.analytics.lsp_graph_server.callgraph.manager] Already added 2000 branches.\n",
      "2019-01-17 23:08:41,626 INFO     [persper.analytics.lsp_graph_server.callgraph.manager] Added 2727 branches from 5 files.\n"
     ]
    },
    {
     "name": "stdout",
     "output_type": "stream",
     "text": [
      "----- No.57 bc8daee0654c4daa1ebc2b29333248678f34f70a on main -----\n",
      "----- No.58 18aa28bdea347d0af19504a08e71cc42d1fcdfeb on main -----\n"
     ]
    },
    {
     "name": "stderr",
     "output_type": "stream",
     "text": [
      "2019-01-17 23:09:07,540 INFO     [persper.analytics.lsp_graph_server.callgraph.manager] Already added 2000 branches.\n",
      "2019-01-17 23:09:11,405 INFO     [persper.analytics.lsp_graph_server.callgraph.manager] Added 2526 branches from 4 files.\n"
     ]
    },
    {
     "name": "stdout",
     "output_type": "stream",
     "text": [
      "----- No.59 aa677de886e23ebff3e4d6327f98730f5bed9cd2 on main -----\n"
     ]
    },
    {
     "name": "stderr",
     "output_type": "stream",
     "text": [
      "2019-01-17 23:09:31,911 INFO     [persper.analytics.lsp_graph_server.callgraph.manager] Already added 2000 branches.\n",
      "2019-01-17 23:09:38,203 INFO     [persper.analytics.lsp_graph_server.callgraph.manager] Added 2646 branches from 5 files.\n"
     ]
    },
    {
     "name": "stdout",
     "output_type": "stream",
     "text": [
      "----- No.60 430b9ef61bc4a106dba0e6b685b1891d351f17f3 on main -----\n"
     ]
    },
    {
     "name": "stderr",
     "output_type": "stream",
     "text": [
      "2019-01-17 23:09:58,608 INFO     [persper.analytics.lsp_graph_server.callgraph.manager] Already added 2000 branches.\n",
      "2019-01-17 23:10:00,234 INFO     [persper.analytics.lsp_graph_server.callgraph.manager] Added 2191 branches from 3 files.\n"
     ]
    },
    {
     "name": "stdout",
     "output_type": "stream",
     "text": [
      "----- No.61 6df9f61b56a0e3fe867f9af93530a6ef4eed55c4 on main -----\n"
     ]
    },
    {
     "name": "stderr",
     "output_type": "stream",
     "text": [
      "2019-01-17 23:10:15,581 INFO     [persper.analytics.lsp_graph_server.callgraph.manager] Added 1310 branches from 3 files.\n"
     ]
    },
    {
     "name": "stdout",
     "output_type": "stream",
     "text": [
      "----- No.62 c1db1766c9139ffb09525bbebc8d98a1500bdbef on main -----\n"
     ]
    },
    {
     "name": "stderr",
     "output_type": "stream",
     "text": [
      "2019-01-17 23:10:21,608 INFO     [persper.analytics.lsp_graph_server.callgraph.manager] Added 879 branches from 1 files.\n"
     ]
    },
    {
     "name": "stdout",
     "output_type": "stream",
     "text": [
      "----- No.63 7192db6e32e8ea7828ef52a50ef3d66761ac535a on main -----\n"
     ]
    },
    {
     "name": "stderr",
     "output_type": "stream",
     "text": [
      "2019-01-17 23:10:35,476 INFO     [persper.analytics.lsp_graph_server.callgraph.manager] Added 1293 branches from 2 files.\n"
     ]
    },
    {
     "name": "stdout",
     "output_type": "stream",
     "text": [
      "----- No.64 a37d402ce2bcb5155fae5d1dd558b6a2d84ce4c2 on main -----\n"
     ]
    },
    {
     "name": "stderr",
     "output_type": "stream",
     "text": [
      "2019-01-17 23:10:37,707 INFO     [persper.analytics.lsp_graph_server.callgraph.manager] Added 235 branches from 1 files.\n"
     ]
    },
    {
     "name": "stdout",
     "output_type": "stream",
     "text": [
      "----- No.65 05af433b5a323f0cd626aa810738f0326595005f on main -----\n"
     ]
    },
    {
     "name": "stderr",
     "output_type": "stream",
     "text": [
      "2019-01-17 23:10:58,201 INFO     [persper.analytics.lsp_graph_server.callgraph.manager] Already added 2000 branches.\n",
      "2019-01-17 23:11:03,455 INFO     [persper.analytics.lsp_graph_server.callgraph.manager] Added 2464 branches from 6 files.\n"
     ]
    },
    {
     "name": "stdout",
     "output_type": "stream",
     "text": [
      "----- No.66 1f4f72013654f3b03e19f95e1612281527386256 on main -----\n"
     ]
    },
    {
     "name": "stderr",
     "output_type": "stream",
     "text": [
      "2019-01-17 23:11:20,372 INFO     [persper.analytics.lsp_graph_server.callgraph.manager] Added 1199 branches from 7 files.\n"
     ]
    },
    {
     "name": "stdout",
     "output_type": "stream",
     "text": [
      "----- No.67 2fc419faa302d51101c8b71b5ecdd1c8c2de7f89 on main -----\n"
     ]
    },
    {
     "name": "stderr",
     "output_type": "stream",
     "text": [
      "2019-01-17 23:11:37,984 INFO     [persper.analytics.lsp_graph_server.callgraph.manager] Added 1290 branches from 6 files.\n"
     ]
    },
    {
     "name": "stdout",
     "output_type": "stream",
     "text": [
      "----- No.68 0738b8f57aa4abfcd43b517b35338a51db21d75d on main -----\n"
     ]
    },
    {
     "name": "stderr",
     "output_type": "stream",
     "text": [
      "2019-01-17 23:11:53,919 INFO     [persper.analytics.lsp_graph_server.callgraph.manager] Added 953 branches from 7 files.\n"
     ]
    },
    {
     "name": "stdout",
     "output_type": "stream",
     "text": [
      "----- No.69 88f2a3541a0bcb551da8c00cf80bba29f3245467 on main -----\n"
     ]
    },
    {
     "name": "stderr",
     "output_type": "stream",
     "text": [
      "2019-01-17 23:12:03,207 INFO     [persper.analytics.lsp_graph_server.callgraph.manager] Added 375 branches from 6 files.\n"
     ]
    },
    {
     "name": "stdout",
     "output_type": "stream",
     "text": [
      "----- No.70 dad7fcb5a3a5535744f9a52e9cce9a482ad9669e on main -----\n"
     ]
    },
    {
     "name": "stderr",
     "output_type": "stream",
     "text": [
      "2019-01-17 23:12:10,976 INFO     [persper.analytics.lsp_graph_server.callgraph.manager] Added 536 branches from 3 files.\n"
     ]
    },
    {
     "name": "stdout",
     "output_type": "stream",
     "text": [
      "----- No.71 6ffca03d6f7baf280996e02f8b78f9a886e3f80e on main -----\n"
     ]
    },
    {
     "name": "stderr",
     "output_type": "stream",
     "text": [
      "2019-01-17 23:12:20,117 INFO     [persper.analytics.lsp_graph_server.callgraph.manager] Added 873 branches from 1 files.\n"
     ]
    },
    {
     "name": "stdout",
     "output_type": "stream",
     "text": [
      "----- No.72 94383d589b3fcb5786290c50a9f2e08402e0e562 on main -----\n"
     ]
    },
    {
     "name": "stderr",
     "output_type": "stream",
     "text": [
      "2019-01-17 23:12:26,529 INFO     [persper.analytics.lsp_graph_server.callgraph.manager] Added 388 branches from 3 files.\n"
     ]
    },
    {
     "name": "stdout",
     "output_type": "stream",
     "text": [
      "----- No.73 b3a544e880547a9434c3e7caad526759dc6bdef0 on main -----\n"
     ]
    },
    {
     "name": "stderr",
     "output_type": "stream",
     "text": [
      "2019-01-17 23:12:34,166 INFO     [persper.analytics.lsp_graph_server.callgraph.manager] Added 448 branches from 3 files.\n"
     ]
    },
    {
     "name": "stdout",
     "output_type": "stream",
     "text": [
      "----- No.74 253414f29b9c1d3e0dc06c807b79591fe6daad85 on main -----\n"
     ]
    },
    {
     "name": "stderr",
     "output_type": "stream",
     "text": [
      "2019-01-17 23:12:41,827 INFO     [persper.analytics.lsp_graph_server.callgraph.manager] Added 452 branches from 3 files.\n"
     ]
    },
    {
     "name": "stdout",
     "output_type": "stream",
     "text": [
      "----- No.75 dd8fb070fd5b1bae7f7e1d7dd03131e208e107e5 on main -----\n"
     ]
    },
    {
     "name": "stderr",
     "output_type": "stream",
     "text": [
      "2019-01-17 23:12:47,812 INFO     [persper.analytics.lsp_graph_server.callgraph.manager] Added 319 branches from 2 files.\n"
     ]
    },
    {
     "name": "stdout",
     "output_type": "stream",
     "text": [
      "----- No.76 15b5a03a08799659d54b58bf0f7b49d3ae5ed55b on main -----\n",
      "----- No.77 2a08552265402719f5bcc8c260794b16734adc2d on main -----\n"
     ]
    },
    {
     "name": "stderr",
     "output_type": "stream",
     "text": [
      "2019-01-17 23:13:11,934 INFO     [persper.analytics.lsp_graph_server.callgraph.manager] Added 1650 branches from 7 files.\n"
     ]
    },
    {
     "name": "stdout",
     "output_type": "stream",
     "text": [
      "----- No.78 8fb0fb816c45ea7fad3ac4732b72d42401d184b4 on main -----\n"
     ]
    },
    {
     "name": "stderr",
     "output_type": "stream",
     "text": [
      "2019-01-17 23:13:40,596 INFO     [persper.analytics.lsp_graph_server.callgraph.manager] Added 1889 branches from 7 files.\n"
     ]
    },
    {
     "name": "stdout",
     "output_type": "stream",
     "text": [
      "----- No.79 bf98dc56fb15f4d47c6f9faf245dc1d84b5907a2 on main -----\n"
     ]
    },
    {
     "name": "stderr",
     "output_type": "stream",
     "text": [
      "2019-01-17 23:14:17,629 INFO     [persper.analytics.lsp_graph_server.callgraph.manager] Already added 2000 branches.\n",
      "2019-01-17 23:14:37,878 INFO     [persper.analytics.lsp_graph_server.callgraph.manager] Added 3634 branches from 14 files.\n"
     ]
    },
    {
     "name": "stdout",
     "output_type": "stream",
     "text": [
      "----- No.80 d403d7ad963898cfb1bd9d46220ab57359c3658e on main -----\n"
     ]
    },
    {
     "name": "stderr",
     "output_type": "stream",
     "text": [
      "2019-01-17 23:14:38,331 INFO     [persper.analytics.lsp_graph_server.callgraph.manager] Added 9 branches from 2 files.\n"
     ]
    },
    {
     "name": "stdout",
     "output_type": "stream",
     "text": [
      "----- No.81 8e3615240661365c9f6650db08246ef6dd3886ae on main -----\n"
     ]
    },
    {
     "name": "stderr",
     "output_type": "stream",
     "text": [
      "2019-01-17 23:15:08,228 INFO     [persper.analytics.lsp_graph_server.callgraph.manager] Added 1691 branches from 19 files.\n"
     ]
    },
    {
     "name": "stdout",
     "output_type": "stream",
     "text": [
      "----- No.82 e06f9472c1012235de02caf6e2d5b41688b72c85 on main -----\n"
     ]
    },
    {
     "name": "stderr",
     "output_type": "stream",
     "text": [
      "2019-01-17 23:15:29,193 INFO     [persper.analytics.lsp_graph_server.callgraph.manager] Added 1178 branches from 7 files.\n"
     ]
    },
    {
     "name": "stdout",
     "output_type": "stream",
     "text": [
      "----- No.83 f6967eee48f48c2b100538b40a58e3cb53829d3e on main -----\n"
     ]
    },
    {
     "name": "stderr",
     "output_type": "stream",
     "text": [
      "2019-01-17 23:15:45,933 INFO     [persper.analytics.lsp_graph_server.callgraph.manager] Added 974 branches from 6 files.\n"
     ]
    },
    {
     "name": "stdout",
     "output_type": "stream",
     "text": [
      "----- No.84 f7e2b200591372495d93b0e56d00bce3eafe89c9 on main -----\n"
     ]
    },
    {
     "name": "stderr",
     "output_type": "stream",
     "text": [
      "2019-01-17 23:16:01,735 INFO     [persper.analytics.lsp_graph_server.callgraph.manager] Added 876 branches from 3 files.\n"
     ]
    },
    {
     "name": "stdout",
     "output_type": "stream",
     "text": [
      "----- No.85 49c6f7787a4363d4a43b1197d9a66d995da2b7d0 on main -----\n"
     ]
    },
    {
     "name": "stderr",
     "output_type": "stream",
     "text": [
      "2019-01-17 23:16:18,063 INFO     [persper.analytics.lsp_graph_server.callgraph.manager] Added 898 branches from 4 files.\n"
     ]
    },
    {
     "name": "stdout",
     "output_type": "stream",
     "text": [
      "----- No.86 36f69e61a9b248097f7f4330d69568d54129a7db on main -----\n"
     ]
    },
    {
     "name": "stderr",
     "output_type": "stream",
     "text": [
      "2019-01-17 23:16:40,232 INFO     [persper.analytics.lsp_graph_server.callgraph.manager] Added 1266 branches from 3 files.\n"
     ]
    },
    {
     "name": "stdout",
     "output_type": "stream",
     "text": [
      "----- No.87 852a4218ba60770e6effa149a3ccfecd997bd2f0 on main -----\n"
     ]
    },
    {
     "name": "stderr",
     "output_type": "stream",
     "text": [
      "2019-01-17 23:16:47,947 INFO     [persper.analytics.lsp_graph_server.callgraph.manager] Added 454 branches from 2 files.\n"
     ]
    },
    {
     "name": "stdout",
     "output_type": "stream",
     "text": [
      "----- No.88 2db753ff92279f7e5a1901e9e5bc27a8d6d5eb29 on main -----\n"
     ]
    },
    {
     "name": "stderr",
     "output_type": "stream",
     "text": [
      "2019-01-17 23:17:02,149 INFO     [persper.analytics.lsp_graph_server.callgraph.manager] Added 834 branches from 1 files.\n"
     ]
    },
    {
     "name": "stdout",
     "output_type": "stream",
     "text": [
      "----- No.89 7a160a526975068509461803ee99db8a2d2a4c4a on main -----\n"
     ]
    },
    {
     "name": "stderr",
     "output_type": "stream",
     "text": [
      "2019-01-17 23:17:31,047 INFO     [persper.analytics.lsp_graph_server.callgraph.manager] Already added 2000 branches.\n",
      "2019-01-17 23:17:34,265 INFO     [persper.analytics.lsp_graph_server.callgraph.manager] Added 2432 branches from 4 files.\n"
     ]
    },
    {
     "name": "stdout",
     "output_type": "stream",
     "text": [
      "----- No.90 729264bb34a2e885409a0d2c19170f72d809c327 on main -----\n"
     ]
    },
    {
     "name": "stderr",
     "output_type": "stream",
     "text": [
      "2019-01-17 23:18:14,687 INFO     [persper.analytics.lsp_graph_server.callgraph.manager] Already added 2000 branches.\n",
      "2019-01-17 23:18:23,985 INFO     [persper.analytics.lsp_graph_server.callgraph.manager] Added 2761 branches from 9 files.\n"
     ]
    },
    {
     "name": "stdout",
     "output_type": "stream",
     "text": [
      "----- No.91 b1a69c2ec3f96d668b4e815adf83641289444018 on main -----\n"
     ]
    },
    {
     "name": "stderr",
     "output_type": "stream",
     "text": [
      "2019-01-17 23:18:30,312 INFO     [persper.analytics.lsp_graph_server.callgraph.manager] Added 424 branches from 2 files.\n"
     ]
    },
    {
     "name": "stdout",
     "output_type": "stream",
     "text": [
      "----- No.92 94b344dbe3f79340e5d18ed7ddc3bed6fcab8a15 on main -----\n"
     ]
    },
    {
     "name": "stderr",
     "output_type": "stream",
     "text": [
      "2019-01-17 23:18:43,079 INFO     [persper.analytics.lsp_graph_server.callgraph.manager] Added 1168 branches from 42 files.\n"
     ]
    },
    {
     "name": "stdout",
     "output_type": "stream",
     "text": [
      "----- No.93 6519dc1b8de9d3a4fa53995753ca8b6fe7a1ef86 on main -----\n"
     ]
    },
    {
     "name": "stderr",
     "output_type": "stream",
     "text": [
      "2019-01-17 23:18:55,784 INFO     [persper.analytics.lsp_graph_server.callgraph.manager] Added 1543 branches from 53 files.\n"
     ]
    },
    {
     "name": "stdout",
     "output_type": "stream",
     "text": [
      "----- No.94 4e2f24ac174533d295799a6a4958da6a564f7462 on main -----\n"
     ]
    },
    {
     "name": "stderr",
     "output_type": "stream",
     "text": [
      "2019-01-17 23:19:05,209 INFO     [persper.analytics.lsp_graph_server.callgraph.manager] Added 771 branches from 15 files.\n"
     ]
    },
    {
     "name": "stdout",
     "output_type": "stream",
     "text": [
      "----- No.95 9b89bfc905dd90205a6c3a901bdf5f1a35e535ba on main -----\n"
     ]
    },
    {
     "name": "stderr",
     "output_type": "stream",
     "text": [
      "2019-01-17 23:19:18,287 INFO     [persper.analytics.lsp_graph_server.callgraph.manager] Added 765 branches from 3 files.\n"
     ]
    },
    {
     "name": "stdout",
     "output_type": "stream",
     "text": [
      "----- No.96 afc6db80ddebda8813015a645854de6422eef32e on main -----\n"
     ]
    },
    {
     "name": "stderr",
     "output_type": "stream",
     "text": [
      "2019-01-17 23:19:30,279 INFO     [persper.analytics.lsp_graph_server.callgraph.manager] Added 820 branches from 1 files.\n"
     ]
    },
    {
     "name": "stdout",
     "output_type": "stream",
     "text": [
      "----- No.97 1508ac85d8cace7bdf9fdf456753a6024959008b on main -----\n"
     ]
    },
    {
     "name": "stderr",
     "output_type": "stream",
     "text": [
      "2019-01-17 23:20:04,554 INFO     [persper.analytics.lsp_graph_server.callgraph.manager] Already added 2000 branches.\n",
      "2019-01-17 23:20:13,549 INFO     [persper.analytics.lsp_graph_server.callgraph.manager] Added 2624 branches from 7 files.\n"
     ]
    },
    {
     "name": "stdout",
     "output_type": "stream",
     "text": [
      "----- No.98 7c55502fe8c4cadd24b507fe1053165f4b4c55fb on main -----\n"
     ]
    },
    {
     "name": "stderr",
     "output_type": "stream",
     "text": [
      "2019-01-17 23:20:15,408 INFO     [persper.analytics.lsp_graph_server.callgraph.manager] Added 79 branches from 1 files.\n"
     ]
    },
    {
     "name": "stdout",
     "output_type": "stream",
     "text": [
      "----- No.99 68d9002ecd9ac617448d25e0beeb1593c7e2df72 on main -----\n"
     ]
    },
    {
     "name": "stderr",
     "output_type": "stream",
     "text": [
      "2019-01-17 23:20:17,041 INFO     [persper.analytics.lsp_graph_server.callgraph.manager] Added 54 branches from 1 files.\n"
     ]
    },
    {
     "name": "stdout",
     "output_type": "stream",
     "text": [
      "----- No.100 38fb4a4f1da53062cbaa881534f612cd78f8014b on main -----\n",
      "------ Used time: 1848.181 -----\n"
     ]
    },
    {
     "name": "stderr",
     "output_type": "stream",
     "text": [
      "2019-01-17 23:20:19,292 INFO     [persper.analytics.lsp_graph_server.callgraph.manager] Added 73 branches from 3 files.\n"
     ]
    },
    {
     "name": "stdout",
     "output_type": "stream",
     "text": [
      "----- No.101 8a13acd3b867dc3cf4455f3387123ea3df89725b on main -----\n"
     ]
    },
    {
     "name": "stderr",
     "output_type": "stream",
     "text": [
      "2019-01-17 23:20:20,304 INFO     [persper.analytics.lsp_graph_server.callgraph.manager] Added 3 branches from 2 files.\n"
     ]
    },
    {
     "name": "stdout",
     "output_type": "stream",
     "text": [
      "----- No.102 f3c8500fa9c7422ffd693c02a2bb7c9fb01b3bc5 on main -----\n"
     ]
    },
    {
     "name": "stderr",
     "output_type": "stream",
     "text": [
      "2019-01-17 23:20:47,474 INFO     [persper.analytics.lsp_graph_server.callgraph.manager] Added 1552 branches from 5 files.\n"
     ]
    },
    {
     "name": "stdout",
     "output_type": "stream",
     "text": [
      "----- No.103 cc4d49794d8960b82208bfa2ec8e4f4a9f9548c9 on main -----\n"
     ]
    },
    {
     "name": "stderr",
     "output_type": "stream",
     "text": [
      "2019-01-17 23:21:24,708 INFO     [persper.analytics.lsp_graph_server.callgraph.manager] Already added 2000 branches.\n",
      "2019-01-17 23:21:31,032 INFO     [persper.analytics.lsp_graph_server.callgraph.manager] Added 2806 branches from 8 files.\n"
     ]
    },
    {
     "name": "stdout",
     "output_type": "stream",
     "text": [
      "----- No.104 fdd798f995ce3f6e66b1c3d92ad6b9dedc3218ab on main -----\n"
     ]
    },
    {
     "name": "stderr",
     "output_type": "stream",
     "text": [
      "2019-01-17 23:21:56,286 INFO     [persper.analytics.lsp_graph_server.callgraph.manager] Added 1876 branches from 4 files.\n"
     ]
    },
    {
     "name": "stdout",
     "output_type": "stream",
     "text": [
      "----- No.105 1a6fd858c67110e9d88a1012db973875cccd8d2f on main -----\n"
     ]
    },
    {
     "name": "stderr",
     "output_type": "stream",
     "text": [
      "2019-01-17 23:22:02,520 INFO     [persper.analytics.lsp_graph_server.callgraph.manager] Added 362 branches from 4 files.\n"
     ]
    },
    {
     "name": "stdout",
     "output_type": "stream",
     "text": [
      "----- No.106 0b44f72ed8c0091862a1f9f0f782a5180d0a82ff on main -----\n"
     ]
    },
    {
     "name": "stderr",
     "output_type": "stream",
     "text": [
      "2019-01-17 23:22:13,815 INFO     [persper.analytics.lsp_graph_server.callgraph.manager] Added 898 branches from 4 files.\n"
     ]
    },
    {
     "name": "stdout",
     "output_type": "stream",
     "text": [
      "----- No.107 c079ab45b3bdda145054e14aeb61c332c2dbf3cf on main -----\n"
     ]
    },
    {
     "name": "stderr",
     "output_type": "stream",
     "text": [
      "2019-01-17 23:22:17,001 INFO     [persper.analytics.lsp_graph_server.callgraph.manager] Added 299 branches from 1 files.\n"
     ]
    },
    {
     "name": "stdout",
     "output_type": "stream",
     "text": [
      "----- No.108 ebd467d31b10dbf5784f160533d747d434bbc764 on main -----\n"
     ]
    },
    {
     "name": "stderr",
     "output_type": "stream",
     "text": [
      "2019-01-17 23:22:42,581 INFO     [persper.analytics.lsp_graph_server.callgraph.manager] Added 1538 branches from 4 files.\n"
     ]
    }
   ],
   "source": [
    "from persper.analytics.analyzer import Analyzer\n",
    "from persper.analytics.lsp_graph_server.ccls import CclsGraphServer\n",
    "from tempfile import mkdtemp\n",
    "\n",
    "dumpLogs = True\n",
    "workspaceRoot = mkdtemp()\n",
    "print(\"Workspace root: \", workspaceRoot)\n",
    "G = None\n",
    "async with CclsGraphServer(workspaceRoot, cacheRoot=\"./.ccls-cache\",\n",
    "                           languageServerCommand=\"../bin/ccls\" + (\" -log-file=ccls.log\" if dumpLogs else \"\"),\n",
    "                           dumpLogs=dumpLogs) as graphServer:\n",
    "    analyzer = Analyzer(\"../../../testrepos/ccls\", graphServer)\n",
    "    graphServer.reset_graph()\n",
    "    await analyzer.analyze()\n",
    "    G = analyzer.get_graph()"
   ]
  },
  {
   "cell_type": "code",
   "execution_count": 3,
   "metadata": {},
   "outputs": [
    {
     "name": "stdout",
     "output_type": "stream",
     "text": [
      "Nodes: 861\n",
      "Edges: 3388\n"
     ]
    }
   ],
   "source": [
    "print(\"Nodes:\", len(G.nodes()))\n",
    "print(\"Edges:\", len(G.edges()))"
   ]
  },
  {
   "cell_type": "code",
   "execution_count": 4,
   "metadata": {
    "scrolled": false
   },
   "outputs": [
    {
     "name": "stdout",
     "output_type": "stream",
     "text": [
      "namespace clang {}  |  namespace clang {}\n",
      "namespace clang {}  |  clang::SourceLocation::SourceLocation::SourceLocation(int &tu, const std::string &filepath, unsigned int offset)\n",
      "namespace clang {}  |  clang::SourceLocation::SourceLocation::SourceLocation(int &tu, const std::string &filepath, unsigned int line, unsigned int column)\n",
      "namespace clang {}  |  std::string clang::SourceLocation::get_path()\n",
      "namespace clang {}  |  clang::Offset clang::SourceLocation::get_offset()\n",
      "namespace clang {}  |  void clang::SourceLocation::get_data(std::string *path, unsigned int *line, unsigned int *column, unsigned int *offset)\n",
      "namespace clang {}  |  clang::Index::Index(int excludeDeclarationsFromPCH, int displayDiagnostics)\n",
      "namespace clang {}  |  clang::Diagnostic::Diagnostic(int &cx_tu, int &cx_diagnostic)\n",
      "namespace clang {}  |  static const std::string clang::Diagnostic::get_severity_spelling(unsigned int severity)\n",
      "namespace clang {}  |  int clang::SourceRange::get_offsets()\n",
      "namespace clang {}  |  int clang::CompileCommand::get_command()\n",
      "namespace clang {}  |  int clang::CompileCommand::get_command_as_args()\n",
      "namespace clang {}  |  clang::CompileCommands::CompileCommands(const int &filename, clang::CompilationDatabase &db)\n",
      "namespace clang {}  |  int clang::CompileCommands::get_commands()\n",
      "namespace clang {}  |  clang::CompletionString::CompletionString(const int &cx_completion_sting)\n",
      "namespace clang {}  |  std::string clang::Cursor::get_usr() const\n",
      "namespace clang {}  |  clang::CompilationDatabase::CompilationDatabase(const int &project_path)\n",
      "namespace clang {}  |  clang::TranslationUnit::TranslationUnit(int &index, const std::string &file_path, const int &command_line_args, const std::string &buffer, unsigned int flags)\n",
      "namespace clang {}  |  static unsigned int clang::TranslationUnit::DefaultFlags()\n",
      "namespace clang {}  |  int clang::TranslationUnit::ReparseTranslationUnit(const std::string &buffer, unsigned int flags)\n",
      "namespace clang {}  |  void clang::TranslationUnit::parse(int &index, const std::string &file_path, const int &command_line_args, const int &buffers, unsigned int flags)\n",
      "namespace clang {}  |  int clang::TranslationUnit::get_code_completions(const std::string &buffer, unsigned int line_number, unsigned int column)\n",
      "namespace clang {}  |  int clang::TranslationUnit::get_diagnostics()\n",
      "namespace clang {}  |  int clang::TranslationUnit::get_tokens(unsigned int start_offset, unsigned int end_offset)\n",
      "namespace clang {}  |  int clang::TranslationUnit::get_tokens(unsigned int start_line, unsigned int start_column, unsigned int end_line, unsigned int end_column)\n",
      "namespace clang {}  |  int clang::TranslationUnit::get_cursor(std::string path, unsigned int offset)\n",
      "namespace clang {}  |  int clang::TranslationUnit::get_cursor(std::string path, unsigned int line, unsigned int column)\n",
      "namespace clang {}  |  int clang::Token::get_spelling() const\n",
      "namespace clang {}  |  clang::Cursor::Cursor()\n",
      "namespace clang {}  |  clang::Cursor::Cursor::Cursor(const int &other)\n",
      "namespace clang {}  |  int Cursor::get_kind() const\n",
      "namespace clang {}  |  clang::Type clang::Cursor::get_type() const\n",
      "namespace clang {}  |  clang::SourceLocation clang::Cursor::get_source_location() const\n",
      "namespace clang {}  |  int Cursor::get_source_range() const\n",
      "namespace clang {}  |  std::string clang::Type::get_spelling() const\n",
      "namespace clang {}  |  std::string clang::Cursor::get_display_name() const\n",
      "namespace clang {}  |  bool clang::Cursor::is_definition() const\n",
      "namespace clang {}  |  clang::Cursor clang::Cursor::get_referenced() const\n",
      "namespace clang {}  |  clang::Cursor clang::Cursor::get_canonical() const\n",
      "namespace clang {}  |  clang::Cursor clang::Cursor::get_definition() const\n",
      "namespace clang {}  |  clang::Cursor clang::Cursor::get_semantic_parent() const\n",
      "namespace clang {}  |  int Cursor::get_arguments() const\n",
      "namespace clang {}  |  bool clang::Cursor::is_valid_kind() const\n",
      "namespace clang {}  |  std::string clang::Cursor::get_type_description() const\n",
      "namespace clang {}  |  std::string clang::Cursor::get_comments() const\n",
      "namespace clang {}  |  clang::TranslationUnit::TranslationUnit::TranslationUnit(int &index, const std::string &file_path, const int &command_line_args, const std::string &buffer, unsigned int flags)\n",
      "namespace clang {}  |  void TranslationUnit::parse(int &index, const std::string &file_path, const int &command_line_args, const int &buffers, unsigned int flags)\n",
      "namespace clang {}  |  int TranslationUnit::get_code_completions(const std::string &buffer, unsigned int line_number, unsigned int column)\n",
      "namespace clang {}  |  int TranslationUnit::get_diagnostics()\n",
      "namespace clang {}  |  int TranslationUnit::get_tokens(unsigned int start_offset, unsigned int end_offset)\n",
      "namespace clang {}  |  int TranslationUnit::get_tokens(unsigned int start_line, unsigned int start_column, unsigned int end_line, unsigned int end_column)\n",
      "namespace clang {}  |  int TranslationUnit::document_cursor() const\n",
      "namespace clang {}  |  int TranslationUnit::get_cursor(std::string path, unsigned int offset)\n",
      "namespace clang {}  |  int TranslationUnit::get_cursor(std::string path, unsigned int line, unsigned int column)\n",
      "namespace clang {}  |  int clang::CodeCompleteResults::get_usr() const\n",
      "namespace clang {}  |  clang::Type::Type()\n",
      "namespace clang {}  |  clang::Type clang::Type::get_return_type() const\n",
      "namespace clang {}  |  int Type::get_arguments() const\n",
      "namespace clang {}  |  std::string clang::Type::get_usr() const\n",
      "namespace clang {}  |  std::string clang::Cursor::ToString() const\n",
      "namespace clang {}  |  clang::SourceLocation::SourceLocation::SourceLocation(const int &cx_location)\n",
      "namespace clang {}  |  std::string clang::SourceLocation::ToString() const\n",
      "namespace clang {}  |  clang::Type::Type::Type(const int &other)\n",
      "namespace clang {}  |  std::string clang::Cursor::evaluate() const\n",
      "namespace clang {}  |  clang::Type clang::Type::strip_qualifiers() const\n",
      "namespace clang {}  |  bool clang::Type::is_fundamental() const\n",
      "namespace clang {}  |  int Type::get_template_arguments() const\n",
      "namespace clang {}  |  clang::SourceLocation::SourceLocation()\n",
      "namespace clang {}  |  class Foo\n",
      "namespace clang {}  |  clang::Cursor clang::Cursor::template_specialization_to_template_definition() const\n",
      "namespace clang {}  |  struct FindChildOfKindParam {}\n",
      "namespace clang {}  |  clang::CompileCommand::CompileCommand::CompileCommand(const int &command)\n",
      "namespace clang {}  |  int CompileCommand::get_command() const\n",
      "namespace clang {}  |  int CompileCommand::get_command_as_args() const\n",
      "namespace clang {}  |  clang::CompileCommands::CompileCommands(const clang::CompilationDatabase &db)\n",
      "namespace clang {}  |  struct IndexParam {}\n",
      "namespace clang {}  |  explicit clang::CompilationDatabase::CompilationDatabase(const std::string &project_path)\n",
      "namespace clang {}  |  int Type::get_declaration() const\n",
      "namespace clang {}  |  struct SymbolIdx {}\n",
      "namespace clang {}  |  struct QueryableLocation {}\n",
      "clang::SourceLocation::SourceLocation::SourceLocation(int &tu, const std::string &filepath, unsigned int offset)  |  namespace clang {}\n",
      "clang::SourceLocation::SourceLocation::SourceLocation(int &tu, const std::string &filepath, unsigned int line, unsigned int column)  |  namespace clang {}\n",
      "clang::SourceLocation::SourceLocation::SourceLocation(int &tu, const std::string &filepath, unsigned int line, unsigned int column)  |  clang::SourceLocation::SourceLocation::SourceLocation(int &tu, const std::string &filepath, unsigned int offset)\n",
      "std::string clang::SourceLocation::get_path()  |  namespace clang {}\n",
      "std::string clang::SourceLocation::get_path()  |  void clang::SourceLocation::get_data(std::string *path, unsigned int *line, unsigned int *column, unsigned int *offset)\n",
      "void clang::SourceLocation::get_data(std::string *path, unsigned int *line, unsigned int *column, unsigned int *offset)  |  namespace clang {}\n",
      "clang::Offset clang::SourceLocation::get_offset()  |  namespace clang {}\n",
      "clang::Offset clang::SourceLocation::get_offset()  |  void clang::SourceLocation::get_data(std::string *path, unsigned int *line, unsigned int *column, unsigned int *offset)\n",
      "int clang::CompileCommand::get_command()  |  namespace clang {}\n",
      "int clang::CompileCommand::get_command_as_args()  |  namespace clang {}\n",
      "int clang::CompileCommand::get_command_as_args()  |  int clang::CompileCommand::get_command()\n",
      "clang::Diagnostic::Diagnostic(int &cx_tu, int &cx_diagnostic)  |  namespace clang {}\n",
      "clang::Diagnostic::Diagnostic(int &cx_tu, int &cx_diagnostic)  |  static const std::string clang::Diagnostic::get_severity_spelling(unsigned int severity)\n",
      "clang::Diagnostic::Diagnostic(int &cx_tu, int &cx_diagnostic)  |  clang::SourceLocation::SourceLocation::SourceLocation(int &tu, const std::string &filepath, unsigned int line, unsigned int column)\n",
      "clang::Diagnostic::Diagnostic(int &cx_tu, int &cx_diagnostic)  |  std::string clang::SourceLocation::get_path()\n",
      "clang::Diagnostic::Diagnostic(int &cx_tu, int &cx_diagnostic)  |  clang::Offset clang::SourceLocation::get_offset()\n",
      "clang::Diagnostic::Diagnostic(int &cx_tu, int &cx_diagnostic)  |  int clang::SourceRange::get_offsets()\n",
      "static const std::string clang::Diagnostic::get_severity_spelling(unsigned int severity)  |  namespace clang {}\n",
      "clang::Index::Index(int excludeDeclarationsFromPCH, int displayDiagnostics)  |  namespace clang {}\n",
      "clang::Index::~Index() noexcept  |  namespace clang {}\n",
      "...\n"
     ]
    }
   ],
   "source": [
    "import itertools\n",
    "for e in itertools.islice(G.edges(), 100):\n",
    "    print(e[0], \" | \", e[1])\n",
    "if len(G.edges()) > 100:\n",
    "    print(\"...\")"
   ]
  },
  {
   "cell_type": "code",
   "execution_count": 5,
   "metadata": {},
   "outputs": [],
   "source": [
    "# un-pickle test\n",
    "import pickle\n",
    "loaded = pickle.load(open(\"ccls-finished-0.pickle\", \"rb\"))"
   ]
  },
  {
   "cell_type": "code",
   "execution_count": 6,
   "metadata": {},
   "outputs": [
    {
     "name": "stdout",
     "output_type": "stream",
     "text": [
      "namespace clang {}  |  namespace clang {}\n",
      "namespace clang {}  |  clang::SourceLocation::SourceLocation::SourceLocation(int &tu, const std::string &filepath, unsigned int offset)\n",
      "namespace clang {}  |  clang::SourceLocation::SourceLocation::SourceLocation(int &tu, const std::string &filepath, unsigned int line, unsigned int column)\n",
      "namespace clang {}  |  std::string clang::SourceLocation::get_path()\n",
      "namespace clang {}  |  clang::Offset clang::SourceLocation::get_offset()\n",
      "namespace clang {}  |  void clang::SourceLocation::get_data(std::string *path, unsigned int *line, unsigned int *column, unsigned int *offset)\n",
      "namespace clang {}  |  clang::Index::Index(int excludeDeclarationsFromPCH, int displayDiagnostics)\n",
      "namespace clang {}  |  clang::Diagnostic::Diagnostic(int &cx_tu, int &cx_diagnostic)\n",
      "namespace clang {}  |  static const std::string clang::Diagnostic::get_severity_spelling(unsigned int severity)\n",
      "namespace clang {}  |  int clang::SourceRange::get_offsets()\n",
      "...\n"
     ]
    }
   ],
   "source": [
    "for e in itertools.islice(loaded.get_graph().edges(), 10):\n",
    "    print(e[0], \" | \", e[1])\n",
    "if len(loaded.get_graph().edges()) > 100:\n",
    "    print(\"...\")"
   ]
  },
  {
   "cell_type": "code",
   "execution_count": 7,
   "metadata": {},
   "outputs": [
    {
     "name": "stdout",
     "output_type": "stream",
     "text": [
      "('jacobdufault@gmail.com', 0.9810053091032119)\n",
      "('jdufault@google.com', 0.012631085775342622)\n"
     ]
    }
   ],
   "source": [
    "for t in sorted(G.developer_devranks(0.85).items(), key=lambda t:t[1], reverse=True):\n",
    "    print(t)"
   ]
  },
  {
   "cell_type": "code",
   "execution_count": 8,
   "metadata": {},
   "outputs": [
    {
     "name": "stdout",
     "output_type": "stream",
     "text": [
      "('namespace clang {}', 0.10416510691561254)\n",
      "('struct IndexedFile {}', 0.07087220405735957)\n",
      "('struct Location {}', 0.05555621850983644)\n",
      "('namespace language_server_api {}', 0.037464685336337684)\n",
      "('void indexDeclaration(int client_data, const int *decl)', 0.03472520932390782)\n",
      "('struct FuncDefDefinitionData {}', 0.028895424093886634)\n",
      "('void indexEntityReference(int client_data, const int *ref)', 0.02833920522734296)\n",
      "('struct TypeDefDefinitionData {}', 0.027383332592175774)\n",
      "('struct ParsingDatabase {}', 0.022854110362300492)\n",
      "('std::string ToString(const int &document)', 0.02239638361525142)\n",
      "('struct VarDefDefinitionData {}', 0.01947827810897668)\n",
      "('int main(int argc, char **argv)', 0.019008147207863067)\n",
      "('struct Task {}', 0.01884614618353126)\n",
      "('struct IdCache {}', 0.015987407624868322)\n",
      "('struct IpcMessage_DocumentSymbolsRequest {}', 0.013928011009341164)\n",
      "('struct QueryableDatabase {}', 0.012919324401159222)\n",
      "('void DiffDocuments(int &expected, int &actual)', 0.012611768871416688)\n",
      "('struct IndexUpdate {}', 0.012378546855131626)\n",
      "('struct FileDb {}', 0.01196728115668281)\n",
      "('struct Ref {}', 0.01193202317742757)\n",
      "('struct TypeDef {}', 0.011067953367303708)\n",
      "('struct IndexedFuncDef', 0.010908566394791454)\n",
      "('struct QueryableEntry {}', 0.010537160251545136)\n",
      "('int split_string(const std::string &str, const std::string &delimiter)', 0.010378125173983973)\n",
      "('struct IndexParam {}', 0.008533911695897674)\n",
      "('std::string clang::Cursor::get_type_description() const', 0.008457797123827646)\n",
      "('struct SymbolIdx {}', 0.008086007774187281)\n",
      "('constexpr T &std::experimental::optional<type-parameter-0-0 &>::value() const', 0.0076216112589732)\n",
      "('struct IndexedTypeDef', 0.0071560895156070016)\n",
      "('struct IndexedVarDef', 0.007133033715821756)\n",
      "('int Location(bool interesting, FileId file_id, uint32_t line, uint32_t column)', 0.007066448628771181)\n",
      "('enum class SymbolKind : int {}', 0.006912848701970875)\n",
      "('ParsingDatabase Parse(std::string filename)', 0.0067913702697211965)\n",
      "('struct BitFieldArray {}', 0.006366912671229168)\n",
      "('struct Id {}', 0.006269151986432736)\n",
      "('struct VarDef {}', 0.005896723758458707)\n",
      "('std::string clang::Cursor::evaluate() const', 0.005549030917220253)\n",
      "('struct BitFieldMember {}', 0.005470120861961143)\n",
      "('namespace boost {}', 0.0053367123489663605)\n",
      "('struct CachedIndexedFile {}', 0.005335658634452737)\n",
      "('void HandleFunc(ParsingDatabase *db, NamespaceStack *ns, int func, int declaring_type)', 0.0050395202572343775)\n",
      "('struct TypeDef', 0.004942921362123896)\n",
      "('struct FindChildOfKindParam {}', 0.004811707018465551)\n",
      "('void QueryDbMainLoop(int *ipc, int *db)', 0.004635264126963808)\n",
      "('void writer()', 0.004239041393394854)\n",
      "('struct IpcDirectionalChannel {}', 0.004222606591724942)\n",
      "('std::string IndexedFile::ToString()', 0.003914891670763644)\n",
      "('void reader()', 0.0037276335662578255)\n",
      "('struct IdMap', 0.003698909960007504)\n",
      "('struct IdMap {}', 0.0036803694125616855)\n",
      "('int IpcDirectionalChannel::TakeMessages()', 0.0036664616786350667)\n",
      "('int VisitFuncDefinition(int cursor, int parent, FuncDefinitionParam *param)', 0.0034997936428615207)\n",
      "('class Foo', 0.00343298027102756)\n",
      "('int ResolveDeclToType(ParsingDatabase *db, int decl_cursor, bool is_interesting, const int *semantic_container, const int *lexical_container)', 0.0033863963771359707)\n",
      "('IndexedFile Parse(std::string filename, int args, bool dump_ast)', 0.003382847159072873)\n",
      "('struct IndexedTypeDef {}', 0.003350706789987754)\n",
      "('int VisitFile(int cursor, int parent, FileParam *param)', 0.0032459392067467193)\n",
      "('bool IsFunction(int kind)', 0.003175717188227563)\n",
      "('void clang::TranslationUnit::parse(int &index, const std::string &file_path, const int &command_line_args, const int &buffers, unsigned int flags)', 0.0030653920792708656)\n",
      "('struct FileDef {}', 0.0029827759084660936)\n",
      "('struct FuncDefinitionParam {}', 0.002758694142937999)\n",
      "('void VisitDeclForTypeUsageVisitorHandler(int cursor, VisitDeclForTypeUsageParam *param)', 0.0027553882048806048)\n",
      "('struct IndexedFuncDef {}', 0.002528391159191035)\n",
      "('int clang::TranslationUnit::ReparseTranslationUnit(const std::string &buffer, unsigned int flags)', 0.002438888588616966)\n",
      "('IndexUpdate::IndexUpdate(IndexedFile &previous, IndexedFile &current)', 0.002352122087390797)\n",
      "('void WriteToFile(const std::string &filename, const std::string &content)', 0.0022592441357603276)\n",
      "('bool clang::Cursor::is_valid_kind() const', 0.002171323403042084)\n",
      "('int VisitClassDecl(int cursor, int parent, ClassDeclParam *param)', 0.0021582765039166282)\n",
      "('struct QueryableFuncDef {}', 0.0020856582400619085)\n",
      "('static unsigned int clang::TranslationUnit::DefaultFlags()', 0.002080886593957595)\n",
      "('struct JsonMessage {}', 0.0020459402128250007)\n",
      "('int AddDeclUsages(IndexedFile *db, int decl_cursor, bool is_interesting, const int *semantic_container, const int *lexical_container)', 0.00201270564335991)\n",
      "('struct IpcDirectionalChannel::MessageBuffer', 0.0019993007028381057)\n",
      "('int clang::TranslationUnit::get_tokens(unsigned int start_line, unsigned int start_column, unsigned int end_line, unsigned int end_column)', 0.001991386095292752)\n",
      "('int clang::TranslationUnit::get_diagnostics()', 0.001969010970626541)\n",
      "('std::string ToString()', 0.0019628876731040126)\n",
      "('int Cursor::get_arguments() const', 0.0019476279951740321)\n",
      "('struct ClassDeclParam {}', 0.0018981883361736543)\n",
      "('int clang::TranslationUnit::get_tokens(unsigned int start_offset, unsigned int end_offset)', 0.0018616870295877258)\n",
      "('struct BaseIpcMessage {}', 0.001852010555893617)\n",
      "('struct VisitDeclForTypeUsageParam {}', 0.0018259155343039947)\n",
      "('int VisitDeclForTypeUsageVisitor(int cursor, int parent, VisitDeclForTypeUsageParam *param)', 0.0017714792188222434)\n",
      "('void HandleVarDecl(ParsingDatabase *db, NamespaceStack *ns, int var, int declaring_type, int func_id, bool declare_variable)', 0.001756397282995158)\n",
      "('int VisitUsing(int cursor, int parent, UsingParam *param)', 0.0017391009245347117)\n",
      "('struct UsrToIdResolver {}', 0.0017315288570247623)\n",
      "('void TranslationUnit::parse(int &index, const std::string &file_path, const int &command_line_args, const int &buffers, unsigned int flags)', 0.0017228845992982237)\n",
      "('struct BaseIpcMessage : BaseIpcMessageElided {}', 0.0017163981552008037)\n",
      "('VarId IndexedFile::ToVarId(const std::string &usr)', 0.0017095020484755572)\n",
      "('void Write(const int &strs)', 0.0016931594709985746)\n",
      "('enum class Command : int {}', 0.001685452539998441)\n",
      "('int mai2n(int argc, char **argv)', 0.0016762636027911257)\n",
      "('std::string ParsingDatabase::ToString()', 0.0016742361305578815)\n",
      "('IndexUpdate ComputeDiff(IdMap *id_map, IndexedFile &previous, IndexedFile &current)', 0.0016399275787473788)\n",
      "('struct IndexedFileDb {}', 0.0016140476193728611)\n",
      "('struct QueryableVarDef {}', 0.0016131194704164442)\n",
      "('struct BaseIpcMessageElided {}', 0.00160707872062705)\n",
      "('int main2(int argc, char **argv)', 0.0015949425203396002)\n",
      "('struct FuncDef {}', 0.0015587623184678523)\n",
      "('struct IndexedVarDef {}', 0.0015559247845952614)\n",
      "('void LanguageServerMain(std::string process_name)', 0.001552187811482307)\n"
     ]
    }
   ],
   "source": [
    "for t in itertools.islice(sorted(G.function_devranks(0.85).items(), key=lambda t:t[1], reverse=True), 100):\n",
    "    print(t)"
   ]
  }
 ],
 "metadata": {
  "kernelspec": {
   "display_name": "Python 3",
   "language": "python",
   "name": "python3"
  },
  "language_info": {
   "codemirror_mode": {
    "name": "ipython",
    "version": 3
   },
   "file_extension": ".py",
   "mimetype": "text/x-python",
   "name": "python",
   "nbconvert_exporter": "python",
   "pygments_lexer": "ipython3",
   "version": "3.7.0"
  }
 },
 "nbformat": 4,
 "nbformat_minor": 2
}
