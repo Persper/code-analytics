{
 "cells": [
  {
   "cell_type": "code",
   "execution_count": 1,
   "metadata": {},
   "outputs": [],
   "source": [
    "import logging\n",
    "\n",
    "logging.basicConfig(format='%(asctime)s %(levelname)-8s [%(name)s] %(message)s',\n",
    "                    level=logging.CRITICAL)\n",
    "logging.getLogger(\"persper.analytics.lsp_graph_server.callgraph.manager\").setLevel(logging.INFO)\n",
    "logging.getLogger('asyncio').setLevel(logging.WARNING)"
   ]
  },
  {
   "cell_type": "code",
   "execution_count": 2,
   "metadata": {
    "scrolled": false
   },
   "outputs": [
    {
     "name": "stdout",
     "output_type": "stream",
     "text": [
      "Workspace root:  C:\\Users\\CXy\\AppData\\Local\\Temp\\tmp5twgn11z\n",
      "----- Overview ------\n",
      "# of commits on master: 108\n",
      "# of commits on branch: 0\n",
      "----- No.1 5dbde940b60cab1d6a4cd45a90aa45959f7ad84b on main -----\n"
     ]
    },
    {
     "name": "stderr",
     "output_type": "stream",
     "text": [
      "2018-12-10 21:41:27,270 INFO     [persper.analytics.lsp_graph_server.callgraph.manager] Added 503 branches (-> 503) from 31 files.\n"
     ]
    },
    {
     "name": "stdout",
     "output_type": "stream",
     "text": [
      "----- No.2 0dc27bd3acfc0526ac713d15d32c8d784297b6a9 on main -----\n"
     ]
    },
    {
     "name": "stderr",
     "output_type": "stream",
     "text": [
      "2018-12-10 21:41:50,247 INFO     [persper.analytics.lsp_graph_server.callgraph.manager] Added 932 branches (-> 992) from 34 files.\n"
     ]
    },
    {
     "name": "stdout",
     "output_type": "stream",
     "text": [
      "----- No.3 0718435400ed2a4ff1ae958d565dc6de5b695ab4 on main -----\n"
     ]
    },
    {
     "name": "stderr",
     "output_type": "stream",
     "text": [
      "2018-12-10 21:42:14,616 INFO     [persper.analytics.lsp_graph_server.callgraph.manager] Added 627 branches (-> 782) from 40 files.\n"
     ]
    },
    {
     "name": "stdout",
     "output_type": "stream",
     "text": [
      "----- No.4 46cec6f08355cb9a985f8fce657c35fbd09a4f9a on main -----\n"
     ]
    },
    {
     "name": "stderr",
     "output_type": "stream",
     "text": [
      "2018-12-10 21:42:34,955 INFO     [persper.analytics.lsp_graph_server.callgraph.manager] Added 524 branches (-> 806) from 41 files.\n"
     ]
    },
    {
     "name": "stdout",
     "output_type": "stream",
     "text": [
      "----- No.5 a8cdadc201620993ece0be8d8e2b3d200448701b on main -----\n"
     ]
    },
    {
     "name": "stderr",
     "output_type": "stream",
     "text": [
      "2018-12-10 21:42:57,719 INFO     [persper.analytics.lsp_graph_server.callgraph.manager] Added 679 branches (-> 954) from 39 files.\n"
     ]
    },
    {
     "name": "stdout",
     "output_type": "stream",
     "text": [
      "----- No.6 e54d70e464e93daa3058e6a34584f1d073609efa on main -----\n"
     ]
    },
    {
     "name": "stderr",
     "output_type": "stream",
     "text": [
      "2018-12-10 21:43:17,536 INFO     [persper.analytics.lsp_graph_server.callgraph.manager] Added 639 branches (-> 931) from 27 files.\n"
     ]
    },
    {
     "name": "stdout",
     "output_type": "stream",
     "text": [
      "----- No.7 41f2a75de02707b2972a654b48c86955b60d9385 on main -----\n"
     ]
    },
    {
     "name": "stderr",
     "output_type": "stream",
     "text": [
      "2018-12-10 21:43:37,840 INFO     [persper.analytics.lsp_graph_server.callgraph.manager] Added 698 branches (-> 993) from 32 files.\n"
     ]
    },
    {
     "name": "stdout",
     "output_type": "stream",
     "text": [
      "----- No.8 fd1d8c8785a942b3efcf4e88a4ad771c344fa347 on main -----\n"
     ]
    },
    {
     "name": "stderr",
     "output_type": "stream",
     "text": [
      "2018-12-10 21:43:55,812 INFO     [persper.analytics.lsp_graph_server.callgraph.manager] Added 783 branches (-> 1099) from 22 files.\n"
     ]
    },
    {
     "name": "stdout",
     "output_type": "stream",
     "text": [
      "----- No.9 7f6354f9c8810321337ef705b132684497f45fa5 on main -----\n"
     ]
    },
    {
     "name": "stderr",
     "output_type": "stream",
     "text": [
      "2018-12-10 21:44:09,742 INFO     [persper.analytics.lsp_graph_server.callgraph.manager] Added 592 branches (-> 1145) from 6 files.\n"
     ]
    },
    {
     "name": "stdout",
     "output_type": "stream",
     "text": [
      "----- No.10 ca9918b8c4284d432cbf224c6dcac7dbe170ce7b on main -----\n"
     ]
    },
    {
     "name": "stderr",
     "output_type": "stream",
     "text": [
      "2018-12-10 21:44:27,726 INFO     [persper.analytics.lsp_graph_server.callgraph.manager] Added 766 branches (-> 1178) from 23 files.\n"
     ]
    },
    {
     "name": "stdout",
     "output_type": "stream",
     "text": [
      "----- No.11 4ed00a32622b64df920c342251a417bc8ebd27e9 on main -----\n"
     ]
    },
    {
     "name": "stderr",
     "output_type": "stream",
     "text": [
      "2018-12-10 21:44:44,874 INFO     [persper.analytics.lsp_graph_server.callgraph.manager] Added 706 branches (-> 1265) from 5 files.\n"
     ]
    },
    {
     "name": "stdout",
     "output_type": "stream",
     "text": [
      "----- No.12 e25d54c8b941d1074383333b2542f4740e668eae on main -----\n"
     ]
    },
    {
     "name": "stderr",
     "output_type": "stream",
     "text": [
      "2018-12-10 21:45:04,449 INFO     [persper.analytics.lsp_graph_server.callgraph.manager] Added 716 branches (-> 1260) from 27 files.\n"
     ]
    },
    {
     "name": "stdout",
     "output_type": "stream",
     "text": [
      "----- No.13 e637de145af8aff3cbb0f0761928c6496eb9bed2 on main -----\n"
     ]
    },
    {
     "name": "stderr",
     "output_type": "stream",
     "text": [
      "2018-12-10 21:45:18,873 INFO     [persper.analytics.lsp_graph_server.callgraph.manager] Added 528 branches (-> 1273) from 9 files.\n"
     ]
    },
    {
     "name": "stdout",
     "output_type": "stream",
     "text": [
      "----- No.14 161aab3a09ba7b3cf30d540d7ed12676750e732e on main -----\n"
     ]
    },
    {
     "name": "stderr",
     "output_type": "stream",
     "text": [
      "2018-12-10 21:45:32,745 INFO     [persper.analytics.lsp_graph_server.callgraph.manager] Added 477 branches (-> 1312) from 2 files.\n"
     ]
    },
    {
     "name": "stdout",
     "output_type": "stream",
     "text": [
      "----- No.15 8b534175f5b7368d6bf8a1a0a3cdd98b6aacef89 on main -----\n"
     ]
    },
    {
     "name": "stderr",
     "output_type": "stream",
     "text": [
      "2018-12-10 21:45:49,112 INFO     [persper.analytics.lsp_graph_server.callgraph.manager] Added 799 branches (-> 1374) from 20 files.\n"
     ]
    },
    {
     "name": "stdout",
     "output_type": "stream",
     "text": [
      "----- No.16 d87d74083caa18aa990f3f9e0ca60a3d72f45067 on main -----\n"
     ]
    },
    {
     "name": "stderr",
     "output_type": "stream",
     "text": [
      "2018-12-10 21:46:23,367 INFO     [persper.analytics.lsp_graph_server.callgraph.manager] Added 1436 branches (-> 1658) from 50 files.\n"
     ]
    },
    {
     "name": "stdout",
     "output_type": "stream",
     "text": [
      "----- No.17 7701822aa9cfcfd6f82db2b8652f24f3c477cc66 on main -----\n"
     ]
    },
    {
     "name": "stderr",
     "output_type": "stream",
     "text": [
      "2018-12-10 21:46:51,628 INFO     [persper.analytics.lsp_graph_server.callgraph.manager] Added 1181 branches (-> 1709) from 34 files.\n"
     ]
    },
    {
     "name": "stdout",
     "output_type": "stream",
     "text": [
      "----- No.18 3cd39ae91ab53587af59abefd0431a49dd2d008b on main -----\n"
     ]
    },
    {
     "name": "stderr",
     "output_type": "stream",
     "text": [
      "2018-12-10 21:47:16,061 INFO     [persper.analytics.lsp_graph_server.callgraph.manager] Added 724 branches (-> 1733) from 2 files.\n"
     ]
    },
    {
     "name": "stdout",
     "output_type": "stream",
     "text": [
      "----- No.19 d3b57ac30108251a3334058b1b9c4dc0a7bd894b on main -----\n"
     ]
    },
    {
     "name": "stderr",
     "output_type": "stream",
     "text": [
      "2018-12-10 21:47:46,333 INFO     [persper.analytics.lsp_graph_server.callgraph.manager] Added 1197 branches (-> 1734) from 34 files.\n"
     ]
    },
    {
     "name": "stdout",
     "output_type": "stream",
     "text": [
      "----- No.20 d01eb6b86f22e7aad01cdcc53f3c917e26329156 on main -----\n"
     ]
    },
    {
     "name": "stderr",
     "output_type": "stream",
     "text": [
      "2018-12-10 21:48:12,985 INFO     [persper.analytics.lsp_graph_server.callgraph.manager] Added 1153 branches (-> 1726) from 20 files.\n"
     ]
    },
    {
     "name": "stdout",
     "output_type": "stream",
     "text": [
      "----- No.21 d26cb81854526c1ddaf95d80ed5b8c984851e9be on main -----\n"
     ]
    },
    {
     "name": "stderr",
     "output_type": "stream",
     "text": [
      "2018-12-10 21:48:38,870 INFO     [persper.analytics.lsp_graph_server.callgraph.manager] Added 1194 branches (-> 1789) from 19 files.\n"
     ]
    },
    {
     "name": "stdout",
     "output_type": "stream",
     "text": [
      "----- No.22 6970d60dca9454227a3d85006193d625f63e0603 on main -----\n"
     ]
    },
    {
     "name": "stderr",
     "output_type": "stream",
     "text": [
      "2018-12-10 21:49:01,523 INFO     [persper.analytics.lsp_graph_server.callgraph.manager] Added 293 branches (-> 1379) from 1 files.\n"
     ]
    },
    {
     "name": "stdout",
     "output_type": "stream",
     "text": [
      "----- No.23 da6fbf7c5a750036a2c5013a6edadc638d789aca on main -----\n"
     ]
    },
    {
     "name": "stderr",
     "output_type": "stream",
     "text": [
      "2018-12-10 21:49:03,136 INFO     [persper.analytics.lsp_graph_server.callgraph.manager] Added 549 branches (-> 1437) from 18 files.\n"
     ]
    },
    {
     "name": "stdout",
     "output_type": "stream",
     "text": [
      "----- No.24 657260eeabf7b933dce952ef31c62a95c933d883 on main -----\n"
     ]
    },
    {
     "name": "stderr",
     "output_type": "stream",
     "text": [
      "2018-12-10 21:49:25,825 INFO     [persper.analytics.lsp_graph_server.callgraph.manager] Added 304 branches (-> 1448) from 5 files.\n"
     ]
    },
    {
     "name": "stdout",
     "output_type": "stream",
     "text": [
      "----- No.25 0dabbb30932ea04a718d719ae3b66822a84d9647 on main -----\n"
     ]
    },
    {
     "name": "stderr",
     "output_type": "stream",
     "text": [
      "2018-12-10 21:50:01,095 INFO     [persper.analytics.lsp_graph_server.callgraph.manager] Added 1077 branches (-> 1547) from 58 files.\n"
     ]
    },
    {
     "name": "stdout",
     "output_type": "stream",
     "text": [
      "----- No.26 43072452e5666869777cddda80b4a36e5f373c86 on main -----\n"
     ]
    },
    {
     "name": "stderr",
     "output_type": "stream",
     "text": [
      "2018-12-10 21:50:25,027 INFO     [persper.analytics.lsp_graph_server.callgraph.manager] Added 914 branches (-> 1609) from 18 files.\n"
     ]
    },
    {
     "name": "stdout",
     "output_type": "stream",
     "text": [
      "----- No.27 e78945a80f1908cf5c759f47bbc35e9ecaccf244 on main -----\n"
     ]
    },
    {
     "name": "stderr",
     "output_type": "stream",
     "text": [
      "2018-12-10 21:50:53,501 INFO     [persper.analytics.lsp_graph_server.callgraph.manager] Added 689 branches (-> 1678) from 10 files.\n"
     ]
    },
    {
     "name": "stdout",
     "output_type": "stream",
     "text": [
      "----- No.28 04412f056f6b7f0c19585a14f58c4a4a699a6d21 on main -----\n"
     ]
    },
    {
     "name": "stderr",
     "output_type": "stream",
     "text": [
      "2018-12-10 21:51:21,800 INFO     [persper.analytics.lsp_graph_server.callgraph.manager] Added 591 branches (-> 1668) from 11 files.\n"
     ]
    },
    {
     "name": "stdout",
     "output_type": "stream",
     "text": [
      "----- No.29 561f747133c0f045da56076f1b60680508580cf9 on main -----\n"
     ]
    },
    {
     "name": "stderr",
     "output_type": "stream",
     "text": [
      "2018-12-10 21:51:41,283 INFO     [persper.analytics.lsp_graph_server.callgraph.manager] Added 654 branches (-> 1730) from 5 files.\n"
     ]
    },
    {
     "name": "stdout",
     "output_type": "stream",
     "text": [
      "----- No.30 f3edc6e2f010cf0eabe5605549b8e33e22891af4 on main -----\n"
     ]
    },
    {
     "name": "stderr",
     "output_type": "stream",
     "text": [
      "2018-12-10 21:51:59,023 INFO     [persper.analytics.lsp_graph_server.callgraph.manager] Added 637 branches (-> 1729) from 7 files.\n"
     ]
    },
    {
     "name": "stdout",
     "output_type": "stream",
     "text": [
      "----- No.31 ab7138bd915c9d0b0ea2585e6d8cafaa8990d30c on main -----\n"
     ]
    },
    {
     "name": "stderr",
     "output_type": "stream",
     "text": [
      "2018-12-10 21:52:17,076 INFO     [persper.analytics.lsp_graph_server.callgraph.manager] Added 572 branches (-> 1743) from 7 files.\n"
     ]
    },
    {
     "name": "stdout",
     "output_type": "stream",
     "text": [
      "----- No.32 7c70d7fafde186f9defd58590bee0b3a7a96124b on main -----\n"
     ]
    },
    {
     "name": "stderr",
     "output_type": "stream",
     "text": [
      "2018-12-10 21:52:55,411 INFO     [persper.analytics.lsp_graph_server.callgraph.manager] Added 1517 branches (-> 1835) from 76 files.\n"
     ]
    },
    {
     "name": "stdout",
     "output_type": "stream",
     "text": [
      "----- No.33 f067f6dcc428ca53d4612b7661443d27a6a7f83a on main -----\n"
     ]
    },
    {
     "name": "stderr",
     "output_type": "stream",
     "text": [
      "2018-12-10 21:53:16,946 INFO     [persper.analytics.lsp_graph_server.callgraph.manager] Added 1325 branches (-> 1843) from 24 files.\n"
     ]
    },
    {
     "name": "stdout",
     "output_type": "stream",
     "text": [
      "----- No.34 ef1ff80a58232aa0efe3d1c7e32240bf7b9a29a3 on main -----\n"
     ]
    },
    {
     "name": "stderr",
     "output_type": "stream",
     "text": [
      "2018-12-10 21:53:54,763 INFO     [persper.analytics.lsp_graph_server.callgraph.manager] Added 1527 branches (-> 1845) from 75 files.\n"
     ]
    },
    {
     "name": "stdout",
     "output_type": "stream",
     "text": [
      "----- No.35 6b95f51a25849122a7e0093ea2e243c9b7b64cfb on main -----\n"
     ]
    },
    {
     "name": "stderr",
     "output_type": "stream",
     "text": [
      "2018-12-10 21:54:20,054 INFO     [persper.analytics.lsp_graph_server.callgraph.manager] Added 1416 branches (-> 1847) from 33 files.\n"
     ]
    },
    {
     "name": "stdout",
     "output_type": "stream",
     "text": [
      "----- No.36 5f0f290d1876ff13259709f62bcbeff57ea1334c on main -----\n"
     ]
    },
    {
     "name": "stderr",
     "output_type": "stream",
     "text": [
      "2018-12-10 21:54:41,048 INFO     [persper.analytics.lsp_graph_server.callgraph.manager] Added 639 branches (-> 1857) from 9 files.\n"
     ]
    },
    {
     "name": "stdout",
     "output_type": "stream",
     "text": [
      "----- No.37 a7f5231e4cc4bb8ea676ef93851b9edaeeb13123 on main -----\n"
     ]
    },
    {
     "name": "stderr",
     "output_type": "stream",
     "text": [
      "2018-12-10 21:55:20,853 INFO     [persper.analytics.lsp_graph_server.callgraph.manager] Added 1545 branches (-> 1863) from 81 files.\n"
     ]
    },
    {
     "name": "stdout",
     "output_type": "stream",
     "text": [
      "----- No.38 6a95d2f46f382a460ece15c976926967247d4ebb on main -----\n"
     ]
    },
    {
     "name": "stderr",
     "output_type": "stream",
     "text": [
      "2018-12-10 21:55:54,458 INFO     [persper.analytics.lsp_graph_server.callgraph.manager] Added 1556 branches (-> 1890) from 68 files.\n"
     ]
    },
    {
     "name": "stdout",
     "output_type": "stream",
     "text": [
      "----- No.39 2932b5d41b531fd51b0758b0239fecda2d286790 on main -----\n"
     ]
    },
    {
     "name": "stderr",
     "output_type": "stream",
     "text": [
      "2018-12-10 21:56:14,963 INFO     [persper.analytics.lsp_graph_server.callgraph.manager] Added 732 branches (-> 1925) from 4 files.\n"
     ]
    },
    {
     "name": "stdout",
     "output_type": "stream",
     "text": [
      "----- No.40 b33bd54922f74a92ca0d8f82301ffbeae3d95c33 on main -----\n"
     ]
    },
    {
     "name": "stderr",
     "output_type": "stream",
     "text": [
      "2018-12-10 21:56:35,178 INFO     [persper.analytics.lsp_graph_server.callgraph.manager] Added 696 branches (-> 1926) from 4 files.\n"
     ]
    },
    {
     "name": "stdout",
     "output_type": "stream",
     "text": [
      "----- No.41 bebb2306038702e0ee600926e9f4ddff66a9ce17 on main -----\n"
     ]
    },
    {
     "name": "stderr",
     "output_type": "stream",
     "text": [
      "2018-12-10 21:56:55,307 INFO     [persper.analytics.lsp_graph_server.callgraph.manager] Added 698 branches (-> 1928) from 3 files.\n"
     ]
    },
    {
     "name": "stdout",
     "output_type": "stream",
     "text": [
      "----- No.42 9b351ce52faa76aab2564e9fba5f9fd3394344f6 on main -----\n"
     ]
    },
    {
     "name": "stderr",
     "output_type": "stream",
     "text": [
      "2018-12-10 21:57:16,635 INFO     [persper.analytics.lsp_graph_server.callgraph.manager] Added 876 branches (-> 1931) from 10 files.\n"
     ]
    },
    {
     "name": "stdout",
     "output_type": "stream",
     "text": [
      "----- No.43 683cac602e7a6952abad2c280f7662edd3d7e268 on main -----\n"
     ]
    },
    {
     "name": "stderr",
     "output_type": "stream",
     "text": [
      "2018-12-10 21:57:55,002 INFO     [persper.analytics.lsp_graph_server.callgraph.manager] Added 890 branches (-> 2051) from 6 files.\n"
     ]
    },
    {
     "name": "stdout",
     "output_type": "stream",
     "text": [
      "----- No.44 358b4434c2dddaaccfff8400ce0c5497629b605a on main -----\n"
     ]
    },
    {
     "name": "stderr",
     "output_type": "stream",
     "text": [
      "2018-12-10 21:58:39,245 INFO     [persper.analytics.lsp_graph_server.callgraph.manager] Added 855 branches (-> 2016) from 7 files.\n"
     ]
    },
    {
     "name": "stdout",
     "output_type": "stream",
     "text": [
      "----- No.45 ce4c2232d7599403388a945a53968a8ff5c2cb4c on main -----\n"
     ]
    },
    {
     "name": "stderr",
     "output_type": "stream",
     "text": [
      "2018-12-10 21:59:05,386 INFO     [persper.analytics.lsp_graph_server.callgraph.manager] Added 739 branches (-> 1810) from 19 files.\n"
     ]
    },
    {
     "name": "stdout",
     "output_type": "stream",
     "text": [
      "----- No.46 d867d962d82abae8b40ed5e433a02646a5aacbe0 on main -----\n"
     ]
    },
    {
     "name": "stderr",
     "output_type": "stream",
     "text": [
      "2018-12-10 21:59:28,732 INFO     [persper.analytics.lsp_graph_server.callgraph.manager] Added 903 branches (-> 2049) from 10 files.\n"
     ]
    },
    {
     "name": "stdout",
     "output_type": "stream",
     "text": [
      "----- No.47 b165cfa59d03fec0776b6b0b28f4065a587086a0 on main -----\n"
     ]
    },
    {
     "name": "stderr",
     "output_type": "stream",
     "text": [
      "2018-12-10 21:59:49,121 INFO     [persper.analytics.lsp_graph_server.callgraph.manager] Added 735 branches (-> 1759) from 11 files.\n"
     ]
    },
    {
     "name": "stdout",
     "output_type": "stream",
     "text": [
      "----- No.48 0f17a49d40aacaf29a6d7eaefe3762072c0b30f7 on main -----\n"
     ]
    },
    {
     "name": "stderr",
     "output_type": "stream",
     "text": [
      "2018-12-10 22:00:05,793 INFO     [persper.analytics.lsp_graph_server.callgraph.manager] Added 502 branches (-> 1702) from 5 files.\n"
     ]
    },
    {
     "name": "stdout",
     "output_type": "stream",
     "text": [
      "----- No.49 264b687e4312fa022ebca264945af344c12b78ef on main -----\n"
     ]
    },
    {
     "name": "stderr",
     "output_type": "stream",
     "text": [
      "2018-12-10 22:00:21,326 INFO     [persper.analytics.lsp_graph_server.callgraph.manager] Added 565 branches (-> 1615) from 6 files.\n"
     ]
    },
    {
     "name": "stdout",
     "output_type": "stream",
     "text": [
      "----- No.50 5faf9d1f6b54d89113eb0b0aac5ccb798e630fe8 on main -----\n"
     ]
    },
    {
     "name": "stderr",
     "output_type": "stream",
     "text": [
      "2018-12-10 22:00:37,524 INFO     [persper.analytics.lsp_graph_server.callgraph.manager] Added 483 branches (-> 1635) from 6 files.\n"
     ]
    },
    {
     "name": "stdout",
     "output_type": "stream",
     "text": [
      "----- No.51 d59b7c7379c4fa2653b388dcd988d58c439f2e9b on main -----\n"
     ]
    },
    {
     "name": "stderr",
     "output_type": "stream",
     "text": [
      "2018-12-10 22:00:58,293 INFO     [persper.analytics.lsp_graph_server.callgraph.manager] Added 484 branches (-> 1633) from 7 files.\n"
     ]
    },
    {
     "name": "stdout",
     "output_type": "stream",
     "text": [
      "----- No.52 f3f72a0dfabb6ac2dead437e829960d2910c65a0 on main -----\n"
     ]
    },
    {
     "name": "stderr",
     "output_type": "stream",
     "text": [
      "2018-12-10 22:01:26,533 INFO     [persper.analytics.lsp_graph_server.callgraph.manager] Added 1397 branches (-> 1754) from 50 files.\n"
     ]
    },
    {
     "name": "stdout",
     "output_type": "stream",
     "text": [
      "----- No.53 b7d9a0f815f825d0a4e6993395b15e9a0fba51c7 on main -----\n"
     ]
    },
    {
     "name": "stderr",
     "output_type": "stream",
     "text": [
      "2018-12-10 22:01:56,839 INFO     [persper.analytics.lsp_graph_server.callgraph.manager] Added 1317 branches (-> 2476) from 13 files.\n"
     ]
    },
    {
     "name": "stdout",
     "output_type": "stream",
     "text": [
      "----- No.54 243ed8dfa523092e77ee8c6341ffffcd623fe93d on main -----\n"
     ]
    },
    {
     "name": "stderr",
     "output_type": "stream",
     "text": [
      "2018-12-10 22:02:24,450 INFO     [persper.analytics.lsp_graph_server.callgraph.manager] Added 1277 branches (-> 2480) from 8 files.\n"
     ]
    },
    {
     "name": "stdout",
     "output_type": "stream",
     "text": [
      "----- No.55 f3aa91d8dbf457e09897b52e70d3a80fa4c305f5 on main -----\n"
     ]
    },
    {
     "name": "stderr",
     "output_type": "stream",
     "text": [
      "2018-12-10 22:02:44,312 INFO     [persper.analytics.lsp_graph_server.callgraph.manager] Added 1031 branches (-> 2649) from 3 files.\n"
     ]
    },
    {
     "name": "stdout",
     "output_type": "stream",
     "text": [
      "----- No.56 aaa3542670a9e4ada6973d3077df8d73d9e0ab40 on main -----\n"
     ]
    },
    {
     "name": "stderr",
     "output_type": "stream",
     "text": [
      "2018-12-10 22:03:17,939 INFO     [persper.analytics.lsp_graph_server.callgraph.manager] Added 1117 branches (-> 2335) from 8 files.\n"
     ]
    },
    {
     "name": "stdout",
     "output_type": "stream",
     "text": [
      "----- No.57 bc8daee0654c4daa1ebc2b29333248678f34f70a on main -----\n",
      "----- No.58 18aa28bdea347d0af19504a08e71cc42d1fcdfeb on main -----\n"
     ]
    },
    {
     "name": "stderr",
     "output_type": "stream",
     "text": [
      "2018-12-10 22:03:49,886 INFO     [persper.analytics.lsp_graph_server.callgraph.manager] Added 1239 branches (-> 2457) from 8 files.\n"
     ]
    },
    {
     "name": "stdout",
     "output_type": "stream",
     "text": [
      "----- No.59 aa677de886e23ebff3e4d6327f98730f5bed9cd2 on main -----\n"
     ]
    },
    {
     "name": "stderr",
     "output_type": "stream",
     "text": [
      "2018-12-10 22:04:18,490 INFO     [persper.analytics.lsp_graph_server.callgraph.manager] Added 1563 branches (-> 2781) from 8 files.\n"
     ]
    },
    {
     "name": "stdout",
     "output_type": "stream",
     "text": [
      "----- No.60 430b9ef61bc4a106dba0e6b685b1891d351f17f3 on main -----\n"
     ]
    },
    {
     "name": "stderr",
     "output_type": "stream",
     "text": [
      "2018-12-10 22:04:46,238 INFO     [persper.analytics.lsp_graph_server.callgraph.manager] Added 1386 branches (-> 2604) from 8 files.\n"
     ]
    },
    {
     "name": "stdout",
     "output_type": "stream",
     "text": [
      "----- No.61 6df9f61b56a0e3fe867f9af93530a6ef4eed55c4 on main -----\n"
     ]
    },
    {
     "name": "stderr",
     "output_type": "stream",
     "text": [
      "2018-12-10 22:05:13,600 INFO     [persper.analytics.lsp_graph_server.callgraph.manager] Added 1454 branches (-> 2587) from 14 files.\n"
     ]
    },
    {
     "name": "stdout",
     "output_type": "stream",
     "text": [
      "----- No.62 c1db1766c9139ffb09525bbebc8d98a1500bdbef on main -----\n"
     ]
    },
    {
     "name": "stderr",
     "output_type": "stream",
     "text": [
      "2018-12-10 22:05:25,628 INFO     [persper.analytics.lsp_graph_server.callgraph.manager] Added 647 branches (-> 2547) from 3 files.\n"
     ]
    },
    {
     "name": "stdout",
     "output_type": "stream",
     "text": [
      "----- No.63 7192db6e32e8ea7828ef52a50ef3d66761ac535a on main -----\n"
     ]
    },
    {
     "name": "stderr",
     "output_type": "stream",
     "text": [
      "2018-12-10 22:05:52,501 INFO     [persper.analytics.lsp_graph_server.callgraph.manager] Added 1354 branches (-> 2535) from 9 files.\n"
     ]
    },
    {
     "name": "stdout",
     "output_type": "stream",
     "text": [
      "----- No.64 a37d402ce2bcb5155fae5d1dd558b6a2d84ce4c2 on main -----\n"
     ]
    },
    {
     "name": "stderr",
     "output_type": "stream",
     "text": [
      "2018-12-10 22:06:17,437 INFO     [persper.analytics.lsp_graph_server.callgraph.manager] Added 1352 branches (-> 2535) from 8 files.\n"
     ]
    },
    {
     "name": "stdout",
     "output_type": "stream",
     "text": [
      "----- No.65 05af433b5a323f0cd626aa810738f0326595005f on main -----\n"
     ]
    },
    {
     "name": "stderr",
     "output_type": "stream",
     "text": [
      "2018-12-10 22:06:46,102 INFO     [persper.analytics.lsp_graph_server.callgraph.manager] Added 1339 branches (-> 2520) from 9 files.\n"
     ]
    },
    {
     "name": "stdout",
     "output_type": "stream",
     "text": [
      "----- No.66 1f4f72013654f3b03e19f95e1612281527386256 on main -----\n"
     ]
    },
    {
     "name": "stderr",
     "output_type": "stream",
     "text": [
      "2018-12-10 22:07:18,293 INFO     [persper.analytics.lsp_graph_server.callgraph.manager] Added 1371 branches (-> 2520) from 11 files.\n"
     ]
    },
    {
     "name": "stdout",
     "output_type": "stream",
     "text": [
      "----- No.67 2fc419faa302d51101c8b71b5ecdd1c8c2de7f89 on main -----\n"
     ]
    },
    {
     "name": "stderr",
     "output_type": "stream",
     "text": [
      "2018-12-10 22:08:00,640 INFO     [persper.analytics.lsp_graph_server.callgraph.manager] Added 1374 branches (-> 2552) from 10 files.\n"
     ]
    },
    {
     "name": "stdout",
     "output_type": "stream",
     "text": [
      "----- No.68 0738b8f57aa4abfcd43b517b35338a51db21d75d on main -----\n"
     ]
    },
    {
     "name": "stderr",
     "output_type": "stream",
     "text": [
      "2018-12-10 22:08:40,461 INFO     [persper.analytics.lsp_graph_server.callgraph.manager] Added 1436 branches (-> 3000) from 10 files.\n"
     ]
    },
    {
     "name": "stdout",
     "output_type": "stream",
     "text": [
      "----- No.69 88f2a3541a0bcb551da8c00cf80bba29f3245467 on main -----\n"
     ]
    },
    {
     "name": "stderr",
     "output_type": "stream",
     "text": [
      "2018-12-10 22:09:18,285 INFO     [persper.analytics.lsp_graph_server.callgraph.manager] Added 1364 branches (-> 2975) from 12 files.\n"
     ]
    },
    {
     "name": "stdout",
     "output_type": "stream",
     "text": [
      "----- No.70 dad7fcb5a3a5535744f9a52e9cce9a482ad9669e on main -----\n"
     ]
    },
    {
     "name": "stderr",
     "output_type": "stream",
     "text": [
      "2018-12-10 22:09:52,092 INFO     [persper.analytics.lsp_graph_server.callgraph.manager] Added 1292 branches (-> 3091) from 9 files.\n"
     ]
    },
    {
     "name": "stdout",
     "output_type": "stream",
     "text": [
      "----- No.71 6ffca03d6f7baf280996e02f8b78f9a886e3f80e on main -----\n"
     ]
    },
    {
     "name": "stderr",
     "output_type": "stream",
     "text": [
      "2018-12-10 22:10:07,000 INFO     [persper.analytics.lsp_graph_server.callgraph.manager] Added 587 branches (-> 3096) from 3 files.\n"
     ]
    },
    {
     "name": "stdout",
     "output_type": "stream",
     "text": [
      "----- No.72 94383d589b3fcb5786290c50a9f2e08402e0e562 on main -----\n"
     ]
    },
    {
     "name": "stderr",
     "output_type": "stream",
     "text": [
      "2018-12-10 22:10:38,529 INFO     [persper.analytics.lsp_graph_server.callgraph.manager] Added 1329 branches (-> 3077) from 7 files.\n"
     ]
    },
    {
     "name": "stdout",
     "output_type": "stream",
     "text": [
      "----- No.73 b3a544e880547a9434c3e7caad526759dc6bdef0 on main -----\n"
     ]
    },
    {
     "name": "stderr",
     "output_type": "stream",
     "text": [
      "2018-12-10 22:10:48,025 INFO     [persper.analytics.lsp_graph_server.callgraph.manager] Added 436 branches (-> 3069) from 4 files.\n"
     ]
    },
    {
     "name": "stdout",
     "output_type": "stream",
     "text": [
      "----- No.74 253414f29b9c1d3e0dc06c807b79591fe6daad85 on main -----\n"
     ]
    },
    {
     "name": "stderr",
     "output_type": "stream",
     "text": [
      "2018-12-10 22:10:57,375 INFO     [persper.analytics.lsp_graph_server.callgraph.manager] Added 447 branches (-> 3080) from 4 files.\n"
     ]
    },
    {
     "name": "stdout",
     "output_type": "stream",
     "text": [
      "----- No.75 dd8fb070fd5b1bae7f7e1d7dd03131e208e107e5 on main -----\n"
     ]
    },
    {
     "name": "stderr",
     "output_type": "stream",
     "text": [
      "2018-12-10 22:11:06,758 INFO     [persper.analytics.lsp_graph_server.callgraph.manager] Added 505 branches (-> 3138) from 4 files.\n"
     ]
    },
    {
     "name": "stdout",
     "output_type": "stream",
     "text": [
      "----- No.76 15b5a03a08799659d54b58bf0f7b49d3ae5ed55b on main -----\n",
      "----- No.77 2a08552265402719f5bcc8c260794b16734adc2d on main -----\n"
     ]
    },
    {
     "name": "stderr",
     "output_type": "stream",
     "text": [
      "2018-12-10 22:11:44,347 INFO     [persper.analytics.lsp_graph_server.callgraph.manager] Added 977 branches (-> 3154) from 9 files.\n"
     ]
    },
    {
     "name": "stdout",
     "output_type": "stream",
     "text": [
      "----- No.78 8fb0fb816c45ea7fad3ac4732b72d42401d184b4 on main -----\n"
     ]
    },
    {
     "name": "stderr",
     "output_type": "stream",
     "text": [
      "2018-12-10 22:12:47,629 INFO     [persper.analytics.lsp_graph_server.callgraph.manager] Already added 2000 branches.\n",
      "2018-12-10 22:12:47,631 INFO     [persper.analytics.lsp_graph_server.callgraph.manager] Added 2000 branches (-> 3133) from 15 files.\n"
     ]
    },
    {
     "name": "stdout",
     "output_type": "stream",
     "text": [
      "----- No.79 bf98dc56fb15f4d47c6f9faf245dc1d84b5907a2 on main -----\n"
     ]
    },
    {
     "name": "stderr",
     "output_type": "stream",
     "text": [
      "2018-12-10 22:13:43,776 INFO     [persper.analytics.lsp_graph_server.callgraph.manager] Already added 2000 branches.\n",
      "2018-12-10 22:14:01,282 INFO     [persper.analytics.lsp_graph_server.callgraph.manager] Added 2329 branches (-> 3396) from 21 files.\n"
     ]
    },
    {
     "name": "stdout",
     "output_type": "stream",
     "text": [
      "----- No.80 d403d7ad963898cfb1bd9d46220ab57359c3658e on main -----\n"
     ]
    },
    {
     "name": "stderr",
     "output_type": "stream",
     "text": [
      "2018-12-10 22:14:01,793 INFO     [persper.analytics.lsp_graph_server.callgraph.manager] Added 5 branches (-> 3401) from 2 files.\n"
     ]
    },
    {
     "name": "stdout",
     "output_type": "stream",
     "text": [
      "----- No.81 8e3615240661365c9f6650db08246ef6dd3886ae on main -----\n"
     ]
    },
    {
     "name": "stderr",
     "output_type": "stream",
     "text": [
      "2018-12-10 22:14:51,701 INFO     [persper.analytics.lsp_graph_server.callgraph.manager] Already added 2000 branches.\n",
      "2018-12-10 22:15:00,664 INFO     [persper.analytics.lsp_graph_server.callgraph.manager] Added 2521 branches (-> 3589) from 33 files.\n"
     ]
    },
    {
     "name": "stdout",
     "output_type": "stream",
     "text": [
      "----- No.82 e06f9472c1012235de02caf6e2d5b41688b72c85 on main -----\n"
     ]
    },
    {
     "name": "stderr",
     "output_type": "stream",
     "text": [
      "2018-12-10 22:15:50,533 INFO     [persper.analytics.lsp_graph_server.callgraph.manager] Already added 2000 branches.\n",
      "2018-12-10 22:15:55,018 INFO     [persper.analytics.lsp_graph_server.callgraph.manager] Added 2220 branches (-> 3456) from 16 files.\n"
     ]
    },
    {
     "name": "stdout",
     "output_type": "stream",
     "text": [
      "----- No.83 f6967eee48f48c2b100538b40a58e3cb53829d3e on main -----\n"
     ]
    },
    {
     "name": "stderr",
     "output_type": "stream",
     "text": [
      "2018-12-10 22:16:43,888 INFO     [persper.analytics.lsp_graph_server.callgraph.manager] Already added 2000 branches.\n",
      "2018-12-10 22:16:45,245 INFO     [persper.analytics.lsp_graph_server.callgraph.manager] Added 2114 branches (-> 3463) from 15 files.\n"
     ]
    },
    {
     "name": "stdout",
     "output_type": "stream",
     "text": [
      "----- No.84 f7e2b200591372495d93b0e56d00bce3eafe89c9 on main -----\n"
     ]
    },
    {
     "name": "stderr",
     "output_type": "stream",
     "text": [
      "2018-12-10 22:17:32,833 INFO     [persper.analytics.lsp_graph_server.callgraph.manager] Already added 2000 branches.\n",
      "2018-12-10 22:17:34,234 INFO     [persper.analytics.lsp_graph_server.callgraph.manager] Added 2119 branches (-> 3469) from 12 files.\n"
     ]
    },
    {
     "name": "stdout",
     "output_type": "stream",
     "text": [
      "----- No.85 49c6f7787a4363d4a43b1197d9a66d995da2b7d0 on main -----\n"
     ]
    },
    {
     "name": "stderr",
     "output_type": "stream",
     "text": [
      "2018-12-10 22:18:22,513 INFO     [persper.analytics.lsp_graph_server.callgraph.manager] Already added 2000 branches.\n",
      "2018-12-10 22:18:23,911 INFO     [persper.analytics.lsp_graph_server.callgraph.manager] Added 2123 branches (-> 3475) from 13 files.\n"
     ]
    },
    {
     "name": "stdout",
     "output_type": "stream",
     "text": [
      "----- No.86 36f69e61a9b248097f7f4330d69568d54129a7db on main -----\n"
     ]
    },
    {
     "name": "stderr",
     "output_type": "stream",
     "text": [
      "2018-12-10 22:19:12,959 INFO     [persper.analytics.lsp_graph_server.callgraph.manager] Already added 2000 branches.\n",
      "2018-12-10 22:19:14,606 INFO     [persper.analytics.lsp_graph_server.callgraph.manager] Added 2132 branches (-> 3490) from 11 files.\n"
     ]
    },
    {
     "name": "stdout",
     "output_type": "stream",
     "text": [
      "----- No.87 852a4218ba60770e6effa149a3ccfecd997bd2f0 on main -----\n"
     ]
    },
    {
     "name": "stderr",
     "output_type": "stream",
     "text": [
      "2018-12-10 22:19:37,302 INFO     [persper.analytics.lsp_graph_server.callgraph.manager] Added 1106 branches (-> 3497) from 10 files.\n"
     ]
    },
    {
     "name": "stdout",
     "output_type": "stream",
     "text": [
      "----- No.88 2db753ff92279f7e5a1901e9e5bc27a8d6d5eb29 on main -----\n"
     ]
    },
    {
     "name": "stderr",
     "output_type": "stream",
     "text": [
      "2018-12-10 22:20:24,758 INFO     [persper.analytics.lsp_graph_server.callgraph.manager] Already added 2000 branches.\n",
      "2018-12-10 22:20:26,389 INFO     [persper.analytics.lsp_graph_server.callgraph.manager] Added 2132 branches (-> 3497) from 11 files.\n"
     ]
    },
    {
     "name": "stdout",
     "output_type": "stream",
     "text": [
      "----- No.89 7a160a526975068509461803ee99db8a2d2a4c4a on main -----\n"
     ]
    },
    {
     "name": "stderr",
     "output_type": "stream",
     "text": [
      "2018-12-10 22:21:16,151 INFO     [persper.analytics.lsp_graph_server.callgraph.manager] Added 1616 branches (-> 3592) from 13 files.\n"
     ]
    },
    {
     "name": "stdout",
     "output_type": "stream",
     "text": [
      "----- No.90 729264bb34a2e885409a0d2c19170f72d809c327 on main -----\n"
     ]
    },
    {
     "name": "stderr",
     "output_type": "stream",
     "text": [
      "2018-12-10 22:22:28,280 INFO     [persper.analytics.lsp_graph_server.callgraph.manager] Added 1935 branches (-> 3076) from 15 files.\n"
     ]
    },
    {
     "name": "stdout",
     "output_type": "stream",
     "text": [
      "----- No.91 b1a69c2ec3f96d668b4e815adf83641289444018 on main -----\n"
     ]
    },
    {
     "name": "stderr",
     "output_type": "stream",
     "text": [
      "2018-12-10 22:22:34,578 INFO     [persper.analytics.lsp_graph_server.callgraph.manager] Added 13 branches (-> 3081) from 2 files.\n"
     ]
    },
    {
     "name": "stdout",
     "output_type": "stream",
     "text": [
      "----- No.92 94b344dbe3f79340e5d18ed7ddc3bed6fcab8a15 on main -----\n"
     ]
    },
    {
     "name": "stderr",
     "output_type": "stream",
     "text": [
      "2018-12-10 22:23:06,224 INFO     [persper.analytics.lsp_graph_server.callgraph.manager] Added 1306 branches (-> 3124) from 71 files.\n"
     ]
    },
    {
     "name": "stdout",
     "output_type": "stream",
     "text": [
      "----- No.93 6519dc1b8de9d3a4fa53995753ca8b6fe7a1ef86 on main -----\n"
     ]
    },
    {
     "name": "stderr",
     "output_type": "stream",
     "text": [
      "2018-12-10 22:23:22,658 INFO     [persper.analytics.lsp_graph_server.callgraph.manager] Added 1009 branches (-> 3127) from 67 files.\n"
     ]
    },
    {
     "name": "stdout",
     "output_type": "stream",
     "text": [
      "----- No.94 4e2f24ac174533d295799a6a4958da6a564f7462 on main -----\n"
     ]
    },
    {
     "name": "stderr",
     "output_type": "stream",
     "text": [
      "2018-12-10 22:23:36,244 INFO     [persper.analytics.lsp_graph_server.callgraph.manager] Added 895 branches (-> 3131) from 45 files.\n"
     ]
    },
    {
     "name": "stdout",
     "output_type": "stream",
     "text": [
      "----- No.95 9b89bfc905dd90205a6c3a901bdf5f1a35e535ba on main -----\n"
     ]
    },
    {
     "name": "stderr",
     "output_type": "stream",
     "text": [
      "2018-12-10 22:24:21,461 INFO     [persper.analytics.lsp_graph_server.callgraph.manager] Added 1715 branches (-> 3124) from 10 files.\n"
     ]
    },
    {
     "name": "stdout",
     "output_type": "stream",
     "text": [
      "----- No.96 afc6db80ddebda8813015a645854de6422eef32e on main -----\n"
     ]
    },
    {
     "name": "stderr",
     "output_type": "stream",
     "text": [
      "2018-12-10 22:24:31,735 INFO     [persper.analytics.lsp_graph_server.callgraph.manager] Added 3124 branches (-> 3124) from 1 files.\n"
     ]
    },
    {
     "name": "stdout",
     "output_type": "stream",
     "text": [
      "----- No.97 1508ac85d8cace7bdf9fdf456753a6024959008b on main -----\n"
     ]
    },
    {
     "name": "stderr",
     "output_type": "stream",
     "text": [
      "2018-12-10 22:25:31,069 INFO     [persper.analytics.lsp_graph_server.callgraph.manager] Already added 2000 branches.\n",
      "2018-12-10 22:25:35,851 INFO     [persper.analytics.lsp_graph_server.callgraph.manager] Added 2264 branches (-> 3675) from 13 files.\n"
     ]
    },
    {
     "name": "stdout",
     "output_type": "stream",
     "text": [
      "----- No.98 7c55502fe8c4cadd24b507fe1053165f4b4c55fb on main -----\n"
     ]
    },
    {
     "name": "stderr",
     "output_type": "stream",
     "text": [
      "2018-12-10 22:25:40,217 INFO     [persper.analytics.lsp_graph_server.callgraph.manager] Added 144 branches (-> 3692) from 3 files.\n"
     ]
    },
    {
     "name": "stdout",
     "output_type": "stream",
     "text": [
      "----- No.99 68d9002ecd9ac617448d25e0beeb1593c7e2df72 on main -----\n"
     ]
    },
    {
     "name": "stderr",
     "output_type": "stream",
     "text": [
      "2018-12-10 22:25:52,830 INFO     [persper.analytics.lsp_graph_server.callgraph.manager] Added 679 branches (-> 3773) from 4 files.\n"
     ]
    },
    {
     "name": "stdout",
     "output_type": "stream",
     "text": [
      "----- No.100 38fb4a4f1da53062cbaa881534f612cd78f8014b on main -----\n",
      "------ Used time: 2675.164 -----\n"
     ]
    },
    {
     "name": "stderr",
     "output_type": "stream",
     "text": [
      "2018-12-10 22:26:08,446 INFO     [persper.analytics.lsp_graph_server.callgraph.manager] Added 553 branches (-> 3797) from 5 files.\n"
     ]
    },
    {
     "name": "stdout",
     "output_type": "stream",
     "text": [
      "----- No.101 8a13acd3b867dc3cf4455f3387123ea3df89725b on main -----\n"
     ]
    },
    {
     "name": "stderr",
     "output_type": "stream",
     "text": [
      "2018-12-10 22:26:09,367 INFO     [persper.analytics.lsp_graph_server.callgraph.manager] Added 3797 branches (-> 3797) from 2 files.\n"
     ]
    },
    {
     "name": "stdout",
     "output_type": "stream",
     "text": [
      "----- No.102 f3c8500fa9c7422ffd693c02a2bb7c9fb01b3bc5 on main -----\n"
     ]
    },
    {
     "name": "stderr",
     "output_type": "stream",
     "text": [
      "2018-12-10 22:27:00,632 INFO     [persper.analytics.lsp_graph_server.callgraph.manager] Already added 2000 branches.\n",
      "2018-12-10 22:27:20,857 INFO     [persper.analytics.lsp_graph_server.callgraph.manager] Added 2494 branches (-> 3723) from 16 files.\n"
     ]
    },
    {
     "name": "stdout",
     "output_type": "stream",
     "text": [
      "----- No.103 cc4d49794d8960b82208bfa2ec8e4f4a9f9548c9 on main -----\n"
     ]
    },
    {
     "name": "stderr",
     "output_type": "stream",
     "text": [
      "2018-12-10 22:28:11,839 INFO     [persper.analytics.lsp_graph_server.callgraph.manager] Already added 2000 branches.\n",
      "2018-12-10 22:28:33,146 INFO     [persper.analytics.lsp_graph_server.callgraph.manager] Added 2624 branches (-> 3807) from 17 files.\n"
     ]
    },
    {
     "name": "stdout",
     "output_type": "stream",
     "text": [
      "----- No.104 fdd798f995ce3f6e66b1c3d92ad6b9dedc3218ab on main -----\n"
     ]
    },
    {
     "name": "stderr",
     "output_type": "stream",
     "text": [
      "2018-12-10 22:29:19,790 INFO     [persper.analytics.lsp_graph_server.callgraph.manager] Already added 2000 branches.\n",
      "2018-12-10 22:29:41,494 INFO     [persper.analytics.lsp_graph_server.callgraph.manager] Added 2670 branches (-> 3856) from 15 files.\n"
     ]
    },
    {
     "name": "stdout",
     "output_type": "stream",
     "text": [
      "----- No.105 1a6fd858c67110e9d88a1012db973875cccd8d2f on main -----\n"
     ]
    },
    {
     "name": "stderr",
     "output_type": "stream",
     "text": [
      "2018-12-10 22:30:24,167 INFO     [persper.analytics.lsp_graph_server.callgraph.manager] Added 1837 branches (-> 3775) from 9 files.\n"
     ]
    },
    {
     "name": "stdout",
     "output_type": "stream",
     "text": [
      "----- No.106 0b44f72ed8c0091862a1f9f0f782a5180d0a82ff on main -----\n"
     ]
    },
    {
     "name": "stderr",
     "output_type": "stream",
     "text": [
      "2018-12-10 22:31:10,697 INFO     [persper.analytics.lsp_graph_server.callgraph.manager] Already added 2000 branches.\n",
      "2018-12-10 22:31:31,397 INFO     [persper.analytics.lsp_graph_server.callgraph.manager] Added 2519 branches (-> 3810) from 15 files.\n"
     ]
    },
    {
     "name": "stdout",
     "output_type": "stream",
     "text": [
      "----- No.107 c079ab45b3bdda145054e14aeb61c332c2dbf3cf on main -----\n"
     ]
    },
    {
     "name": "stderr",
     "output_type": "stream",
     "text": [
      "2018-12-10 22:31:44,583 INFO     [persper.analytics.lsp_graph_server.callgraph.manager] Added 772 branches (-> 3875) from 3 files.\n"
     ]
    },
    {
     "name": "stdout",
     "output_type": "stream",
     "text": [
      "----- No.108 ebd467d31b10dbf5784f160533d747d434bbc764 on main -----\n"
     ]
    },
    {
     "name": "stderr",
     "output_type": "stream",
     "text": [
      "2018-12-10 22:32:32,368 INFO     [persper.analytics.lsp_graph_server.callgraph.manager] Already added 2000 branches.\n",
      "2018-12-10 22:32:52,709 INFO     [persper.analytics.lsp_graph_server.callgraph.manager] Added 2489 branches (-> 3875) from 13 files.\n"
     ]
    }
   ],
   "source": [
    "from persper.analytics.analyzer import Analyzer\n",
    "from persper.analytics.lsp_graph_server.ccls import CclsGraphServer\n",
    "from tempfile import mkdtemp\n",
    "\n",
    "dumpLogs = False\n",
    "workspaceRoot = mkdtemp()\n",
    "print(\"Workspace root: \", workspaceRoot)\n",
    "G = None\n",
    "async with CclsGraphServer(workspaceRoot, cacheRoot=\"./.ccls-cache\",\n",
    "                           languageServerCommand=\"../bin/ccls\" + (\"-log-file=ccls.log\" if dumpLogs else \"\"),\n",
    "                           dumpLogs=dumpLogs) as graphServer:\n",
    "    analyzer = Analyzer(\"../../testrepos/ccls\", graphServer)\n",
    "    graphServer.reset_graph()\n",
    "    await analyzer.analyze()\n",
    "    G = analyzer.get_graph()"
   ]
  },
  {
   "cell_type": "code",
   "execution_count": 3,
   "metadata": {},
   "outputs": [
    {
     "name": "stdout",
     "output_type": "stream",
     "text": [
      "Nodes: 683\n",
      "Edges: 3250\n"
     ]
    }
   ],
   "source": [
    "print(\"Nodes:\", len(G.nodes()))\n",
    "print(\"Edges:\", len(G.edges()))"
   ]
  },
  {
   "cell_type": "code",
   "execution_count": 4,
   "metadata": {
    "scrolled": false
   },
   "outputs": [
    {
     "name": "stdout",
     "output_type": "stream",
     "text": [
      "clang::SourceLocation::SourceLocation::SourceLocation(int &tu, const std::string &filepath, unsigned int offset)  |  namespace clang {}\n",
      "namespace clang {}  |  clang::SourceLocation::SourceLocation::SourceLocation(int &tu, const std::string &filepath, unsigned int offset)\n",
      "namespace clang {}  |  clang::SourceLocation::SourceLocation::SourceLocation(int &tu, const std::string &filepath, unsigned int line, unsigned int column)\n",
      "namespace clang {}  |  std::string clang::SourceLocation::get_path()\n",
      "namespace clang {}  |  clang::Offset clang::SourceLocation::get_offset()\n",
      "namespace clang {}  |  void clang::SourceLocation::get_data(std::string *path, unsigned int *line, unsigned int *column, unsigned int *offset)\n",
      "namespace clang {}  |  clang::CompilationDatabase::CompilationDatabase(const int &project_path)\n",
      "namespace clang {}  |  namespace clang {}\n",
      "namespace clang {}  |  clang::Tokens::Tokens(int &cx_tu, const clang::SourceRange &range)\n",
      "namespace clang {}  |  int clang::CompileCommand::get_command()\n",
      "namespace clang {}  |  int clang::CompileCommand::get_command_as_args()\n",
      "namespace clang {}  |  std::string clang::to_string(int cx_string)\n",
      "namespace clang {}  |  clang::TranslationUnit::TranslationUnit(int &index, const std::string &file_path, const int &command_line_args, const std::string &buffer, unsigned int flags)\n",
      "namespace clang {}  |  static unsigned int clang::TranslationUnit::DefaultFlags()\n",
      "namespace clang {}  |  int clang::TranslationUnit::ReparseTranslationUnit(const std::string &buffer, unsigned int flags)\n",
      "namespace clang {}  |  void clang::TranslationUnit::parse(int &index, const std::string &file_path, const int &command_line_args, const int &buffers, unsigned int flags)\n",
      "namespace clang {}  |  int clang::TranslationUnit::get_code_completions(const std::string &buffer, unsigned int line_number, unsigned int column)\n",
      "namespace clang {}  |  int clang::TranslationUnit::get_diagnostics()\n",
      "namespace clang {}  |  int clang::TranslationUnit::get_tokens(unsigned int start_offset, unsigned int end_offset)\n",
      "namespace clang {}  |  int clang::TranslationUnit::get_tokens(unsigned int start_line, unsigned int start_column, unsigned int end_line, unsigned int end_column)\n",
      "namespace clang {}  |  int clang::TranslationUnit::get_cursor(std::string path, unsigned int offset)\n",
      "namespace clang {}  |  int clang::TranslationUnit::get_cursor(std::string path, unsigned int line, unsigned int column)\n",
      "namespace clang {}  |  std::string clang::Cursor::Type::get_spelling() const\n",
      "namespace clang {}  |  clang::Cursor::Type clang::Cursor::Type::get_result() const\n",
      "namespace clang {}  |  clang::Cursor::Cursor()\n",
      "namespace clang {}  |  clang::Cursor::Cursor::Cursor(const int &other)\n",
      "namespace clang {}  |  int Cursor::get_kind() const\n",
      "namespace clang {}  |  clang::Cursor::Type clang::Cursor::get_type() const\n",
      "namespace clang {}  |  clang::SourceLocation clang::Cursor::get_source_location() const\n",
      "namespace clang {}  |  int Cursor::get_source_range() const\n",
      "namespace clang {}  |  std::string clang::Cursor::get_spelling() const\n",
      "namespace clang {}  |  std::string clang::Cursor::get_display_name() const\n",
      "namespace clang {}  |  std::string clang::Cursor::get_usr() const\n",
      "namespace clang {}  |  clang::Cursor clang::Cursor::get_referenced() const\n",
      "namespace clang {}  |  clang::Cursor clang::Cursor::get_canonical() const\n",
      "namespace clang {}  |  clang::Cursor clang::Cursor::get_definition() const\n",
      "namespace clang {}  |  clang::Cursor clang::Cursor::get_semantic_parent() const\n",
      "namespace clang {}  |  int Cursor::get_arguments() const\n",
      "namespace clang {}  |  bool clang::Cursor::is_valid_kind() const\n",
      "namespace clang {}  |  std::string clang::Cursor::get_type_description() const\n",
      "namespace clang {}  |  std::string clang::Cursor::get_brief_comments() const\n",
      "namespace clang {}  |  clang::CodeCompleteResults::CodeCompleteResults(int &cx_tu, const int &buffer, unsigned int line_num, unsigned int column)\n",
      "namespace clang {}  |  clang::CompletionString::CompletionString(const int &cx_completion_sting)\n",
      "namespace clang {}  |  int clang::CodeCompleteResults::get(unsigned int i) const\n",
      "namespace clang {}  |  unsigned int clang::CodeCompleteResults::size() const\n",
      "namespace clang {}  |  int clang::CodeCompleteResults::get_usr() const\n",
      "namespace clang {}  |  clang::Index::Index(int excludeDeclarationsFromPCH, int displayDiagnostics)\n",
      "namespace clang {}  |  int clang::SourceRange::get_offsets()\n",
      "namespace clang {}  |  clang::TranslationUnit::TranslationUnit::TranslationUnit(int &index, const std::string &file_path, const int &command_line_args, const std::string &buffer, unsigned int flags)\n",
      "namespace clang {}  |  void TranslationUnit::parse(int &index, const std::string &file_path, const int &command_line_args, const int &buffers, unsigned int flags)\n",
      "namespace clang {}  |  int TranslationUnit::get_code_completions(const std::string &buffer, unsigned int line_number, unsigned int column)\n",
      "namespace clang {}  |  int TranslationUnit::get_diagnostics()\n",
      "namespace clang {}  |  int TranslationUnit::get_tokens(unsigned int start_offset, unsigned int end_offset)\n",
      "namespace clang {}  |  int TranslationUnit::get_tokens(unsigned int start_line, unsigned int start_column, unsigned int end_line, unsigned int end_column)\n",
      "namespace clang {}  |  int TranslationUnit::document_cursor() const\n",
      "namespace clang {}  |  int TranslationUnit::get_cursor(std::string path, unsigned int offset)\n",
      "namespace clang {}  |  int TranslationUnit::get_cursor(std::string path, unsigned int line, unsigned int column)\n",
      "namespace clang {}  |  std::string clang::Type::get_spelling() const\n",
      "namespace clang {}  |  clang::Type clang::Type::get_result() const\n",
      "namespace clang {}  |  clang::Type clang::Cursor::get_type() const\n",
      "namespace clang {}  |  bool clang::Cursor::is_definition() const\n",
      "namespace clang {}  |  std::string clang::Cursor::get_comments() const\n",
      "namespace clang {}  |  clang::Diagnostic::Diagnostic(int &cx_tu, int &cx_diagnostic)\n",
      "namespace clang {}  |  static const std::string clang::Diagnostic::get_severity_spelling(unsigned int severity)\n",
      "namespace clang {}  |  struct TypeDef\n",
      "namespace clang {}  |  std::string clang::ToString(int cx_string)\n",
      "namespace clang {}  |  clang::Type::Type()\n",
      "namespace clang {}  |  clang::Type::Type::Type(const int &other)\n",
      "namespace clang {}  |  std::string clang::Type::get_usr() const\n",
      "namespace clang {}  |  clang::Type clang::Type::get_return_type() const\n",
      "namespace clang {}  |  int Type::get_arguments() const\n",
      "namespace clang {}  |  std::string clang::Cursor::ToString() const\n",
      "namespace clang {}  |  clang::SourceLocation::SourceLocation::SourceLocation(const int &cx_location)\n",
      "namespace clang {}  |  std::string clang::SourceLocation::ToString() const\n",
      "namespace clang {}  |  std::string clang::Cursor::evaluate() const\n",
      "namespace clang {}  |  clang::Type clang::Type::strip_qualifiers() const\n",
      "namespace clang {}  |  bool clang::Type::is_fundamental() const\n",
      "namespace clang {}  |  int Type::get_template_arguments() const\n",
      "namespace clang {}  |  clang::SourceLocation::SourceLocation()\n",
      "namespace clang {}  |  class Foo\n",
      "namespace clang {}  |  clang::Cursor clang::Cursor::template_specialization_to_template_definition() const\n",
      "namespace clang {}  |  struct Foo {}\n",
      "namespace clang {}  |  class Foo {}\n",
      "namespace clang {}  |  clang::CompileCommand::CompileCommand::CompileCommand(const int &command)\n",
      "namespace clang {}  |  int CompileCommand::get_command() const\n",
      "namespace clang {}  |  int CompileCommand::get_command_as_args() const\n",
      "namespace clang {}  |  struct SymbolIdx {}\n",
      "namespace clang {}  |  explicit clang::CompilationDatabase::CompilationDatabase(const std::string &project_path)\n",
      "namespace clang {}  |  clang::CompileCommands::CompileCommands(const clang::CompilationDatabase &db)\n",
      "namespace clang {}  |  int clang::CompileCommands::get_commands()\n",
      "namespace clang {}  |  struct QueryableDatabase {}\n",
      "namespace clang {}  |  struct Task {}\n",
      "namespace clang {}  |  int Type::get_declaration() const\n",
      "namespace clang {}  |  struct IpcRegistry {}\n",
      "namespace clang {}  |  struct QueryableLocation {}\n",
      "clang::SourceLocation::SourceLocation::SourceLocation(int &tu, const std::string &filepath, unsigned int line, unsigned int column)  |  namespace clang {}\n",
      "clang::SourceLocation::SourceLocation::SourceLocation(int &tu, const std::string &filepath, unsigned int line, unsigned int column)  |  clang::SourceLocation::SourceLocation::SourceLocation(int &tu, const std::string &filepath, unsigned int offset)\n",
      "std::string clang::SourceLocation::get_path()  |  namespace clang {}\n",
      "std::string clang::SourceLocation::get_path()  |  void clang::SourceLocation::get_data(std::string *path, unsigned int *line, unsigned int *column, unsigned int *offset)\n",
      "void clang::SourceLocation::get_data(std::string *path, unsigned int *line, unsigned int *column, unsigned int *offset)  |  namespace clang {}\n",
      "...\n"
     ]
    }
   ],
   "source": [
    "import itertools\n",
    "for e in itertools.islice(G.edges(), 100):\n",
    "    print(e[0], \" | \", e[1])\n",
    "if len(G.edges()) > 100:\n",
    "    print(\"...\")"
   ]
  },
  {
   "cell_type": "code",
   "execution_count": 5,
   "metadata": {},
   "outputs": [],
   "source": [
    "# un-pickle test\n",
    "import pickle\n",
    "loaded = pickle.load(open(\"repos-finished-0.pickle\", \"rb\"))"
   ]
  },
  {
   "cell_type": "code",
   "execution_count": 6,
   "metadata": {},
   "outputs": [
    {
     "name": "stdout",
     "output_type": "stream",
     "text": [
      "RowReader &operator>>(RowReader &reader, int &rhs)  |  RowReader &operator>>(RowReader &reader, std::string &rhs)\n",
      "RowReader &operator>>(RowReader &reader, long &rhs)  |  RowReader &operator>>(RowReader &reader, int &rhs)\n",
      "RowReader &operator>>(RowReader &reader, long &rhs)  |  RowReader &operator>>(RowReader &reader, std::string &rhs)\n",
      "RowReader &operator>>(RowReader &reader, float &rhs)  |  RowReader &operator>>(RowReader &reader, int &rhs)\n",
      "RowReader &operator>>(RowReader &reader, float &rhs)  |  RowReader &operator>>(RowReader &reader, std::string &rhs)\n",
      "RowReader &operator>>(RowReader &reader, double &rhs)  |  RowReader &operator>>(RowReader &reader, int &rhs)\n",
      "RowReader &operator>>(RowReader &reader, double &rhs)  |  RowReader &operator>>(RowReader &reader, std::string &rhs)\n",
      "RowReader &operator>>(RowReader &reader, bool &rhs)  |  RowReader &operator>>(RowReader &reader, int &rhs)\n",
      "RowReader &operator>>(RowReader &reader, bool &rhs)  |  bool Equal(const std::string &lhs, const std::string &rhs, StringComparison comparision)\n",
      "RowReader &operator>>(RowReader &reader, bool &rhs)  |  RowReader &operator>>(RowReader &reader, std::string &rhs)\n"
     ]
    }
   ],
   "source": [
    "for e in itertools.islice(loaded.get_graph().edges(), 10):\n",
    "    print(e[0], \" | \", e[1])\n",
    "if len(loaded.get_graph().edges()) > 100:\n",
    "    print(\"...\")"
   ]
  },
  {
   "cell_type": "code",
   "execution_count": null,
   "metadata": {},
   "outputs": [],
   "source": []
  }
 ],
 "metadata": {
  "kernelspec": {
   "display_name": "Python 3",
   "language": "python",
   "name": "python3"
  },
  "language_info": {
   "codemirror_mode": {
    "name": "ipython",
    "version": 3
   },
   "file_extension": ".py",
   "mimetype": "text/x-python",
   "name": "python",
   "nbconvert_exporter": "python",
   "pygments_lexer": "ipython3",
   "version": "3.7.0"
  }
 },
 "nbformat": 4,
 "nbformat_minor": 2
}
