{
 "cells": [
  {
   "cell_type": "code",
   "execution_count": 1,
   "metadata": {},
   "outputs": [],
   "source": [
    "import logging\n",
    "\n",
    "logging.basicConfig(format='%(asctime)s %(levelname)-8s [%(name)s] %(message)s',\n",
    "                    level=logging.CRITICAL)\n",
    "logging.getLogger(\"persper.analytics.lsp_graph_server.callgraph.manager\").setLevel(logging.INFO)\n",
    "logging.getLogger('asyncio').setLevel(logging.WARNING)"
   ]
  },
  {
   "cell_type": "code",
   "execution_count": 2,
   "metadata": {},
   "outputs": [
    {
     "name": "stdout",
     "output_type": "stream",
     "text": [
      "Workspace root:  C:\\Users\\CXy\\AppData\\Local\\Temp\\tmp5o1wc339\n",
      "----- Overview ------\n",
      "# of commits on master: 108\n",
      "# of commits on branch: 0\n",
      "----- No.1 5dbde940b60cab1d6a4cd45a90aa45959f7ad84b on main -----\n"
     ]
    },
    {
     "name": "stderr",
     "output_type": "stream",
     "text": [
      "2018-12-25 00:30:36,811 INFO     [persper.analytics.lsp_graph_server.callgraph.manager] Added 312 branches (-> 312) from 31 files.\n"
     ]
    },
    {
     "name": "stdout",
     "output_type": "stream",
     "text": [
      "----- No.2 0dc27bd3acfc0526ac713d15d32c8d784297b6a9 on main -----\n"
     ]
    },
    {
     "name": "stderr",
     "output_type": "stream",
     "text": [
      "2018-12-25 00:30:59,478 INFO     [persper.analytics.lsp_graph_server.callgraph.manager] Added 971 branches (-> 1018) from 32 files.\n"
     ]
    },
    {
     "name": "stdout",
     "output_type": "stream",
     "text": [
      "----- No.3 0718435400ed2a4ff1ae958d565dc6de5b695ab4 on main -----\n"
     ]
    },
    {
     "name": "stderr",
     "output_type": "stream",
     "text": [
      "2018-12-25 00:31:22,862 INFO     [persper.analytics.lsp_graph_server.callgraph.manager] Added 678 branches (-> 868) from 40 files.\n"
     ]
    },
    {
     "name": "stdout",
     "output_type": "stream",
     "text": [
      "----- No.4 46cec6f08355cb9a985f8fce657c35fbd09a4f9a on main -----\n"
     ]
    },
    {
     "name": "stderr",
     "output_type": "stream",
     "text": [
      "2018-12-25 00:31:41,561 INFO     [persper.analytics.lsp_graph_server.callgraph.manager] Added 570 branches (-> 896) from 42 files.\n"
     ]
    },
    {
     "name": "stdout",
     "output_type": "stream",
     "text": [
      "----- No.5 a8cdadc201620993ece0be8d8e2b3d200448701b on main -----\n"
     ]
    },
    {
     "name": "stderr",
     "output_type": "stream",
     "text": [
      "2018-12-25 00:32:02,104 INFO     [persper.analytics.lsp_graph_server.callgraph.manager] Added 737 branches (-> 1055) from 40 files.\n"
     ]
    },
    {
     "name": "stdout",
     "output_type": "stream",
     "text": [
      "----- No.6 e54d70e464e93daa3058e6a34584f1d073609efa on main -----\n"
     ]
    },
    {
     "name": "stderr",
     "output_type": "stream",
     "text": [
      "2018-12-25 00:32:19,726 INFO     [persper.analytics.lsp_graph_server.callgraph.manager] Added 681 branches (-> 1017) from 28 files.\n"
     ]
    },
    {
     "name": "stdout",
     "output_type": "stream",
     "text": [
      "----- No.7 41f2a75de02707b2972a654b48c86955b60d9385 on main -----\n"
     ]
    },
    {
     "name": "stderr",
     "output_type": "stream",
     "text": [
      "2018-12-25 00:32:38,385 INFO     [persper.analytics.lsp_graph_server.callgraph.manager] Added 756 branches (-> 1095) from 33 files.\n"
     ]
    },
    {
     "name": "stdout",
     "output_type": "stream",
     "text": [
      "----- No.8 fd1d8c8785a942b3efcf4e88a4ad771c344fa347 on main -----\n"
     ]
    },
    {
     "name": "stderr",
     "output_type": "stream",
     "text": [
      "2018-12-25 00:32:54,554 INFO     [persper.analytics.lsp_graph_server.callgraph.manager] Added 806 branches (-> 1190) from 22 files.\n"
     ]
    },
    {
     "name": "stdout",
     "output_type": "stream",
     "text": [
      "----- No.9 7f6354f9c8810321337ef705b132684497f45fa5 on main -----\n"
     ]
    },
    {
     "name": "stderr",
     "output_type": "stream",
     "text": [
      "2018-12-25 00:33:07,855 INFO     [persper.analytics.lsp_graph_server.callgraph.manager] Added 602 branches (-> 1236) from 6 files.\n"
     ]
    },
    {
     "name": "stdout",
     "output_type": "stream",
     "text": [
      "----- No.10 ca9918b8c4284d432cbf224c6dcac7dbe170ce7b on main -----\n"
     ]
    },
    {
     "name": "stderr",
     "output_type": "stream",
     "text": [
      "2018-12-25 00:33:24,684 INFO     [persper.analytics.lsp_graph_server.callgraph.manager] Added 796 branches (-> 1289) from 23 files.\n"
     ]
    },
    {
     "name": "stdout",
     "output_type": "stream",
     "text": [
      "----- No.11 4ed00a32622b64df920c342251a417bc8ebd27e9 on main -----\n"
     ]
    },
    {
     "name": "stderr",
     "output_type": "stream",
     "text": [
      "2018-12-25 00:33:40,885 INFO     [persper.analytics.lsp_graph_server.callgraph.manager] Added 750 branches (-> 1376) from 6 files.\n"
     ]
    },
    {
     "name": "stdout",
     "output_type": "stream",
     "text": [
      "----- No.12 e25d54c8b941d1074383333b2542f4740e668eae on main -----\n"
     ]
    },
    {
     "name": "stderr",
     "output_type": "stream",
     "text": [
      "2018-12-25 00:33:58,910 INFO     [persper.analytics.lsp_graph_server.callgraph.manager] Added 738 branches (-> 1354) from 27 files.\n"
     ]
    },
    {
     "name": "stdout",
     "output_type": "stream",
     "text": [
      "----- No.13 e637de145af8aff3cbb0f0761928c6496eb9bed2 on main -----\n"
     ]
    },
    {
     "name": "stderr",
     "output_type": "stream",
     "text": [
      "2018-12-25 00:34:12,482 INFO     [persper.analytics.lsp_graph_server.callgraph.manager] Added 531 branches (-> 1367) from 9 files.\n"
     ]
    },
    {
     "name": "stdout",
     "output_type": "stream",
     "text": [
      "----- No.14 161aab3a09ba7b3cf30d540d7ed12676750e732e on main -----\n"
     ]
    },
    {
     "name": "stderr",
     "output_type": "stream",
     "text": [
      "2018-12-25 00:34:25,751 INFO     [persper.analytics.lsp_graph_server.callgraph.manager] Added 480 branches (-> 1406) from 2 files.\n"
     ]
    },
    {
     "name": "stdout",
     "output_type": "stream",
     "text": [
      "----- No.15 8b534175f5b7368d6bf8a1a0a3cdd98b6aacef89 on main -----\n"
     ]
    },
    {
     "name": "stderr",
     "output_type": "stream",
     "text": [
      "2018-12-25 00:34:40,412 INFO     [persper.analytics.lsp_graph_server.callgraph.manager] Added 815 branches (-> 1475) from 20 files.\n"
     ]
    },
    {
     "name": "stdout",
     "output_type": "stream",
     "text": [
      "----- No.16 d87d74083caa18aa990f3f9e0ca60a3d72f45067 on main -----\n"
     ]
    },
    {
     "name": "stderr",
     "output_type": "stream",
     "text": [
      "2018-12-25 00:35:12,602 INFO     [persper.analytics.lsp_graph_server.callgraph.manager] Added 1576 branches (-> 1841) from 51 files.\n"
     ]
    },
    {
     "name": "stdout",
     "output_type": "stream",
     "text": [
      "----- No.17 7701822aa9cfcfd6f82db2b8652f24f3c477cc66 on main -----\n"
     ]
    },
    {
     "name": "stderr",
     "output_type": "stream",
     "text": [
      "2018-12-25 00:35:38,675 INFO     [persper.analytics.lsp_graph_server.callgraph.manager] Added 1224 branches (-> 1867) from 34 files.\n"
     ]
    },
    {
     "name": "stdout",
     "output_type": "stream",
     "text": [
      "----- No.18 3cd39ae91ab53587af59abefd0431a49dd2d008b on main -----\n"
     ]
    },
    {
     "name": "stderr",
     "output_type": "stream",
     "text": [
      "2018-12-25 00:36:00,971 INFO     [persper.analytics.lsp_graph_server.callgraph.manager] Added 745 branches (-> 1892) from 2 files.\n"
     ]
    },
    {
     "name": "stdout",
     "output_type": "stream",
     "text": [
      "----- No.19 d3b57ac30108251a3334058b1b9c4dc0a7bd894b on main -----\n"
     ]
    },
    {
     "name": "stderr",
     "output_type": "stream",
     "text": [
      "2018-12-25 00:36:28,447 INFO     [persper.analytics.lsp_graph_server.callgraph.manager] Added 1219 branches (-> 1891) from 34 files.\n"
     ]
    },
    {
     "name": "stdout",
     "output_type": "stream",
     "text": [
      "----- No.20 d01eb6b86f22e7aad01cdcc53f3c917e26329156 on main -----\n"
     ]
    },
    {
     "name": "stderr",
     "output_type": "stream",
     "text": [
      "2018-12-25 00:36:52,303 INFO     [persper.analytics.lsp_graph_server.callgraph.manager] Added 1199 branches (-> 1907) from 20 files.\n"
     ]
    },
    {
     "name": "stdout",
     "output_type": "stream",
     "text": [
      "----- No.21 d26cb81854526c1ddaf95d80ed5b8c984851e9be on main -----\n"
     ]
    },
    {
     "name": "stderr",
     "output_type": "stream",
     "text": [
      "2018-12-25 00:37:16,023 INFO     [persper.analytics.lsp_graph_server.callgraph.manager] Added 1235 branches (-> 1969) from 19 files.\n"
     ]
    },
    {
     "name": "stdout",
     "output_type": "stream",
     "text": [
      "----- No.22 6970d60dca9454227a3d85006193d625f63e0603 on main -----\n"
     ]
    },
    {
     "name": "stderr",
     "output_type": "stream",
     "text": [
      "2018-12-25 00:37:38,020 INFO     [persper.analytics.lsp_graph_server.callgraph.manager] Added 310 branches (-> 1554) from 1 files.\n"
     ]
    },
    {
     "name": "stdout",
     "output_type": "stream",
     "text": [
      "----- No.23 da6fbf7c5a750036a2c5013a6edadc638d789aca on main -----\n"
     ]
    },
    {
     "name": "stderr",
     "output_type": "stream",
     "text": [
      "2018-12-25 00:37:39,612 INFO     [persper.analytics.lsp_graph_server.callgraph.manager] Added 549 branches (-> 1593) from 18 files.\n"
     ]
    },
    {
     "name": "stdout",
     "output_type": "stream",
     "text": [
      "----- No.24 657260eeabf7b933dce952ef31c62a95c933d883 on main -----\n"
     ]
    },
    {
     "name": "stderr",
     "output_type": "stream",
     "text": [
      "2018-12-25 00:38:01,528 INFO     [persper.analytics.lsp_graph_server.callgraph.manager] Added 323 branches (-> 1606) from 5 files.\n"
     ]
    },
    {
     "name": "stdout",
     "output_type": "stream",
     "text": [
      "----- No.25 0dabbb30932ea04a718d719ae3b66822a84d9647 on main -----\n"
     ]
    },
    {
     "name": "stderr",
     "output_type": "stream",
     "text": [
      "2018-12-25 00:38:34,678 INFO     [persper.analytics.lsp_graph_server.callgraph.manager] Added 1186 branches (-> 1764) from 59 files.\n"
     ]
    },
    {
     "name": "stdout",
     "output_type": "stream",
     "text": [
      "----- No.26 43072452e5666869777cddda80b4a36e5f373c86 on main -----\n"
     ]
    },
    {
     "name": "stderr",
     "output_type": "stream",
     "text": [
      "2018-12-25 00:38:57,748 INFO     [persper.analytics.lsp_graph_server.callgraph.manager] Added 931 branches (-> 1764) from 18 files.\n"
     ]
    },
    {
     "name": "stdout",
     "output_type": "stream",
     "text": [
      "----- No.27 e78945a80f1908cf5c759f47bbc35e9ecaccf244 on main -----\n"
     ]
    },
    {
     "name": "stderr",
     "output_type": "stream",
     "text": [
      "2018-12-25 00:39:28,120 INFO     [persper.analytics.lsp_graph_server.callgraph.manager] Added 755 branches (-> 1784) from 12 files.\n"
     ]
    },
    {
     "name": "stdout",
     "output_type": "stream",
     "text": [
      "----- No.28 04412f056f6b7f0c19585a14f58c4a4a699a6d21 on main -----\n"
     ]
    },
    {
     "name": "stderr",
     "output_type": "stream",
     "text": [
      "2018-12-25 00:39:56,149 INFO     [persper.analytics.lsp_graph_server.callgraph.manager] Added 610 branches (-> 1774) from 11 files.\n"
     ]
    },
    {
     "name": "stdout",
     "output_type": "stream",
     "text": [
      "----- No.29 561f747133c0f045da56076f1b60680508580cf9 on main -----\n"
     ]
    },
    {
     "name": "stderr",
     "output_type": "stream",
     "text": [
      "2018-12-25 00:40:14,381 INFO     [persper.analytics.lsp_graph_server.callgraph.manager] Added 708 branches (-> 1837) from 6 files.\n"
     ]
    },
    {
     "name": "stdout",
     "output_type": "stream",
     "text": [
      "----- No.30 f3edc6e2f010cf0eabe5605549b8e33e22891af4 on main -----\n"
     ]
    },
    {
     "name": "stderr",
     "output_type": "stream",
     "text": [
      "2018-12-25 00:40:31,524 INFO     [persper.analytics.lsp_graph_server.callgraph.manager] Added 657 branches (-> 1836) from 7 files.\n"
     ]
    },
    {
     "name": "stdout",
     "output_type": "stream",
     "text": [
      "----- No.31 ab7138bd915c9d0b0ea2585e6d8cafaa8990d30c on main -----\n"
     ]
    },
    {
     "name": "stderr",
     "output_type": "stream",
     "text": [
      "2018-12-25 00:40:48,697 INFO     [persper.analytics.lsp_graph_server.callgraph.manager] Added 592 branches (-> 1848) from 7 files.\n"
     ]
    },
    {
     "name": "stdout",
     "output_type": "stream",
     "text": [
      "----- No.32 7c70d7fafde186f9defd58590bee0b3a7a96124b on main -----\n"
     ]
    },
    {
     "name": "stderr",
     "output_type": "stream",
     "text": [
      "2018-12-25 00:41:24,817 INFO     [persper.analytics.lsp_graph_server.callgraph.manager] Added 1602 branches (-> 1983) from 76 files.\n"
     ]
    },
    {
     "name": "stdout",
     "output_type": "stream",
     "text": [
      "----- No.33 f067f6dcc428ca53d4612b7661443d27a6a7f83a on main -----\n"
     ]
    },
    {
     "name": "stderr",
     "output_type": "stream",
     "text": [
      "2018-12-25 00:41:45,286 INFO     [persper.analytics.lsp_graph_server.callgraph.manager] Added 1337 branches (-> 1991) from 24 files.\n"
     ]
    },
    {
     "name": "stdout",
     "output_type": "stream",
     "text": [
      "----- No.34 ef1ff80a58232aa0efe3d1c7e32240bf7b9a29a3 on main -----\n"
     ]
    },
    {
     "name": "stderr",
     "output_type": "stream",
     "text": [
      "2018-12-25 00:42:19,733 INFO     [persper.analytics.lsp_graph_server.callgraph.manager] Added 1388 branches (-> 1991) from 74 files.\n"
     ]
    },
    {
     "name": "stdout",
     "output_type": "stream",
     "text": [
      "----- No.35 6b95f51a25849122a7e0093ea2e243c9b7b64cfb on main -----\n"
     ]
    },
    {
     "name": "stderr",
     "output_type": "stream",
     "text": [
      "2018-12-25 00:42:43,018 INFO     [persper.analytics.lsp_graph_server.callgraph.manager] Added 1455 branches (-> 2007) from 33 files.\n"
     ]
    },
    {
     "name": "stdout",
     "output_type": "stream",
     "text": [
      "----- No.36 5f0f290d1876ff13259709f62bcbeff57ea1334c on main -----\n"
     ]
    },
    {
     "name": "stderr",
     "output_type": "stream",
     "text": [
      "2018-12-25 00:43:03,368 INFO     [persper.analytics.lsp_graph_server.callgraph.manager] Added 718 branches (-> 2020) from 10 files.\n"
     ]
    },
    {
     "name": "stdout",
     "output_type": "stream",
     "text": [
      "----- No.37 a7f5231e4cc4bb8ea676ef93851b9edaeeb13123 on main -----\n"
     ]
    },
    {
     "name": "stderr",
     "output_type": "stream",
     "text": [
      "2018-12-25 00:43:40,328 INFO     [persper.analytics.lsp_graph_server.callgraph.manager] Added 1591 branches (-> 2024) from 81 files.\n"
     ]
    },
    {
     "name": "stdout",
     "output_type": "stream",
     "text": [
      "----- No.38 6a95d2f46f382a460ece15c976926967247d4ebb on main -----\n"
     ]
    },
    {
     "name": "stderr",
     "output_type": "stream",
     "text": [
      "2018-12-25 00:44:11,562 INFO     [persper.analytics.lsp_graph_server.callgraph.manager] Added 1602 branches (-> 2051) from 68 files.\n"
     ]
    },
    {
     "name": "stdout",
     "output_type": "stream",
     "text": [
      "----- No.39 2932b5d41b531fd51b0758b0239fecda2d286790 on main -----\n"
     ]
    },
    {
     "name": "stderr",
     "output_type": "stream",
     "text": [
      "2018-12-25 00:44:30,835 INFO     [persper.analytics.lsp_graph_server.callgraph.manager] Added 772 branches (-> 2087) from 4 files.\n"
     ]
    },
    {
     "name": "stdout",
     "output_type": "stream",
     "text": [
      "----- No.40 b33bd54922f74a92ca0d8f82301ffbeae3d95c33 on main -----\n"
     ]
    },
    {
     "name": "stderr",
     "output_type": "stream",
     "text": [
      "2018-12-25 00:44:49,593 INFO     [persper.analytics.lsp_graph_server.callgraph.manager] Added 722 branches (-> 2088) from 4 files.\n"
     ]
    },
    {
     "name": "stdout",
     "output_type": "stream",
     "text": [
      "----- No.41 bebb2306038702e0ee600926e9f4ddff66a9ce17 on main -----\n"
     ]
    },
    {
     "name": "stderr",
     "output_type": "stream",
     "text": [
      "2018-12-25 00:45:08,609 INFO     [persper.analytics.lsp_graph_server.callgraph.manager] Added 724 branches (-> 2090) from 3 files.\n"
     ]
    },
    {
     "name": "stdout",
     "output_type": "stream",
     "text": [
      "----- No.42 9b351ce52faa76aab2564e9fba5f9fd3394344f6 on main -----\n"
     ]
    },
    {
     "name": "stderr",
     "output_type": "stream",
     "text": [
      "2018-12-25 00:45:28,386 INFO     [persper.analytics.lsp_graph_server.callgraph.manager] Added 902 branches (-> 2093) from 10 files.\n"
     ]
    },
    {
     "name": "stdout",
     "output_type": "stream",
     "text": [
      "----- No.43 683cac602e7a6952abad2c280f7662edd3d7e268 on main -----\n"
     ]
    },
    {
     "name": "stderr",
     "output_type": "stream",
     "text": [
      "2018-12-25 00:46:03,491 INFO     [persper.analytics.lsp_graph_server.callgraph.manager] Added 914 branches (-> 2195) from 6 files.\n"
     ]
    },
    {
     "name": "stdout",
     "output_type": "stream",
     "text": [
      "----- No.44 358b4434c2dddaaccfff8400ce0c5497629b605a on main -----\n"
     ]
    },
    {
     "name": "stderr",
     "output_type": "stream",
     "text": [
      "2018-12-25 00:46:45,751 INFO     [persper.analytics.lsp_graph_server.callgraph.manager] Added 877 branches (-> 2158) from 7 files.\n"
     ]
    },
    {
     "name": "stdout",
     "output_type": "stream",
     "text": [
      "----- No.45 ce4c2232d7599403388a945a53968a8ff5c2cb4c on main -----\n"
     ]
    },
    {
     "name": "stderr",
     "output_type": "stream",
     "text": [
      "2018-12-25 00:47:08,789 INFO     [persper.analytics.lsp_graph_server.callgraph.manager] Added 990 branches (-> 2184) from 19 files.\n"
     ]
    },
    {
     "name": "stdout",
     "output_type": "stream",
     "text": [
      "----- No.46 d867d962d82abae8b40ed5e433a02646a5aacbe0 on main -----\n"
     ]
    },
    {
     "name": "stderr",
     "output_type": "stream",
     "text": [
      "2018-12-25 00:47:31,566 INFO     [persper.analytics.lsp_graph_server.callgraph.manager] Added 1089 branches (-> 2333) from 13 files.\n"
     ]
    },
    {
     "name": "stdout",
     "output_type": "stream",
     "text": [
      "----- No.47 b165cfa59d03fec0776b6b0b28f4065a587086a0 on main -----\n"
     ]
    },
    {
     "name": "stderr",
     "output_type": "stream",
     "text": [
      "2018-12-25 00:47:52,709 INFO     [persper.analytics.lsp_graph_server.callgraph.manager] Added 1114 branches (-> 2207) from 13 files.\n"
     ]
    },
    {
     "name": "stdout",
     "output_type": "stream",
     "text": [
      "----- No.48 0f17a49d40aacaf29a6d7eaefe3762072c0b30f7 on main -----\n"
     ]
    },
    {
     "name": "stderr",
     "output_type": "stream",
     "text": [
      "2018-12-25 00:48:09,699 INFO     [persper.analytics.lsp_graph_server.callgraph.manager] Added 1048 branches (-> 2381) from 7 files.\n"
     ]
    },
    {
     "name": "stdout",
     "output_type": "stream",
     "text": [
      "----- No.49 264b687e4312fa022ebca264945af344c12b78ef on main -----\n"
     ]
    },
    {
     "name": "stderr",
     "output_type": "stream",
     "text": [
      "2018-12-25 00:48:26,615 INFO     [persper.analytics.lsp_graph_server.callgraph.manager] Added 1144 branches (-> 2381) from 9 files.\n"
     ]
    },
    {
     "name": "stdout",
     "output_type": "stream",
     "text": [
      "----- No.50 5faf9d1f6b54d89113eb0b0aac5ccb798e630fe8 on main -----\n"
     ]
    },
    {
     "name": "stderr",
     "output_type": "stream",
     "text": [
      "2018-12-25 00:48:54,066 INFO     [persper.analytics.lsp_graph_server.callgraph.manager] Added 1193 branches (-> 2408) from 12 files.\n"
     ]
    },
    {
     "name": "stdout",
     "output_type": "stream",
     "text": [
      "----- No.51 d59b7c7379c4fa2653b388dcd988d58c439f2e9b on main -----\n"
     ]
    },
    {
     "name": "stderr",
     "output_type": "stream",
     "text": [
      "2018-12-25 00:49:24,333 INFO     [persper.analytics.lsp_graph_server.callgraph.manager] Added 1153 branches (-> 2376) from 12 files.\n"
     ]
    },
    {
     "name": "stdout",
     "output_type": "stream",
     "text": [
      "----- No.52 f3f72a0dfabb6ac2dead437e829960d2910c65a0 on main -----\n"
     ]
    },
    {
     "name": "stderr",
     "output_type": "stream",
     "text": [
      "2018-12-25 00:50:01,888 INFO     [persper.analytics.lsp_graph_server.callgraph.manager] Already added 2000 branches.\n",
      "2018-12-25 00:50:02,262 INFO     [persper.analytics.lsp_graph_server.callgraph.manager] Added 2012 branches (-> 2443) from 55 files.\n"
     ]
    },
    {
     "name": "stdout",
     "output_type": "stream",
     "text": [
      "----- No.53 b7d9a0f815f825d0a4e6993395b15e9a0fba51c7 on main -----\n"
     ]
    },
    {
     "name": "stderr",
     "output_type": "stream",
     "text": [
      "2018-12-25 00:50:42,130 INFO     [persper.analytics.lsp_graph_server.callgraph.manager] Added 1976 branches (-> 3191) from 18 files.\n"
     ]
    },
    {
     "name": "stdout",
     "output_type": "stream",
     "text": [
      "----- No.54 243ed8dfa523092e77ee8c6341ffffcd623fe93d on main -----\n"
     ]
    },
    {
     "name": "stderr",
     "output_type": "stream",
     "text": [
      "2018-12-25 00:51:21,707 INFO     [persper.analytics.lsp_graph_server.callgraph.manager] Added 1971 branches (-> 3217) from 14 files.\n"
     ]
    },
    {
     "name": "stdout",
     "output_type": "stream",
     "text": [
      "----- No.55 f3aa91d8dbf457e09897b52e70d3a80fa4c305f5 on main -----\n"
     ]
    },
    {
     "name": "stderr",
     "output_type": "stream",
     "text": [
      "2018-12-25 00:51:54,448 INFO     [persper.analytics.lsp_graph_server.callgraph.manager] Added 1685 branches (-> 3358) from 8 files.\n"
     ]
    },
    {
     "name": "stdout",
     "output_type": "stream",
     "text": [
      "----- No.56 aaa3542670a9e4ada6973d3077df8d73d9e0ab40 on main -----\n"
     ]
    },
    {
     "name": "stderr",
     "output_type": "stream",
     "text": [
      "2018-12-25 00:52:40,484 INFO     [persper.analytics.lsp_graph_server.callgraph.manager] Added 1748 branches (-> 2999) from 14 files.\n"
     ]
    },
    {
     "name": "stdout",
     "output_type": "stream",
     "text": [
      "----- No.57 bc8daee0654c4daa1ebc2b29333248678f34f70a on main -----\n",
      "----- No.58 18aa28bdea347d0af19504a08e71cc42d1fcdfeb on main -----\n"
     ]
    },
    {
     "name": "stderr",
     "output_type": "stream",
     "text": [
      "2018-12-25 00:53:26,301 INFO     [persper.analytics.lsp_graph_server.callgraph.manager] Added 1694 branches (-> 2945) from 14 files.\n"
     ]
    },
    {
     "name": "stdout",
     "output_type": "stream",
     "text": [
      "----- No.59 aa677de886e23ebff3e4d6327f98730f5bed9cd2 on main -----\n"
     ]
    },
    {
     "name": "stderr",
     "output_type": "stream",
     "text": [
      "2018-12-25 00:54:08,039 INFO     [persper.analytics.lsp_graph_server.callgraph.manager] Added 1857 branches (-> 3108) from 14 files.\n"
     ]
    },
    {
     "name": "stdout",
     "output_type": "stream",
     "text": [
      "----- No.60 430b9ef61bc4a106dba0e6b685b1891d351f17f3 on main -----\n"
     ]
    },
    {
     "name": "stderr",
     "output_type": "stream",
     "text": [
      "2018-12-25 00:54:48,489 INFO     [persper.analytics.lsp_graph_server.callgraph.manager] Added 1941 branches (-> 3253) from 11 files.\n"
     ]
    },
    {
     "name": "stdout",
     "output_type": "stream",
     "text": [
      "----- No.61 6df9f61b56a0e3fe867f9af93530a6ef4eed55c4 on main -----\n"
     ]
    },
    {
     "name": "stderr",
     "output_type": "stream",
     "text": [
      "2018-12-25 00:55:27,064 INFO     [persper.analytics.lsp_graph_server.callgraph.manager] Already added 2000 branches.\n",
      "2018-12-25 00:55:27,387 INFO     [persper.analytics.lsp_graph_server.callgraph.manager] Added 2026 branches (-> 3250) from 18 files.\n"
     ]
    },
    {
     "name": "stdout",
     "output_type": "stream",
     "text": [
      "----- No.62 c1db1766c9139ffb09525bbebc8d98a1500bdbef on main -----\n"
     ]
    },
    {
     "name": "stderr",
     "output_type": "stream",
     "text": [
      "2018-12-25 00:55:47,192 INFO     [persper.analytics.lsp_graph_server.callgraph.manager] Added 1023 branches (-> 3210) from 5 files.\n"
     ]
    },
    {
     "name": "stdout",
     "output_type": "stream",
     "text": [
      "----- No.63 7192db6e32e8ea7828ef52a50ef3d66761ac535a on main -----\n"
     ]
    },
    {
     "name": "stderr",
     "output_type": "stream",
     "text": [
      "2018-12-25 00:56:38,645 INFO     [persper.analytics.lsp_graph_server.callgraph.manager] Added 1926 branches (-> 3201) from 12 files.\n"
     ]
    },
    {
     "name": "stdout",
     "output_type": "stream",
     "text": [
      "----- No.64 a37d402ce2bcb5155fae5d1dd558b6a2d84ce4c2 on main -----\n"
     ]
    },
    {
     "name": "stderr",
     "output_type": "stream",
     "text": [
      "2018-12-25 00:57:31,425 INFO     [persper.analytics.lsp_graph_server.callgraph.manager] Added 1696 branches (-> 3201) from 12 files.\n"
     ]
    },
    {
     "name": "stdout",
     "output_type": "stream",
     "text": [
      "----- No.65 05af433b5a323f0cd626aa810738f0326595005f on main -----\n"
     ]
    },
    {
     "name": "stderr",
     "output_type": "stream",
     "text": [
      "2018-12-25 00:58:23,935 INFO     [persper.analytics.lsp_graph_server.callgraph.manager] Added 1950 branches (-> 3191) from 13 files.\n"
     ]
    },
    {
     "name": "stdout",
     "output_type": "stream",
     "text": [
      "----- No.66 1f4f72013654f3b03e19f95e1612281527386256 on main -----\n"
     ]
    },
    {
     "name": "stderr",
     "output_type": "stream",
     "text": [
      "2018-12-25 00:59:13,408 INFO     [persper.analytics.lsp_graph_server.callgraph.manager] Already added 2000 branches.\n",
      "2018-12-25 00:59:13,667 INFO     [persper.analytics.lsp_graph_server.callgraph.manager] Added 2018 branches (-> 3254) from 15 files.\n"
     ]
    },
    {
     "name": "stdout",
     "output_type": "stream",
     "text": [
      "----- No.67 2fc419faa302d51101c8b71b5ecdd1c8c2de7f89 on main -----\n"
     ]
    },
    {
     "name": "stderr",
     "output_type": "stream",
     "text": [
      "2018-12-25 01:00:03,088 INFO     [persper.analytics.lsp_graph_server.callgraph.manager] Already added 2000 branches.\n",
      "2018-12-25 01:00:04,250 INFO     [persper.analytics.lsp_graph_server.callgraph.manager] Added 2052 branches (-> 3295) from 15 files.\n"
     ]
    },
    {
     "name": "stdout",
     "output_type": "stream",
     "text": [
      "----- No.68 0738b8f57aa4abfcd43b517b35338a51db21d75d on main -----\n"
     ]
    },
    {
     "name": "stderr",
     "output_type": "stream",
     "text": [
      "2018-12-25 01:00:44,053 INFO     [persper.analytics.lsp_graph_server.callgraph.manager] Added 1794 branches (-> 3727) from 11 files.\n"
     ]
    },
    {
     "name": "stdout",
     "output_type": "stream",
     "text": [
      "----- No.69 88f2a3541a0bcb551da8c00cf80bba29f3245467 on main -----\n"
     ]
    },
    {
     "name": "stderr",
     "output_type": "stream",
     "text": [
      "2018-12-25 01:01:12,743 INFO     [persper.analytics.lsp_graph_server.callgraph.manager] Added 1076 branches (-> 3589) from 11 files.\n"
     ]
    },
    {
     "name": "stdout",
     "output_type": "stream",
     "text": [
      "----- No.70 dad7fcb5a3a5535744f9a52e9cce9a482ad9669e on main -----\n"
     ]
    },
    {
     "name": "stderr",
     "output_type": "stream",
     "text": [
      "2018-12-25 01:01:37,812 INFO     [persper.analytics.lsp_graph_server.callgraph.manager] Added 1148 branches (-> 3713) from 8 files.\n"
     ]
    },
    {
     "name": "stdout",
     "output_type": "stream",
     "text": [
      "----- No.71 6ffca03d6f7baf280996e02f8b78f9a886e3f80e on main -----\n"
     ]
    },
    {
     "name": "stderr",
     "output_type": "stream",
     "text": [
      "2018-12-25 01:01:51,650 INFO     [persper.analytics.lsp_graph_server.callgraph.manager] Added 803 branches (-> 3713) from 3 files.\n"
     ]
    },
    {
     "name": "stdout",
     "output_type": "stream",
     "text": [
      "----- No.72 94383d589b3fcb5786290c50a9f2e08402e0e562 on main -----\n"
     ]
    },
    {
     "name": "stderr",
     "output_type": "stream",
     "text": [
      "2018-12-25 01:02:12,247 INFO     [persper.analytics.lsp_graph_server.callgraph.manager] Added 910 branches (-> 3768) from 5 files.\n"
     ]
    },
    {
     "name": "stdout",
     "output_type": "stream",
     "text": [
      "----- No.73 b3a544e880547a9434c3e7caad526759dc6bdef0 on main -----\n"
     ]
    },
    {
     "name": "stderr",
     "output_type": "stream",
     "text": [
      "2018-12-25 01:02:34,062 INFO     [persper.analytics.lsp_graph_server.callgraph.manager] Added 1008 branches (-> 3866) from 5 files.\n"
     ]
    },
    {
     "name": "stdout",
     "output_type": "stream",
     "text": [
      "----- No.74 253414f29b9c1d3e0dc06c807b79591fe6daad85 on main -----\n"
     ]
    },
    {
     "name": "stderr",
     "output_type": "stream",
     "text": [
      "2018-12-25 01:02:42,225 INFO     [persper.analytics.lsp_graph_server.callgraph.manager] Added 336 branches (-> 3886) from 3 files.\n"
     ]
    },
    {
     "name": "stdout",
     "output_type": "stream",
     "text": [
      "----- No.75 dd8fb070fd5b1bae7f7e1d7dd03131e208e107e5 on main -----\n"
     ]
    },
    {
     "name": "stderr",
     "output_type": "stream",
     "text": [
      "2018-12-25 01:02:50,092 INFO     [persper.analytics.lsp_graph_server.callgraph.manager] Added 392 branches (-> 3942) from 3 files.\n"
     ]
    },
    {
     "name": "stdout",
     "output_type": "stream",
     "text": [
      "----- No.76 15b5a03a08799659d54b58bf0f7b49d3ae5ed55b on main -----\n",
      "----- No.77 2a08552265402719f5bcc8c260794b16734adc2d on main -----\n"
     ]
    },
    {
     "name": "stderr",
     "output_type": "stream",
     "text": [
      "2018-12-25 01:03:26,950 INFO     [persper.analytics.lsp_graph_server.callgraph.manager] Added 1128 branches (-> 3993) from 10 files.\n"
     ]
    },
    {
     "name": "stdout",
     "output_type": "stream",
     "text": [
      "----- No.78 8fb0fb816c45ea7fad3ac4732b72d42401d184b4 on main -----\n"
     ]
    },
    {
     "name": "stderr",
     "output_type": "stream",
     "text": [
      "2018-12-25 01:04:07,508 INFO     [persper.analytics.lsp_graph_server.callgraph.manager] Already added 2000 branches.\n",
      "2018-12-25 01:04:27,833 INFO     [persper.analytics.lsp_graph_server.callgraph.manager] Added 2804 branches (-> 4521) from 17 files.\n"
     ]
    },
    {
     "name": "stdout",
     "output_type": "stream",
     "text": [
      "----- No.79 bf98dc56fb15f4d47c6f9faf245dc1d84b5907a2 on main -----\n"
     ]
    },
    {
     "name": "stderr",
     "output_type": "stream",
     "text": [
      "2018-12-25 01:05:09,496 INFO     [persper.analytics.lsp_graph_server.callgraph.manager] Already added 2000 branches.\n",
      "2018-12-25 01:05:40,036 INFO     [persper.analytics.lsp_graph_server.callgraph.manager] Added 3754 branches (-> 4979) from 23 files.\n"
     ]
    },
    {
     "name": "stdout",
     "output_type": "stream",
     "text": [
      "----- No.80 d403d7ad963898cfb1bd9d46220ab57359c3658e on main -----\n"
     ]
    },
    {
     "name": "stderr",
     "output_type": "stream",
     "text": [
      "2018-12-25 01:05:40,504 INFO     [persper.analytics.lsp_graph_server.callgraph.manager] Added 5 branches (-> 4984) from 2 files.\n"
     ]
    },
    {
     "name": "stdout",
     "output_type": "stream",
     "text": [
      "----- No.81 8e3615240661365c9f6650db08246ef6dd3886ae on main -----\n"
     ]
    },
    {
     "name": "stderr",
     "output_type": "stream",
     "text": [
      "2018-12-25 01:06:18,512 INFO     [persper.analytics.lsp_graph_server.callgraph.manager] Already added 2000 branches.\n",
      "2018-12-25 01:06:34,779 INFO     [persper.analytics.lsp_graph_server.callgraph.manager] Added 2917 branches (-> 5019) from 35 files.\n"
     ]
    },
    {
     "name": "stdout",
     "output_type": "stream",
     "text": [
      "----- No.82 e06f9472c1012235de02caf6e2d5b41688b72c85 on main -----\n"
     ]
    },
    {
     "name": "stderr",
     "output_type": "stream",
     "text": [
      "2018-12-25 01:07:10,061 INFO     [persper.analytics.lsp_graph_server.callgraph.manager] Already added 2000 branches.\n",
      "2018-12-25 01:07:21,423 INFO     [persper.analytics.lsp_graph_server.callgraph.manager] Added 2627 branches (-> 5041) from 17 files.\n"
     ]
    },
    {
     "name": "stdout",
     "output_type": "stream",
     "text": [
      "----- No.83 f6967eee48f48c2b100538b40a58e3cb53829d3e on main -----\n"
     ]
    },
    {
     "name": "stderr",
     "output_type": "stream",
     "text": [
      "2018-12-25 01:07:59,017 INFO     [persper.analytics.lsp_graph_server.callgraph.manager] Already added 2000 branches.\n",
      "2018-12-25 01:08:06,460 INFO     [persper.analytics.lsp_graph_server.callgraph.manager] Added 2540 branches (-> 5046) from 16 files.\n"
     ]
    },
    {
     "name": "stdout",
     "output_type": "stream",
     "text": [
      "----- No.84 f7e2b200591372495d93b0e56d00bce3eafe89c9 on main -----\n"
     ]
    },
    {
     "name": "stderr",
     "output_type": "stream",
     "text": [
      "2018-12-25 01:08:39,989 INFO     [persper.analytics.lsp_graph_server.callgraph.manager] Already added 2000 branches.\n",
      "2018-12-25 01:08:50,183 INFO     [persper.analytics.lsp_graph_server.callgraph.manager] Added 2549 branches (-> 5056) from 13 files.\n"
     ]
    },
    {
     "name": "stdout",
     "output_type": "stream",
     "text": [
      "----- No.85 49c6f7787a4363d4a43b1197d9a66d995da2b7d0 on main -----\n"
     ]
    },
    {
     "name": "stderr",
     "output_type": "stream",
     "text": [
      "2018-12-25 01:09:27,227 INFO     [persper.analytics.lsp_graph_server.callgraph.manager] Already added 2000 branches.\n",
      "2018-12-25 01:09:35,580 INFO     [persper.analytics.lsp_graph_server.callgraph.manager] Added 2554 branches (-> 5063) from 14 files.\n"
     ]
    },
    {
     "name": "stdout",
     "output_type": "stream",
     "text": [
      "----- No.86 36f69e61a9b248097f7f4330d69568d54129a7db on main -----\n"
     ]
    },
    {
     "name": "stderr",
     "output_type": "stream",
     "text": [
      "2018-12-25 01:10:09,005 INFO     [persper.analytics.lsp_graph_server.callgraph.manager] Already added 2000 branches.\n",
      "2018-12-25 01:10:22,770 INFO     [persper.analytics.lsp_graph_server.callgraph.manager] Added 2694 branches (-> 5069) from 13 files.\n"
     ]
    },
    {
     "name": "stdout",
     "output_type": "stream",
     "text": [
      "----- No.87 852a4218ba60770e6effa149a3ccfecd997bd2f0 on main -----\n"
     ]
    },
    {
     "name": "stderr",
     "output_type": "stream",
     "text": [
      "2018-12-25 01:10:41,091 INFO     [persper.analytics.lsp_graph_server.callgraph.manager] Added 1076 branches (-> 5077) from 9 files.\n"
     ]
    },
    {
     "name": "stdout",
     "output_type": "stream",
     "text": [
      "----- No.88 2db753ff92279f7e5a1901e9e5bc27a8d6d5eb29 on main -----\n"
     ]
    },
    {
     "name": "stderr",
     "output_type": "stream",
     "text": [
      "2018-12-25 01:11:14,750 INFO     [persper.analytics.lsp_graph_server.callgraph.manager] Already added 2000 branches.\n",
      "2018-12-25 01:11:25,035 INFO     [persper.analytics.lsp_graph_server.callgraph.manager] Added 2520 branches (-> 5077) from 11 files.\n"
     ]
    },
    {
     "name": "stdout",
     "output_type": "stream",
     "text": [
      "----- No.89 7a160a526975068509461803ee99db8a2d2a4c4a on main -----\n"
     ]
    },
    {
     "name": "stderr",
     "output_type": "stream",
     "text": [
      "2018-12-25 01:11:58,002 INFO     [persper.analytics.lsp_graph_server.callgraph.manager] Already added 2000 branches.\n",
      "2018-12-25 01:12:27,114 INFO     [persper.analytics.lsp_graph_server.callgraph.manager] Added 3661 branches (-> 5294) from 15 files.\n"
     ]
    },
    {
     "name": "stdout",
     "output_type": "stream",
     "text": [
      "----- No.90 729264bb34a2e885409a0d2c19170f72d809c327 on main -----\n"
     ]
    },
    {
     "name": "stderr",
     "output_type": "stream",
     "text": [
      "2018-12-25 01:13:24,944 INFO     [persper.analytics.lsp_graph_server.callgraph.manager] Already added 2000 branches.\n",
      "2018-12-25 01:13:32,992 INFO     [persper.analytics.lsp_graph_server.callgraph.manager] Added 2457 branches (-> 3854) from 18 files.\n"
     ]
    },
    {
     "name": "stdout",
     "output_type": "stream",
     "text": [
      "----- No.91 b1a69c2ec3f96d668b4e815adf83641289444018 on main -----\n"
     ]
    },
    {
     "name": "stderr",
     "output_type": "stream",
     "text": [
      "2018-12-25 01:13:39,213 INFO     [persper.analytics.lsp_graph_server.callgraph.manager] Added 14 branches (-> 3861) from 2 files.\n"
     ]
    },
    {
     "name": "stdout",
     "output_type": "stream",
     "text": [
      "----- No.92 94b344dbe3f79340e5d18ed7ddc3bed6fcab8a15 on main -----\n"
     ]
    },
    {
     "name": "stderr",
     "output_type": "stream",
     "text": [
      "2018-12-25 01:14:09,642 INFO     [persper.analytics.lsp_graph_server.callgraph.manager] Added 1481 branches (-> 3904) from 71 files.\n"
     ]
    },
    {
     "name": "stdout",
     "output_type": "stream",
     "text": [
      "----- No.93 6519dc1b8de9d3a4fa53995753ca8b6fe7a1ef86 on main -----\n"
     ]
    },
    {
     "name": "stderr",
     "output_type": "stream",
     "text": [
      "2018-12-25 01:14:30,998 INFO     [persper.analytics.lsp_graph_server.callgraph.manager] Added 1359 branches (-> 3907) from 72 files.\n"
     ]
    },
    {
     "name": "stdout",
     "output_type": "stream",
     "text": [
      "----- No.94 4e2f24ac174533d295799a6a4958da6a564f7462 on main -----\n"
     ]
    },
    {
     "name": "stderr",
     "output_type": "stream",
     "text": [
      "2018-12-25 01:14:44,148 INFO     [persper.analytics.lsp_graph_server.callgraph.manager] Added 876 branches (-> 3912) from 45 files.\n"
     ]
    },
    {
     "name": "stdout",
     "output_type": "stream",
     "text": [
      "----- No.95 9b89bfc905dd90205a6c3a901bdf5f1a35e535ba on main -----\n"
     ]
    },
    {
     "name": "stderr",
     "output_type": "stream",
     "text": [
      "2018-12-25 01:15:24,172 INFO     [persper.analytics.lsp_graph_server.callgraph.manager] Already added 2000 branches.\n",
      "2018-12-25 01:15:30,833 INFO     [persper.analytics.lsp_graph_server.callgraph.manager] Added 2325 branches (-> 3909) from 12 files.\n"
     ]
    },
    {
     "name": "stdout",
     "output_type": "stream",
     "text": [
      "----- No.96 afc6db80ddebda8813015a645854de6422eef32e on main -----\n"
     ]
    },
    {
     "name": "stderr",
     "output_type": "stream",
     "text": [
      "2018-12-25 01:15:42,406 INFO     [persper.analytics.lsp_graph_server.callgraph.manager] Added 8 branches (-> 3917) from 1 files.\n"
     ]
    },
    {
     "name": "stdout",
     "output_type": "stream",
     "text": [
      "----- No.97 1508ac85d8cace7bdf9fdf456753a6024959008b on main -----\n"
     ]
    },
    {
     "name": "stderr",
     "output_type": "stream",
     "text": [
      "2018-12-25 01:16:28,158 INFO     [persper.analytics.lsp_graph_server.callgraph.manager] Already added 2000 branches.\n",
      "2018-12-25 01:16:48,675 INFO     [persper.analytics.lsp_graph_server.callgraph.manager] Added 3168 branches (-> 4911) from 16 files.\n"
     ]
    },
    {
     "name": "stdout",
     "output_type": "stream",
     "text": [
      "----- No.98 7c55502fe8c4cadd24b507fe1053165f4b4c55fb on main -----\n"
     ]
    },
    {
     "name": "stderr",
     "output_type": "stream",
     "text": [
      "2018-12-25 01:16:54,919 INFO     [persper.analytics.lsp_graph_server.callgraph.manager] Added 304 branches (-> 4928) from 5 files.\n"
     ]
    },
    {
     "name": "stdout",
     "output_type": "stream",
     "text": [
      "----- No.99 68d9002ecd9ac617448d25e0beeb1593c7e2df72 on main -----\n"
     ]
    },
    {
     "name": "stderr",
     "output_type": "stream",
     "text": [
      "2018-12-25 01:17:05,732 INFO     [persper.analytics.lsp_graph_server.callgraph.manager] Added 762 branches (-> 4940) from 4 files.\n"
     ]
    },
    {
     "name": "stdout",
     "output_type": "stream",
     "text": [
      "----- No.100 38fb4a4f1da53062cbaa881534f612cd78f8014b on main -----\n",
      "------ Used time: 2798.011 -----\n"
     ]
    },
    {
     "name": "stderr",
     "output_type": "stream",
     "text": [
      "2018-12-25 01:17:21,147 INFO     [persper.analytics.lsp_graph_server.callgraph.manager] Added 771 branches (-> 4919) from 6 files.\n"
     ]
    },
    {
     "name": "stdout",
     "output_type": "stream",
     "text": [
      "----- No.101 8a13acd3b867dc3cf4455f3387123ea3df89725b on main -----\n"
     ]
    },
    {
     "name": "stderr",
     "output_type": "stream",
     "text": [
      "2018-12-25 01:17:22,051 INFO     [persper.analytics.lsp_graph_server.callgraph.manager] Added 3 branches (-> 4922) from 2 files.\n"
     ]
    },
    {
     "name": "stdout",
     "output_type": "stream",
     "text": [
      "----- No.102 f3c8500fa9c7422ffd693c02a2bb7c9fb01b3bc5 on main -----\n"
     ]
    },
    {
     "name": "stderr",
     "output_type": "stream",
     "text": [
      "2018-12-25 01:18:01,105 INFO     [persper.analytics.lsp_graph_server.callgraph.manager] Already added 2000 branches.\n",
      "2018-12-25 01:18:33,001 INFO     [persper.analytics.lsp_graph_server.callgraph.manager] Added 3464 branches (-> 4844) from 20 files.\n"
     ]
    },
    {
     "name": "stdout",
     "output_type": "stream",
     "text": [
      "----- No.103 cc4d49794d8960b82208bfa2ec8e4f4a9f9548c9 on main -----\n"
     ]
    },
    {
     "name": "stderr",
     "output_type": "stream",
     "text": [
      "2018-12-25 01:19:17,270 INFO     [persper.analytics.lsp_graph_server.callgraph.manager] Already added 2000 branches.\n",
      "2018-12-25 01:19:38,440 INFO     [persper.analytics.lsp_graph_server.callgraph.manager] Added 3175 branches (-> 4848) from 19 files.\n"
     ]
    },
    {
     "name": "stdout",
     "output_type": "stream",
     "text": [
      "----- No.104 fdd798f995ce3f6e66b1c3d92ad6b9dedc3218ab on main -----\n"
     ]
    },
    {
     "name": "stderr",
     "output_type": "stream",
     "text": [
      "2018-12-25 01:20:23,790 INFO     [persper.analytics.lsp_graph_server.callgraph.manager] Already added 2000 branches.\n",
      "2018-12-25 01:20:32,894 INFO     [persper.analytics.lsp_graph_server.callgraph.manager] Added 2556 branches (-> 4777) from 12 files.\n"
     ]
    },
    {
     "name": "stdout",
     "output_type": "stream",
     "text": [
      "----- No.105 1a6fd858c67110e9d88a1012db973875cccd8d2f on main -----\n"
     ]
    },
    {
     "name": "stderr",
     "output_type": "stream",
     "text": [
      "2018-12-25 01:20:47,888 INFO     [persper.analytics.lsp_graph_server.callgraph.manager] Added 912 branches (-> 4872) from 6 files.\n"
     ]
    },
    {
     "name": "stdout",
     "output_type": "stream",
     "text": [
      "----- No.106 0b44f72ed8c0091862a1f9f0f782a5180d0a82ff on main -----\n"
     ]
    },
    {
     "name": "stderr",
     "output_type": "stream",
     "text": [
      "2018-12-25 01:21:25,180 INFO     [persper.analytics.lsp_graph_server.callgraph.manager] Already added 2000 branches.\n",
      "2018-12-25 01:21:45,689 INFO     [persper.analytics.lsp_graph_server.callgraph.manager] Added 3046 branches (-> 4943) from 16 files.\n"
     ]
    },
    {
     "name": "stdout",
     "output_type": "stream",
     "text": [
      "----- No.107 c079ab45b3bdda145054e14aeb61c332c2dbf3cf on main -----\n"
     ]
    },
    {
     "name": "stderr",
     "output_type": "stream",
     "text": [
      "2018-12-25 01:21:57,642 INFO     [persper.analytics.lsp_graph_server.callgraph.manager] Added 944 branches (-> 5004) from 3 files.\n"
     ]
    },
    {
     "name": "stdout",
     "output_type": "stream",
     "text": [
      "----- No.108 ebd467d31b10dbf5784f160533d747d434bbc764 on main -----\n"
     ]
    },
    {
     "name": "stderr",
     "output_type": "stream",
     "text": [
      "2018-12-25 01:22:33,337 INFO     [persper.analytics.lsp_graph_server.callgraph.manager] Already added 2000 branches.\n",
      "2018-12-25 01:22:54,418 INFO     [persper.analytics.lsp_graph_server.callgraph.manager] Added 3121 branches (-> 5026) from 17 files.\n"
     ]
    }
   ],
   "source": [
    "from persper.analytics.analyzer import Analyzer\n",
    "from persper.analytics.lsp_graph_server.ccls import CclsGraphServer\n",
    "from tempfile import mkdtemp\n",
    "\n",
    "dumpLogs = True\n",
    "workspaceRoot = mkdtemp()\n",
    "print(\"Workspace root: \", workspaceRoot)\n",
    "G = None\n",
    "async with CclsGraphServer(workspaceRoot, cacheRoot=\"./.ccls-cache\",\n",
    "                           languageServerCommand=\"../bin/ccls\" + (\" -log-file=ccls.log\" if dumpLogs else \"\"),\n",
    "                           dumpLogs=dumpLogs) as graphServer:\n",
    "    analyzer = Analyzer(\"../../../testrepos/ccls\", graphServer)\n",
    "    graphServer.reset_graph()\n",
    "    await analyzer.analyze()\n",
    "    G = analyzer.get_graph()"
   ]
  },
  {
   "cell_type": "code",
   "execution_count": 3,
   "metadata": {},
   "outputs": [
    {
     "name": "stdout",
     "output_type": "stream",
     "text": [
      "Nodes: 738\n",
      "Edges: 3505\n"
     ]
    }
   ],
   "source": [
    "print(\"Nodes:\", len(G.nodes()))\n",
    "print(\"Edges:\", len(G.edges()))"
   ]
  },
  {
   "cell_type": "code",
   "execution_count": 4,
   "metadata": {
    "scrolled": false
   },
   "outputs": [
    {
     "name": "stdout",
     "output_type": "stream",
     "text": [
      "namespace clang {}  |  namespace clang {}\n",
      "namespace clang {}  |  int clang::CodeCompleteResults::get_usr() const\n",
      "namespace clang {}  |  clang::CodeCompleteResults::CodeCompleteResults(int &cx_tu, const int &buffer, unsigned int line_num, unsigned int column)\n",
      "namespace clang {}  |  int clang::CodeCompleteResults::get(unsigned int i) const\n",
      "namespace clang {}  |  unsigned int clang::CodeCompleteResults::size() const\n",
      "namespace clang {}  |  clang::Diagnostic::Diagnostic(int &cx_tu, int &cx_diagnostic)\n",
      "namespace clang {}  |  static const std::string clang::Diagnostic::get_severity_spelling(unsigned int severity)\n",
      "namespace clang {}  |  int clang::Token::get_spelling() const\n",
      "namespace clang {}  |  clang::Cursor::Cursor()\n",
      "namespace clang {}  |  clang::Cursor::Cursor::Cursor(const int &other)\n",
      "namespace clang {}  |  int Cursor::get_kind() const\n",
      "namespace clang {}  |  int Cursor::get_type() const\n",
      "namespace clang {}  |  clang::SourceLocation clang::Cursor::get_source_location() const\n",
      "namespace clang {}  |  int Cursor::get_source_range() const\n",
      "namespace clang {}  |  std::string clang::Cursor::get_display_name() const\n",
      "namespace clang {}  |  std::string clang::Cursor::get_usr() const\n",
      "namespace clang {}  |  bool Cursor::is_definition() const\n",
      "namespace clang {}  |  clang::Cursor clang::Cursor::get_referenced() const\n",
      "namespace clang {}  |  clang::Cursor clang::Cursor::get_canonical() const\n",
      "namespace clang {}  |  clang::Cursor clang::Cursor::get_definition() const\n",
      "namespace clang {}  |  clang::Cursor clang::Cursor::get_semantic_parent() const\n",
      "namespace clang {}  |  int Cursor::get_arguments() const\n",
      "namespace clang {}  |  bool clang::Cursor::is_valid_kind() const\n",
      "namespace clang {}  |  std::string clang::Cursor::get_type_description() const\n",
      "namespace clang {}  |  std::string Cursor::get_comments() const\n",
      "namespace clang {}  |  struct TypeDef\n",
      "namespace clang {}  |  clang::SourceLocation::SourceLocation::SourceLocation(int &tu, const std::string &filepath, unsigned int offset)\n",
      "namespace clang {}  |  clang::SourceLocation::SourceLocation::SourceLocation(int &tu, const std::string &filepath, unsigned int line, unsigned int column)\n",
      "namespace clang {}  |  std::string clang::SourceLocation::get_path()\n",
      "namespace clang {}  |  clang::Offset clang::SourceLocation::get_offset()\n",
      "namespace clang {}  |  void clang::SourceLocation::get_data(std::string *path, unsigned int *line, unsigned int *column, unsigned int *offset)\n",
      "namespace clang {}  |  clang::CompletionString::CompletionString(const int &cx_completion_sting)\n",
      "namespace clang {}  |  int clang::Token::get_source_range() const\n",
      "namespace clang {}  |  clang::Token::Kind clang::Token::get_kind() const\n",
      "namespace clang {}  |  clang::SourceLocation clang::Token::get_source_location() const\n",
      "namespace clang {}  |  bool clang::Token::is_identifier() const\n",
      "namespace clang {}  |  clang::TranslationUnit::TranslationUnit::TranslationUnit(int &index, const std::string &file_path, const int &command_line_args, unsigned int flags)\n",
      "namespace clang {}  |  static unsigned int clang::TranslationUnit::DefaultFlags()\n",
      "namespace clang {}  |  int clang::TranslationUnit::ReparseTranslationUnit(const std::string &buffer, unsigned int flags)\n",
      "namespace clang {}  |  void TranslationUnit::parse(int &index, const std::string &file_path, const int &command_line_args, const int &buffers, unsigned int flags)\n",
      "namespace clang {}  |  int TranslationUnit::get_code_completions(const std::string &buffer, unsigned int line_number, unsigned int column)\n",
      "namespace clang {}  |  int TranslationUnit::get_diagnostics()\n",
      "namespace clang {}  |  int TranslationUnit::get_tokens(unsigned int start_offset, unsigned int end_offset)\n",
      "namespace clang {}  |  int TranslationUnit::get_tokens(unsigned int start_line, unsigned int start_column, unsigned int end_line, unsigned int end_column)\n",
      "namespace clang {}  |  int TranslationUnit::document_cursor() const\n",
      "namespace clang {}  |  int TranslationUnit::get_cursor(std::string path, unsigned int offset)\n",
      "namespace clang {}  |  int TranslationUnit::get_cursor(std::string path, unsigned int line, unsigned int column)\n",
      "namespace clang {}  |  std::string clang::ToString(int cx_string)\n",
      "namespace clang {}  |  clang::Type::Type()\n",
      "namespace clang {}  |  clang::Type::Type::Type(const int &other)\n",
      "namespace clang {}  |  std::string clang::Type::get_usr() const\n",
      "namespace clang {}  |  std::string clang::Type::get_spelling() const\n",
      "namespace clang {}  |  clang::Type clang::Type::get_return_type() const\n",
      "namespace clang {}  |  int Type::get_arguments() const\n",
      "namespace clang {}  |  clang::Type clang::Cursor::get_type() const\n",
      "namespace clang {}  |  bool clang::Cursor::is_definition() const\n",
      "namespace clang {}  |  std::string clang::Cursor::get_comments() const\n",
      "namespace clang {}  |  std::string clang::Cursor::ToString() const\n",
      "namespace clang {}  |  clang::SourceLocation::SourceLocation::SourceLocation(const int &cx_location)\n",
      "namespace clang {}  |  std::string SourceLocation::ToString() const\n",
      "namespace clang {}  |  std::string clang::Cursor::evaluate() const\n",
      "namespace clang {}  |  clang::Type clang::Type::strip_qualifiers() const\n",
      "namespace clang {}  |  bool clang::Type::is_fundamental() const\n",
      "namespace clang {}  |  int Type::get_template_arguments() const\n",
      "namespace clang {}  |  clang::SourceLocation::SourceLocation::SourceLocation() noexcept\n",
      "namespace clang {}  |  std::string clang::SourceLocation::ToString() const\n",
      "namespace clang {}  |  clang::SourceLocation::SourceLocation()\n",
      "namespace clang {}  |  class Foo\n",
      "namespace clang {}  |  clang::Cursor clang::Cursor::template_specialization_to_template_definition() const\n",
      "namespace clang {}  |  clang::CompileCommand::CompileCommand::CompileCommand(const int &command)\n",
      "namespace clang {}  |  int CompileCommand::get_command() const\n",
      "namespace clang {}  |  int CompileCommand::get_command_as_args() const\n",
      "namespace clang {}  |  clang::TranslationUnit::TranslationUnit::TranslationUnit(int &index, const std::string &file_path, const int &command_line_args, const std::string &buffer, unsigned int flags)\n",
      "namespace clang {}  |  struct FindChildOfKindParam {}\n",
      "namespace clang {}  |  clang::CompileCommands::CompileCommands(const clang::CompilationDatabase &db)\n",
      "namespace clang {}  |  struct IndexParam {}\n",
      "namespace clang {}  |  clang::CompileCommands::~CompileCommands() noexcept\n",
      "namespace clang {}  |  int clang::CompileCommands::get_commands()\n",
      "namespace clang {}  |  struct CachedIndexedFile {}\n",
      "namespace clang {}  |  struct Location {}\n",
      "namespace clang {}  |  struct SymbolIdx {}\n",
      "namespace clang {}  |  struct QueryableLocation {}\n",
      "namespace clang {}  |  int Type::get_declaration() const\n",
      "int clang::CodeCompleteResults::get_usr() const  |  namespace clang {}\n",
      "int clang::CodeCompleteResults::get_usr() const  |  std::string clang::ToString(int cx_string)\n",
      "int clang::CodeCompleteResults::get_usr() const  |  std::string SourceLocation::ToString() const\n",
      "int clang::CodeCompleteResults::get_usr() const  |  std::string clang::SourceLocation::ToString() const\n",
      "int clang::CodeCompleteResults::get_usr() const  |  std::string ToString()\n",
      "int clang::CodeCompleteResults::get_usr() const  |  std::string IndexedFile::ToString()\n",
      "int clang::CodeCompleteResults::get_usr() const  |  std::string ToString(const int &document)\n",
      "int clang::CodeCompleteResults::get_usr() const  |  int ToString(const int &document)\n",
      "clang::CodeCompleteResults::CodeCompleteResults(int &cx_tu, const int &buffer, unsigned int line_num, unsigned int column)  |  namespace clang {}\n",
      "clang::CodeCompleteResults::CodeCompleteResults(int &cx_tu, const int &buffer, unsigned int line_num, unsigned int column)  |  unsigned int clang::CodeCompleteResults::size() const\n",
      "clang::CodeCompleteResults::CodeCompleteResults(int &cx_tu, const int &buffer, unsigned int line_num, unsigned int column)  |  std::string clang::ToString(int cx_string)\n",
      "clang::CodeCompleteResults::CodeCompleteResults(int &cx_tu, const int &buffer, unsigned int line_num, unsigned int column)  |  struct Database {}\n",
      "clang::CodeCompleteResults::CodeCompleteResults(int &cx_tu, const int &buffer, unsigned int line_num, unsigned int column)  |  struct QueryDatabase {}\n",
      "clang::CodeCompleteResults::CodeCompleteResults(int &cx_tu, const int &buffer, unsigned int line_num, unsigned int column)  |  struct QueryableDatabase {}\n",
      "clang::CodeCompleteResults::CodeCompleteResults(int &cx_tu, const int &buffer, unsigned int line_num, unsigned int column)  |  struct Location {}\n",
      "clang::CodeCompleteResults::CodeCompleteResults(int &cx_tu, const int &buffer, unsigned int line_num, unsigned int column)  |  struct QueryableLocation {}\n",
      "clang::CodeCompleteResults::CodeCompleteResults(int &cx_tu, const int &buffer, unsigned int line_num, unsigned int column)  |  std::string ToString(const int &document)\n",
      "...\n"
     ]
    }
   ],
   "source": [
    "import itertools\n",
    "for e in itertools.islice(G.edges(), 100):\n",
    "    print(e[0], \" | \", e[1])\n",
    "if len(G.edges()) > 100:\n",
    "    print(\"...\")"
   ]
  },
  {
   "cell_type": "code",
   "execution_count": 7,
   "metadata": {},
   "outputs": [],
   "source": [
    "# un-pickle test\n",
    "import pickle\n",
    "loaded = pickle.load(open(\"ccls-finished-0.pickle\", \"rb\"))"
   ]
  },
  {
   "cell_type": "code",
   "execution_count": 8,
   "metadata": {},
   "outputs": [
    {
     "name": "stdout",
     "output_type": "stream",
     "text": [
      "namespace clang {}  |  namespace clang {}\n",
      "namespace clang {}  |  int clang::CodeCompleteResults::get_usr() const\n",
      "namespace clang {}  |  clang::CodeCompleteResults::CodeCompleteResults(int &cx_tu, const int &buffer, unsigned int line_num, unsigned int column)\n",
      "namespace clang {}  |  int clang::CodeCompleteResults::get(unsigned int i) const\n",
      "namespace clang {}  |  unsigned int clang::CodeCompleteResults::size() const\n",
      "namespace clang {}  |  clang::Diagnostic::Diagnostic(int &cx_tu, int &cx_diagnostic)\n",
      "namespace clang {}  |  static const std::string clang::Diagnostic::get_severity_spelling(unsigned int severity)\n",
      "namespace clang {}  |  int clang::Token::get_spelling() const\n",
      "namespace clang {}  |  clang::Cursor::Cursor()\n",
      "namespace clang {}  |  clang::Cursor::Cursor::Cursor(const int &other)\n",
      "...\n"
     ]
    }
   ],
   "source": [
    "for e in itertools.islice(loaded.get_graph().edges(), 10):\n",
    "    print(e[0], \" | \", e[1])\n",
    "if len(loaded.get_graph().edges()) > 100:\n",
    "    print(\"...\")"
   ]
  },
  {
   "cell_type": "code",
   "execution_count": null,
   "metadata": {},
   "outputs": [],
   "source": []
  }
 ],
 "metadata": {
  "kernelspec": {
   "display_name": "Python 3",
   "language": "python",
   "name": "python3"
  },
  "language_info": {
   "codemirror_mode": {
    "name": "ipython",
    "version": 3
   },
   "file_extension": ".py",
   "mimetype": "text/x-python",
   "name": "python",
   "nbconvert_exporter": "python",
   "pygments_lexer": "ipython3",
   "version": "3.7.0"
  }
 },
 "nbformat": 4,
 "nbformat_minor": 2
}
