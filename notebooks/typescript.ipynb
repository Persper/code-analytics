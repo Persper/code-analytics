{
 "cells": [
  {
   "cell_type": "code",
   "execution_count": null,
   "metadata": {},
   "outputs": [],
   "source": [
    "from persper.graphs.analyzer import Analyzer\n",
    "from persper.graphs.graph_server_http import GraphServerHttp"
   ]
  },
  {
   "cell_type": "code",
   "execution_count": null,
   "metadata": {},
   "outputs": [],
   "source": [
    "FILENAME_REGEXES = [\n",
    "    '.+\\.(ts|js)$',\n",
    "    '^(?!dist/).+',\n",
    "    '^(?!test(s)?/).+',\n",
    "    '^(?!spec/).+',\n",
    "    '^(?!build/).+',\n",
    "    '^(?!bin/).+',\n",
    "    '^(?!doc(s)?/).+'\n",
    "]"
   ]
  },
  {
   "cell_type": "code",
   "execution_count": null,
   "metadata": {},
   "outputs": [],
   "source": [
    "# Spin up a js language server before running this cell\n",
    "server_addr = 'http://localhost:3000'\n",
    "repo_path = '../repos/wechaty'\n",
    "az = Analyzer(repo_path, GraphServerHttp(server_addr, FILENAME_REGEXES))\n",
    "az.graph_server.reset_graph()\n",
    "az.analyze()"
   ]
  },
  {
   "cell_type": "code",
   "execution_count": null,
   "metadata": {},
   "outputs": [],
   "source": []
  }
 ],
 "metadata": {
  "kernelspec": {
   "display_name": "code-analytics-8iDyuztf",
   "language": "python",
   "name": "code-analytics-8idyuztf"
  },
  "language_info": {
   "codemirror_mode": {
    "name": "ipython",
    "version": 3
   },
   "file_extension": ".py",
   "mimetype": "text/x-python",
   "name": "python",
   "nbconvert_exporter": "python",
   "pygments_lexer": "ipython3",
   "version": "3.6.6"
  }
 },
 "nbformat": 4,
 "nbformat_minor": 2
}
