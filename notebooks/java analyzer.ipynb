{
 "cells": [
  {
   "cell_type": "code",
   "execution_count": 1,
   "metadata": {},
   "outputs": [
    {
     "name": "stdout",
     "output_type": "stream",
     "text": [
      "Commit #0 fdd2e2974cb92d330d5df747a7b67691b5ec7686 (Initial commit): Going forward (initial commit).\n",
      "Commit #1 6a98e6a9c12b7550e29f33994f77d9fd78b59ba9 (spring boot使用mybaits 示例): Going forward.\n",
      "Commit #2 f9d6eda3553aca3ab92361eeb6bd5faf68adb5a6 (添加脚本): Going forward.\n",
      "Commit #3 389fd0839be9fcc817eb913068c26b95f7b21fb0 (m): Going forward.\n",
      "Commit #4 a966f8f08e1dcefce7b6051542812a3ba050cd49 (m): Going forward.\n",
      "Commit #5 732ddfad56aae318a102f923b87157378cd6c5a1 (m): Going forward.\n",
      "Commit #6 b952f4548e3c03d73d8119a535add6e183d3e3b1 (m): Going forward.\n",
      "Commit #7 143c0b91013be32d73338c97b722e6e16b49edf8 (m): Going forward.\n",
      "Commit #8 3733703150344ae733b71f56fabd3bfe10101170 (add): Going forward.\n",
      "Commit #9 2d0a65f60d45cc0ea7695a54c96a8cb25339cf02 (add): Going forward.\n",
      "Commit #10 bf583172a4af75185ad1d841291f4dc541eae520 (m): Going forward.\n",
      "Commit #11 3ef5de60f95e49c3a1403ec4945c7571a8eb06d0 (m): Going forward.\n",
      "Commit #12 70dcdafbe3080c6d29ec9cb2e4df35861a55f983 (modify): Going forward.\n",
      "Commit #13 dbea8ebad5dca02ef9c2cfd7430a576698fbbece (重新整理结构): Going forward.\n",
      "Commit #14 068539bb2af7aa0ef1f23df1040e7af3b4b2657a (m): Going forward.\n",
      "Commit #15 1422d13c819c9049d930e66cbc14abb7fc5049bc (add  rabbitmq): Going forward.\n",
      "Commit #16 effaf3f8c695b1313e74e0ed00355499f801718e (spring-boot-mybatis-mulidatasour): Going forward.\n",
      "Commit #17 a4105ecb7732be4d23ab49810d511b99da75c650 (add rabbitmq): Going forward.\n",
      "Commit #18 cd054025d837ba7d5a58abbd6c0ced376f421ca7 (add scheduler): Going forward.\n",
      "Commit #19 5f37099b9d0ed12f85fb6e45ae8d62ccc715b477 (m): Going forward.\n",
      "Commit #20 93f8a944a2da74c50c6b030e4b195dedd672b252 (m): Going forward.\n",
      "Commit #21 927083cbdbc76bd84ee5299a36ad8d7ddae4e41c (m): Going forward.\n",
      "Commit #22 9dba276fda2dbb3aa2437890c7c3ad1ceb59fe90 (m): Going forward.\n",
      "Commit #23 27ff04771ac1249cd05aa15b9f7c9ceae2ebeaa8 (m): Going forward.\n",
      "Commit #24 8d6a84c6ec67b6c97736a6413dcf11a19b39322c (add spring-boot-mybatis-annotati): Going forward.\n",
      "Commit #25 d4588da0329a6fd54052ffc96a0c2c58899c39bf (add): Going forward.\n",
      "Commit #26 853b7dfb3f00312f76b0ca2f9abe7fdc4319b421 (add mail service): Going forward.\n",
      "Commit #27 2a9a06801601b4a604896bf241dafdc8c214dc4e (m): Going forward.\n",
      "Commit #28 18547457fec4579a42aebd572364dbe9150ac543 (m): Going forward.\n",
      "Commit #29 800465e287d271ac68d58d75875511b38581ebc8 (m): Going forward.\n",
      "Commit #30 0e44f5b1035595360d8a5e4b57a334f88dfc76bc (add mongodb): Going forward.\n",
      "Commit #31 b7d0f52e3d924eaa92a01b5f0035a6cb0d10ac98 (m): Going forward.\n",
      "Commit #32 6c3e9832f73e42b35de68df968bf4d88254ea847 (m): Going forward.\n",
      "Commit #33 4bd47ecd240a69883e4a4cee316b7ab11795b9d1 (add spring-boot-multi-mongodb): Going forward.\n",
      "Commit #34 c7e2a91138ce1b61ce10dc54719b6daab93836fa (add package war): Going forward.\n",
      "Commit #35 9d18d3e6861f90642a13bce1c8af4e59e686a367 (m): Going forward.\n",
      "Commit #36 1f9f9a1c57a2085fb0506c453735b5da656576b8 (m): Going forward.\n",
      "Commit #37 d12da7cea3c4bc3552d85d99751b02b2a856c59f (m): Going forward.\n",
      "Commit #38 31743412e6a1ce1a79eb342c34edb07c467c450a (m): Going forward.\n",
      "Commit #39 d4df240793d099be9f69c1b7ef53fe3d64f9af36 (add english description): Going forward.\n",
      "Commit #40 1b29aa512dbbd22892bc497c99cea20ed7435822 (m): Going forward.\n",
      "Commit #41 821d723a1084ccd581481b7b937995c374be6f71 (m): Going forward.\n",
      "Commit #42 e29d588fbe01275e552dce7cfb8f7ea7d4562118 (m): Going forward.\n",
      "Commit #43 11d479c4b81034cbc5cf545480f303fca7f23749 (m): Going forward.\n",
      "Commit #44 0d95841d369e8763591fb77a84f52dd7aea1c76a (m): Going forward.\n",
      "Commit #45 cd300dba83d20216b3c3a00f96336f9da8ab35ce (m): Going forward.\n",
      "Commit #46 70d15853208bb989bb91909143ec8fad2462883b (add springboot shiro demo): Going forward.\n",
      "Commit #47 b254a27a7f24fc2aede3b300f52318fd5fc2c8cf (add spring-boot-thymeleaf): Going forward.\n",
      "Commit #48 4597adaf6c897756365396ccec6b8be0cf680889 (add spring-boot-thymeleaf)：简单 sp): Going forward.\n",
      "Commit #49 f7348b2e3b489c70c9288922e8b8df609e9b8863 (add thymeleaf jpa demo): Going forward.\n",
      "Commit #50 ab3a8ac0edb2a7868070b775caad72ba3c386e52 (m): Going forward.\n",
      "Commit #51 4d4eaa087b85f17938f355567875b7a1ece03b7f (m): Going forward.\n",
      "Commit #52 fe1603d38e100075a5ce1964592a3e20b86b90f2 (m): Going forward.\n",
      "Commit #53 8ae00f8af7e59e38b6fc5284c31bc13ecaa98f05 (update to 1.5.6): Going forward.\n",
      "Commit #54 7462129a323963f7e7236e78dfeaed7d1f44e318 (m): Going forward.\n",
      "Commit #55 4f4527682c2e484d90c981eb9c0218254f3ce8eb (m): Going forward.\n",
      "Commit #56 70a2b4c5883cb448501988abb0a20af2b0db6196 (m): Going forward.\n",
      "Commit #57 fef36e2e201354f640b0304d46592e532e9e0810 (m): Going forward.\n",
      "Commit #58 03cb1f2c5cb2bbc57b0f81a8752e335a74d4c2e2 (spring-boot-file-upload): Going forward.\n",
      "Commit #59 ecca616618060127401ddb67752280a6cd7be609 (spring-boot-fastDFS): Going forward.\n",
      "Commit #60 e1a4e4ba5bb5c6a4c865fe5751a2565f13820465 (add): Going forward.\n",
      "Commit #61 d937c88ceacdcf2a3c6b3979e51e6f2cac9360cd (m): Going forward.\n",
      "Commit #62 d054e7503df267383a411d0a63f3886500ce82aa (m): Going forward.\n",
      "Commit #63 705733ed458fd351c87dde652218415335d9a955 (add about file\n",
      "\n",
      "upload fille\n",
      "spr): Going forward.\n",
      "Commit #64 43b0c083d18ffbd4cfc4a8cc69c9ce381d5ed080 (m): Rewind to parent: d054e7503df267383a411d0a63f3886500ce82aa.\n",
      "Commit #64 43b0c083d18ffbd4cfc4a8cc69c9ce381d5ed080 (m): Going forward.\n",
      "Commit #65 f3d76cf09b26fb9a18790320ec081e62cc5eaaa3 (Merge branch 'master' of https:/): Going forward (merge).\n",
      "Commit #66 4c1c58cd5fce4c1864d350fc2c20ecce8f0eb18d (m): Going forward.\n",
      "Commit #67 9d0b0db42a1d2855ef85f9190bd5d45b760ed366 (m): Going forward.\n",
      "Commit #68 277ae77ab1b6925d559a79144ac4da076ead95a3 (m): Going forward.\n",
      "Commit #69 e73f99b81323e05b01ffedb68b7fa0f95c493a3f (m): Going forward.\n",
      "Commit #70 fcbe72632ff542a63fa624d7bdd187a970c768f0 (m): Going forward.\n",
      "Commit #71 7f2691aafab1c1b23d2bad6d69298a515c63cf88 (add web test): Going forward.\n",
      "Commit #72 055c365349974bf702292256ac9d18e059678cad (m): Going forward.\n",
      "Commit #73 b90dce5e92bcda38c3dc980d65d016fc9fee7ca9 (m): Going forward.\n",
      "Commit #74 59b87e799db82ba42e4ddb5286e395b441b5a046 (m): Going forward.\n",
      "Commit #75 840c9537162b12d44ec4463e3ca9f4e75ecfe556 (m): Going forward.\n",
      "Commit #76 9f46146b2e9a7f3b77551979b09aa88e07166de0 (m): Going forward.\n",
      "Commit #77 dc3e0f27e68db68d768ad6c0f8e5cc7f6ca49fd8 (m): Going forward.\n",
      "Commit #78 64e7b502b06ae1605170d96ab9e5cf6875ac3782 (m): Going forward.\n",
      "Commit #79 06d5780d8940522691921ac7b8a0d937bbc93150 (m): Going forward.\n",
      "Commit #80 6422001baff6fa4c6185058a326b307ae73d0ca7 (m): Going forward.\n",
      "Commit #81 a21b3b2ff01fcd1a55bc4b7f3f3de50435e3aa55 (m): Going forward.\n",
      "Commit #82 08944c4dd79c1e567267f9d19ee2ec39968672f1 (m): Going forward.\n",
      "Commit #83 e9265e2c81a9ceb09f22f4b244078470c3f60f18 (m): Going forward.\n",
      "Commit #84 9e4645484728f46342ca1d144b2332193fd2da61 (m): Going forward.\n",
      "Commit #85 d7736bb1a8826e648522b11a942f17ffa3eff35e (m): Going forward.\n",
      "Commit #86 677a1838471eafb867fcb8f182c73423f2ec3d6e (m): Going forward.\n",
      "Commit #87 86c59f47c33692018c789355ccf30d90e5e91b6a (m): Going forward.\n",
      "Commit #88 0f956ec6d1c9dcad71ae41379b5a6a8421271087 (m): Going forward.\n",
      "Commit #89 146e37c1d7fe78597e556c6ab3d6f860abe0d818 (m): Going forward.\n",
      "Commit #90 6391aece21fff2a7b52b228b85c8600653396a00 (add Spring Boot 2.0 Hello): Going forward.\n",
      "Commit #91 b8c27a449d37058e85ae390bdc735dc3396344c5 (m): Going forward.\n",
      "Commit #92 4fdf113bbd081083e86610405f58a119a2bdfed3 (m): Going forward.\n",
      "Commit #93 c87bcc5f0b985d803ba70e8e20aaaee44aab0227 (m): Going forward.\n",
      "Commit #94 e659e6501fac37017a02b4cf313c6fba62caa0cb (add dockercompose-springboot-mys): Going forward.\n",
      "Commit #95 68636ebef9bbfa4d47f68e21ceddf67156b21347 (m): Going forward.\n",
      "Commit #96 d0c536743afb8c41a02df35323d8930e11d4db4e (m): Going forward.\n",
      "Commit #97 8bc1baf7cd5ed3914b5d1cf80f0d1c771d7fd371 (add CommandLineRunner): Going forward.\n",
      "Commit #98 374a1b819af1eca4c98b14cbde1ce56696f9c993 (add spring-boot-web-thymeleaf): Going forward.\n",
      "Commit #99 cb098ca68eafd30b49ea50bcc937604e3feb9f5b (m): Going forward.\n",
      "Commit #100 cfdcd268bcab73abbaed0ad7b79e23f43fb77585 (add link): Going forward.\n",
      "Commit #101 c1f08addb8cb7935adad057b274016afdccd120a (m): Going forward.\n",
      "Commit #102 750cfdfcc731571ad6dfceb3471ace97cfd60266 (Fix some typos in README_EN.md\n",
      "\n",
      "): Rewind to parent: cfdcd268bcab73abbaed0ad7b79e23f43fb77585.\n",
      "Commit #102 750cfdfcc731571ad6dfceb3471ace97cfd60266 (Fix some typos in README_EN.md\n",
      "\n",
      "): Going forward.\n",
      "Commit #103 8897031cb6026de6d3366a482564e1ddfd465765 (Merge pull request #42 from Rayt): Going forward (merge).\n",
      "Commit #104 d0c552b4030f7962e1291295f189afd1c9b77020 (Merge branch 'master' of https:/): Going forward (merge).\n",
      "Commit #105 4a3ce5a984ed21f7927a860ec1318f0ce50facfb (add spring-boot-elasticsearch): Going forward.\n"
     ]
    },
    {
     "name": "stdout",
     "output_type": "stream",
     "text": [
      "Commit #106 ec5d9c6136a6594010206c5fc0d703365e672a40 (add  spring-boot-elasticsearch): Going forward.\n",
      "Commit #107 eade0fc687148f6aecf20de940061d18521c78c7 (add atomikos): Going forward.\n",
      "Commit #108 bbf8a77713fc0b71dcd984c954fa844b60675015 (m): Going forward.\n",
      "Commit #109 43c7a6f0352c9027f5dee8f8d3fa71341a51a40f (m): Going forward.\n",
      "Commit #110 2660f8d8820ddd399f04f6eacba71cdb8d4b54df (m): Going forward.\n",
      "Commit #111 b6c50bf67f34dc4213445dda4685c4792bb72f45 (m): Going forward.\n",
      "Commit #112 eba32ab1ddb487c9ceadbcafd7e0c2ddc5d1a39d (m): Going forward.\n",
      "Commit #113 6eacfd369e36f5ab0bcac1a7e63871ec63d71070 (m): Going forward.\n",
      "Commit #114 19b4668abd690ce39678ca74f7edfffa8a993aab (m): Going forward.\n",
      "Commit #115 519e81fc552b46684ac574eb5c6a89ed36c8ff42 (add): Going forward.\n",
      "Commit #116 dae4c1ab799b86921b9baad426207a5dcf8d5750 (m): Going forward.\n",
      "Commit #117 a7dbe8553fe83dd25dfb42645f74943e57fe8662 (m): Going forward.\n",
      "Commit #118 b7423ddbcbbb6758af66f735ab1f92da2fdc6075 (m): Going forward.\n",
      "Commit #119 3a45667fea6a744885786bcfba5e1e8d94cd741b (add spring-boot-webflux): Going forward.\n",
      "Commit #120 6d37b6f4e4e4b3757cb5c8396d101535d43fa667 (m): Going forward.\n",
      "Commit #121 f34096e0aef03d09a6e917586c611435bbf05d39 (update to 2.x): Going forward.\n",
      "Commit #122 ec86179e83f49ec1b66118039457c5eed5724660 (m): Going forward.\n",
      "Commit #123 21f0073f026a495cbecf8fd14abbc7a2b18e1fd2 (add redis examples): Going forward.\n",
      "Commit #124 e6ceae590ee7b31b8352f80b154921a32f28cd75 (update thymeleaf to 4.0): Going forward.\n",
      "Commit #125 7e5df2afe3f21546913af7f995e67ed94ae6365d (m): Going forward.\n",
      "Commit #126 8de7f6bbbae9267d079c8f93cbfa03467e0477a8 (add jpa examples): Going forward.\n",
      "Commit #127 dceecd005fc6878a4b1ad0c159a45bed8a428aaf (m): Going forward.\n",
      "Commit #128 1a73352e9c5e62b90911d8719f65357b7eaadc1f (m): Going forward.\n",
      "Commit #129 5850d24c87f278125c050ec7df6df0b80a7f3f2a (m): Going forward.\n",
      "Commit #130 c3129077f35cb551125eb66973e90be4c29d86f0 (m): Going forward.\n",
      "Commit #131 c40148a035aa000fe0999552ff8c0b8e784f987c (m): Going forward.\n",
      "Commit #132 49a412adf6d016de8ad68d0df8418b5a04590cb6 (m): Going forward.\n",
      "Commit #133 9c789b2202c6159234b45f6d6847b594f6910a94 (add spring boot hello): Going forward.\n",
      "Commit #134 94a16c677f73b0fb5898d46bd0d2b9910ec573a4 (add web operating examples): Going forward.\n",
      "Commit #135 2fc63de8a0b81d47122d1040561e6bdb6283d996 (add helloworld demo): Going forward.\n",
      "Commit #136 4f1a3d665a75690ca58ba24fb473e8dac8b96302 (add shields): Going forward.\n",
      "Commit #137 3e3ad701b7034a71fb6246c37bdd9d298b33bce4 (Spring Boot MyBatis Demo): Going forward.\n",
      "Commit #138 a1166aa189366cfce12cd5b312e20affc6a890d7 (update 6 to sb2): Going forward.\n",
      "Commit #139 da902e1e768f7fab778f863348c2fa28ff2a2383 (mybatis multi datasouce demo): Going forward.\n",
      "Commit #140 6c172907610ebabd6842244050691f0366ad6ae2 (RabbitMQ): Going forward.\n",
      "Commit #141 ed67c898d6bfb487e815e1220f2d027f256bafd2 (scheduler): Going forward.\n",
      "Commit #142 b8543683db5b7d47d9672b313a3e02d744e70cfd (update version to 2.10): Going forward.\n",
      "Commit #143 735db79e5520e2d07f1beabd0458be9f143ca6f2 (update version to 2.1.0): Going forward.\n",
      "Commit #144 55c366b583d8fe4e71394c65d38296c5fb7f0709 (update version to 2.10): Going forward.\n",
      "Commit #145 85c13a004b7f50b21eebef2f9759d6f8f63951e6 (link): Going forward.\n",
      "Spend time:  2310.3960020542145\n"
     ]
    }
   ],
   "source": [
    "import os\n",
    "import pytest\n",
    "import subprocess\n",
    "import shutil\n",
    "import time\n",
    "from persper.analytics.java import JavaGraphServer\n",
    "from persper.analytics.analyzer2 import Analyzer\n",
    "from persper.analytics.graph_server import JAVA_FILENAME_REGEXES\n",
    "from persper.util.path import root_path\n",
    "\n",
    "start = time.time()\n",
    "# Giturl: https://github.com/iluwatar/java-design-patterns.git\n",
    "repo_path = '/Users/zen/repos/spring-boot-examples'\n",
    "az = Analyzer(repo_path, JavaGraphServer(JAVA_FILENAME_REGEXES))\n",
    "await az.analyze()\n",
    "\n",
    "print(\"Spend time: \", time.time()-start)"
   ]
  },
  {
   "cell_type": "code",
   "execution_count": 13,
   "metadata": {
    "collapsed": true
   },
   "outputs": [],
   "source": [
    "az.originCommit = '6c172907610ebabd6842244050691f0366ad6ae2'"
   ]
  },
  {
   "cell_type": "code",
   "execution_count": 16,
   "metadata": {},
   "outputs": [
    {
     "name": "stdout",
     "output_type": "stream",
     "text": [
      "Commit #0 ed67c898d6bfb487e815e1220f2d027f256bafd2 (scheduler): Already visited.\n",
      "Commit #0 b8543683db5b7d47d9672b313a3e02d744e70cfd (update version to 2.10): Already visited.\n",
      "Commit #0 735db79e5520e2d07f1beabd0458be9f143ca6f2 (update version to 2.1.0): Already visited.\n",
      "Commit #0 55c366b583d8fe4e71394c65d38296c5fb7f0709 (update version to 2.10): Already visited.\n",
      "Commit #0 85c13a004b7f50b21eebef2f9759d6f8f63951e6 (link): Already visited.\n"
     ]
    }
   ],
   "source": [
    "await az.analyze()"
   ]
  },
  {
   "cell_type": "code",
   "execution_count": 25,
   "metadata": {},
   "outputs": [
    {
     "data": {
      "text/plain": [
       "<git.Commit \"85c13a004b7f50b21eebef2f9759d6f8f63951e6\">"
      ]
     },
     "execution_count": 25,
     "metadata": {},
     "output_type": "execute_result"
    }
   ],
   "source": [
    "az.terminalCommit"
   ]
  },
  {
   "cell_type": "code",
   "execution_count": 24,
   "metadata": {},
   "outputs": [
    {
     "data": {
      "text/plain": [
       "{'_repositoryRoot': '/Users/zen/repos/spring-boot-examples',\n",
       " '_graphServer': <persper.analytics.java.JavaGraphServer at 0x110e16908>,\n",
       " '_originCommit': '6c172907610ebabd6842244050691f0366ad6ae2',\n",
       " '_terminalCommit': '85c13a004b7f50b21eebef2f9759d6f8f63951e6',\n",
       " '_firstParentOnly': False,\n",
       " '_visitedCommits': {'03cb1f2c5cb2bbc57b0f81a8752e335a74d4c2e2',\n",
       "  '055c365349974bf702292256ac9d18e059678cad',\n",
       "  '068539bb2af7aa0ef1f23df1040e7af3b4b2657a',\n",
       "  '06d5780d8940522691921ac7b8a0d937bbc93150',\n",
       "  '08944c4dd79c1e567267f9d19ee2ec39968672f1',\n",
       "  '0d95841d369e8763591fb77a84f52dd7aea1c76a',\n",
       "  '0e44f5b1035595360d8a5e4b57a334f88dfc76bc',\n",
       "  '0f956ec6d1c9dcad71ae41379b5a6a8421271087',\n",
       "  '11d479c4b81034cbc5cf545480f303fca7f23749',\n",
       "  '1422d13c819c9049d930e66cbc14abb7fc5049bc',\n",
       "  '143c0b91013be32d73338c97b722e6e16b49edf8',\n",
       "  '146e37c1d7fe78597e556c6ab3d6f860abe0d818',\n",
       "  '18547457fec4579a42aebd572364dbe9150ac543',\n",
       "  '19b4668abd690ce39678ca74f7edfffa8a993aab',\n",
       "  '1a73352e9c5e62b90911d8719f65357b7eaadc1f',\n",
       "  '1b29aa512dbbd22892bc497c99cea20ed7435822',\n",
       "  '1f9f9a1c57a2085fb0506c453735b5da656576b8',\n",
       "  '21f0073f026a495cbecf8fd14abbc7a2b18e1fd2',\n",
       "  '2660f8d8820ddd399f04f6eacba71cdb8d4b54df',\n",
       "  '277ae77ab1b6925d559a79144ac4da076ead95a3',\n",
       "  '27ff04771ac1249cd05aa15b9f7c9ceae2ebeaa8',\n",
       "  '2a9a06801601b4a604896bf241dafdc8c214dc4e',\n",
       "  '2d0a65f60d45cc0ea7695a54c96a8cb25339cf02',\n",
       "  '2fc63de8a0b81d47122d1040561e6bdb6283d996',\n",
       "  '31743412e6a1ce1a79eb342c34edb07c467c450a',\n",
       "  '3733703150344ae733b71f56fabd3bfe10101170',\n",
       "  '374a1b819af1eca4c98b14cbde1ce56696f9c993',\n",
       "  '389fd0839be9fcc817eb913068c26b95f7b21fb0',\n",
       "  '3a45667fea6a744885786bcfba5e1e8d94cd741b',\n",
       "  '3e3ad701b7034a71fb6246c37bdd9d298b33bce4',\n",
       "  '3ef5de60f95e49c3a1403ec4945c7571a8eb06d0',\n",
       "  '43b0c083d18ffbd4cfc4a8cc69c9ce381d5ed080',\n",
       "  '43c7a6f0352c9027f5dee8f8d3fa71341a51a40f',\n",
       "  '4597adaf6c897756365396ccec6b8be0cf680889',\n",
       "  '49a412adf6d016de8ad68d0df8418b5a04590cb6',\n",
       "  '4a3ce5a984ed21f7927a860ec1318f0ce50facfb',\n",
       "  '4bd47ecd240a69883e4a4cee316b7ab11795b9d1',\n",
       "  '4c1c58cd5fce4c1864d350fc2c20ecce8f0eb18d',\n",
       "  '4d4eaa087b85f17938f355567875b7a1ece03b7f',\n",
       "  '4f1a3d665a75690ca58ba24fb473e8dac8b96302',\n",
       "  '4f4527682c2e484d90c981eb9c0218254f3ce8eb',\n",
       "  '4fdf113bbd081083e86610405f58a119a2bdfed3',\n",
       "  '519e81fc552b46684ac574eb5c6a89ed36c8ff42',\n",
       "  '55c366b583d8fe4e71394c65d38296c5fb7f0709',\n",
       "  '5850d24c87f278125c050ec7df6df0b80a7f3f2a',\n",
       "  '59b87e799db82ba42e4ddb5286e395b441b5a046',\n",
       "  '5f37099b9d0ed12f85fb6e45ae8d62ccc715b477',\n",
       "  '6391aece21fff2a7b52b228b85c8600653396a00',\n",
       "  '6422001baff6fa4c6185058a326b307ae73d0ca7',\n",
       "  '64e7b502b06ae1605170d96ab9e5cf6875ac3782',\n",
       "  '677a1838471eafb867fcb8f182c73423f2ec3d6e',\n",
       "  '68636ebef9bbfa4d47f68e21ceddf67156b21347',\n",
       "  '6a98e6a9c12b7550e29f33994f77d9fd78b59ba9',\n",
       "  '6c172907610ebabd6842244050691f0366ad6ae2',\n",
       "  '6c3e9832f73e42b35de68df968bf4d88254ea847',\n",
       "  '6d37b6f4e4e4b3757cb5c8396d101535d43fa667',\n",
       "  '6eacfd369e36f5ab0bcac1a7e63871ec63d71070',\n",
       "  '705733ed458fd351c87dde652218415335d9a955',\n",
       "  '70a2b4c5883cb448501988abb0a20af2b0db6196',\n",
       "  '70d15853208bb989bb91909143ec8fad2462883b',\n",
       "  '70dcdafbe3080c6d29ec9cb2e4df35861a55f983',\n",
       "  '732ddfad56aae318a102f923b87157378cd6c5a1',\n",
       "  '735db79e5520e2d07f1beabd0458be9f143ca6f2',\n",
       "  '7462129a323963f7e7236e78dfeaed7d1f44e318',\n",
       "  '750cfdfcc731571ad6dfceb3471ace97cfd60266',\n",
       "  '7e5df2afe3f21546913af7f995e67ed94ae6365d',\n",
       "  '7f2691aafab1c1b23d2bad6d69298a515c63cf88',\n",
       "  '800465e287d271ac68d58d75875511b38581ebc8',\n",
       "  '821d723a1084ccd581481b7b937995c374be6f71',\n",
       "  '840c9537162b12d44ec4463e3ca9f4e75ecfe556',\n",
       "  '853b7dfb3f00312f76b0ca2f9abe7fdc4319b421',\n",
       "  '85c13a004b7f50b21eebef2f9759d6f8f63951e6',\n",
       "  '86c59f47c33692018c789355ccf30d90e5e91b6a',\n",
       "  '8897031cb6026de6d3366a482564e1ddfd465765',\n",
       "  '8ae00f8af7e59e38b6fc5284c31bc13ecaa98f05',\n",
       "  '8bc1baf7cd5ed3914b5d1cf80f0d1c771d7fd371',\n",
       "  '8d6a84c6ec67b6c97736a6413dcf11a19b39322c',\n",
       "  '8de7f6bbbae9267d079c8f93cbfa03467e0477a8',\n",
       "  '927083cbdbc76bd84ee5299a36ad8d7ddae4e41c',\n",
       "  '93f8a944a2da74c50c6b030e4b195dedd672b252',\n",
       "  '94a16c677f73b0fb5898d46bd0d2b9910ec573a4',\n",
       "  '9c789b2202c6159234b45f6d6847b594f6910a94',\n",
       "  '9d0b0db42a1d2855ef85f9190bd5d45b760ed366',\n",
       "  '9d18d3e6861f90642a13bce1c8af4e59e686a367',\n",
       "  '9dba276fda2dbb3aa2437890c7c3ad1ceb59fe90',\n",
       "  '9e4645484728f46342ca1d144b2332193fd2da61',\n",
       "  '9f46146b2e9a7f3b77551979b09aa88e07166de0',\n",
       "  'a1166aa189366cfce12cd5b312e20affc6a890d7',\n",
       "  'a21b3b2ff01fcd1a55bc4b7f3f3de50435e3aa55',\n",
       "  'a4105ecb7732be4d23ab49810d511b99da75c650',\n",
       "  'a7dbe8553fe83dd25dfb42645f74943e57fe8662',\n",
       "  'a966f8f08e1dcefce7b6051542812a3ba050cd49',\n",
       "  'ab3a8ac0edb2a7868070b775caad72ba3c386e52',\n",
       "  'b254a27a7f24fc2aede3b300f52318fd5fc2c8cf',\n",
       "  'b6c50bf67f34dc4213445dda4685c4792bb72f45',\n",
       "  'b7423ddbcbbb6758af66f735ab1f92da2fdc6075',\n",
       "  'b7d0f52e3d924eaa92a01b5f0035a6cb0d10ac98',\n",
       "  'b8543683db5b7d47d9672b313a3e02d744e70cfd',\n",
       "  'b8c27a449d37058e85ae390bdc735dc3396344c5',\n",
       "  'b90dce5e92bcda38c3dc980d65d016fc9fee7ca9',\n",
       "  'b952f4548e3c03d73d8119a535add6e183d3e3b1',\n",
       "  'bbf8a77713fc0b71dcd984c954fa844b60675015',\n",
       "  'bf583172a4af75185ad1d841291f4dc541eae520',\n",
       "  'c1f08addb8cb7935adad057b274016afdccd120a',\n",
       "  'c3129077f35cb551125eb66973e90be4c29d86f0',\n",
       "  'c40148a035aa000fe0999552ff8c0b8e784f987c',\n",
       "  'c7e2a91138ce1b61ce10dc54719b6daab93836fa',\n",
       "  'c87bcc5f0b985d803ba70e8e20aaaee44aab0227',\n",
       "  'cb098ca68eafd30b49ea50bcc937604e3feb9f5b',\n",
       "  'cd054025d837ba7d5a58abbd6c0ced376f421ca7',\n",
       "  'cd300dba83d20216b3c3a00f96336f9da8ab35ce',\n",
       "  'cfdcd268bcab73abbaed0ad7b79e23f43fb77585',\n",
       "  'd054e7503df267383a411d0a63f3886500ce82aa',\n",
       "  'd0c536743afb8c41a02df35323d8930e11d4db4e',\n",
       "  'd0c552b4030f7962e1291295f189afd1c9b77020',\n",
       "  'd12da7cea3c4bc3552d85d99751b02b2a856c59f',\n",
       "  'd4588da0329a6fd54052ffc96a0c2c58899c39bf',\n",
       "  'd4df240793d099be9f69c1b7ef53fe3d64f9af36',\n",
       "  'd7736bb1a8826e648522b11a942f17ffa3eff35e',\n",
       "  'd937c88ceacdcf2a3c6b3979e51e6f2cac9360cd',\n",
       "  'da902e1e768f7fab778f863348c2fa28ff2a2383',\n",
       "  'dae4c1ab799b86921b9baad426207a5dcf8d5750',\n",
       "  'dbea8ebad5dca02ef9c2cfd7430a576698fbbece',\n",
       "  'dc3e0f27e68db68d768ad6c0f8e5cc7f6ca49fd8',\n",
       "  'dceecd005fc6878a4b1ad0c159a45bed8a428aaf',\n",
       "  'e1a4e4ba5bb5c6a4c865fe5751a2565f13820465',\n",
       "  'e29d588fbe01275e552dce7cfb8f7ea7d4562118',\n",
       "  'e659e6501fac37017a02b4cf313c6fba62caa0cb',\n",
       "  'e6ceae590ee7b31b8352f80b154921a32f28cd75',\n",
       "  'e73f99b81323e05b01ffedb68b7fa0f95c493a3f',\n",
       "  'e9265e2c81a9ceb09f22f4b244078470c3f60f18',\n",
       "  'eade0fc687148f6aecf20de940061d18521c78c7',\n",
       "  'eba32ab1ddb487c9ceadbcafd7e0c2ddc5d1a39d',\n",
       "  'ec5d9c6136a6594010206c5fc0d703365e672a40',\n",
       "  'ec86179e83f49ec1b66118039457c5eed5724660',\n",
       "  'ecca616618060127401ddb67752280a6cd7be609',\n",
       "  'ed67c898d6bfb487e815e1220f2d027f256bafd2',\n",
       "  'effaf3f8c695b1313e74e0ed00355499f801718e',\n",
       "  'f34096e0aef03d09a6e917586c611435bbf05d39',\n",
       "  'f3d76cf09b26fb9a18790320ec081e62cc5eaaa3',\n",
       "  'f7348b2e3b489c70c9288922e8b8df609e9b8863',\n",
       "  'f9d6eda3553aca3ab92361eeb6bd5faf68adb5a6',\n",
       "  'fcbe72632ff542a63fa624d7bdd187a970c768f0',\n",
       "  'fdd2e2974cb92d330d5df747a7b67691b5ec7686',\n",
       "  'fe1603d38e100075a5ce1964592a3e20b86b90f2',\n",
       "  'fef36e2e201354f640b0304d46592e532e9e0810'},\n",
       " '_commit_classifier': None,\n",
       " '_clf_results': {}}"
      ]
     },
     "execution_count": 24,
     "metadata": {},
     "output_type": "execute_result"
    }
   ],
   "source": [
    "az.__getstate__()"
   ]
  },
  {
   "cell_type": "code",
   "execution_count": null,
   "metadata": {
    "collapsed": true
   },
   "outputs": [],
   "source": [
    "ccgraph._digraph.graph['commits'].values"
   ]
  },
  {
   "cell_type": "code",
   "execution_count": null,
   "metadata": {
    "collapsed": true
   },
   "outputs": [],
   "source": [
    "dev_modules = modules_on_dev('xu@meri.co')"
   ]
  },
  {
   "cell_type": "code",
   "execution_count": null,
   "metadata": {
    "collapsed": true
   },
   "outputs": [],
   "source": [
    "dev_modules"
   ]
  },
  {
   "cell_type": "code",
   "execution_count": null,
   "metadata": {
    "collapsed": true
   },
   "outputs": [],
   "source": [
    "for item in dev_modules.items():\n",
    "    print(item[0])"
   ]
  },
  {
   "cell_type": "code",
   "execution_count": null,
   "metadata": {
    "collapsed": true
   },
   "outputs": [],
   "source": [
    "commit_share = az.get_graph().commit_devranks(alpha, black_set=[])"
   ]
  },
  {
   "cell_type": "code",
   "execution_count": null,
   "metadata": {
    "collapsed": true
   },
   "outputs": [],
   "source": [
    "commits = []\n",
    "for commit in az._ri.repo.iter_commits():\n",
    "    commits.append(commit)\n",
    "\n",
    "commits = commits[:5]"
   ]
  },
  {
   "cell_type": "code",
   "execution_count": null,
   "metadata": {
    "collapsed": true
   },
   "outputs": [],
   "source": [
    "def get_top_commits(commits, commit_share):\n",
    "    top_commits = []\n",
    "    for commit in commits:\n",
    "        if commit.hexsha in commit_share:\n",
    "            share_value = commit_share[commit.hexsha]\n",
    "            top_commits.append({\n",
    "                'author_email': commit.author.email,\n",
    "                'author_name': commit.author.name,\n",
    "                'author_timestamp': commit.authored_date,\n",
    "                'committer_email': commit.committer.email,\n",
    "                'committer_name': commit.committer.name,\n",
    "                'commit_timestamp': commit.committed_date,\n",
    "                'hash': commit.hexsha,\n",
    "                'parent_hashes': [p.hexsha for p in commit.parents],\n",
    "                'dev_value': share_value,\n",
    "                'title': commit.message.splitlines()[0],\n",
    "                'message': commit.message\n",
    "                })\n",
    "            \n",
    "    top_commits = sorted(top_commits, key=lambda k: k['dev_value'],  reverse=True)[:10]\n",
    "    \n",
    "    print(top_commits)\n",
    "\n",
    "    return top_commits"
   ]
  },
  {
   "cell_type": "code",
   "execution_count": null,
   "metadata": {
    "collapsed": true
   },
   "outputs": [],
   "source": [
    "get_top_commits(commits, commit_share)"
   ]
  },
  {
   "cell_type": "code",
   "execution_count": null,
   "metadata": {
    "collapsed": true
   },
   "outputs": [],
   "source": [
    "print(len(get_top_commits(commits, commit_share)))"
   ]
  },
  {
   "cell_type": "code",
   "execution_count": null,
   "metadata": {
    "collapsed": true
   },
   "outputs": [],
   "source": [
    "commits2 = []\n",
    "for commit in az._ri.repo.iter_commits():\n",
    "    if len(commit.parents) > 0:\n",
    "        commits2.append(commit)\n"
   ]
  },
  {
   "cell_type": "code",
   "execution_count": null,
   "metadata": {
    "collapsed": true
   },
   "outputs": [],
   "source": []
  },
  {
   "cell_type": "code",
   "execution_count": null,
   "metadata": {
    "collapsed": true
   },
   "outputs": [],
   "source": [
    "commits"
   ]
  },
  {
   "cell_type": "code",
   "execution_count": null,
   "metadata": {
    "collapsed": true
   },
   "outputs": [],
   "source": [
    "from vdev.build_analyzer import developer_profile\n",
    "\n",
    "devs = developer_profile('Andromeda-finished-0.pickle')"
   ]
  },
  {
   "cell_type": "code",
   "execution_count": null,
   "metadata": {
    "collapsed": true
   },
   "outputs": [],
   "source": [
    "devs"
   ]
  },
  {
   "cell_type": "code",
   "execution_count": null,
   "metadata": {
    "collapsed": true
   },
   "outputs": [],
   "source": [
    "az.get_graph().commit_devranks(0.85, black_set=[])"
   ]
  },
  {
   "cell_type": "code",
   "execution_count": null,
   "metadata": {
    "collapsed": true
   },
   "outputs": [],
   "source": [
    "from persper.analytics.score import normalize\n",
    "\n",
    "sum(normalize(az.get_graph().commit_devranks(0.85, black_set=[])).values())"
   ]
  },
  {
   "cell_type": "code",
   "execution_count": null,
   "metadata": {
    "collapsed": true
   },
   "outputs": [],
   "source": [
    "from vdev.build_analyzer import basic_stats"
   ]
  },
  {
   "cell_type": "code",
   "execution_count": null,
   "metadata": {
    "collapsed": true
   },
   "outputs": [],
   "source": [
    "pickle_path = 'bitcoin-finished-0.pickle'\n",
    "\n",
    "stats = basic_stats(pickle_path)\n"
   ]
  },
  {
   "cell_type": "code",
   "execution_count": null,
   "metadata": {
    "collapsed": true
   },
   "outputs": [],
   "source": [
    "# for i, value in dev_share['xu@meri.co']['modules'].items():\n",
    "# #      \n",
    "#     dev_share['xu@meri.co']['modules'][i] = value*0.1\n",
    "a = stats"
   ]
  },
  {
   "cell_type": "code",
   "execution_count": null,
   "metadata": {
    "collapsed": true
   },
   "outputs": [],
   "source": [
    "a"
   ]
  },
  {
   "cell_type": "code",
   "execution_count": null,
   "metadata": {
    "collapsed": true
   },
   "outputs": [],
   "source": []
  }
 ],
 "metadata": {
  "kernelspec": {
   "display_name": "code-analytics",
   "language": "python",
   "name": "code-analytics"
  },
  "language_info": {
   "codemirror_mode": {
    "name": "ipython",
    "version": 3
   },
   "file_extension": ".py",
   "mimetype": "text/x-python",
   "name": "python",
   "nbconvert_exporter": "python",
   "pygments_lexer": "ipython3",
   "version": "3.6.3"
  }
 },
 "nbformat": 4,
 "nbformat_minor": 2
}
