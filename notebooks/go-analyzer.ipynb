{
 "cells": [
  {
   "cell_type": "code",
   "execution_count": 22,
   "metadata": {},
   "outputs": [
    {
     "data": {
      "text/plain": [
       "0"
      ]
     },
     "execution_count": 22,
     "metadata": {},
     "output_type": "execute_result"
    }
   ],
   "source": [
    "import os\n",
    "import time\n",
    "import pytest\n",
    "import shutil\n",
    "import subprocess\n",
    "from persper.analytics.graph_server import GO_FILENAME_REGEXES\n",
    "from persper.analytics.go import GoGraphServer\n",
    "from persper.analytics.analyzer import Analyzer\n",
    "from persper.util.path import root_path\n",
    "\n",
    "server_port = 9089\n",
    "server_addr = 'http://localhost:%d' % server_port\n",
    "\n",
    "repo_path = os.path.join(root_path, 'repos/go_test_repo')\n",
    "script_path = os.path.join(root_path, 'tools/repo_creater/create_repo.py')\n",
    "test_src_path = os.path.join(root_path, 'test/go_test_repo')\n",
    "\n",
    "# Always use latest source to create test repo\n",
    "if os.path.exists(repo_path):\n",
    "    shutil.rmtree(repo_path)\n",
    "\n",
    "cmd = '{} {}'.format(script_path, test_src_path)\n",
    "subprocess.call(cmd, shell=True)"
   ]
  },
  {
   "cell_type": "code",
   "execution_count": 23,
   "metadata": {},
   "outputs": [
    {
     "name": "stdout",
     "output_type": "stream",
     "text": [
      "----- Overview ------\n",
      "# of commits on master: 4\n",
      "# of commits on branch: 0\n",
      "----- No.1 3aa4c6701147040c5a2e82e947e54c23ef51c349 on main -----\n",
      "----- No.2 28e741d00210c71ef5e5d56923d7b1969f83982d on main -----\n",
      "----- No.3 d059c6082bb415d9edf3dc3231d7e755913f42ba on main -----\n",
      "----- No.4 61fa8843e9db5dda0cb9d0736de3d17cd0f80e5b on main -----\n"
     ]
    }
   ],
   "source": [
    "az = Analyzer(repo_path, GoGraphServer(server_addr, GO_FILENAME_REGEXES))\n",
    "await az.analyze(from_beginning=True)"
   ]
  },
  {
   "cell_type": "code",
   "execution_count": 24,
   "metadata": {
    "collapsed": true
   },
   "outputs": [],
   "source": [
    "ccgraph = az.get_graph()"
   ]
  },
  {
   "cell_type": "code",
   "execution_count": 29,
   "metadata": {},
   "outputs": [
    {
     "data": {
      "text/plain": [
       "{'commitList': [{'hexsha': '3aa4c6701147040c5a2e82e947e54c23ef51c349',\n",
       "   'author_name': '郑旭',\n",
       "   'author_email': 'zhengxu5511@gmail.com',\n",
       "   'message': ' A\\n'},\n",
       "  {'hexsha': '28e741d00210c71ef5e5d56923d7b1969f83982d',\n",
       "   'author_name': '郑旭',\n",
       "   'author_email': 'zhengxu5511@gmail.com',\n",
       "   'message': ' B\\n'},\n",
       "  {'hexsha': 'd059c6082bb415d9edf3dc3231d7e755913f42ba',\n",
       "   'author_name': '郑旭',\n",
       "   'author_email': 'zhengxu5511@gmail.com',\n",
       "   'message': ' C\\n'},\n",
       "  {'hexsha': '61fa8843e9db5dda0cb9d0736de3d17cd0f80e5b',\n",
       "   'author_name': '郑旭',\n",
       "   'author_email': 'zhengxu5511@gmail.com',\n",
       "   'message': ' D\\n'}]}"
      ]
     },
     "execution_count": 29,
     "metadata": {},
     "output_type": "execute_result"
    }
   ],
   "source": [
    "ccgraph._digraph.graph"
   ]
  },
  {
   "cell_type": "code",
   "execution_count": 39,
   "metadata": {},
   "outputs": [
    {
     "data": {
      "text/plain": [
       "<persper.analytics.call_commit_graph.CallCommitGraph at 0x12927b668>"
      ]
     },
     "execution_count": 39,
     "metadata": {},
     "output_type": "execute_result"
    }
   ],
   "source": [
    "az.get_graph()"
   ]
  },
  {
   "cell_type": "code",
   "execution_count": 40,
   "metadata": {},
   "outputs": [
    {
     "name": "stdout",
     "output_type": "stream",
     "text": [
      "['main.go', 'main.go', 'main.go', 'main.go']\n",
      "['main.go', 'main.go', 'main.go', 'main.go']\n",
      "['main.go', 'main.go', 'main.go', 'main.go']\n",
      "['main.go', 'main.go', 'main.go']\n",
      "['main.go']\n"
     ]
    }
   ],
   "source": [
    "import pickle\n",
    "bitcoin_path = \"test_feature_branch-finished-0.pickle\"\n",
    "az = pickle.load(open(bitcoin_path, 'rb'))\n",
    "ccgraph = az.get_graph()\n",
    "\n",
    "for node in ccgraph.nodes():\n",
    "    print(ccgraph._digraph.nodes[node]['files'])"
   ]
  },
  {
   "cell_type": "code",
   "execution_count": null,
   "metadata": {
    "collapsed": true
   },
   "outputs": [],
   "source": []
  }
 ],
 "metadata": {
  "kernelspec": {
   "display_name": "code-analytics",
   "language": "python",
   "name": "code-analytics"
  },
  "language_info": {
   "codemirror_mode": {
    "name": "ipython",
    "version": 3
   },
   "file_extension": ".py",
   "mimetype": "text/x-python",
   "name": "python",
   "nbconvert_exporter": "python",
   "pygments_lexer": "ipython3",
   "version": "3.6.3"
  }
 },
 "nbformat": 4,
 "nbformat_minor": 2
}
