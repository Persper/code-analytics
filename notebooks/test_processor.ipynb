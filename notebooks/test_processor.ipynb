{
 "cells": [
  {
   "cell_type": "code",
   "execution_count": 1,
   "metadata": {
    "collapsed": false
   },
   "outputs": [],
   "source": [
    "from graphs.processor import Processor\n",
    "p = Processor('../repos/linux-kernel')"
   ]
  },
  {
   "cell_type": "code",
   "execution_count": 2,
   "metadata": {
    "collapsed": false
   },
   "outputs": [
    {
     "name": "stdout",
     "output_type": "stream",
     "text": [
      "------ No.1 a3c77c67a443e631febf708bb0c376caede31657 ------\n",
      "a3c77c67a443e631febf708bb0c376caede31657:M M A R M M M M M\n",
      "------ No.2 f797f9cc5485b50c35c106b462e1bc432ec37f90 ------\n",
      "f797f9cc5485b50c35c106b462e1bc432ec37f90:M\n",
      "------ No.3 6df3cecbb95345981718b38d357c50bc3425420a ------\n",
      "6df3cecbb95345981718b38d357c50bc3425420a:M\n",
      "------ No.4 e2c16499515aa044676a14b97a1b8a35f879152a ------\n",
      "e2c16499515aa044676a14b97a1b8a35f879152a:M\n",
      "------ No.5 223230e78900e5f0be984f7697cb9bf172d71a35 ------\n",
      "223230e78900e5f0be984f7697cb9bf172d71a35:M\n",
      "------ No.6 92c6dc59b7c1ca514021502c7eef53b9f2c738fd ------\n",
      "92c6dc59b7c1ca514021502c7eef53b9f2c738fd:M\n",
      "------ No.7 9a47696970bc8233818d370011e2fddae5cfce9f ------\n",
      "9a47696970bc8233818d370011e2fddae5cfce9f:M\n",
      "------ No.8 efa93dbedd0e2eacf49ea6fff1fe4397d520cf61 ------\n",
      "efa93dbedd0e2eacf49ea6fff1fe4397d520cf61:M\n",
      "------ No.9 dcf78d80a6c2de829ec08c8e663a3370e982d616 ------\n",
      "dcf78d80a6c2de829ec08c8e663a3370e982d616:M\n",
      "------ No.10 4845f3333765b732aa2d7ea6d72fd03cfec4fbf3 ------\n",
      "4845f3333765b732aa2d7ea6d72fd03cfec4fbf3:M M M M\n",
      "------ No.11 1016888fb69662936b32ab767c7419a3be9a69d3 ------\n",
      "1016888fb69662936b32ab767c7419a3be9a69d3:M\n",
      "------ No.12 bcfff0b471a60df350338bcd727fc9b8a6aa54b2 ------\n",
      "bcfff0b471a60df350338bcd727fc9b8a6aa54b2:M\n",
      "------ No.13 9c56187d3c345cc0e7a2f162b8c32543175d7bf7 ------\n",
      "9c56187d3c345cc0e7a2f162b8c32543175d7bf7:M\n",
      "------ No.14 c374f127e4ff17a318b9ae95a5bf65f370c2d0b1 ------\n",
      "c374f127e4ff17a318b9ae95a5bf65f370c2d0b1:M\n",
      "------ No.15 a2ef79e1840ebbd0b5907e53c755efd5662112a1 ------\n",
      "a2ef79e1840ebbd0b5907e53c755efd5662112a1:M\n",
      "------ No.16 5db92850d3ab72b830a0fe6e30eaec8462801408 ------\n",
      "5db92850d3ab72b830a0fe6e30eaec8462801408:M\n",
      "------ No.17 e41fb09b2fa15db095d3ee981299f488d7b48dfe ------\n",
      "e41fb09b2fa15db095d3ee981299f488d7b48dfe:M\n",
      "------ No.18 58125f95c62a44f12bb71c58ef70f0068d20c7a2 ------\n",
      "58125f95c62a44f12bb71c58ef70f0068d20c7a2:M\n",
      "------ No.19 c081474c184b34136e09e1e335f41356a11c7b68 ------\n",
      "c081474c184b34136e09e1e335f41356a11c7b68:M\n",
      "------ No.20 90ef713b6368dcfe7a74bcc0026b998b4c44d5bc ------\n",
      "90ef713b6368dcfe7a74bcc0026b998b4c44d5bc:M\n",
      "------ No.21 fea7722fd7b45c6957caed84251d95269319fe16 ------\n",
      "fea7722fd7b45c6957caed84251d95269319fe16:M M\n",
      "------ No.22 95220a2ea334b5ff2168cc9bf31c0e08b29bae21 ------\n",
      "95220a2ea334b5ff2168cc9bf31c0e08b29bae21:M\n",
      "------ No.23 043cf3fd20a22df5957c28888f4c8d41438f2140 ------\n",
      "043cf3fd20a22df5957c28888f4c8d41438f2140:M M M M\n",
      "------ No.24 22f11c4e662ef0bdd87f09370a76c83ed738d5fd ------\n",
      "22f11c4e662ef0bdd87f09370a76c83ed738d5fd:M M\n",
      "------ No.25 97008082eacab047c189028202e055280f799ace ------\n",
      "97008082eacab047c189028202e055280f799ace:M M\n",
      "------ No.26 db3b5848ea6440968fcdd29b80514d0de044bb7c ------\n",
      "db3b5848ea6440968fcdd29b80514d0de044bb7c:M\n",
      "------ No.27 caf2857ac6e0ba2651e722f05d5f7d3ec8ef2615 ------\n",
      "caf2857ac6e0ba2651e722f05d5f7d3ec8ef2615:M M\n",
      "------ No.28 794f5bfa77955c4455f6d72d8b0e2bee25f1ff0c ------\n",
      "794f5bfa77955c4455f6d72d8b0e2bee25f1ff0c:M\n",
      "------ No.29 dfd11c2e61d3c0c417d341866ed53c44933b65b4 ------\n",
      "dfd11c2e61d3c0c417d341866ed53c44933b65b4:M\n",
      "------ No.30 9ee1c939d1cb936b1f98e8d81aeffab57bae46ab ------\n",
      "9ee1c939d1cb936b1f98e8d81aeffab57bae46ab:M\n"
     ]
    }
   ],
   "source": [
    "p.process('v2.6.12', 30, verbose=True)"
   ]
  },
  {
   "cell_type": "code",
   "execution_count": null,
   "metadata": {
    "collapsed": true
   },
   "outputs": [],
   "source": []
  }
 ],
 "metadata": {
  "anaconda-cloud": {},
  "kernelspec": {
   "display_name": "Python [conda root]",
   "language": "python",
   "name": "conda-root-py"
  },
  "language_info": {
   "codemirror_mode": {
    "name": "ipython",
    "version": 3
   },
   "file_extension": ".py",
   "mimetype": "text/x-python",
   "name": "python",
   "nbconvert_exporter": "python",
   "pygments_lexer": "ipython3",
   "version": "3.5.2"
  }
 },
 "nbformat": 4,
 "nbformat_minor": 1
}
