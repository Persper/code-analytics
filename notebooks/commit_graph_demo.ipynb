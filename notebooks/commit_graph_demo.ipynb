{
 "cells": [
  {
   "cell_type": "code",
   "execution_count": null,
   "metadata": {},
   "outputs": [],
   "source": [
    "import sys\n",
    "sys.path.append('../lib')\n",
    "\n",
    "from graphs.commit_graph import draw_commit_graph"
   ]
  },
  {
   "cell_type": "code",
   "execution_count": null,
   "metadata": {
    "deletable": true,
    "editable": true
   },
   "outputs": [],
   "source": [
    "draw_commit_graph('../repos/audience1st', 'RUBY', num_commits=100)"
   ]
  },
  {
   "cell_type": "code",
   "execution_count": null,
   "metadata": {
    "deletable": true,
    "editable": true
   },
   "outputs": [],
   "source": [
    "draw_commit_graph('../repos/Sexain-Memcontroller', 'CPP')"
   ]
  },
  {
   "cell_type": "code",
   "execution_count": null,
   "metadata": {
    "deletable": true,
    "editable": true
   },
   "outputs": [],
   "source": [
    "\"\"\"\n",
    "diff --git b/file1.txt a/file1.txt\n",
    "new file mode 100644\n",
    "index 0000000000000000000000000000000000000000..be2348c3d866b914c3a6e7d6c555bb5d7bd304bc\n",
    "--- /dev/null\n",
    "+++ a/file1.txt\n",
    "@@ -0,0 +1 @@\n",
    "+random stuff in file1\n",
    "\n",
    "diff --git b/file2.txt a/file2.txt\n",
    "new file mode 100644\n",
    "index 0000000000000000000000000000000000000000..418e1293379426f4cbbac7faec06d10783e433dd\n",
    "--- /dev/null\n",
    "+++ a/file2.txt\n",
    "@@ -0,0 +1 @@\n",
    "+random stuff in file2.txt\n",
    "diff --git b/file1.txt a/file3.txt\n",
    "similarity index 100%\n",
    "rename from file1.txt\n",
    "rename to file3.txt\n",
    "\n",
    "diff --git b/file3.txt a/file3.txt\n",
    "index be2348c3d866b914c3a6e7d6c555bb5d7bd304bc..c823b19ce6a339cd8245783669a0c0d55bd94528 100644\n",
    "--- b/file3.txt\n",
    "+++ a/file3.txt\n",
    "@@ -1 +1 @@\n",
    "-random stuff in file1\n",
    "+random stuff in file3.txt\n",
    "diff --git b/file4.txt a/file4.txt\n",
    "new file mode 100644\n",
    "index 0000000000000000000000000000000000000000..06c33614449231211067102407f59cdfaaecd969\n",
    "--- /dev/null\n",
    "+++ a/file4.txt\n",
    "@@ -0,0 +1 @@\n",
    "+some random stuff in file4.txt\n",
    "\n",
    "diff --git b/file2.txt a/file2.txt\n",
    "deleted file mode 100644\n",
    "index 418e1293379426f4cbbac7faec06d10783e433dd..0000000000000000000000000000000000000000\n",
    "--- b/file2.txt\n",
    "+++ /dev/null\n",
    "@@ -1 +0,0 @@\n",
    "-random stuff in file2.txt\n",
    "diff --git b/file5.txt a/file5.txt\n",
    "new file mode 100644\n",
    "index 0000000000000000000000000000000000000000..e69de29bb2d1d6434b8b29ae775ad8c2e48c5391\n",
    "\n",
    "diff --git b/file4.txt a/file4.txt\n",
    "deleted file mode 100644\n",
    "index 06c33614449231211067102407f59cdfaaecd969..0000000000000000000000000000000000000000\n",
    "--- b/file4.txt\n",
    "+++ /dev/null\n",
    "@@ -1 +0,0 @@\n",
    "-some random stuff in file4.txt\n",
    "diff --git b/file6.txt a/file6.txt\n",
    "new file mode 100644\n",
    "index 0000000000000000000000000000000000000000..7572d73dde61720d2c8742e4af924ad7a1bb1d18\n",
    "--- /dev/null\n",
    "+++ a/file6.txt\n",
    "@@ -0,0 +1,2 @@\n",
    "+random stuff in file4.txt\n",
    "+this file will be renamed to file6.txt in this commit\n",
    "\n",
    "diff --git b/file6.txt a/file7.txt\n",
    "similarity index 97%\n",
    "rename from file6.txt\n",
    "rename to file7.txt\n",
    "index 7572d73dde61720d2c8742e4af924ad7a1bb1d18..92f420a9cbfaa9be9966a12abb312f0d5d7c4423 100644\n",
    "--- b/file6.txt\n",
    "+++ a/file7.txt\n",
    "@@ -1,2 +1,3 @@\n",
    " random stuff in file4.txt\n",
    " this file will be renamed to file6.txt in this commit\n",
    "+a\n",
    "-a\n",
    "\n",
    "\"\"\"\n",
    "# print(text.decode('utf-8')) \n",
    "# line 415 in /Users/Beaver/anaconda3/lib/python3.5/site-packages/git/diff.py"
   ]
  }
 ],
 "metadata": {
  "anaconda-cloud": {},
  "kernelspec": {
   "display_name": "Python 3",
   "language": "python",
   "name": "python3"
  },
  "language_info": {
   "codemirror_mode": {
    "name": "ipython",
    "version": 3
   },
   "file_extension": ".py",
   "mimetype": "text/x-python",
   "name": "python",
   "nbconvert_exporter": "python",
   "pygments_lexer": "ipython3",
   "version": "3.5.2"
  }
 },
 "nbformat": 4,
 "nbformat_minor": 1
}
