{
 "cells": [
  {
   "cell_type": "code",
   "execution_count": 1,
   "metadata": {
    "collapsed": true
   },
   "outputs": [],
   "source": [
    "import os\n",
    "import time\n",
    "import pickle\n",
    "import datetime as dt\n",
    "import matplotlib.dates as md\n",
    "import matplotlib.pyplot as plt\n",
    "from persper.util.path import root_path\n",
    "from persper.analytics.analyzer import Analyzer\n",
    "from persper.analytics.analyzer import AnalyzerObserver\n",
    "from persper.analytics.cpp import CPPGraphServer\n",
    "from persper.analytics.iterator import RepoIterator\n",
    "from persper.analytics.graph_server import CPP_FILENAME_REGEXES\n",
    "from datetime import date\n",
    "alpha = 0.85\n",
    "\n",
    "# Repo: https://github.com/zhengxu001/Julylesson.git\n",
    "repo_path = '/Users/zen/repos/zhengxu001/Julylesson'\n",
    "az = Analyzer(repo_path, CPPGraphServer(CPP_FILENAME_REGEXES))\n",
    "# from vdev.analyzer_observer_vdev import AnalyzerObserverVdev\n",
    "# observer = AnalyzerObserverVdev('127.0.0.1', '6379', 'test_git_url')\n",
    "# az.observer = observer\n",
    "await az.analyze(from_beginning=True, into_branches=True)"
   ]
  },
  {
   "cell_type": "code",
   "execution_count": 2,
   "metadata": {
    "collapsed": true
   },
   "outputs": [],
   "source": [
    "# Repo: https://github.com/zhengxu001/Julylesson.git\n",
    "repo_path = '/Users/zen/repos/zhengxu001/Julylesson'\n",
    "az = Analyzer(repo_path, CPPGraphServer(CPP_FILENAME_REGEXES))\n",
    "# from vdev.analyzer_observer_vdev import AnalyzerObserverVdev\n",
    "# observer = AnalyzerObserverVdev('127.0.0.1', '6379', 'test_git_url')\n",
    "# az.observer = observer\n",
    "await az.analyze(from_beginning=True, into_branches=True)"
   ]
  },
  {
   "cell_type": "code",
   "execution_count": 3,
   "metadata": {},
   "outputs": [
    {
     "name": "stdout",
     "output_type": "stream",
     "text": [
      "----- Overview ------\n",
      "# of commits on master: 4\n",
      "# of commits on branch: 0\n",
      "----- No.1 27cd16909244810ef303aa656bc647cbb7bcd443 on main -----\n",
      "['2.4000000000000004']\n",
      "----- No.2 c2fa230e5c3bf2531a7e782d1074eb1ebfa3ba7d on main -----\n",
      "var/folders/tt/95wym3rx14j6cmc9pp_3qf500000gn/T/tmpf7w8q2s8.c\n",
      "['1.6']\n",
      "----- No.3 86d9809f90a05857707d5ffea32ec6b6179b73f3 on main -----\n",
      "var/folders/tt/95wym3rx14j6cmc9pp_3qf500000gn/T/tmpcrmrmppz.c\n",
      "var/folders/tt/95wym3rx14j6cmc9pp_3qf500000gn/T/tmpetep5c9j.c\n",
      "['0.8']\n",
      "----- No.4 ccce439bf6c83813fe6081dc61403ee9196f0140 on main -----\n",
      "var/folders/tt/95wym3rx14j6cmc9pp_3qf500000gn/T/tmpsg6_e76h.c\n",
      "var/folders/tt/95wym3rx14j6cmc9pp_3qf500000gn/T/tmpynn3xumx.c\n",
      "var/folders/tt/95wym3rx14j6cmc9pp_3qf500000gn/T/tmpn5um_u41.c\n",
      "['0.0']\n"
     ]
    }
   ],
   "source": [
    "from vdev.analyzer_observer_vdev import AnalyzerObserverVdev\n",
    "observer = AnalyzerObserverVdev('127.0.0.1', '6379', 'test_git_url')\n",
    "az.observer = observer\n",
    "await az.analyze(from_beginning=True, into_branches=True)"
   ]
  },
  {
   "cell_type": "code",
   "execution_count": 4,
   "metadata": {},
   "outputs": [
    {
     "data": {
      "text/plain": [
       "{'86d9809f90a05857707d5ffea32ec6b6179b73f3': 0.44889587616565946,\n",
       " 'ccce439bf6c83813fe6081dc61403ee9196f0140': 0.4745978832008768}"
      ]
     },
     "execution_count": 4,
     "metadata": {},
     "output_type": "execute_result"
    }
   ],
   "source": [
    "bitcoin_path = \"Julylesson-finished-0.pickle\"\n",
    "az = pickle.load(open(bitcoin_path, 'rb'))\n",
    "ccgraph = az.get_graph()\n",
    "\n",
    "for node in ccgraph.nodes():\n",
    "    print(ccgraph._digraph.nodes[node]['files'])\n",
    "# test = az.get_graph().commit_devranks(0.85, black_set=[])\n",
    "# test"
   ]
  },
  {
   "cell_type": "code",
   "execution_count": 5,
   "metadata": {},
   "outputs": [],
   "source": [
    "ccgraph = az.get_graph()"
   ]
  },
  {
   "cell_type": "code",
   "execution_count": 6,
   "metadata": {},
   "outputs": [
    {
     "name": "stdout",
     "output_type": "stream",
     "text": [
      "['var/folders/tt/95wym3rx14j6cmc9pp_3qf500000gn/T/tmpcrmrmppz.c', 'var/folders/tt/95wym3rx14j6cmc9pp_3qf500000gn/T/tmpetep5c9j.c', 'var/folders/tt/95wym3rx14j6cmc9pp_3qf500000gn/T/tmpsg6_e76h.c', 'var/folders/tt/95wym3rx14j6cmc9pp_3qf500000gn/T/tmpn5um_u41.c']\n",
      "[]\n",
      "[]\n",
      "['var/folders/tt/95wym3rx14j6cmc9pp_3qf500000gn/T/tmpetep5c9j.c']\n",
      "['var/folders/tt/95wym3rx14j6cmc9pp_3qf500000gn/T/tmpetep5c9j.c']\n",
      "[]\n",
      "['var/folders/tt/95wym3rx14j6cmc9pp_3qf500000gn/T/tmpsg6_e76h.c']\n",
      "['var/folders/tt/95wym3rx14j6cmc9pp_3qf500000gn/T/tmpsg6_e76h.c']\n",
      "['var/folders/tt/95wym3rx14j6cmc9pp_3qf500000gn/T/tmpsg6_e76h.c']\n",
      "[]\n",
      "['var/folders/tt/95wym3rx14j6cmc9pp_3qf500000gn/T/tmpsg6_e76h.c']\n",
      "[]\n",
      "[]\n",
      "['var/folders/tt/95wym3rx14j6cmc9pp_3qf500000gn/T/tmpynn3xumx.c']\n",
      "['var/folders/tt/95wym3rx14j6cmc9pp_3qf500000gn/T/tmpynn3xumx.c']\n",
      "[]\n",
      "['var/folders/tt/95wym3rx14j6cmc9pp_3qf500000gn/T/tmpn5um_u41.c']\n",
      "[]\n"
     ]
    }
   ],
   "source": [
    "for node in ccgraph.nodes():\n",
    "    print(ccgraph._digraph.nodes[node]['files'])"
   ]
  },
  {
   "cell_type": "code",
   "execution_count": null,
   "metadata": {
    "collapsed": true
   },
   "outputs": [],
   "source": []
  }
 ],
 "metadata": {
  "kernelspec": {
   "display_name": "code-analytics",
   "language": "python",
   "name": "code-analytics"
  },
  "language_info": {
   "codemirror_mode": {
    "name": "ipython",
    "version": 3
   },
   "file_extension": ".py",
   "mimetype": "text/x-python",
   "name": "python",
   "nbconvert_exporter": "python",
   "pygments_lexer": "ipython3",
   "version": "3.6.3"
  }
 },
 "nbformat": 4,
 "nbformat_minor": 2
}
