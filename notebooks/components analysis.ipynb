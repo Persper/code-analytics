{
 "cells": [
  {
   "cell_type": "code",
   "execution_count": 7,
   "metadata": {},
   "outputs": [
    {
     "name": "stdout",
     "output_type": "stream",
     "text": [
      "----- Overview ------\n",
      "# of commits on master: 69\n",
      "# of commits on branch: 0\n",
      "----- No.1 e071a3f6c06f41068ad17134189a4ac3073ef76b on main -----\n"
     ]
    },
    {
     "ename": "KeyError",
     "evalue": "'{http://www.srcML.org/srcML/position}line'",
     "output_type": "error",
     "traceback": [
      "\u001b[0;31m---------------------------------------------------------------------------\u001b[0m",
      "\u001b[0;31mKeyError\u001b[0m                                  Traceback (most recent call last)",
      "\u001b[0;32m<ipython-input-7-2aa64da395cd>\u001b[0m in \u001b[0;36masync-def-wrapper\u001b[0;34m()\u001b[0m\n",
      "\u001b[0;32m~/code-analytics/persper/analytics/analyzer.py\u001b[0m in \u001b[0;36manalyze\u001b[0;34m(self, repo_url, pickle_path, rev, from_beginning, num_commits, continue_iter, end_commit_sha, into_branches, max_branch_length, min_branch_date, checkpoint_interval, verbose, autosave)\u001b[0m\n\u001b[1;32m    119\u001b[0m             \u001b[0mprint_commit_info\u001b[0m\u001b[0;34m(\u001b[0m\u001b[0mphase\u001b[0m\u001b[0;34m,\u001b[0m \u001b[0midx\u001b[0m\u001b[0;34m,\u001b[0m \u001b[0mcommit\u001b[0m\u001b[0;34m,\u001b[0m \u001b[0mstart_time\u001b[0m\u001b[0;34m,\u001b[0m \u001b[0mverbose\u001b[0m\u001b[0;34m)\u001b[0m\u001b[0;34m\u001b[0m\u001b[0m\n\u001b[1;32m    120\u001b[0m             \u001b[0mself\u001b[0m\u001b[0;34m.\u001b[0m\u001b[0m_observer\u001b[0m\u001b[0;34m.\u001b[0m\u001b[0monBeforeCommit\u001b[0m\u001b[0;34m(\u001b[0m\u001b[0mself\u001b[0m\u001b[0;34m,\u001b[0m \u001b[0midx\u001b[0m\u001b[0;34m,\u001b[0m \u001b[0mcommit\u001b[0m\u001b[0;34m,\u001b[0m \u001b[0mtotal_commits_num\u001b[0m\u001b[0;34m,\u001b[0m \u001b[0;32mTrue\u001b[0m\u001b[0;34m)\u001b[0m\u001b[0;34m\u001b[0m\u001b[0m\n\u001b[0;32m--> 121\u001b[0;31m             \u001b[0mawait\u001b[0m \u001b[0mself\u001b[0m\u001b[0;34m.\u001b[0m\u001b[0manalyze_master_commit\u001b[0m\u001b[0;34m(\u001b[0m\u001b[0mcommit\u001b[0m\u001b[0;34m)\u001b[0m\u001b[0;34m\u001b[0m\u001b[0m\n\u001b[0m\u001b[1;32m    122\u001b[0m             \u001b[0mself\u001b[0m\u001b[0;34m.\u001b[0m\u001b[0m_observer\u001b[0m\u001b[0;34m.\u001b[0m\u001b[0monAfterCommit\u001b[0m\u001b[0;34m(\u001b[0m\u001b[0mself\u001b[0m\u001b[0;34m,\u001b[0m \u001b[0midx\u001b[0m\u001b[0;34m,\u001b[0m \u001b[0mcommit\u001b[0m\u001b[0;34m,\u001b[0m \u001b[0mtotal_commits_num\u001b[0m\u001b[0;34m,\u001b[0m \u001b[0;32mTrue\u001b[0m\u001b[0;34m)\u001b[0m\u001b[0;34m\u001b[0m\u001b[0m\n\u001b[1;32m    123\u001b[0m \u001b[0;34m\u001b[0m\u001b[0m\n",
      "\u001b[0;32m~/code-analytics/persper/analytics/analyzer.py\u001b[0m in \u001b[0;36manalyze_master_commit\u001b[0;34m(self, commit)\u001b[0m\n\u001b[1;32m    181\u001b[0m \u001b[0;34m\u001b[0m\u001b[0m\n\u001b[1;32m    182\u001b[0m     \u001b[0;34masync\u001b[0m \u001b[0;32mdef\u001b[0m \u001b[0manalyze_master_commit\u001b[0m\u001b[0;34m(\u001b[0m\u001b[0mself\u001b[0m\u001b[0;34m,\u001b[0m \u001b[0mcommit\u001b[0m\u001b[0;34m)\u001b[0m\u001b[0;34m:\u001b[0m\u001b[0;34m\u001b[0m\u001b[0m\n\u001b[0;32m--> 183\u001b[0;31m         \u001b[0mawait\u001b[0m \u001b[0mself\u001b[0m\u001b[0;34m.\u001b[0m\u001b[0m_analyze_commit\u001b[0m\u001b[0;34m(\u001b[0m\u001b[0mcommit\u001b[0m\u001b[0;34m,\u001b[0m \u001b[0mself\u001b[0m\u001b[0;34m.\u001b[0m\u001b[0m_graph_server\u001b[0m\u001b[0;34m.\u001b[0m\u001b[0mupdate_graph\u001b[0m\u001b[0;34m)\u001b[0m\u001b[0;34m\u001b[0m\u001b[0m\n\u001b[0m\u001b[1;32m    184\u001b[0m \u001b[0;34m\u001b[0m\u001b[0m\n\u001b[1;32m    185\u001b[0m     \u001b[0;31m# todo (hezheng) implement correct analysis for branches\u001b[0m\u001b[0;34m\u001b[0m\u001b[0;34m\u001b[0m\u001b[0m\n",
      "\u001b[0;32m~/code-analytics/persper/analytics/analyzer.py\u001b[0m in \u001b[0;36m_analyze_commit\u001b[0;34m(self, commit, server_func)\u001b[0m\n\u001b[1;32m    171\u001b[0m             \u001b[0;32mif\u001b[0m \u001b[0mold_src\u001b[0m \u001b[0;32mor\u001b[0m \u001b[0mnew_src\u001b[0m\u001b[0;34m:\u001b[0m\u001b[0;34m\u001b[0m\u001b[0m\n\u001b[1;32m    172\u001b[0m                 \u001b[0;31m# todo (hezheng) store the status somewhere for reporting later\u001b[0m\u001b[0;34m\u001b[0m\u001b[0;34m\u001b[0m\u001b[0m\n\u001b[0;32m--> 173\u001b[0;31m                 \u001b[0mresult\u001b[0m \u001b[0;34m=\u001b[0m \u001b[0mserver_func\u001b[0m\u001b[0;34m(\u001b[0m\u001b[0mold_fname\u001b[0m\u001b[0;34m,\u001b[0m \u001b[0mold_src\u001b[0m\u001b[0;34m,\u001b[0m \u001b[0mnew_fname\u001b[0m\u001b[0;34m,\u001b[0m \u001b[0mnew_src\u001b[0m\u001b[0;34m,\u001b[0m \u001b[0mdiff\u001b[0m\u001b[0;34m.\u001b[0m\u001b[0mdiff\u001b[0m\u001b[0;34m)\u001b[0m\u001b[0;34m\u001b[0m\u001b[0m\n\u001b[0m\u001b[1;32m    174\u001b[0m                 \u001b[0;32mif\u001b[0m \u001b[0masyncio\u001b[0m\u001b[0;34m.\u001b[0m\u001b[0miscoroutine\u001b[0m\u001b[0;34m(\u001b[0m\u001b[0mresult\u001b[0m\u001b[0;34m)\u001b[0m\u001b[0;34m:\u001b[0m\u001b[0;34m\u001b[0m\u001b[0m\n\u001b[1;32m    175\u001b[0m                     \u001b[0mresult\u001b[0m \u001b[0;34m=\u001b[0m \u001b[0mawait\u001b[0m \u001b[0mresult\u001b[0m\u001b[0;34m\u001b[0m\u001b[0m\n",
      "\u001b[0;32m~/code-analytics/persper/analytics/c.py\u001b[0m in \u001b[0;36mupdate_graph\u001b[0;34m(self, old_filename, old_src, new_filename, new_src, patch)\u001b[0m\n\u001b[1;32m     69\u001b[0m         change_stats = function_change_stats(old_ast, new_ast, patch,\n\u001b[1;32m     70\u001b[0m                                              \u001b[0mself\u001b[0m\u001b[0;34m.\u001b[0m\u001b[0m_parse_patch\u001b[0m\u001b[0;34m,\u001b[0m\u001b[0;34m\u001b[0m\u001b[0m\n\u001b[0;32m---> 71\u001b[0;31m                                              get_func_ranges_c)\n\u001b[0m\u001b[1;32m     72\u001b[0m \u001b[0;34m\u001b[0m\u001b[0m\n\u001b[1;32m     73\u001b[0m         \u001b[0;31m# Update call-commit graph\u001b[0m\u001b[0;34m\u001b[0m\u001b[0;34m\u001b[0m\u001b[0m\n",
      "\u001b[0;32m~/code-analytics/persper/analytics/c.py\u001b[0m in \u001b[0;36mfunction_change_stats\u001b[0;34m(old_ast, new_ast, patch, patch_parser, ranges_func)\u001b[0m\n\u001b[1;32m     25\u001b[0m         \u001b[0minv_adds\u001b[0m\u001b[0;34m,\u001b[0m \u001b[0minv_dels\u001b[0m \u001b[0;34m=\u001b[0m \u001b[0minverse_diff\u001b[0m\u001b[0;34m(\u001b[0m\u001b[0madds\u001b[0m\u001b[0;34m,\u001b[0m \u001b[0mdels\u001b[0m\u001b[0;34m)\u001b[0m\u001b[0;34m\u001b[0m\u001b[0m\n\u001b[1;32m     26\u001b[0m         bckward_stats = get_changed_functions(\n\u001b[0;32m---> 27\u001b[0;31m             *ranges_func(new_ast), inv_adds, inv_dels, separate=True)\n\u001b[0m\u001b[1;32m     28\u001b[0m \u001b[0;34m\u001b[0m\u001b[0m\n\u001b[1;32m     29\u001b[0m     \u001b[0;31m# merge forward and backward stats\u001b[0m\u001b[0;34m\u001b[0m\u001b[0;34m\u001b[0m\u001b[0m\n",
      "\u001b[0;32m~/code-analytics/persper/analytics/call_graph/c.py\u001b[0m in \u001b[0;36mget_func_ranges_c\u001b[0;34m(root)\u001b[0m\n\u001b[1;32m    109\u001b[0m     \u001b[0;32mfor\u001b[0m \u001b[0mfunc_node\u001b[0m \u001b[0;32min\u001b[0m \u001b[0mroot\u001b[0m\u001b[0;34m.\u001b[0m\u001b[0mfindall\u001b[0m\u001b[0;34m(\u001b[0m\u001b[0;34m'./srcml:function'\u001b[0m\u001b[0;34m,\u001b[0m \u001b[0mnamespaces\u001b[0m\u001b[0;34m=\u001b[0m\u001b[0mns\u001b[0m\u001b[0;34m)\u001b[0m\u001b[0;34m:\u001b[0m\u001b[0;34m\u001b[0m\u001b[0m\n\u001b[1;32m    110\u001b[0m \u001b[0;34m\u001b[0m\u001b[0m\n\u001b[0;32m--> 111\u001b[0;31m         \u001b[0mfunc_name\u001b[0m\u001b[0;34m,\u001b[0m \u001b[0mstart_line\u001b[0m\u001b[0;34m,\u001b[0m \u001b[0mend_line\u001b[0m \u001b[0;34m=\u001b[0m \u001b[0mhandle_function\u001b[0m\u001b[0;34m(\u001b[0m\u001b[0mfunc_node\u001b[0m\u001b[0;34m)\u001b[0m\u001b[0;34m\u001b[0m\u001b[0m\n\u001b[0m\u001b[1;32m    112\u001b[0m         \u001b[0;32mif\u001b[0m \u001b[0;32mnot\u001b[0m \u001b[0;34m(\u001b[0m\u001b[0mfunc_name\u001b[0m \u001b[0;32mand\u001b[0m \u001b[0mstart_line\u001b[0m \u001b[0;32mand\u001b[0m \u001b[0mend_line\u001b[0m\u001b[0;34m)\u001b[0m\u001b[0;34m:\u001b[0m\u001b[0;34m\u001b[0m\u001b[0m\n\u001b[1;32m    113\u001b[0m             \u001b[0;32mcontinue\u001b[0m\u001b[0;34m\u001b[0m\u001b[0m\n",
      "\u001b[0;32m~/code-analytics/persper/analytics/call_graph/c.py\u001b[0m in \u001b[0;36mhandle_function\u001b[0;34m(func_node)\u001b[0m\n\u001b[1;32m     12\u001b[0m \u001b[0;34m\u001b[0m\u001b[0m\n\u001b[1;32m     13\u001b[0m     \u001b[0mname_node\u001b[0m \u001b[0;34m=\u001b[0m \u001b[0mfunc_node\u001b[0m\u001b[0;34m.\u001b[0m\u001b[0mfind\u001b[0m\u001b[0;34m(\u001b[0m\u001b[0;34m'srcml:name'\u001b[0m\u001b[0;34m,\u001b[0m \u001b[0mns\u001b[0m\u001b[0;34m)\u001b[0m\u001b[0;34m\u001b[0m\u001b[0m\n\u001b[0;32m---> 14\u001b[0;31m     \u001b[0mfunc_name\u001b[0m\u001b[0;34m,\u001b[0m \u001b[0mstart_line\u001b[0m \u001b[0;34m=\u001b[0m \u001b[0mhandle_name\u001b[0m\u001b[0;34m(\u001b[0m\u001b[0mname_node\u001b[0m\u001b[0;34m)\u001b[0m\u001b[0;34m\u001b[0m\u001b[0m\n\u001b[0m\u001b[1;32m     15\u001b[0m     \u001b[0;32mif\u001b[0m \u001b[0;32mnot\u001b[0m \u001b[0mfunc_name\u001b[0m \u001b[0;32mor\u001b[0m \u001b[0;32mnot\u001b[0m \u001b[0mstart_line\u001b[0m\u001b[0;34m:\u001b[0m\u001b[0;34m\u001b[0m\u001b[0m\n\u001b[1;32m     16\u001b[0m         \u001b[0mprint\u001b[0m\u001b[0;34m(\u001b[0m\u001b[0;34m'Function name/start not found!'\u001b[0m\u001b[0;34m)\u001b[0m  \u001b[0;31m# very unlikely to happen\u001b[0m\u001b[0;34m\u001b[0m\u001b[0m\n",
      "\u001b[0;32m~/code-analytics/persper/analytics/call_graph/c.py\u001b[0m in \u001b[0;36mhandle_name\u001b[0;34m(name_node)\u001b[0m\n\u001b[1;32m     41\u001b[0m     \u001b[0;32mif\u001b[0m \u001b[0mname_node\u001b[0m \u001b[0;32mis\u001b[0m \u001b[0;32mnot\u001b[0m \u001b[0;32mNone\u001b[0m\u001b[0;34m:\u001b[0m\u001b[0;34m\u001b[0m\u001b[0m\n\u001b[1;32m     42\u001b[0m         \u001b[0mtext\u001b[0m \u001b[0;34m=\u001b[0m \u001b[0mname_node\u001b[0m\u001b[0;34m.\u001b[0m\u001b[0mtext\u001b[0m\u001b[0;34m\u001b[0m\u001b[0m\n\u001b[0;32m---> 43\u001b[0;31m         \u001b[0mline\u001b[0m \u001b[0;34m=\u001b[0m \u001b[0mint\u001b[0m\u001b[0;34m(\u001b[0m\u001b[0mname_node\u001b[0m\u001b[0;34m.\u001b[0m\u001b[0mattrib\u001b[0m\u001b[0;34m[\u001b[0m\u001b[0mline_attr\u001b[0m\u001b[0;34m]\u001b[0m\u001b[0;34m)\u001b[0m\u001b[0;34m\u001b[0m\u001b[0m\n\u001b[0m\u001b[1;32m     44\u001b[0m     \u001b[0;32mreturn\u001b[0m \u001b[0mtext\u001b[0m\u001b[0;34m,\u001b[0m \u001b[0mline\u001b[0m\u001b[0;34m\u001b[0m\u001b[0m\n\u001b[1;32m     45\u001b[0m \u001b[0;34m\u001b[0m\u001b[0m\n",
      "\u001b[0;32msrc/lxml/etree.pyx\u001b[0m in \u001b[0;36mlxml.etree._Attrib.__getitem__\u001b[0;34m()\u001b[0m\n",
      "\u001b[0;31mKeyError\u001b[0m: '{http://www.srcML.org/srcML/position}line'"
     ]
    }
   ],
   "source": [
    "import os\n",
    "import time\n",
    "import pickle\n",
    "import datetime as dt\n",
    "import matplotlib.dates as md\n",
    "import matplotlib.pyplot as plt\n",
    "from persper.util.path import root_path\n",
    "from persper.analytics.analyzer import Analyzer\n",
    "from persper.analytics.analyzer import AnalyzerObserver\n",
    "from persper.analytics.cpp import CPPGraphServer\n",
    "from persper.analytics.iterator import RepoIterator\n",
    "from persper.analytics.graph_server import CPP_FILENAME_REGEXES\n",
    "from datetime import date\n",
    "alpha = 0.85\n",
    "\n",
    "# Repo: https://github.com/zhengxu001/Julylesson.git\n",
    "repo_path = '/Users/zen/repos/zhengxu001/bitcoin'\n",
    "az = Analyzer(repo_path, CPPGraphServer(CPP_FILENAME_REGEXES))\n",
    "# from vdev.analyzer_observer_vdev import AnalyzerObserverVdev\n",
    "# observer = AnalyzerObserverVdev('127.0.0.1', '6379', 'test_git_url')\n",
    "# az.observer = observer\n",
    "await az.analyze(from_beginning=True, into_branches=True)"
   ]
  },
  {
   "cell_type": "code",
   "execution_count": 2,
   "metadata": {},
   "outputs": [
    {
     "name": "stdout",
     "output_type": "stream",
     "text": [
      "----- Overview ------\n",
      "# of commits on master: 4\n",
      "# of commits on branch: 0\n",
      "----- No.1 27cd16909244810ef303aa656bc647cbb7bcd443 on main -----\n",
      "----- No.2 c2fa230e5c3bf2531a7e782d1074eb1ebfa3ba7d on main -----\n",
      "----- No.3 86d9809f90a05857707d5ffea32ec6b6179b73f3 on main -----\n",
      "----- No.4 ccce439bf6c83813fe6081dc61403ee9196f0140 on main -----\n"
     ]
    }
   ],
   "source": [
    "# Repo: https://github.com/zhengxu001/Julylesson.git\n",
    "# repo_path = '/Users/zen/repos/zhengxu001/Julylesson'\n",
    "az = Analyzer(repo_path, CPPGraphServer(CPP_FILENAME_REGEXES))\n",
    "# from vdev.analyzer_observer_vdev import AnalyzerObserverVdev\n",
    "# observer = AnalyzerObserverVdev('127.0.0.1', '6379', 'test_git_url')\n",
    "# az.observer = observer\n",
    "await az.analyze(from_beginning=True, into_branches=True)"
   ]
  },
  {
   "cell_type": "code",
   "execution_count": 3,
   "metadata": {},
   "outputs": [
    {
     "name": "stdout",
     "output_type": "stream",
     "text": [
      "----- Overview ------\n",
      "# of commits on master: 4\n",
      "# of commits on branch: 0\n",
      "----- No.1 27cd16909244810ef303aa656bc647cbb7bcd443 on main -----\n",
      "['2.4000000000000004']\n",
      "----- No.2 c2fa230e5c3bf2531a7e782d1074eb1ebfa3ba7d on main -----\n",
      "['1.6']\n",
      "----- No.3 86d9809f90a05857707d5ffea32ec6b6179b73f3 on main -----\n",
      "['0.8']\n",
      "----- No.4 ccce439bf6c83813fe6081dc61403ee9196f0140 on main -----\n",
      "['0.0']\n"
     ]
    }
   ],
   "source": [
    "from vdev.analyzer_observer_vdev import AnalyzerObserverVdev\n",
    "observer = AnalyzerObserverVdev('127.0.0.1', '6379', 'test_git_url')\n",
    "az.observer = observer\n",
    "await az.analyze(from_beginning=True, into_branches=True)"
   ]
  },
  {
   "cell_type": "code",
   "execution_count": 4,
   "metadata": {},
   "outputs": [
    {
     "name": "stdout",
     "output_type": "stream",
     "text": [
      "['LCS_code.cpp', '编辑距离.cpp', '全排列.cpp', '最长递增子序列.cpp']\n",
      "[]\n",
      "[]\n",
      "['编辑距离.cpp']\n",
      "['编辑距离.cpp']\n",
      "[]\n",
      "['全排列.cpp']\n",
      "[]\n",
      "[]\n",
      "['全排列.cpp']\n",
      "['全排列.cpp']\n",
      "['全排列.cpp']\n",
      "['全排列.cpp']\n",
      "[]\n",
      "['全排列.cpp']\n",
      "[]\n",
      "[]\n",
      "['字符串循环左移.cpp']\n",
      "['字符串循环左移.cpp']\n",
      "[]\n",
      "['最长递增子序列.cpp']\n",
      "[]\n"
     ]
    }
   ],
   "source": [
    "bitcoin_path = \"Julylesson-finished-0.pickle\"\n",
    "az = pickle.load(open(bitcoin_path, 'rb'))\n",
    "ccgraph = az.get_graph()\n",
    "\n",
    "for node in ccgraph.nodes():\n",
    "    print(ccgraph._digraph.nodes[node]['files'])\n",
    "# test = az.get_graph().commit_devranks(0.85, black_set=[])\n",
    "# test"
   ]
  },
  {
   "cell_type": "code",
   "execution_count": 3,
   "metadata": {
    "collapsed": true
   },
   "outputs": [],
   "source": [
    "ccgraph = az.get_graph()"
   ]
  },
  {
   "cell_type": "code",
   "execution_count": 4,
   "metadata": {},
   "outputs": [
    {
     "data": {
      "text/plain": [
       "{'commits': {'27cd16909244810ef303aa656bc647cbb7bcd443': {'id': '27cd16909244810ef303aa656bc647cbb7bcd443',\n",
       "   'hexsha': '27cd16909244810ef303aa656bc647cbb7bcd443',\n",
       "   'authorName': 'Zen',\n",
       "   'authorEmail': 'zhengxu5511@gmail.com',\n",
       "   'message': 'first commit\\n'},\n",
       "  'c2fa230e5c3bf2531a7e782d1074eb1ebfa3ba7d': {'id': 'c2fa230e5c3bf2531a7e782d1074eb1ebfa3ba7d',\n",
       "   'hexsha': 'c2fa230e5c3bf2531a7e782d1074eb1ebfa3ba7d',\n",
       "   'authorName': 'Zen',\n",
       "   'authorEmail': 'zhengxu5511@gmail.com',\n",
       "   'message': '第一次课\\n'},\n",
       "  '86d9809f90a05857707d5ffea32ec6b6179b73f3': {'id': '86d9809f90a05857707d5ffea32ec6b6179b73f3',\n",
       "   'hexsha': '86d9809f90a05857707d5ffea32ec6b6179b73f3',\n",
       "   'authorName': 'Zen',\n",
       "   'authorEmail': 'zhengxu5511@gmail.com',\n",
       "   'message': '第一次课\\n'},\n",
       "  'ccce439bf6c83813fe6081dc61403ee9196f0140': {'id': 'ccce439bf6c83813fe6081dc61403ee9196f0140',\n",
       "   'hexsha': 'ccce439bf6c83813fe6081dc61403ee9196f0140',\n",
       "   'authorName': 'Zen',\n",
       "   'authorEmail': 'zhengxu5511@gmail.com',\n",
       "   'message': '第二次课\\n'}}}"
      ]
     },
     "execution_count": 4,
     "metadata": {},
     "output_type": "execute_result"
    }
   ],
   "source": [
    "ccgraph._digraph.graph"
   ]
  },
  {
   "cell_type": "code",
   "execution_count": null,
   "metadata": {
    "collapsed": true
   },
   "outputs": [],
   "source": []
  }
 ],
 "metadata": {
  "kernelspec": {
   "display_name": "code-analytics",
   "language": "python",
   "name": "code-analytics"
  },
  "language_info": {
   "codemirror_mode": {
    "name": "ipython",
    "version": 3
   },
   "file_extension": ".py",
   "mimetype": "text/x-python",
   "name": "python",
   "nbconvert_exporter": "python",
   "pygments_lexer": "ipython3",
   "version": "3.6.3"
  }
 },
 "nbformat": 4,
 "nbformat_minor": 2
}
