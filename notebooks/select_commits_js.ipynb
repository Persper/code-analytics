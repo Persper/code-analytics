{
 "cells": [
  {
   "cell_type": "markdown",
   "metadata": {},
   "source": [
    "## Phase 1: Filter out qualified commits"
   ]
  },
  {
   "cell_type": "markdown",
   "metadata": {},
   "source": [
    "## Load data"
   ]
  },
  {
   "cell_type": "code",
   "execution_count": null,
   "metadata": {
    "collapsed": false
   },
   "outputs": [],
   "source": [
    "import git\n",
    "import os\n",
    "import json\n",
    "\n",
    "proj_lst = ['vue', 'preact', 'express', 'element', 'webpack', 'prettier', 'axios', 'puppeteer',\n",
    "            'mithril.js', 'ember.js', 'jquery', 'atom', 'three.js', 'pdf.js', 'serverless']\n",
    "\n",
    "def retrieve_first_parent_commits(project_name):\n",
    "    \"\"\"\n",
    "    Assumptions:\n",
    "        project with name project_name is stored at ../repos/{project_name}\n",
    "        first-parent commit info is stored at ../data/icse-js/commit-stat/{project_name}-comit-stat.json\n",
    "    \"\"\"\n",
    "\n",
    "    repo_path = '../repos/' + project_name\n",
    "    commit_stat_path = '../data/icse-js/commit-stat/%s-commit-stat.json' % project_name\n",
    "\n",
    "    repo = git.Repo(repo_path)\n",
    "\n",
    "    if os.path.isfile(commit_stat_path):\n",
    "        print('Loading json file for %s...' % project_name)\n",
    "        with open(commit_stat_path, 'r') as f:     \n",
    "            commits = json.load(f)\n",
    "    else:\n",
    "        commits = []\n",
    "        for c in repo.iter_commits(first_parent=True):\n",
    "            n_add = 0\n",
    "            n_del = 0\n",
    "            files = []\n",
    "            for path, stat in c.stats.files.items():\n",
    "                files.append(path)\n",
    "                n_add += stat['insertions']\n",
    "                n_del += stat['deletions']\n",
    "\n",
    "            commits.append({\n",
    "                'hash': c.hexsha,\n",
    "                'email': c.author.email.lower(),\n",
    "                'additions': n_add,\n",
    "                'deletions': n_del,\n",
    "                'file_list': files\n",
    "            })\n",
    "        print('Writing json file for %s...' % project_name)\n",
    "        with open(commit_stat_path, 'w+') as f:\n",
    "            json.dump(commits, f)\n",
    "\n",
    "    print(len(commits))\n",
    "    return commits\n",
    "\n",
    "commit_info = {}\n",
    "for proj_name in proj_lst:\n",
    "    commit_info[proj_name] = retrieve_first_parent_commits(proj_name)"
   ]
  },
  {
   "cell_type": "markdown",
   "metadata": {},
   "source": [
    "## Select all qualified commits"
   ]
  },
  {
   "cell_type": "code",
   "execution_count": null,
   "metadata": {
    "collapsed": false
   },
   "outputs": [],
   "source": [
    "import re\n",
    "fname_regexes = [re.compile('.+\\.js$'),\n",
    "                  re.compile('^(?!dist/).+'),\n",
    "                  re.compile('^(?!test(s)?/).+'),\n",
    "                  re.compile('^(?!build/).+'),\n",
    "                  re.compile('^(?!spec/).+'),\n",
    "                  re.compile('^(?!bin/).+'),\n",
    "                  re.compile('^(?!doc(s)?/).+')]\n",
    "\n",
    "def fname_filter(fname, fname_regexes):\n",
    "    for regex in fname_regexes:\n",
    "        if not regex.match(fname):\n",
    "            return False\n",
    "    return True\n",
    "\n",
    "def select_qualified_commits(commits):\n",
    "    qualified_commits = []\n",
    "    for commit in commits:\n",
    "        qualified = False\n",
    "        if commit['email'].endswith('noreply.github.com'):\n",
    "            continue\n",
    "        for file in commit['file_list']:\n",
    "            if fname_filter(file, fname_regexes):\n",
    "                qualified = True\n",
    "        if qualified:\n",
    "            qualified_commits.append(commit)\n",
    "    return qualified_commits\n",
    "\n",
    "all_qualified_commits = {}\n",
    "for proj_name in proj_lst:\n",
    "    all_qualified_commits[proj_name] = select_qualified_commits(commit_info[proj_name])\n",
    "    print('%s: %d' % (proj_name, len(all_qualified_commits[proj_name])))"
   ]
  },
  {
   "cell_type": "markdown",
   "metadata": {},
   "source": [
    "## Add some random commits"
   ]
  },
  {
   "cell_type": "code",
   "execution_count": null,
   "metadata": {
    "collapsed": false
   },
   "outputs": [],
   "source": [
    "import random\n",
    "\n",
    "# params\n",
    "ratio = 0.3\n",
    "\n",
    "def add_rand_commits(qualified_commits, commits):\n",
    "    num_rand_commits = int(len(qualified_commits) * ratio)\n",
    "\n",
    "    # get remaining commits\n",
    "    qualified_sha_set = set([c['hash'] for c in qualified_commits])\n",
    "    remaining_commits = []\n",
    "    for commit in commits:\n",
    "        if commit['hash'] not in qualified_sha_set:\n",
    "            remaining_commits.append(commit)\n",
    "\n",
    "    # get random commits\n",
    "    rand_commits = random.sample(remaining_commits, min(num_rand_commits, len(remaining_commits)))\n",
    "\n",
    "    for commit in rand_commits:\n",
    "        if not commit['email'].endswith('noreply.github.com'):\n",
    "            qualified_commits.append(commit)\n",
    "\n",
    "for proj_name in proj_lst:\n",
    "    add_rand_commits(all_qualified_commits[proj_name], commit_info[proj_name])\n",
    "    print('%s: %d' % (proj_name, len(all_qualified_commits[proj_name])))"
   ]
  },
  {
   "cell_type": "markdown",
   "metadata": {},
   "source": [
    "## Phase 2: Select commit pairs"
   ]
  },
  {
   "cell_type": "code",
   "execution_count": null,
   "metadata": {
    "collapsed": false
   },
   "outputs": [],
   "source": [
    "def organize_by_author_email(qualified_commits):\n",
    "    email2commits = {}\n",
    "    for commit in qualified_commits:\n",
    "        email = commit['email']\n",
    "        if email not in email2commits:\n",
    "            email2commits[email] = [commit]\n",
    "        else:\n",
    "            email2commits[email].append(commit)\n",
    "        \n",
    "    # sanity check\n",
    "    for email, commit_list in email2commits.items():\n",
    "        assert(len(commit_list) > 0)\n",
    "        \n",
    "    return email2commits\n",
    "\n",
    "all_email2commits = {}\n",
    "print('-' * 10 + 'Number of Authors' + '-' * 10)\n",
    "for proj_name in proj_lst:\n",
    "    all_email2commits[proj_name] = organize_by_author_email(all_qualified_commits[proj_name])\n",
    "    print('%s: %d' % (proj_name, len(all_email2commits[proj_name])))"
   ]
  },
  {
   "cell_type": "code",
   "execution_count": null,
   "metadata": {
    "collapsed": false
   },
   "outputs": [],
   "source": [
    "# params\n",
    "max_per_author = 50\n",
    "max_ratio = 10  # max ratio of commit sizes in a comparison\n",
    "\n",
    "def select_commit_pairs(email2commits):\n",
    "    commit_pairs = {}\n",
    "    for email, indv_commits in email2commits.items():\n",
    "        if len(indv_commits) == 1:\n",
    "            continue\n",
    "        commit_pairs[email] = []\n",
    "\n",
    "        selected = random.sample(indv_commits, min(max_per_author, len(indv_commits)))\n",
    "        selected = sorted(selected, key=lambda x: x['hash'])\n",
    "        for i in range(-1, len(selected) - 1):\n",
    "            c1 = selected[i]\n",
    "            c2 = selected[i + 1]\n",
    "            assert c1['email'].lower() == c2['email'].lower()\n",
    "\n",
    "            n1 = c1['additions'] + c1['deletions']\n",
    "            n2 = c2['additions'] + c2['deletions']\n",
    "            if n1 == 0 or n2 == 0:\n",
    "                continue\n",
    "            if int(max(n1 / n2, n2 / n1)) > max_ratio:\n",
    "                continue\n",
    "            commit_pairs[email].append((c1['hash'], c2['hash']))\n",
    "        \n",
    "        if len(commit_pairs[email]) == 0:\n",
    "            del commit_pairs[email]\n",
    "\n",
    "    # sanity check\n",
    "    for email, pair_lst in commit_pairs.items():\n",
    "        assert(len(pair_lst) > 0)\n",
    "\n",
    "    return commit_pairs\n",
    "\n",
    "all_email2pairlst = {}\n",
    "core_threshold = 10\n",
    "print('-' * 10 + 'Number of Core Contributors' + '-' * 10)\n",
    "for proj_name in proj_lst:\n",
    "    all_email2pairlst[proj_name] = select_commit_pairs(all_email2commits[proj_name])\n",
    "    core_cnt = 0\n",
    "    for email, pair_lst in all_email2pairlst[proj_name].items():\n",
    "        if len(pair_lst) >= core_threshold:\n",
    "            core_cnt += 1\n",
    "    print('%s: %d' % (proj_name, core_cnt))"
   ]
  },
  {
   "cell_type": "markdown",
   "metadata": {},
   "source": [
    "## Output all_project_pairs as json"
   ]
  },
  {
   "cell_type": "code",
   "execution_count": null,
   "metadata": {
    "collapsed": false
   },
   "outputs": [],
   "source": [
    "OUTPUT_FILE = '../data/icse-js/all_email2pairlst.json'\n",
    "\n",
    "with open(OUTPUT_FILE, 'w+') as f:\n",
    "    json.dump(all_project_pairs, f)"
   ]
  },
  {
   "cell_type": "code",
   "execution_count": null,
   "metadata": {
    "collapsed": false
   },
   "outputs": [],
   "source": [
    "pairs_cnt = 0\n",
    "dev_cnt = 0\n",
    "\n",
    "num_pair_threshold = 10\n",
    "\n",
    "for project_name, project_pairs in all_email2pairlst.items():\n",
    "    for email, pair_list in project_pairs.items():\n",
    "        if len(pair_list) >= num_pair_threshold:\n",
    "            dev_cnt += 1\n",
    "            pairs_cnt += len(pair_list)\n",
    "            \n",
    "print('Number of developers with more than %s pairs: ' % str(num_pair_threshold), dev_cnt)\n",
    "print(pairs_cnt)"
   ]
  },
  {
   "cell_type": "markdown",
   "metadata": {},
   "source": [
    "## First Batch Emails\n",
    "people whose # of pairs greater than or equal to `than num_pair_threshold`"
   ]
  },
  {
   "cell_type": "code",
   "execution_count": null,
   "metadata": {
    "collapsed": false
   },
   "outputs": [],
   "source": [
    "with open('../data/icse-js/first-batch-emails.txt', 'w+') as f:\n",
    "    for project_name, project_pairs in all_email2commits.items():\n",
    "        for email, pair_list in project_pairs.items():\n",
    "            if len(pair_list) >= num_pair_threshold:\n",
    "                f.write('%s,%s\\n' % (project_name, email))"
   ]
  },
  {
   "cell_type": "markdown",
   "metadata": {},
   "source": [
    "## Second Batch Emails\n",
    "people whose # of pairs smaller than `num_pair_threshold`"
   ]
  },
  {
   "cell_type": "code",
   "execution_count": null,
   "metadata": {
    "collapsed": true
   },
   "outputs": [],
   "source": [
    "with open('../data/icse-js/second-batch-emails.txt', 'w+') as f:\n",
    "    for project_name, project_pairs in all_email2commits.items():\n",
    "        for email, pair_list in project_pairs.items():\n",
    "            if len(pair_list) < num_pair_threshold:\n",
    "                f.write('%s,%s\\n' % (project_name, email))"
   ]
  },
  {
   "cell_type": "markdown",
   "metadata": {},
   "source": [
    "## Check if a developer contributes to mulitple projects"
   ]
  },
  {
   "cell_type": "code",
   "execution_count": null,
   "metadata": {
    "collapsed": false
   },
   "outputs": [],
   "source": [
    "import itertools\n",
    "\n",
    "def check_developer(project_name, email):\n",
    "    print('%s %s: %d' % (project_name, email, len(all_email2pairlst[project_name][email])))\n",
    "\n",
    "email_set_list = []\n",
    "for project_name, project_pairs in all_email2pairlst.items():\n",
    "    email_set_list.append((project_name, set(project_pairs.keys())))\n",
    "\n",
    "for name_s1_tuple, name_s2_tuple in itertools.combinations(email_set_list, 2):\n",
    "    project_name1, s1 = name_s1_tuple\n",
    "    project_name2, s2 = name_s2_tuple\n",
    "    inter = s1 & s2\n",
    "    if len(inter) > 0:\n",
    "        print('-' * 50)\n",
    "        print('WARNING: intersection exists between %s and %s' % (project_name1, project_name2))\n",
    "        for email in inter:\n",
    "            check_developer(project_name1, email)\n",
    "            check_developer(project_name2, email)\n",
    "        print('-' * 50)"
   ]
  },
  {
   "cell_type": "code",
   "execution_count": null,
   "metadata": {
    "collapsed": true
   },
   "outputs": [],
   "source": []
  }
 ],
 "metadata": {
  "anaconda-cloud": {},
  "kernelspec": {
   "display_name": "Python [conda root]",
   "language": "python",
   "name": "conda-root-py"
  },
  "language_info": {
   "codemirror_mode": {
    "name": "ipython",
    "version": 3
   },
   "file_extension": ".py",
   "mimetype": "text/x-python",
   "name": "python",
   "nbconvert_exporter": "python",
   "pygments_lexer": "ipython3",
   "version": "3.5.2"
  }
 },
 "nbformat": 4,
 "nbformat_minor": 1
}
