{
 "cells": [
  {
   "cell_type": "markdown",
   "metadata": {},
   "source": [
    "## Phase 1: Filter out qualified commits"
   ]
  },
  {
   "cell_type": "markdown",
   "metadata": {},
   "source": [
    "## Load data"
   ]
  },
  {
   "cell_type": "code",
   "execution_count": null,
   "metadata": {
    "collapsed": false
   },
   "outputs": [],
   "source": [
    "import json\n",
    "\n",
    "project_name = 'vue'\n",
    "\n",
    "JSON_FILE = '../data/icse-js/commit-stat/%s.commits.json' % project_name\n",
    "\n",
    "commits = None\n",
    "with open(JSON_FILE, 'r') as json_file:\n",
    "    commits = json.load(json_file)\n",
    "    \n",
    "print(len(commits))"
   ]
  },
  {
   "cell_type": "code",
   "execution_count": null,
   "metadata": {
    "collapsed": false
   },
   "outputs": [],
   "source": [
    "import pickle\n",
    "\n",
    "PICKLE_FILE = '../data/js-share/%s-commit-share.pickle' % project_name\n",
    "with open(PICKLE_FILE, 'rb') as f:\n",
    "    commit_shares = pickle.load(f)\n",
    "\n",
    "print(len(commit_shares))"
   ]
  },
  {
   "cell_type": "code",
   "execution_count": null,
   "metadata": {
    "collapsed": false
   },
   "outputs": [],
   "source": [
    "import re\n",
    "fname_regexes = [re.compile('.+\\.js$'),\n",
    "                  re.compile('^(?!dist/).+'),\n",
    "                  re.compile('^(?!test(s)?/).+'),\n",
    "                  re.compile('^(?!packages/).+'),\n",
    "                  re.compile('^(?!spec/).+'),\n",
    "                  re.compile('^(?!build/).+'),\n",
    "                  re.compile('^(?!bin/).+'),\n",
    "                  re.compile('^(?!doc(s)?/).+')]\n",
    "\n",
    "def fname_filter(fname, fname_regexes):\n",
    "    for regex in fname_regexes:\n",
    "        if not regex.match(fname):\n",
    "            return False\n",
    "    return True"
   ]
  },
  {
   "cell_type": "markdown",
   "metadata": {},
   "source": [
    "## Select all qualified commits"
   ]
  },
  {
   "cell_type": "code",
   "execution_count": null,
   "metadata": {
    "collapsed": false
   },
   "outputs": [],
   "source": [
    "qualified_commits = []\n",
    "qualified_shas = set()\n",
    "for commit in commits:\n",
    "    qualified = False\n",
    "    if commit['hash'] not in commit_shares:\n",
    "        continue\n",
    "    if commit['email'].endswith('noreply.github.com'):\n",
    "        continue\n",
    "    for file in commit['file_list']:\n",
    "        if fname_filter(file, fname_regexes):\n",
    "            qualified = True\n",
    "    if qualified:\n",
    "        qualified_commits.append(commit)\n",
    "        qualified_shas.add(commit['hash'])\n",
    "print(len(qualified_commits))"
   ]
  },
  {
   "cell_type": "markdown",
   "metadata": {},
   "source": [
    "## Add some random commits"
   ]
  },
  {
   "cell_type": "code",
   "execution_count": null,
   "metadata": {
    "collapsed": false
   },
   "outputs": [],
   "source": [
    "import random\n",
    "ratio = 0.2\n",
    "num_rand_commits = int(len(qualified_commits) * ratio)\n",
    "while num_rand_commits > 0:\n",
    "    commit = random.choice(commits)\n",
    "    if commit['hash'] not in qualified_shas and commit['hash'] in commit_shares and not commit['email'].endswith('noreply.github.com'):\n",
    "        qualified_shas.add(commit['hash'])\n",
    "        qualified_commits.append(commit)\n",
    "        num_rand_commits -= 1\n",
    "    \n",
    "print(len(qualified_commits))"
   ]
  },
  {
   "cell_type": "markdown",
   "metadata": {},
   "source": [
    "## Output to csv"
   ]
  },
  {
   "cell_type": "code",
   "execution_count": null,
   "metadata": {
    "collapsed": false
   },
   "outputs": [],
   "source": [
    "OUTPUT_FILE = '../data/icse-js/selected-commits/%s-selected-commits.csv' % project_name\n",
    "\n",
    "def write_line(f, commit):\n",
    "    f.write(','.join([commit['email'], commit['hash'], str(commit['additions']), str(commit['deletions'])]) + '\\n')\n",
    "    \n",
    "with open(OUTPUT_FILE, 'w+') as f:\n",
    "    f.write('email,hash,additions,deletions\\n')\n",
    "    for commit in qualified_commits:\n",
    "        write_line(f, commit)"
   ]
  },
  {
   "cell_type": "markdown",
   "metadata": {},
   "source": [
    "## Phase 2: Select commit pairs"
   ]
  },
  {
   "cell_type": "code",
   "execution_count": null,
   "metadata": {
    "collapsed": false
   },
   "outputs": [],
   "source": [
    "email2commits = {}\n",
    "for commit in qualified_commits:\n",
    "    email = commit['email'].lower()\n",
    "    if email not in email2commits:\n",
    "        email2commits[email] = [commit]\n",
    "    else:\n",
    "        email2commits[email].append(commit)\n",
    "print('Number of authors: ', str(len(email2commits)))"
   ]
  },
  {
   "cell_type": "code",
   "execution_count": null,
   "metadata": {
    "collapsed": false
   },
   "outputs": [],
   "source": [
    "max_per_author = 50\n",
    "# max ratio of commit sizes in a comparison\n",
    "max_ratio = 10\n",
    "\n",
    "commit_pairs = {}\n",
    "for email, indv_commits in email2commits.items():\n",
    "    if len(indv_commits) == 1:\n",
    "        continue\n",
    "    commit_pairs[email] = []\n",
    "    selected = random.sample(indv_commits, min(max_per_author, len(indv_commits)))\n",
    "    selected = sorted(selected, key=lambda x: x['hash'])\n",
    "    for i in range(-1, len(selected) - 1):\n",
    "        c1 = selected[i]\n",
    "        c2 = selected[i + 1]\n",
    "        assert c1['email'].lower() == c2['email'].lower()\n",
    "    \n",
    "        n1 = c1['additions'] + c1['deletions']\n",
    "        n2 = c2['additions'] + c2['deletions']\n",
    "        if n1 == 0 or n2 == 0:\n",
    "            continue\n",
    "        if int(max(n1 / n2, n2 / n1)) > max_ratio:\n",
    "            continue\n",
    "        commit_pairs[email].append((c1['hash'], c2['hash']))"
   ]
  },
  {
   "cell_type": "code",
   "execution_count": null,
   "metadata": {
    "collapsed": false
   },
   "outputs": [],
   "source": [
    "length_dist = []\n",
    "for email, pair_list in commit_pairs.items():\n",
    "    if len(pair_list) > 10:\n",
    "        print(email)\n",
    "    length_dist.append(len(pair_list))"
   ]
  },
  {
   "cell_type": "code",
   "execution_count": null,
   "metadata": {
    "collapsed": true
   },
   "outputs": [],
   "source": [
    "try:\n",
    "    all_project_pairs\n",
    "except NameError:\n",
    "    all_project_pairs = {}\n",
    "all_project_pairs[project_name] = commit_pairs"
   ]
  },
  {
   "cell_type": "code",
   "execution_count": null,
   "metadata": {
    "collapsed": false
   },
   "outputs": [],
   "source": [
    "all_project_pairs.keys()"
   ]
  },
  {
   "cell_type": "markdown",
   "metadata": {},
   "source": [
    "## Output all_project_pairs as json"
   ]
  },
  {
   "cell_type": "code",
   "execution_count": null,
   "metadata": {
    "collapsed": false
   },
   "outputs": [],
   "source": [
    "OUTPUT_FILE = '../data/icse-js/selected-commits/all_project_pairs.json'\n",
    "\n",
    "with open(OUTPUT_FILE, 'w+') as f:\n",
    "    json.dump(all_project_pairs, f)"
   ]
  },
  {
   "cell_type": "code",
   "execution_count": null,
   "metadata": {
    "collapsed": false
   },
   "outputs": [],
   "source": [
    "cnt = 0\n",
    "for project_name, project_pairs in all_project_pairs.items():\n",
    "    for email, pair_list in project_pairs.items():\n",
    "        if len(pair_list) > 10:\n",
    "            cnt += len(pair_list)\n",
    "print(cnt)"
   ]
  },
  {
   "cell_type": "code",
   "execution_count": null,
   "metadata": {
    "collapsed": true
   },
   "outputs": [],
   "source": []
  }
 ],
 "metadata": {
  "anaconda-cloud": {},
  "kernelspec": {
   "display_name": "Python [conda root]",
   "language": "python",
   "name": "conda-root-py"
  },
  "language_info": {
   "codemirror_mode": {
    "name": "ipython",
    "version": 3
   },
   "file_extension": ".py",
   "mimetype": "text/x-python",
   "name": "python",
   "nbconvert_exporter": "python",
   "pygments_lexer": "ipython3",
   "version": "3.5.2"
  }
 },
 "nbformat": 4,
 "nbformat_minor": 1
}
