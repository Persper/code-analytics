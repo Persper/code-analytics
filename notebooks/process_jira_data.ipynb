{
 "cells": [
  {
   "cell_type": "code",
   "execution_count": null,
   "metadata": {
    "collapsed": true
   },
   "outputs": [],
   "source": [
    "#coding=utf-8\n",
    "import xml.dom.minidom\n",
    "import re\n",
    "import os\n",
    "import sys\n",
    "\n",
    "jira_issues = ['ace', 'activemq', 'aurora', 'beam', 'cassandra', 'couchdb', 'hbase', 'hive', 'incubator-systemml', 'maven', 'spark', 'zookeeper']"
   ]
  },
  {
   "cell_type": "code",
   "execution_count": null,
   "metadata": {
    "collapsed": true
   },
   "outputs": [],
   "source": [
    "def remove(data):\n",
    "    data = re.sub(r'</?p>', \"\", data)\n",
    "    data = re.sub(r'</?tt>', \"\", data)\n",
    "    data = re.sub(r'<br/>', \"\", data)\n",
    "    data = re.sub(r'\\<a.*?\\>', \"\", data)\n",
    "    data = re.sub(r'</a>', \"\", data)\n",
    "    data = re.sub(r'\\<div.*?\\>', \"\", data)\n",
    "    data = re.sub(r'\\</div\\>', \"\", data)\n",
    "    data = re.sub(r'\\<pre.*?\\>', \"\", data)\n",
    "    data = re.sub(r'\\</pre\\>', \"\", data)\n",
    "    data = re.sub(r'\\<span.*?\\>', \"\", data)\n",
    "    data = re.sub(r'\\</span\\>', \"\", data)\n",
    "    data = re.sub(r'\\<ul.*?\\>', \"\", data)\n",
    "    data = re.sub(r'</ul\\>', \"\", data)\n",
    "    data = re.sub(r'\\<table.*?\\>', \"\", data)\n",
    "    data = re.sub(r'\\</table\\>', \"\", data)\n",
    "    data = re.sub(r'\\<td.*?\\>', \"\", data)\n",
    "    data = re.sub(r'\\</td\\>', \"\", data)\n",
    "    data = re.sub(r'\\<th.*?\\>', \"\", data)\n",
    "    data = re.sub(r'\\</th\\>', \"\", data)\n",
    "    data = re.sub(r'\\</?del\\>', \"\", data)\n",
    "    data = re.sub(r'\\</?em\\>', \"\", data)\n",
    "    data = re.sub(r'\\</?h3\\>', \"\", data)\n",
    "    data = re.sub(r'\\</?li\\>', \"\", data)\n",
    "    data = re.sub(r'</?ol>', \"\", data)\n",
    "    data = re.sub(r'</?tr>', \"\", data)\n",
    "    data = re.sub(r'</?tbody>', \"\", data)\n",
    "    data = re.sub(r'\\<img.*?\\>', \"\", data)\n",
    "    data = re.sub(r'\\n', \" \", data)\n",
    "    data = re.sub(r'\\&gt\\;', \">\", data)\n",
    "    data = re.sub(r'\\&lt\\;', \"<\", data)\n",
    "    data = re.sub(r'\\&\\#91\\;', \"[\", data)\n",
    "    data = re.sub(r'\\&\\#93\\;', \"]\", data)\n",
    "    data = re.sub(r'\\&\\#8211\\;', \"-\", data)\n",
    "    data = re.sub(r'\\&amp\\;', \"&\", data)\n",
    "    data = re.sub(r'\\<200c\\>', \"\", data)\n",
    "    data = re.sub(r'\\<200b\\>', \"\", data)\n",
    "    return data"
   ]
  },
  {
   "cell_type": "code",
   "execution_count": null,
   "metadata": {
    "collapsed": true
   },
   "outputs": [],
   "source": [
    "def readInfoFromXML(parseFile):\n",
    "    \"\"\"return dataset, a list of dict data points\"\"\"\n",
    "    dp = {}\n",
    "    title = parseFile.getElementsByTagName('title')\n",
    "    data = title[1].firstChild.data\n",
    "    data = re.sub(r'\\[.*?\\]\\s', \"\", data)\n",
    "    data = remove(data)\n",
    "    dp['title'] = data\n",
    "\n",
    "    description = parseFile.getElementsByTagName('description')\n",
    "    des_str = ''\n",
    "    for i, des in enumerate(description):\n",
    "        if i != 0 and des.firstChild != None:\n",
    "            data = remove(des.firstChild.data)\n",
    "            des_str = des_str + data\n",
    "    dp['description'] = des_str.encode('utf-8')\n",
    "    \n",
    "    comments = parseFile.getElementsByTagName('comment')\n",
    "    comment_str = ''\n",
    "    for i, com in enumerate(comments):\n",
    "        if com.firstChild:\n",
    "            data = remove(com.firstChild.data)\n",
    "            comment_str = comment_str + data\n",
    "    dp['comment'] = comment_str.encode('utf-8')  \n",
    "    \n",
    "    type = parseFile.getElementsByTagName('type')\n",
    "    dp['type'] = type[0].firstChild.data.encode('utf-8')\n",
    "        \n",
    "    priority = parseFile.getElementsByTagName('priority')\n",
    "    for i, pri in enumerate(priority):\n",
    "        dp['priority'] = pri.firstChild.data.encode('utf-8')\n",
    "        \n",
    "    return dp"
   ]
  },
  {
   "cell_type": "code",
   "execution_count": null,
   "metadata": {
    "collapsed": true
   },
   "outputs": [],
   "source": [
    "def getInfoFromXML(fromDir, path):\n",
    "    fromFile = os.path.join('%s%s' % (fromDir, path))\n",
    "    dom = xml.dom.minidom.parse(fromFile)\n",
    "    parseFile = dom.documentElement\n",
    "    return readInfoFromXML(parseFile)"
   ]
  },
  {
   "cell_type": "code",
   "execution_count": null,
   "metadata": {},
   "outputs": [],
   "source": [
    "def getUsefulInfo(filepath):\n",
    "    dataset = []\n",
    "    pathDir =  os.listdir(filepath)\n",
    "    invalidName = \"invalid\"\n",
    "    numFiles = 0\n",
    "    for allDir in pathDir:\n",
    "        if 'GitHub' not in allDir:\n",
    "            if invalidName in allDir:\n",
    "                continue\n",
    "            dp = getInfoFromXML(filepath, allDir)\n",
    "            dataset.append(dp)\n",
    "            numFiles += 1\n",
    "    return dataset\n",
    "\n",
    "datasets = {}\n",
    "total = 0\n",
    "for ji in jira_issues:\n",
    "    filePath = './data-jira/' + ji + '-issues/'\n",
    "    datasets[ji] = getUsefulInfo(filePath)\n",
    "    total += len(datasets[ji])\n",
    "    print('------ %s -------' % ji)\n",
    "    print('Number of patches:', len(datasets[ji]))\n",
    "    print('Percentage of bugs: %.2f' % (1.0 * sum([1 for dp in datasets[ji] if dp['type'] == 'Bug']) / len(datasets[ji])))\n",
    "    \n",
    "print('Number of patches in total:', total)"
   ]
  },
  {
   "cell_type": "code",
   "execution_count": null,
   "metadata": {},
   "outputs": [],
   "source": [
    "for ji in jira_issues:\n",
    "    for dp in datasets[ji]:\n",
    "        if 'description' not in dp:\n",
    "            datasets[ji].remove(dp)\n",
    "        if 'comment' not in dp:\n",
    "            datasets[ji].remove(dp)\n",
    "print('Number of patches left: ', sum([len(datasets[ji]) for ji in jira_issues]))"
   ]
  },
  {
   "cell_type": "code",
   "execution_count": null,
   "metadata": {
    "collapsed": true
   },
   "outputs": [],
   "source": [
    "import pickle\n",
    "pickle.dump(datasets, open('data-jira/jira-issues.pickle', 'wb'), True)"
   ]
  },
  {
   "cell_type": "code",
   "execution_count": null,
   "metadata": {
    "collapsed": true
   },
   "outputs": [],
   "source": []
  }
 ],
 "metadata": {
  "kernelspec": {
   "display_name": "Python 2",
   "language": "python",
   "name": "python2"
  },
  "language_info": {
   "codemirror_mode": {
    "name": "ipython",
    "version": 2
   },
   "file_extension": ".py",
   "mimetype": "text/x-python",
   "name": "python",
   "nbconvert_exporter": "python",
   "pygments_lexer": "ipython2",
   "version": "2.7.6"
  }
 },
 "nbformat": 4,
 "nbformat_minor": 2
}
