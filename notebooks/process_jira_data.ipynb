{
 "cells": [
  {
   "cell_type": "code",
   "execution_count": null,
   "metadata": {
    "collapsed": true
   },
   "outputs": [],
   "source": [
    "import sys\n",
    "sys.path.append('../lib')\n",
    "import process_jira"
   ]
  },
  {
   "cell_type": "markdown",
   "metadata": {},
   "source": [
    "## Read the jira files into the datasets"
   ]
  },
  {
   "cell_type": "code",
   "execution_count": null,
   "metadata": {
    "collapsed": true
   },
   "outputs": [],
   "source": [
    "project_set = ['ace', 'activemq', 'aurora', 'beam', 'cassandra', 'couchdb', 'hbase', 'hive', 'incubator-systemml', 'maven', 'spark', 'zookeeper']\n",
    "\n",
    "datasets = {}\n",
    "total = 0\n",
    "issue_extractor = process_jira.IssueDataExtractor()\n",
    "for project in project_set:\n",
    "    filePath = './data-jira/' + project + '-issues/'\n",
    "    # Get the useful information from a jira-files dir\n",
    "    datasets[project] = issue_extractor.get_info_from_jira_dir(filePath)\n",
    "    total += len(datasets[project])\n",
    "    print('------ %s -------' % project)\n",
    "    print('Number of patches:', len(datasets[project]))\n",
    "    print('Percentage of bugs: %.2f' % (1.0 * sum([1 for (issueId, dp) in datasets[project].items() if dp['type'] == 'Bug']) / len(datasets[project])))\n",
    "    \n",
    "print('Number of patches in total:', total)"
   ]
  },
  {
   "cell_type": "markdown",
   "metadata": {},
   "source": [
    "## Remove uncompleted jira-issues which has no title/descrption/comment/type/priority"
   ]
  },
  {
   "cell_type": "code",
   "execution_count": null,
   "metadata": {
    "collapsed": true
   },
   "outputs": [],
   "source": [
    "issue_extractor.remove_uncomplete_issues(project_set, datasets)\n",
    "print('Number of patches left: ', sum([len(datasets[project]) for project in project_set]))"
   ]
  },
  {
   "cell_type": "markdown",
   "metadata": {
    "collapsed": true
   },
   "source": [
    "## Dump the dataset into pickle"
   ]
  },
  {
   "cell_type": "code",
   "execution_count": null,
   "metadata": {
    "collapsed": true
   },
   "outputs": [],
   "source": [
    "issue_extractor.dump_into_pickle(datasets, 'data-jira/jira-issues.pickle')"
   ]
  }
 ],
 "metadata": {
  "kernelspec": {
   "display_name": "Python 3",
   "language": "python",
   "name": "python3"
  },
  "language_info": {
   "codemirror_mode": {
    "name": "ipython",
    "version": 3
   },
   "file_extension": ".py",
   "mimetype": "text/x-python",
   "name": "python",
   "nbconvert_exporter": "python",
   "pygments_lexer": "ipython3",
   "version": "3.4.3"
  }
 },
 "nbformat": 4,
 "nbformat_minor": 2
}
