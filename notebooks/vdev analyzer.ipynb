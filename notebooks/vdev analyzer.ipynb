{
 "cells": [
  {
   "cell_type": "code",
   "execution_count": 14,
   "metadata": {},
   "outputs": [
    {
     "name": "stdout",
     "output_type": "stream",
     "text": [
      "{'Java': 0.9189824415871699}\n",
      "{'Java': <persper.analytics.analyzer2.Analyzer object at 0x1287202e8>}\n",
      "Start analyzing language,  Java\n",
      "Commit #0 8f5851f8bc72320b6baa6232d215da7e50a5f4f6 (Initial commit): Going forward (initial commit).\n",
      "Commit #1 3999de6e3508f67fd71b3b90816f82d6ce610ee8 (Eureka server and a demo animal ): Going forward.\n",
      "Commit #2 d6dc03ee42f54f06837d8c6899c6495e9c51e7b0 (Configuration of animnal service): Going forward.\n",
      "Commit #3 cd3273fa630f75684a1ca8460b84e9d16c268f3a (Configuration server with Git UR): Going forward.\n",
      "Commit #4 1bd7198764e474d678aad009f791a5bf53aae9a8 (Tracing with  Zipkin and Sleuth): Going forward.\n",
      "Commit #5 44d950740c87e76f45d5fbe309e546bb83920d78 (Delete spring-cloud-starter.iml): Going forward.\n",
      "Commit #6 7c172a02d5c6244f64aa3295cccfde4aa1bb97be (Delete zipkin-server.iml): Going forward.\n",
      "Commit #7 9665b8597d2ef6463270259ecfea0308625674b0 (Spring Cloud Zuul Proxy): Going forward.\n",
      "Commit #8 590fcd64ec5f8021ca3e6c0584d8bab3d3e4eb17 (Configuration of bird service): Going forward.\n",
      "Commit #9 62950ac393c6b150b2522e9e3807739a0c603cb0 (demo bird service): Going forward.\n",
      "Commit #10 25fd4882cfbd62af8a1b88a99448be1a41865865 (configuration of jungle service): Going forward.\n",
      "Commit #11 d66ed3623ea8436bf37dbd2023f9427256ab419e (demo jungle service implementati): Going forward.\n",
      "Commit #12 d676cf0a5d96864d53579a3517a57d8b394ce41f (updated jungle service): Going forward.\n",
      "Commit #13 d8b8948eb981da0c233c912f92bfc312961f0adb (Unit testing of jungle service): Going forward.\n",
      "Commit #14 13e43bd25a882346a1fa212906b87e1805af37ff (Minor update of jungle service): Going forward.\n",
      "Commit #15 a80699286b5b417e4c49e0558cf61a46d8bd0b28 (Hystrix Circuit Breaker applied ): Going forward.\n",
      "Commit #16 843ebc9c4309dde663449ece396e6b8a810e1018 (Dockerize all the servers and mi): Going forward.\n",
      "Commit #17 df5538a2000082a0061204b4a31c8e2a2934b470 (Updated readme): Going forward.\n",
      "Commit #18 0d58e6f7c207b24076f81fa4fd464b9c3133ad22 (Some formatting applied in Readm): Going forward.\n",
      "Commit #19 f25f2c43138ed62d3d1197cae6905e974952f905 (Updated readme with service port): Going forward.\n",
      "Saving pickle file to: test.pickle\n",
      "Used time,  150.68589901924133\n"
     ]
    }
   ],
   "source": [
    "import time\n",
    "from vdev.vdev_analyzer import VdevAnalyzer\n",
    "\n",
    "start = time.time()\n",
    "\n",
    "repo_path = '/Users/zen/repos/spring-cloud-starter'\n",
    "vdev = VdevAnalyzer(repo_path)\n",
    "await vdev.analyzing('test.pickle')\n",
    "\n",
    "print(\"Used time, \", time.time()- start)"
   ]
  },
  {
   "cell_type": "code",
   "execution_count": 15,
   "metadata": {},
   "outputs": [
    {
     "data": {
      "text/plain": [
       "[0.0,\n",
       " 0.21212121212121213,\n",
       " 0.0,\n",
       " 0.012987012987012988,\n",
       " 0.012987012987012988,\n",
       " 0.0,\n",
       " 0.0,\n",
       " 0.043290043290043295,\n",
       " 0.0,\n",
       " 0.18614718614718614]"
      ]
     },
     "execution_count": 15,
     "metadata": {},
     "output_type": "execute_result"
    }
   ],
   "source": [
    "# print(vdev.developer_profile()['sirius-m@1a98c847-1fd6-4fd8-948a-caf3550aa51b'])\n",
    "vdev.basic_stats()[0:10]"
   ]
  },
  {
   "cell_type": "markdown",
   "metadata": {},
   "source": [
    "## Reload Pickle"
   ]
  },
  {
   "cell_type": "code",
   "execution_count": 19,
   "metadata": {
    "collapsed": true
   },
   "outputs": [],
   "source": [
    "import pickle \n",
    "vdev_load = pickle.load(open('test.pickle', 'rb'))"
   ]
  },
  {
   "cell_type": "code",
   "execution_count": 20,
   "metadata": {},
   "outputs": [
    {
     "name": "stdout",
     "output_type": "stream",
     "text": [
      "Start analyzing language,  Java\n",
      "No pickle file saved\n"
     ]
    }
   ],
   "source": [
    "await vdev_load.analyzing()"
   ]
  },
  {
   "cell_type": "code",
   "execution_count": 21,
   "metadata": {},
   "outputs": [
    {
     "data": {
      "text/plain": [
       "[0.0,\n",
       " 0.21212121212121213,\n",
       " 0.0,\n",
       " 0.012987012987012988,\n",
       " 0.012987012987012988,\n",
       " 0.0,\n",
       " 0.0,\n",
       " 0.043290043290043295,\n",
       " 0.0,\n",
       " 0.18614718614718614]"
      ]
     },
     "execution_count": 21,
     "metadata": {},
     "output_type": "execute_result"
    }
   ],
   "source": [
    "# vdev_load.developer_profile()\n",
    "vdev_load.basic_stats()[0:10]"
   ]
  },
  {
   "cell_type": "code",
   "execution_count": null,
   "metadata": {
    "collapsed": true
   },
   "outputs": [],
   "source": []
  }
 ],
 "metadata": {
  "kernelspec": {
   "display_name": "code-analytics",
   "language": "python",
   "name": "code-analytics"
  },
  "language_info": {
   "codemirror_mode": {
    "name": "ipython",
    "version": 3
   },
   "file_extension": ".py",
   "mimetype": "text/x-python",
   "name": "python",
   "nbconvert_exporter": "python",
   "pygments_lexer": "ipython3",
   "version": "3.6.3"
  }
 },
 "nbformat": 4,
 "nbformat_minor": 2
}
