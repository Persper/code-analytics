{
 "cells": [
  {
   "cell_type": "code",
   "execution_count": 1,
   "metadata": {
    "collapsed": true
   },
   "outputs": [],
   "source": [
    "import os\n",
    "import time\n",
    "import pickle\n",
    "import datetime as dt\n",
    "import matplotlib.dates as md\n",
    "import matplotlib.pyplot as plt\n",
    "from persper.util.path import root_path\n",
    "from persper.analytics.analyzer import Analyzer\n",
    "from persper.analytics.cpp import CPPGraphServer\n",
    "from persper.analytics.iterator import RepoIterator\n",
    "from persper.analytics.graph_server import CPP_FILENAME_REGEXES\n",
    "from datetime import date\n",
    "alpha = 0.85"
   ]
  },
  {
   "cell_type": "code",
   "execution_count": 2,
   "metadata": {},
   "outputs": [
    {
     "name": "stdout",
     "output_type": "stream",
     "text": [
      "----- Overview ------\n",
      "# of commits on master: 68\n",
      "# of commits on branch: 0\n",
      "----- No.1 e071a3f6c06f41068ad17134189a4ac3073ef76b on main -----\n",
      "----- No.2 465e1d99f25cc7f45efcacfcbb1f95c1c1f9a4ee on main -----\n",
      "----- No.3 8dca7864f793072701f810e4c5ea12a6e1087085 on main -----\n",
      "----- No.4 dba0fd9b6a76897bbb42b2b6dcfb3b84b8558936 on main -----\n",
      "----- No.5 6d97df0e992dc5015b5327935ab89923d2dc0ba9 on main -----\n",
      "----- No.6 429187c6a8816e6df73f69530d0641ac0dcc514e on main -----\n",
      "----- No.7 661f878002d789f7e50b19d63da246414015c44b on main -----\n",
      "----- No.8 0cc05617d17947d139d09f4ddcca7aeca755f00a on main -----\n",
      "----- No.9 99cef996c788755af95a0a614d7154a30928d4b9 on main -----\n",
      "----- No.10 e39dfe8ea64a360978db0239fbd6ea4ef24de55d on main -----\n",
      "----- No.11 fa2a0338d3f8b1c3a1d75bff39ff42e436cee0dc on main -----\n",
      "----- No.12 dd519206a684c772a4a06ceecc87c665ad09d8be on main -----\n",
      "----- No.13 dc73b326f97f2ed7ec7b7e8485ebc9eb46e05ddb on main -----\n",
      "----- No.14 e8474beb6f2c5e2654f8ebc671b3dbf5fae78563 on main -----\n",
      "----- No.15 a0c17c03eb323ddec28e36cfc30174a58264cbcf on main -----\n",
      "----- No.16 32d490313b21d5cea64f99ca9db4388591bb3ab9 on main -----\n",
      "----- No.17 fe9f3d626d79f71d819caf43878299fa5e6af83e on main -----\n",
      "----- No.18 5750932cdf72ea9b5e64b8a05b43c42f5acb417d on main -----\n",
      "----- No.19 4ac57f013e20da2d0f87fff69625cbd4419089f3 on main -----\n",
      "----- No.20 b7362c07ae42ac4282361ee95b82424d502f1b82 on main -----\n",
      "----- No.21 e4c05d31778a85014b2a52e2f20753b38dfbf950 on main -----\n",
      "----- No.22 300d4608f2504e3e4a02a13b6c6000b52c436975 on main -----\n",
      "----- No.23 8acda009d921a65dab87bd0a40f63981a1586561 on main -----\n",
      "----- No.24 8b4cefd3245c349cad14baaf2ba42380dcc88112 on main -----\n",
      "----- No.25 b4e235f9f23b492539eeeddbbd1e7a7ef1b6793e on main -----\n",
      "----- No.26 956468c29adcbff83ab7c2e52d91f8e87b704853 on main -----\n",
      "----- No.27 70e79525c97c33a5fca8674d47d86cc2b7ae197a on main -----\n",
      "----- No.28 b349e3dca89dfff5fe70669f9fd3f3a1ec60a498 on main -----\n",
      "----- No.29 c5c7911dab8732861affbe66849a100da62f7464 on main -----\n",
      "----- No.30 52f4cb48590a706caf7a492e8d94b85620d5cd33 on main -----\n",
      "----- No.31 107d9e288df8207e83f4273a8dcd631412f89889 on main -----\n",
      "----- No.32 b075bbf9862df41cdf5265026ba787b7d0fecb07 on main -----\n",
      "----- No.33 4ea3f3da1a0c00ea74e85c31a22ea94d18bbdf06 on main -----\n",
      "----- No.34 651d33556982d038d39f04373b9f63913bf03187 on main -----\n",
      "----- No.35 e39bc50eb4dd4f0a34ee4c264af83043f13543dd on main -----\n",
      "----- No.36 e899779450bcd940dcdb0108d27c35eae92cc1e1 on main -----\n",
      "----- No.37 adb50ffe32c5c37c84ff35d94bb486004e14a7cc on main -----\n",
      "----- No.38 e2c2648c14f4b87d331dbc30f0f2bd4aab9ce7e6 on main -----\n",
      "----- No.39 312c2c42b6d38dc7bfeef849722c8e231c38e8e4 on main -----\n",
      "----- No.40 9a36562347122482fd1e6e77c74df66ad8cf2c3f on main -----\n",
      "----- No.41 cb0f89646f065800d38d7cfc10ba1e855563296a on main -----\n",
      "----- No.42 8be979d9aef606f2a196a2addcf80473d571185b on main -----\n",
      "----- No.43 53d508072b02d522371bde148dcc3e925f472be7 on main -----\n",
      "----- No.44 082e725b33addda32ec4b31eba60b47f0dc6879f on main -----\n",
      "----- No.45 c41226d847c7d32ade7f02c0d53c85b0800fc71b on main -----\n",
      "----- No.46 75990a46a7e4999729ff67c4268c2241c98e486f on main -----\n",
      "----- No.47 fa9dbd6b62ab161c29c9b8cf97b9c8da8ef4346e on main -----\n",
      "----- No.48 98500d70a8cf25af4bab80526fd128ccdc36ceeb on main -----\n",
      "----- No.49 c85dfb148a1e3d75773bc5f6b7cad14363fd666b on main -----\n",
      "----- No.50 c4319e678f693d5fbc49bd357ded1c8f951476e9 on main -----\n",
      "----- No.51 64a474a49b20a66453fbcd2382e4b042427b0a0f on main -----\n",
      "----- No.52 5253d1ab77fab1995ede03fb934edd67f1359ba8 on main -----\n",
      "----- No.53 2b63e68bbfebc370aa6f2d542419a6e5680f33c5 on main -----\n",
      "----- No.54 e4806597650d8a17f1da7a5b5501eb367ea786fc on main -----\n",
      "----- No.55 c6ab3cf6d9cf5f5ade3b8fc48590e1bc4794cb43 on main -----\n",
      "----- No.56 75199de534a590329a3b636d63fade2e4544ce97 on main -----\n",
      "----- No.57 0184604aaf21f8279df9ecbee7be4fbf0bbf99c1 on main -----\n",
      "----- No.58 cb420a1dfc23d3c11c5281ed8f7ae003c2f61594 on main -----\n",
      "----- No.59 c2430126d75318508836a24f90d3524320190465 on main -----\n",
      "----- No.60 6557910ccf36e098b1a0de4841be7c04c4ffd58a on main -----\n",
      "----- No.61 d7d80a74d58152453cfb0c71a08f6b424d2493c9 on main -----\n",
      "----- No.62 2cffa7ce315d9b98d35192d16927b44d21b9e1a7 on main -----\n",
      "----- No.63 966cca4bd4a6d869583fb47f5f66ed4672c007ff on main -----\n",
      "----- No.64 2d98de1b3ae2ade8b1e5493bc63c0c1d776deeb1 on main -----\n",
      "----- No.65 124baa4ccbf3ecb78eab7ecdd40105fb54ee0369 on main -----\n",
      "----- No.66 42605ce8bcc9bd01b86491c74fee14de77960868 on main -----\n",
      "----- No.67 1da44d2e96cd2461eb25ffd17c417cf2e5aef9de on main -----\n",
      "----- No.68 dd4a660f92a211cd044315de8c3e762943a4f21f on main -----\n",
      "Block node doesn't have position node inside!\n",
      "Block node doesn't have position node inside!\n"
     ]
    }
   ],
   "source": [
    "repo_path = os.path.join(root_path, 'repos/bitcoin')\n",
    "az = Analyzer(repo_path, CPPGraphServer(CPP_FILENAME_REGEXES))\n",
    "az.analyze('git@github.com:zhengxu001/bitcoin.git', from_beginning=True, into_branches=True)"
   ]
  },
  {
   "cell_type": "code",
   "execution_count": null,
   "metadata": {
    "collapsed": true
   },
   "outputs": [],
   "source": []
  }
 ],
 "metadata": {
  "kernelspec": {
   "display_name": "code-analytics",
   "language": "python",
   "name": "code-analytics"
  },
  "language_info": {
   "codemirror_mode": {
    "name": "ipython",
    "version": 3
   },
   "file_extension": ".py",
   "mimetype": "text/x-python",
   "name": "python",
   "nbconvert_exporter": "python",
   "pygments_lexer": "ipython3",
   "version": "3.6.3"
  }
 },
 "nbformat": 4,
 "nbformat_minor": 2
}
