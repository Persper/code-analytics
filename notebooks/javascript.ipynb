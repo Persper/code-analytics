{
 "cells": [
  {
   "cell_type": "markdown",
   "metadata": {},
   "source": [
    "## Run on our js test repo"
   ]
  },
  {
   "cell_type": "code",
   "execution_count": null,
   "metadata": {
    "collapsed": false
   },
   "outputs": [],
   "source": [
    "from persper.graphs.analyzer import Analyzer\n",
    "from persper.graphs.js import JSGraph\n",
    "\n",
    "server_addr = 'http://localhost:3000'\n",
    "test_repo = '../repos/js_test_repo'\n",
    "az = Analyzer(test_repo, JSGraph(server_addr))\n",
    "az.ccg.reset_graph()\n",
    "az.analyze()\n",
    "G = az.ccg.get_graph()"
   ]
  },
  {
   "cell_type": "code",
   "execution_count": null,
   "metadata": {
    "collapsed": false
   },
   "outputs": [],
   "source": [
    "# things to check for correctness\n",
    "print('-' * 50)\n",
    "print('Nodes in G')\n",
    "print(G.nodes())\n",
    "print('-' * 50)\n",
    "print('main.js:funcA:3:5 --', G.node['main.js:funcA:3:5'])\n",
    "print('main.js:global --', G.node['main.js:global'])\n",
    "print('-' * 50)\n",
    "print(az.history)\n",
    "az.id_map"
   ]
  },
  {
   "cell_type": "code",
   "execution_count": null,
   "metadata": {
    "collapsed": false
   },
   "outputs": [],
   "source": [
    "az.compute_function_share(0.85)"
   ]
  },
  {
   "cell_type": "code",
   "execution_count": null,
   "metadata": {
    "collapsed": false
   },
   "outputs": [],
   "source": [
    "az.compute_commit_share(0.85)"
   ]
  },
  {
   "cell_type": "markdown",
   "metadata": {},
   "source": [
    "## Run on vue test repo"
   ]
  },
  {
   "cell_type": "code",
   "execution_count": null,
   "metadata": {
    "collapsed": false
   },
   "outputs": [],
   "source": [
    "from persper.graphs.analyzer import Analyzer\n",
    "from persper.graphs.js import JSGraph\n",
    "\n",
    "server_addr = 'http://localhost:3000'\n",
    "repo = '../repos/vue_test_repo'\n",
    "az = Analyzer(repo, JSGraph(server_addr))\n",
    "az.ccg.reset_graph()\n",
    "az.analyze()\n",
    "G = az.ccg.get_graph()"
   ]
  },
  {
   "cell_type": "code",
   "execution_count": null,
   "metadata": {
    "collapsed": false
   },
   "outputs": [],
   "source": [
    "G.nodes()"
   ]
  },
  {
   "cell_type": "code",
   "execution_count": null,
   "metadata": {
    "collapsed": false
   },
   "outputs": [],
   "source": [
    "G.edges()"
   ]
  },
  {
   "cell_type": "code",
   "execution_count": null,
   "metadata": {
    "collapsed": false
   },
   "outputs": [],
   "source": [
    "az.compute_commit_share(0.85)"
   ]
  },
  {
   "cell_type": "code",
   "execution_count": null,
   "metadata": {
    "collapsed": false
   },
   "outputs": [],
   "source": [
    "az.compute_function_share(0.85)"
   ]
  },
  {
   "cell_type": "code",
   "execution_count": null,
   "metadata": {
    "collapsed": false
   },
   "outputs": [],
   "source": [
    "az.history"
   ]
  },
  {
   "cell_type": "markdown",
   "metadata": {},
   "source": [
    "## Running for the first time on vue"
   ]
  },
  {
   "cell_type": "code",
   "execution_count": null,
   "metadata": {
    "collapsed": false
   },
   "outputs": [],
   "source": [
    "from persper.graphs.analyzer import Analyzer\n",
    "from persper.graphs.js import JSGraph\n",
    "\n",
    "server_addr = 'http://localhost:3000'\n",
    "repo = '../repos/vue'\n",
    "az = Analyzer(repo, JSGraph(server_addr))\n",
    "az.ccg.reset_graph()\n",
    "az.analyze()"
   ]
  },
  {
   "cell_type": "code",
   "execution_count": null,
   "metadata": {
    "collapsed": false,
    "scrolled": true
   },
   "outputs": [],
   "source": [
    "commit_share = az.compute_commit_share(0.85)"
   ]
  },
  {
   "cell_type": "code",
   "execution_count": null,
   "metadata": {
    "collapsed": false
   },
   "outputs": [],
   "source": [
    "total = 0\n",
    "for sha in commit_share:\n",
    "    total += commit_share[sha]\n",
    "print(total)"
   ]
  },
  {
   "cell_type": "code",
   "execution_count": null,
   "metadata": {
    "collapsed": false
   },
   "outputs": [],
   "source": [
    "az.compute_developer_share(0.85)"
   ]
  },
  {
   "cell_type": "code",
   "execution_count": null,
   "metadata": {
    "collapsed": false
   },
   "outputs": [],
   "source": [
    "for fid in az.history['a879ec06ef9504db8df2a19aac0d07609fe36131']:\n",
    "    if fid not in az.G:\n",
    "        print(fid)"
   ]
  },
  {
   "cell_type": "code",
   "execution_count": null,
   "metadata": {
    "collapsed": false
   },
   "outputs": [],
   "source": [
    "for fid in az.G:\n",
    "    if fid not in az.history['a879ec06ef9504db8df2a19aac0d07609fe36131']:\n",
    "        print(fid)"
   ]
  },
  {
   "cell_type": "code",
   "execution_count": null,
   "metadata": {
    "collapsed": false
   },
   "outputs": [],
   "source": [
    "az.compute_developer_share(0.85)"
   ]
  },
  {
   "cell_type": "code",
   "execution_count": null,
   "metadata": {
    "collapsed": true
   },
   "outputs": [],
   "source": [
    "import pickle\n",
    "with open('vuejs-history.pickle', 'wb+') as f:\n",
    "    pickle.dump(az.history, f)\n",
    "    \n",
    "with open('vuejs-id-map.pickle', 'wb+') as f:\n",
    "    pickle.dump(az.id_map, f)\n",
    "    \n",
    "with open('vuejs-graph.pickle', 'wb+') as f:\n",
    "    pickle.dump(az.G, f)"
   ]
  },
  {
   "cell_type": "markdown",
   "metadata": {},
   "source": [
    "## Load from pickle and compute shares"
   ]
  },
  {
   "cell_type": "code",
   "execution_count": null,
   "metadata": {
    "collapsed": true
   },
   "outputs": [],
   "source": [
    "from persper.graphs.analyzer import Analyzer\n",
    "from persper.graphs.js import JSGraph\n",
    "\n",
    "server_addr = 'http://localhost:3000'\n",
    "repo = '../repos/vue'\n",
    "az = Analyzer(repo, JSGraph(server_addr))"
   ]
  },
  {
   "cell_type": "code",
   "execution_count": null,
   "metadata": {
    "collapsed": true
   },
   "outputs": [],
   "source": [
    "import pickle\n",
    "with open('vuejs-history.pickle', 'rb') as f:\n",
    "    az.history = pickle.load(f)\n",
    "    \n",
    "with open('vuejs-id-map.pickle', 'rb') as f:\n",
    "    az.id_map = pickle.load(f)\n",
    "    \n",
    "with open('vuejs-graph.pickle', 'rb') as f:\n",
    "    az.G = pickle.load(f)"
   ]
  },
  {
   "cell_type": "code",
   "execution_count": null,
   "metadata": {
    "collapsed": false
   },
   "outputs": [],
   "source": [
    "func_share = az.compute_function_share(0.85)"
   ]
  },
  {
   "cell_type": "code",
   "execution_count": null,
   "metadata": {
    "collapsed": false
   },
   "outputs": [],
   "source": [
    "commit_share = az.compute_commit_share(0.85)"
   ]
  },
  {
   "cell_type": "code",
   "execution_count": null,
   "metadata": {
    "collapsed": false
   },
   "outputs": [],
   "source": [
    "total = 0\n",
    "for sha in commit_share:\n",
    "    total += commit_share[sha]\n",
    "print(total)"
   ]
  },
  {
   "cell_type": "code",
   "execution_count": null,
   "metadata": {
    "collapsed": true
   },
   "outputs": [],
   "source": [
    "dev_share = az.compute_developer_share(0.85)"
   ]
  },
  {
   "cell_type": "code",
   "execution_count": null,
   "metadata": {
    "collapsed": false
   },
   "outputs": [],
   "source": [
    "sorted(dev_share.items(), key=lambda x: x[1], reverse=True)"
   ]
  },
  {
   "cell_type": "markdown",
   "metadata": {},
   "source": [
    "## Debug"
   ]
  },
  {
   "cell_type": "code",
   "execution_count": null,
   "metadata": {
    "collapsed": false
   },
   "outputs": [],
   "source": [
    "cnt = 0\n",
    "for u, d in G.degree().items():\n",
    "    if d == 0:\n",
    "        cnt += 1\n",
    "print(cnt)"
   ]
  },
  {
   "cell_type": "code",
   "execution_count": null,
   "metadata": {
    "collapsed": false
   },
   "outputs": [],
   "source": [
    "import statistics\n",
    "statistics.median(G.degree().values())\n",
    "statistics.mean(G.degree().values())"
   ]
  },
  {
   "cell_type": "code",
   "execution_count": null,
   "metadata": {
    "collapsed": false
   },
   "outputs": [],
   "source": [
    "import matplotlib.pyplot as plt\n",
    "import numpy as np\n",
    "import math\n",
    "lst = list(map(lambda x: math.log(x, 10), list(G.degree().values())))\n",
    "plt.hist(lst, bins='auto')\n",
    "plt.show()"
   ]
  }
 ],
 "metadata": {
  "anaconda-cloud": {},
  "kernelspec": {
   "display_name": "Python [conda root]",
   "language": "python",
   "name": "conda-root-py"
  },
  "language_info": {
   "codemirror_mode": {
    "name": "ipython",
    "version": 3
   },
   "file_extension": ".py",
   "mimetype": "text/x-python",
   "name": "python",
   "nbconvert_exporter": "python",
   "pygments_lexer": "ipython3",
   "version": "3.5.2"
  }
 },
 "nbformat": 4,
 "nbformat_minor": 0
}
