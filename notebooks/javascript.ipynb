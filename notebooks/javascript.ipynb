{
 "cells": [
  {
   "cell_type": "code",
   "execution_count": null,
   "metadata": {
    "collapsed": false
   },
   "outputs": [],
   "source": [
    "from persper.graphs.analyzer import Analyzer\n",
    "from persper.graphs.js import JSGraph\n",
    "\n",
    "server_addr = 'http://localhost:3000'\n",
    "test_repo = '../repos/js_test_repo'\n",
    "az = Analyzer(test_repo, JSGraph(server_addr))\n",
    "az.ccg.reset_graph()\n",
    "az.analyze()\n",
    "G = az.ccg.get_graph()"
   ]
  },
  {
   "cell_type": "code",
   "execution_count": null,
   "metadata": {
    "collapsed": false
   },
   "outputs": [],
   "source": [
    "# things to check for correctness\n",
    "G.nodes()\n",
    "G.node['main.js:funcA:3:5']\n",
    "G.node['main.js:global']\n",
    "az.history\n",
    "az.id_map"
   ]
  },
  {
   "cell_type": "code",
   "execution_count": null,
   "metadata": {
    "collapsed": false
   },
   "outputs": [],
   "source": [
    "from persper.graphs.analyzer import Analyzer\n",
    "from persper.graphs.js import JSGraph\n",
    "\n",
    "server_addr = 'http://localhost:3000'\n",
    "repo = '../repos/vue'\n",
    "az = Analyzer(repo, JSGraph(server_addr))\n",
    "az.ccg.reset_graph()\n",
    "az.analyze()"
   ]
  },
  {
   "cell_type": "code",
   "execution_count": null,
   "metadata": {
    "collapsed": false
   },
   "outputs": [],
   "source": [
    "az.history"
   ]
  },
  {
   "cell_type": "code",
   "execution_count": null,
   "metadata": {
    "collapsed": false
   },
   "outputs": [],
   "source": [
    "az.id_map"
   ]
  },
  {
   "cell_type": "code",
   "execution_count": null,
   "metadata": {
    "collapsed": false
   },
   "outputs": [],
   "source": [
    "cnt = 0\n",
    "for u, d in G.degree().items():\n",
    "    if d == 0:\n",
    "        cnt += 1\n",
    "print(cnt)"
   ]
  },
  {
   "cell_type": "code",
   "execution_count": null,
   "metadata": {
    "collapsed": false
   },
   "outputs": [],
   "source": [
    "import statistics\n",
    "statistics.median(G.degree().values())\n",
    "statistics.mean(G.degree().values())"
   ]
  },
  {
   "cell_type": "code",
   "execution_count": null,
   "metadata": {
    "collapsed": false
   },
   "outputs": [],
   "source": [
    "import matplotlib.pyplot as plt\n",
    "import numpy as np\n",
    "import math\n",
    "lst = list(map(lambda x: math.log(x, 10), list(G.degree().values())))\n",
    "plt.hist(lst, bins='auto')\n",
    "plt.show()"
   ]
  }
 ],
 "metadata": {
  "anaconda-cloud": {},
  "kernelspec": {
   "display_name": "Python [conda root]",
   "language": "python",
   "name": "conda-root-py"
  },
  "language_info": {
   "codemirror_mode": {
    "name": "ipython",
    "version": 3
   },
   "file_extension": ".py",
   "mimetype": "text/x-python",
   "name": "python",
   "nbconvert_exporter": "python",
   "pygments_lexer": "ipython3",
   "version": "3.5.2"
  }
 },
 "nbformat": 4,
 "nbformat_minor": 1
}
