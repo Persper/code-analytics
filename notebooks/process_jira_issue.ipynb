{
 "cells": [
  {
   "cell_type": "code",
   "execution_count": null,
   "metadata": {
    "collapsed": true
   },
   "outputs": [],
   "source": [
    "import sys\n",
    "sys.path.append('../lib')\n",
    "import extractor"
   ]
  },
  {
   "cell_type": "markdown",
   "metadata": {},
   "source": [
    "## Read the jira files into the datasets"
   ]
  },
  {
   "cell_type": "code",
   "execution_count": null,
   "metadata": {
    "scrolled": true
   },
   "outputs": [],
   "source": [
    "project_set = ['ace', 'activemq', 'aurora', 'beam', 'cassandra', 'couchdb', 'hbase', 'hive', 'incubator-systemml', 'maven', 'spark', 'zookeeper']\n",
    "\n",
    "datasets = {}\n",
    "total = 0\n",
    "issue_extractor = extractor.JiraIssueExtractor()\n",
    "for project in project_set:\n",
    "    filePath = './data-jira/' + project + '-issues/'\n",
    "    # Get the useful information from a jira-files dir\n",
    "    datasets[project] = issue_extractor.generate_dataset(filePath)\n",
    "    total += len(datasets[project])\n",
    "    print('------ %s -------' % project)\n",
    "    print('Number of patches:', len(datasets[project]))\n",
    "    print('Percentage of bugs: %.2f' % (1.0 * sum([1 for (issueId, dp) in datasets[project].items() if dp['type'] == 'Bug']) / len(datasets[project])))\n",
    "    \n",
    "print('Number of patches in total:', total)"
   ]
  },
  {
   "cell_type": "markdown",
   "metadata": {},
   "source": [
    "## Remove uncompleted jira-issues which has no title/descrption/comment/type/priority"
   ]
  },
  {
   "cell_type": "code",
   "execution_count": null,
   "metadata": {},
   "outputs": [],
   "source": [
    "issue_extractor.remove_uncomplete_issues(project_set, datasets)\n",
    "print('Number of patches left: ', sum([len(datasets[project]) for project in project_set]))"
   ]
  },
  {
   "cell_type": "markdown",
   "metadata": {
    "collapsed": true
   },
   "source": [
    "## Dump the dataset into pickle"
   ]
  },
  {
   "cell_type": "code",
   "execution_count": null,
   "metadata": {
    "collapsed": true
   },
   "outputs": [],
   "source": [
    "issue_extractor.dump_into_pickle(datasets, 'data-jira/jira-issues.pickle')"
   ]
  },
  {
   "cell_type": "markdown",
   "metadata": {},
   "source": [
    "## Analyze the number of multiple types and priorities"
   ]
  },
  {
   "cell_type": "code",
   "execution_count": null,
   "metadata": {
    "collapsed": true
   },
   "outputs": [],
   "source": [
    "# import the labeler lib\n",
    "import sys\n",
    "sys.path.append('../lib')\n",
    "import labeler\n",
    "from labeler import apache_type"
   ]
  },
  {
   "cell_type": "code",
   "execution_count": null,
   "metadata": {},
   "outputs": [],
   "source": [
    "jira_type = [labeler.FEATURE, labeler.MAINTENANCE, labeler.IMPROVEMENT, labeler.SKIP]\n",
    "for project in project_set:\n",
    "    print('---------------------------- %s --------------------------' % project)\n",
    "    for jt in jira_type:\n",
    "        print('---------- %s ---------' % jt)\n",
    "        temp_set = [issue for issue_id, issue in datasets[project].items() if jt in apache_type[issue['type']]]\n",
    "        if not len(temp_set):\n",
    "            continue   \n",
    "        print('     Percentage of Blocker: %.2f' % (1.0 * sum([1 for issue in temp_set if issue['priority'] == 'Blocker']) / len(temp_set)))\n",
    "        print('     Percentage of Critical: %.2f' % (1.0 * sum([1 for issue in temp_set if issue['priority'] == 'Critical']) / len(temp_set)))\n",
    "        print('     Percentage of Major: %.2f' % (1.0 * sum([1 for issue in temp_set if issue['priority'] == 'Major']) / len(temp_set)))\n",
    "        print('     Percentage of Minor: %.2f' % (1.0 * sum([1 for issue in temp_set if issue['priority'] == 'Minor']) / len(temp_set)))\n",
    "        print('     Percentage of Trivial: %.2f' % (1.0 * sum([1 for issue in temp_set if issue['priority'] == 'Trivial']) / len(temp_set)))        \n",
    "    \n",
    "print('Number of patches in total:', total)"
   ]
  },
  {
   "cell_type": "code",
   "execution_count": null,
   "metadata": {
    "collapsed": true
   },
   "outputs": [],
   "source": []
  }
 ],
 "metadata": {
  "kernelspec": {
   "display_name": "Python 3",
   "language": "python",
   "name": "python3"
  },
  "language_info": {
   "codemirror_mode": {
    "name": "ipython",
    "version": 3
   },
   "file_extension": ".py",
   "mimetype": "text/x-python",
   "name": "python",
   "nbconvert_exporter": "python",
   "pygments_lexer": "ipython3",
   "version": "3.4.3"
  }
 },
 "nbformat": 4,
 "nbformat_minor": 2
}
