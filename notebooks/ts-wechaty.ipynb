{
 "cells": [
  {
   "cell_type": "code",
   "execution_count": null,
   "metadata": {},
   "outputs": [],
   "source": [
    "from persper.graphs.analyzer import Analyzer\n",
    "from persper.graphs.graph_server_http import GraphServerHttp"
   ]
  },
  {
   "cell_type": "code",
   "execution_count": null,
   "metadata": {},
   "outputs": [],
   "source": [
    "FILENAME_REGEXES = [\n",
    "    '.+\\.(ts|js)$',\n",
    "    '^(?!dist/).+',\n",
    "    '^(?!test(s)?/).+',\n",
    "    '^(?!spec/).+',\n",
    "    '^(?!build/).+',\n",
    "    '^(?!bin/).+',\n",
    "    '^(?!doc(s)?/).+'\n",
    "]"
   ]
  },
  {
   "cell_type": "code",
   "execution_count": null,
   "metadata": {},
   "outputs": [],
   "source": [
    "# Spin up a js language server before running this cell\n",
    "server_addr = 'http://localhost:3000'\n",
    "repo_path = '../repos/wechaty'\n",
    "az = Analyzer(repo_path, GraphServerHttp(server_addr, FILENAME_REGEXES))\n",
    "az.graph_server.reset_graph()\n",
    "az.analyze(from_beginning=True, num_commits=1)\n",
    "az.analyze(continue_iter=True, end_commit_sha='2f40a10535de73408d54325b2271fe4acb5cb924')\n",
    "az.cache_graph()\n",
    "az.save('wechaty-finished-v0.17.0.pickle')"
   ]
  },
  {
   "cell_type": "code",
   "execution_count": null,
   "metadata": {},
   "outputs": [],
   "source": [
    "az.analyze(continue_iter=True, end_commit_sha='v0.18.0')\n",
    "az.cache_graph()\n",
    "az.save('wechaty-finished-v0.18.0.pickle')"
   ]
  },
  {
   "cell_type": "markdown",
   "metadata": {},
   "source": [
    "## Visualization"
   ]
  },
  {
   "cell_type": "code",
   "execution_count": null,
   "metadata": {},
   "outputs": [],
   "source": [
    "import matplotlib.pyplot as plt\n",
    "import math\n",
    "\n",
    "def visualize(az, alpha=0.85, log_scale=False, remove_zeros=False):\n",
    "    commit_share = az.compute_commit_share(alpha)\n",
    "    ordered_shares = []\n",
    "    for sha in az.ordered_shas:\n",
    "        if commit_share[sha] == 0:\n",
    "            if not remove_zeros:\n",
    "                ordered_shares.append(0)\n",
    "        else:\n",
    "            if log_scale:\n",
    "                ordered_shares.append(math.log(commit_share[sha], 2))\n",
    "            else:\n",
    "                ordered_shares.append(commit_share[sha])\n",
    "    plt.plot(ordered_shares)\n",
    "    plt.show()"
   ]
  },
  {
   "cell_type": "code",
   "execution_count": null,
   "metadata": {},
   "outputs": [],
   "source": [
    "# load analyzer pickle for v0.17.0\n",
    "import pickle\n",
    "with open('wechaty-finished-v0.17.0.pickle', 'rb') as f:\n",
    "    az17 = pickle.load(f)\n",
    "    \n",
    "visualize(az17)"
   ]
  },
  {
   "cell_type": "code",
   "execution_count": null,
   "metadata": {},
   "outputs": [],
   "source": [
    "# load analyzer pickle for v0.18.0\n",
    "import pickle\n",
    "with open('wechaty-finished-v0.18.0.pickle', 'rb') as f:\n",
    "    az18 = pickle.load(f)\n",
    "    \n",
    "visualize(az18)"
   ]
  },
  {
   "cell_type": "code",
   "execution_count": null,
   "metadata": {},
   "outputs": [],
   "source": []
  }
 ],
 "metadata": {
  "kernelspec": {
   "display_name": "code-analytics-8iDyuztf",
   "language": "python",
   "name": "code-analytics-8idyuztf"
  },
  "language_info": {
   "codemirror_mode": {
    "name": "ipython",
    "version": 3
   },
   "file_extension": ".py",
   "mimetype": "text/x-python",
   "name": "python",
   "nbconvert_exporter": "python",
   "pygments_lexer": "ipython3",
   "version": "3.6.6"
  }
 },
 "nbformat": 4,
 "nbformat_minor": 2
}
