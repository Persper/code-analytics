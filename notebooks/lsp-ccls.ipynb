{
 "cells": [
  {
   "cell_type": "code",
   "execution_count": 1,
   "metadata": {},
   "outputs": [],
   "source": [
    "import logging\n",
    "\n",
    "logging.basicConfig(format='%(asctime)s %(levelname)-8s [%(name)s] %(message)s',\n",
    "                    level=logging.INFO)\n",
    "logging.getLogger(\"persper.analytics.lsp_graph_server.callgraph.manager\").setLevel(logging.INFO)\n",
    "# logging.getLogger('asyncio').setLevel(logging.CRITICAL)"
   ]
  },
  {
   "cell_type": "code",
   "execution_count": 2,
   "metadata": {
    "scrolled": true
   },
   "outputs": [
    {
     "name": "stdout",
     "output_type": "stream",
     "text": [
      "Workspace root:  C:\\Users\\CXy\\AppData\\Local\\Temp\\tmp8mocg_mh\n"
     ]
    },
    {
     "name": "stderr",
     "output_type": "stream",
     "text": [
      "2019-02-16 23:15:41,552 INFO     [persper.analytics.lsp_graph_server.callgraph.builder] Modified C:\\Users\\CXy\\AppData\\Local\\Temp\\tmp8mocg_mh\\Exceptions.h.\n",
      "2019-02-16 23:15:41,608 INFO     [persper.analytics.lsp_graph_server.callgraph.builder] Modified C:\\Users\\CXy\\AppData\\Local\\Temp\\tmp8mocg_mh\\TextFileParsers.cpp.\n"
     ]
    },
    {
     "name": "stdout",
     "output_type": "stream",
     "text": [
      "Commit 4965d8edcb63cab6e544c1ecd19454f37d9bb0d3 (A): Going forward (initial commit).\n"
     ]
    },
    {
     "name": "stderr",
     "output_type": "stream",
     "text": [
      "2019-02-16 23:15:41,663 INFO     [persper.analytics.lsp_graph_server.callgraph.builder] Modified C:\\Users\\CXy\\AppData\\Local\\Temp\\tmp8mocg_mh\\TextFileParsers.h.\n",
      "2019-02-16 23:15:41,720 INFO     [persper.analytics.lsp_graph_server.callgraph.builder] Modified C:\\Users\\CXy\\AppData\\Local\\Temp\\tmp8mocg_mh\\TypeTraits.h.\n",
      "2019-02-16 23:15:41,776 INFO     [persper.analytics.lsp_graph_server.callgraph.builder] Modified C:\\Users\\CXy\\AppData\\Local\\Temp\\tmp8mocg_mh\\Utility.cpp.\n",
      "2019-02-16 23:15:41,830 INFO     [persper.analytics.lsp_graph_server.callgraph.builder] Modified C:\\Users\\CXy\\AppData\\Local\\Temp\\tmp8mocg_mh\\Utility.h.\n",
      "2019-02-16 23:15:41,887 INFO     [persper.analytics.lsp_graph_server.callgraph.builder] Modified C:\\Users\\CXy\\AppData\\Local\\Temp\\tmp8mocg_mh\\main.cpp.\n",
      "2019-02-16 23:15:41,941 INFO     [persper.analytics.lsp_graph_server.callgraph.builder] Modified C:\\Users\\CXy\\AppData\\Local\\Temp\\tmp8mocg_mh\\stdafx.cpp.\n",
      "2019-02-16 23:15:41,995 INFO     [persper.analytics.lsp_graph_server.callgraph.builder] Modified C:\\Users\\CXy\\AppData\\Local\\Temp\\tmp8mocg_mh\\stdafx.h.\n",
      "2019-02-16 23:15:41,998 INFO     [persper.analytics.lsp_graph_server] Invalidated 9 files, affected 9 files.\n",
      "2019-02-16 23:15:42,871 INFO     [persper.analytics.lsp_graph_server.callgraph.builder] Build call graph in: C:\\Users\\CXy\\AppData\\Local\\Temp\\tmp8mocg_mh\\TextFileParsers.cpp\n",
      "2019-02-16 23:15:43,083 INFO     [persper.analytics.lsp_graph_server.callgraph.builder] Yielded 86 branches.\n",
      "2019-02-16 23:15:43,084 INFO     [persper.analytics.lsp_graph_server.callgraph.builder] Build call graph in: C:\\Users\\CXy\\AppData\\Local\\Temp\\tmp8mocg_mh\\Utility.h\n",
      "2019-02-16 23:15:43,339 INFO     [persper.analytics.lsp_graph_server.callgraph.builder] Yielded 66 branches.\n",
      "2019-02-16 23:15:43,340 INFO     [persper.analytics.lsp_graph_server.callgraph.builder] Build call graph in: C:\\Users\\CXy\\AppData\\Local\\Temp\\tmp8mocg_mh\\stdafx.cpp\n",
      "2019-02-16 23:15:43,393 INFO     [persper.analytics.lsp_graph_server.callgraph.builder] Yielded 0 branches.\n",
      "2019-02-16 23:15:43,394 INFO     [persper.analytics.lsp_graph_server.callgraph.builder] Build call graph in: C:\\Users\\CXy\\AppData\\Local\\Temp\\tmp8mocg_mh\\Exceptions.h\n",
      "2019-02-16 23:15:43,497 INFO     [persper.analytics.lsp_graph_server.callgraph.builder] Yielded 18 branches.\n",
      "2019-02-16 23:15:43,498 INFO     [persper.analytics.lsp_graph_server.callgraph.builder] Build call graph in: C:\\Users\\CXy\\AppData\\Local\\Temp\\tmp8mocg_mh\\main.cpp\n",
      "2019-02-16 23:15:43,559 INFO     [persper.analytics.lsp_graph_server.callgraph.builder] Yielded 4 branches.\n",
      "2019-02-16 23:15:43,561 INFO     [persper.analytics.lsp_graph_server.callgraph.builder] Build call graph in: C:\\Users\\CXy\\AppData\\Local\\Temp\\tmp8mocg_mh\\TextFileParsers.h\n",
      "2019-02-16 23:15:43,715 INFO     [persper.analytics.lsp_graph_server.callgraph.builder] Yielded 39 branches.\n",
      "2019-02-16 23:15:43,716 INFO     [persper.analytics.lsp_graph_server.callgraph.builder] Build call graph in: C:\\Users\\CXy\\AppData\\Local\\Temp\\tmp8mocg_mh\\TypeTraits.h\n",
      "2019-02-16 23:15:43,773 INFO     [persper.analytics.lsp_graph_server.callgraph.builder] Yielded 1 branches.\n",
      "2019-02-16 23:15:43,774 INFO     [persper.analytics.lsp_graph_server.callgraph.builder] Build call graph in: C:\\Users\\CXy\\AppData\\Local\\Temp\\tmp8mocg_mh\\stdafx.h\n",
      "2019-02-16 23:15:43,830 INFO     [persper.analytics.lsp_graph_server.callgraph.builder] Yielded 1 branches.\n",
      "2019-02-16 23:15:43,832 INFO     [persper.analytics.lsp_graph_server.callgraph.builder] Build call graph in: C:\\Users\\CXy\\AppData\\Local\\Temp\\tmp8mocg_mh\\Utility.cpp\n",
      "2019-02-16 23:15:43,950 INFO     [persper.analytics.lsp_graph_server.callgraph.builder] Yielded 27 branches.\n",
      "2019-02-16 23:15:43,951 INFO     [persper.analytics.lsp_graph_server.callgraph.manager] Added 242 branches from 9 files.\n",
      "2019-02-16 23:15:44,115 INFO     [persper.analytics.lsp_graph_server.callgraph.builder] Modified C:\\Users\\CXy\\AppData\\Local\\Temp\\tmp8mocg_mh\\Utility-1.cpp.\n"
     ]
    },
    {
     "name": "stdout",
     "output_type": "stream",
     "text": [
      "Commit 12a65d92071e8ab32890bc0f69697b2efcb013f8 (B): Going forward.\n"
     ]
    },
    {
     "name": "stderr",
     "output_type": "stream",
     "text": [
      "2019-02-16 23:15:44,224 INFO     [persper.analytics.lsp_graph_server.callgraph.builder] Modified C:\\Users\\CXy\\AppData\\Local\\Temp\\tmp8mocg_mh\\main.cpp.\n",
      "2019-02-16 23:15:44,226 INFO     [persper.analytics.lsp_graph_server] Invalidated 3 files, affected 3 files.\n",
      "2019-02-16 23:15:44,227 INFO     [persper.analytics.lsp_graph_server.callgraph.builder] Confirm deleted: C:\\Users\\CXy\\AppData\\Local\\Temp\\tmp8mocg_mh\\Utility.cpp\n",
      "2019-02-16 23:15:44,358 INFO     [persper.analytics.lsp_graph_server.callgraph.builder] Build call graph in: C:\\Users\\CXy\\AppData\\Local\\Temp\\tmp8mocg_mh\\main.cpp\n",
      "2019-02-16 23:15:44,423 INFO     [persper.analytics.lsp_graph_server.callgraph.builder] Yielded 5 branches.\n",
      "2019-02-16 23:15:44,424 INFO     [persper.analytics.lsp_graph_server.callgraph.builder] Build call graph in: C:\\Users\\CXy\\AppData\\Local\\Temp\\tmp8mocg_mh\\Utility-1.cpp\n",
      "2019-02-16 23:15:44,546 INFO     [persper.analytics.lsp_graph_server.callgraph.builder] Yielded 27 branches.\n",
      "2019-02-16 23:15:44,547 INFO     [persper.analytics.lsp_graph_server.callgraph.manager] Added 32 branches from 2 files.\n",
      "2019-02-16 23:15:45,728 INFO     [persper.analytics.lsp_graph_server.callgraph.builder] Modified C:\\Users\\CXy\\AppData\\Local\\Temp\\tmp8mocg_mh\\TextFileParsers.cpp.\n"
     ]
    },
    {
     "name": "stdout",
     "output_type": "stream",
     "text": [
      "Commit 4928d2ec0ad82221b61b30f3ae2e1cc4c61a3ea0 (C): Going forward.\n"
     ]
    },
    {
     "name": "stderr",
     "output_type": "stream",
     "text": [
      "2019-02-16 23:15:45,853 INFO     [persper.analytics.lsp_graph_server.callgraph.builder] Modified C:\\Users\\CXy\\AppData\\Local\\Temp\\tmp8mocg_mh\\Utility.cpp.\n",
      "2019-02-16 23:15:45,968 INFO     [persper.analytics.lsp_graph_server.callgraph.builder] Modified C:\\Users\\CXy\\AppData\\Local\\Temp\\tmp8mocg_mh\\Utility.h.\n",
      "2019-02-16 23:15:46,083 INFO     [persper.analytics.lsp_graph_server.callgraph.builder] Modified C:\\Users\\CXy\\AppData\\Local\\Temp\\tmp8mocg_mh\\main.cpp.\n",
      "2019-02-16 23:15:46,085 INFO     [persper.analytics.lsp_graph_server] Invalidated 5 files, affected 5 files.\n",
      "2019-02-16 23:15:46,086 INFO     [persper.analytics.lsp_graph_server.callgraph.builder] Confirm deleted: C:\\Users\\CXy\\AppData\\Local\\Temp\\tmp8mocg_mh\\Utility-1.cpp\n",
      "2019-02-16 23:15:46,489 INFO     [persper.analytics.lsp_graph_server.callgraph.builder] Build call graph in: C:\\Users\\CXy\\AppData\\Local\\Temp\\tmp8mocg_mh\\TextFileParsers.cpp\n",
      "2019-02-16 23:15:46,710 INFO     [persper.analytics.lsp_graph_server.callgraph.builder] Yielded 86 branches.\n",
      "2019-02-16 23:15:46,711 INFO     [persper.analytics.lsp_graph_server.callgraph.builder] Build call graph in: C:\\Users\\CXy\\AppData\\Local\\Temp\\tmp8mocg_mh\\Utility.h\n",
      "2019-02-16 23:15:46,982 INFO     [persper.analytics.lsp_graph_server.callgraph.builder] Yielded 66 branches.\n",
      "2019-02-16 23:15:46,984 INFO     [persper.analytics.lsp_graph_server.callgraph.builder] Build call graph in: C:\\Users\\CXy\\AppData\\Local\\Temp\\tmp8mocg_mh\\main.cpp\n",
      "2019-02-16 23:15:47,046 INFO     [persper.analytics.lsp_graph_server.callgraph.builder] Yielded 4 branches.\n",
      "2019-02-16 23:15:47,047 INFO     [persper.analytics.lsp_graph_server.callgraph.builder] Build call graph in: C:\\Users\\CXy\\AppData\\Local\\Temp\\tmp8mocg_mh\\Utility.cpp\n",
      "2019-02-16 23:15:47,170 INFO     [persper.analytics.lsp_graph_server.callgraph.builder] Yielded 27 branches.\n",
      "2019-02-16 23:15:47,171 INFO     [persper.analytics.lsp_graph_server.callgraph.manager] Added 183 branches from 4 files.\n",
      "2019-02-16 23:15:47,338 INFO     [persper.analytics.lsp_graph_server.callgraph.builder] Modified C:\\Users\\CXy\\AppData\\Local\\Temp\\tmp8mocg_mh\\TextFileParsers.cpp.\n"
     ]
    },
    {
     "name": "stdout",
     "output_type": "stream",
     "text": [
      "Commit 639934cdc7499854e22df79835240ac786498300 (D): Going forward.\n"
     ]
    },
    {
     "name": "stderr",
     "output_type": "stream",
     "text": [
      "2019-02-16 23:15:47,452 INFO     [persper.analytics.lsp_graph_server.callgraph.builder] Modified C:\\Users\\CXy\\AppData\\Local\\Temp\\tmp8mocg_mh\\Utility.cpp.\n",
      "2019-02-16 23:15:47,559 INFO     [persper.analytics.lsp_graph_server.callgraph.builder] Modified C:\\Users\\CXy\\AppData\\Local\\Temp\\tmp8mocg_mh\\Utility.h.\n",
      "2019-02-16 23:15:47,665 INFO     [persper.analytics.lsp_graph_server.callgraph.builder] Modified C:\\Users\\CXy\\AppData\\Local\\Temp\\tmp8mocg_mh\\main.cpp.\n",
      "2019-02-16 23:15:47,667 INFO     [persper.analytics.lsp_graph_server] Invalidated 4 files, affected 4 files.\n",
      "2019-02-16 23:15:48,070 INFO     [persper.analytics.lsp_graph_server.callgraph.builder] Build call graph in: C:\\Users\\CXy\\AppData\\Local\\Temp\\tmp8mocg_mh\\TextFileParsers.cpp\n",
      "2019-02-16 23:15:48,284 INFO     [persper.analytics.lsp_graph_server.callgraph.builder] Yielded 86 branches.\n",
      "2019-02-16 23:15:48,285 INFO     [persper.analytics.lsp_graph_server.callgraph.builder] Build call graph in: C:\\Users\\CXy\\AppData\\Local\\Temp\\tmp8mocg_mh\\main.cpp\n",
      "2019-02-16 23:15:48,345 INFO     [persper.analytics.lsp_graph_server.callgraph.builder] Yielded 2 branches.\n",
      "2019-02-16 23:15:48,346 INFO     [persper.analytics.lsp_graph_server.callgraph.builder] Build call graph in: C:\\Users\\CXy\\AppData\\Local\\Temp\\tmp8mocg_mh\\Utility.h\n",
      "2019-02-16 23:15:48,606 INFO     [persper.analytics.lsp_graph_server.callgraph.builder] Yielded 66 branches.\n",
      "2019-02-16 23:15:48,608 INFO     [persper.analytics.lsp_graph_server.callgraph.builder] Build call graph in: C:\\Users\\CXy\\AppData\\Local\\Temp\\tmp8mocg_mh\\Utility.cpp\n",
      "2019-02-16 23:15:48,726 INFO     [persper.analytics.lsp_graph_server.callgraph.builder] Yielded 27 branches.\n",
      "2019-02-16 23:15:48,727 INFO     [persper.analytics.lsp_graph_server.callgraph.manager] Added 181 branches from 4 files.\n",
      "2019-02-16 23:15:48,728 INFO     [persper.analytics.lsp_graph_server] Shutting down language server...\n",
      "2019-02-16 23:15:58,730 WARNING  [persper.analytics.lsp_graph_server] Killed language server 24144.\n"
     ]
    }
   ],
   "source": [
    "from persper.analytics.analyzer2 import Analyzer\n",
    "from persper.analytics.lsp_graph_server.ccls import CclsGraphServer\n",
    "from persper.analytics.call_commit_graph import CallCommitGraph, CommitIdGenerators\n",
    "from tempfile import mkdtemp\n",
    "\n",
    "dumpLogs = True\n",
    "workspaceRoot = mkdtemp()\n",
    "print(\"Workspace root: \", workspaceRoot)\n",
    "G = None\n",
    "async with CclsGraphServer(workspaceRoot, cacheRoot=\"./.ccls-cache\",\n",
    "                           languageServerCommand=\"../bin/ccls\" + (\" -log-file=ccls.log\" if dumpLogs else \"\"),\n",
    "                           dumpLogs=dumpLogs,\n",
    "                           graph=CallCommitGraph(commit_id_generator=CommitIdGenerators.fromComment)) as graphServer:\n",
    "    analyzer = Analyzer(\"../repos/cpp_test_repo\", graphServer)\n",
    "    graphServer.reset_graph()\n",
    "    await analyzer.analyze()\n",
    "    G = analyzer.graph"
   ]
  },
  {
   "cell_type": "code",
   "execution_count": 3,
   "metadata": {},
   "outputs": [
    {
     "name": "stdout",
     "output_type": "stream",
     "text": [
      "Nodes: 42\n",
      "Edges: 15\n"
     ]
    }
   ],
   "source": [
    "print(\"Nodes:\", len(G.nodes()))\n",
    "print(\"Edges:\", len(G.edges()))"
   ]
  },
  {
   "cell_type": "code",
   "execution_count": 4,
   "metadata": {
    "scrolled": false
   },
   "outputs": [
    {
     "name": "stdout",
     "output_type": "stream",
     "text": [
      "int &operator>>(int &reader, long &rhs)  |  int &operator>>(int &reader, int &rhs)\n",
      "int &operator>>(int &reader, float &rhs)  |  int &operator>>(int &reader, int &rhs)\n",
      "int &operator>>(int &reader, double &rhs)  |  int &operator>>(int &reader, int &rhs)\n",
      "int &operator>>(int &reader, bool &rhs)  |  int &operator>>(int &reader, int &rhs)\n",
      "int &operator>>(int &reader, bool &rhs)  |  bool Equal(const int &lhs, const int &rhs, int comparision)\n",
      "int &operator>>(int &reader, bool &rhs)  |  enum class StringComparison : int {}\n",
      "bool Equal(const int &lhs, const int &rhs, StringComparison comparision)  |  bool Equal(const int &lhs, const int &rhs, int comparision)\n",
      "bool Equal(const int &lhs, const int &rhs, StringComparison comparision)  |  enum class StringComparison : int {}\n",
      "const char *FriendlyNameOf(const std::type_index &type)  |  const char *FriendlyNameOf()\n",
      "const char *FriendlyNameOf(const type_info &type)  |  const char *FriendlyNameOf()\n",
      "const char *FriendlyNameOf(const ReliabilityNetworkEntry &instance)  |  const char *FriendlyNameOf()\n",
      "void ReportException(const int &ex, int level)  |  void ReportException(const int &ex, int level)\n",
      "int main(int argc, char *argv[])  |  TStream OpenAndValidate(const TPath arg1)\n",
      "int main(int argc, char *argv[])  |  void ReportException(const int &ex, int level)\n",
      "bool Equal(const int &lhs, const int &rhs, int comparision)  |  enum class StringComparison : int {}\n"
     ]
    }
   ],
   "source": [
    "import itertools\n",
    "for e in itertools.islice(G.edges(), 100):\n",
    "    print(e[0], \" | \", e[1])\n",
    "if len(G.edges()) > 100:\n",
    "    print(\"...\")"
   ]
  },
  {
   "cell_type": "code",
   "execution_count": 5,
   "metadata": {},
   "outputs": [],
   "source": [
    "# un-pickle test\n",
    "import pickle\n",
    "loaded = pickle.load(open(\"cpp_test_repo-finished-0.pickle\", \"rb\"))"
   ]
  },
  {
   "cell_type": "code",
   "execution_count": 6,
   "metadata": {},
   "outputs": [
    {
     "name": "stdout",
     "output_type": "stream",
     "text": [
      "RowReader &operator>>(RowReader &reader, int &rhs)  |  RowReader &operator>>(RowReader &reader, std::string &rhs)\n",
      "RowReader &operator>>(RowReader &reader, long &rhs)  |  RowReader &operator>>(RowReader &reader, int &rhs)\n",
      "RowReader &operator>>(RowReader &reader, long &rhs)  |  RowReader &operator>>(RowReader &reader, std::string &rhs)\n",
      "RowReader &operator>>(RowReader &reader, float &rhs)  |  RowReader &operator>>(RowReader &reader, int &rhs)\n",
      "RowReader &operator>>(RowReader &reader, float &rhs)  |  RowReader &operator>>(RowReader &reader, std::string &rhs)\n",
      "RowReader &operator>>(RowReader &reader, double &rhs)  |  RowReader &operator>>(RowReader &reader, int &rhs)\n",
      "RowReader &operator>>(RowReader &reader, double &rhs)  |  RowReader &operator>>(RowReader &reader, std::string &rhs)\n",
      "RowReader &operator>>(RowReader &reader, bool &rhs)  |  RowReader &operator>>(RowReader &reader, int &rhs)\n",
      "RowReader &operator>>(RowReader &reader, bool &rhs)  |  bool Equal(const std::string &lhs, const std::string &rhs, StringComparison comparision)\n",
      "RowReader &operator>>(RowReader &reader, bool &rhs)  |  enum class StringComparison : int {}\n",
      "RowReader &operator>>(RowReader &reader, bool &rhs)  |  RowReader &operator>>(RowReader &reader, std::string &rhs)\n",
      "void ConfigurationParser::Load(std::istream &inputStream)  |  RowReader &operator>>(RowReader &reader, int &rhs)\n",
      "int ConfigurationParser::GetInt(const std::string &key, int defaultValue) const  |  std::string ConfigurationParser::GetString(const std::string &key, const std::string &defaultValue) const\n",
      "double ConfigurationParser::GetDouble(const std::string &key, double defaultValue) const  |  std::string ConfigurationParser::GetString(const std::string &key, const std::string &defaultValue) const\n",
      "bool ConfigurationParser::GetBool(const std::string &key, bool defaultValue) const  |  std::string ConfigurationParser::GetString(const std::string &key, const std::string &defaultValue) const\n",
      "bool ConfigurationParser::GetBool(const std::string &key, bool defaultValue) const  |  bool Equal(const std::string &lhs, const std::string &rhs, StringComparison comparision)\n",
      "bool ConfigurationParser::GetBool(const std::string &key, bool defaultValue) const  |  enum class StringComparison : int {}\n",
      "ConfigurationParser::ConfigurationParser(std::istream &inputStream)  |  void ConfigurationParser::Load(std::istream &inputStream)\n",
      "ConfigurationParser::ConfigurationParser(std::filesystem::path filePath)  |  TStream OpenAndValidate(const TPath arg1)\n",
      "ConfigurationParser::ConfigurationParser(std::filesystem::path filePath)  |  void ConfigurationParser::Load(std::istream &inputStream)\n",
      "bool Equal(const std::string &lhs, const std::string &rhs, StringComparison comparision)  |  bool Equal(const std::string &lhs, const std::string &rhs, StringComparison comparision)\n",
      "bool Equal(const std::string &lhs, const std::string &rhs, StringComparison comparision)  |  enum class StringComparison : int {}\n",
      "bool Confirm(const std::string &prompt)  |  bool Confirm(const std::string &prompt)\n",
      "const char *FriendlyNameOf(const std::type_index &type)  |  const char *FriendlyNameOf()\n",
      "const char *FriendlyNameOf(const type_info &type)  |  const char *FriendlyNameOf()\n",
      "const char *FriendlyNameOf(const ReliabilityNetworkEntry &instance)  |  const char *FriendlyNameOf()\n",
      "void ReportException(const std::exception &ex, int level)  |  void ReportException(const std::exception &ex, int level)\n",
      "int main(int argc, char *argv[])  |  TStream OpenAndValidate(const TPath arg1)\n",
      "int main(int argc, char *argv[])  |  bool ConfigurationParser::GetBool(const std::string &key, bool defaultValue) const\n",
      "int main(int argc, char *argv[])  |  double ConfigurationParser::GetDouble(const std::string &key, double defaultValue) const\n",
      "int main(int argc, char *argv[])  |  std::string ConfigurationParser::GetString(const std::string &key, const std::string &defaultValue) const\n",
      "int main(int argc, char *argv[])  |  void ReportException(const std::exception &ex, int level)\n"
     ]
    }
   ],
   "source": [
    "for e in itertools.islice(loaded.get_graph().edges(), 100):\n",
    "    print(e[0], \" | \", e[1])\n",
    "if len(loaded.get_graph().edges()) > 100:\n",
    "    print(\"...\")"
   ]
  },
  {
   "cell_type": "code",
   "execution_count": 7,
   "metadata": {},
   "outputs": [
    {
     "name": "stderr",
     "output_type": "stream",
     "text": [
      "No traceback available to show.\n"
     ]
    }
   ],
   "source": [
    "%tb"
   ]
  },
  {
   "cell_type": "markdown",
   "metadata": {},
   "source": [
    "----"
   ]
  },
  {
   "cell_type": "code",
   "execution_count": 8,
   "metadata": {},
   "outputs": [
    {
     "name": "stdout",
     "output_type": "stream",
     "text": [
      "('void ReportException(const int &ex, int level)', 0.49527330555396226)\n",
      "('enum class StringComparison : int {}', 0.1145983519196816)\n",
      "('bool Equal(const int &lhs, const int &rhs, int comparision)', 0.09938796985042238)\n",
      "('int &operator>>(int &reader, bool &rhs)', 0.061196080770132576)\n",
      "('int &operator>>(int &reader, int &rhs)', 0.04710340714736633)\n",
      "('int main(int argc, char *argv[])', 0.04207230552946614)\n",
      "('bool Confirm(const int &prompt)', 0.03251041790913293)\n",
      "('int &operator>>(int &reader, long &rhs)', 0.011474265144399858)\n",
      "('int &operator>>(int &reader, float &rhs)', 0.011474265144399858)\n",
      "('int &operator>>(int &reader, double &rhs)', 0.011474265144399858)\n",
      "('inline int to_string(const int &value)', 0.007649510096266572)\n",
      "('const char *FriendlyNameOf()', 0.006788991932293897)\n",
      "('TStream OpenAndValidate(const TPath arg1)', 0.0035379156601423947)\n",
      "('ANSI_COLOR_RED', 0.001912377524066643)\n",
      "('ANSI_COLOR_GREEN', 0.001912377524066643)\n",
      "('ANSI_COLOR_YELLOW', 0.001912377524066643)\n",
      "('ANSI_COLOR_BLUE', 0.001912377524066643)\n",
      "('ANSI_COLOR_MAGENTA', 0.001912377524066643)\n",
      "('ANSI_COLOR_CYAN', 0.001912377524066643)\n",
      "('ANSI_COLOR_BRIGHT', 0.001912377524066643)\n",
      "('ANSI_COLOR_RESET', 0.001912377524066643)\n",
      "('bool dynamic_kind_of(const TSrc *obj)', 0.001912377524066643)\n",
      "('bool pointer_kind_of(const int obj)', 0.001912377524066643)\n",
      "('TDest safe_cast(TSrc obj)', 0.001912377524066643)\n",
      "('int safe_pointer_cast(const int &obj)', 0.001912377524066643)\n",
      "('int StreamStatusToString(const TStream &stream)', 0.001912377524066643)\n",
      "('void ValidateStream(const TStream &stream)', 0.001912377524066643)\n",
      "('_RangeToEnumerable<TIterator> RangeToEnumerable(const int range)', 0.001912377524066643)\n",
      "('bool Equal(const int &lhs, const int &rhs, StringComparison comparision)', 0.001912377524066643)\n",
      "('_RE_TRACE', 0.001912377524066643)\n",
      "('const char *FriendlyNameOf(const std::type_index &type)', 0.001912377524066643)\n",
      "('const char *FriendlyNameOf(const type_info &type)', 0.001912377524066643)\n",
      "('const char *FriendlyNameOf(const ReliabilityNetworkEntry &instance)', 0.001912377524066643)\n",
      "('TStream &operator>>(TStream &s, RowReader &reader)', 0.001912377524066643)\n",
      "('RowReader &operator>>(RowReader &reader, int &rhs)', 0.001912377524066643)\n",
      "('RowReader &operator>>(RowReader &reader, long &rhs)', 0.001912377524066643)\n",
      "('RowReader &operator>>(RowReader &reader, float &rhs)', 0.001912377524066643)\n",
      "('RowReader &operator>>(RowReader &reader, double &rhs)', 0.001912377524066643)\n",
      "('RowReader &operator>>(RowReader &reader, bool &rhs)', 0.001912377524066643)\n",
      "('_SILENCE_STDEXT_ALLOCATORS_DEPRECATION_WARNING', 0.001912377524066643)\n",
      "('_DECLARE_ENUM', 0.001912377524066643)\n",
      "('_DECLARE_ENUM_DEFAULT', 0.001912377524066643)\n"
     ]
    }
   ],
   "source": [
    "for t in sorted(G.function_devranks(0.85).items(), key=lambda t:t[1], reverse=True):\n",
    "    print(t)"
   ]
  }
 ],
 "metadata": {
  "kernelspec": {
   "display_name": "Python 3",
   "language": "python",
   "name": "python3"
  },
  "language_info": {
   "codemirror_mode": {
    "name": "ipython",
    "version": 3
   },
   "file_extension": ".py",
   "mimetype": "text/x-python",
   "name": "python",
   "nbconvert_exporter": "python",
   "pygments_lexer": "ipython3",
   "version": "3.7.0"
  }
 },
 "nbformat": 4,
 "nbformat_minor": 2
}
