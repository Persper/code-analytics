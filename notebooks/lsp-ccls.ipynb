{
 "cells": [
  {
   "cell_type": "code",
   "execution_count": 1,
   "metadata": {},
   "outputs": [],
   "source": [
    "import logging\n",
    "\n",
    "logging.basicConfig(format='%(asctime)s %(levelname)-8s [%(name)s] %(message)s',\n",
    "                    level=logging.INFO)\n",
    "logging.getLogger(\"persper.analytics.lsp_graph_server.callgraph.manager\").setLevel(logging.INFO)\n",
    "# logging.getLogger('asyncio').setLevel(logging.CRITICAL)"
   ]
  },
  {
   "cell_type": "code",
   "execution_count": 2,
   "metadata": {
    "scrolled": false
   },
   "outputs": [
    {
     "name": "stdout",
     "output_type": "stream",
     "text": [
      "Workspace root:  C:\\Users\\CXy\\AppData\\Local\\Temp\\tmpxhlrhwon\n"
     ]
    },
    {
     "name": "stderr",
     "output_type": "stream",
     "text": [
      "2018-12-26 00:34:17,722 INFO     [persper.analytics.lsp_graph_server.callgraph.builder] Modified C:\\Users\\CXy\\AppData\\Local\\Temp\\tmpxhlrhwon\\Exceptions.h.\n"
     ]
    },
    {
     "name": "stdout",
     "output_type": "stream",
     "text": [
      "----- Overview ------\n",
      "# of commits on master: 4\n",
      "# of commits on branch: 0\n",
      "----- No.1 37d91e19997dcfac11c7213126761920ad57f0d5 on main -----\n"
     ]
    },
    {
     "name": "stderr",
     "output_type": "stream",
     "text": [
      "2018-12-26 00:34:17,790 INFO     [persper.analytics.lsp_graph_server.callgraph.builder] Modified C:\\Users\\CXy\\AppData\\Local\\Temp\\tmpxhlrhwon\\TextFileParsers.cpp.\n",
      "2018-12-26 00:34:17,859 INFO     [persper.analytics.lsp_graph_server.callgraph.builder] Modified C:\\Users\\CXy\\AppData\\Local\\Temp\\tmpxhlrhwon\\TextFileParsers.h.\n",
      "2018-12-26 00:34:17,934 INFO     [persper.analytics.lsp_graph_server.callgraph.builder] Modified C:\\Users\\CXy\\AppData\\Local\\Temp\\tmpxhlrhwon\\TypeTraits.h.\n",
      "2018-12-26 00:34:18,012 INFO     [persper.analytics.lsp_graph_server.callgraph.builder] Modified C:\\Users\\CXy\\AppData\\Local\\Temp\\tmpxhlrhwon\\Utility.cpp.\n",
      "2018-12-26 00:34:18,093 INFO     [persper.analytics.lsp_graph_server.callgraph.builder] Modified C:\\Users\\CXy\\AppData\\Local\\Temp\\tmpxhlrhwon\\Utility.h.\n",
      "2018-12-26 00:34:18,190 INFO     [persper.analytics.lsp_graph_server.callgraph.builder] Modified C:\\Users\\CXy\\AppData\\Local\\Temp\\tmpxhlrhwon\\main.cpp.\n",
      "2018-12-26 00:34:18,284 INFO     [persper.analytics.lsp_graph_server.callgraph.builder] Modified C:\\Users\\CXy\\AppData\\Local\\Temp\\tmpxhlrhwon\\stdafx.cpp.\n",
      "2018-12-26 00:34:18,370 INFO     [persper.analytics.lsp_graph_server.callgraph.builder] Modified C:\\Users\\CXy\\AppData\\Local\\Temp\\tmpxhlrhwon\\stdafx.h.\n",
      "2018-12-26 00:34:18,376 INFO     [persper.analytics.lsp_graph_server.callgraph] Removed 0 branches by 9 files.\n",
      "2018-12-26 00:34:18,378 INFO     [persper.analytics.lsp_graph_server] Invalidated 9 files, affected 9 files.\n",
      "2018-12-26 00:34:18,380 INFO     [persper.analytics.lsp_graph_server.callgraph.builder] Build call graph in: C:\\Users\\CXy\\AppData\\Local\\Temp\\tmpxhlrhwon\\Utility.h\n",
      "2018-12-26 00:34:21,427 INFO     [persper.analytics.lsp_graph_server.callgraph.builder] Yielded 81 branches.\n",
      "2018-12-26 00:34:21,429 INFO     [persper.analytics.lsp_graph_server.callgraph.builder] Build call graph in: C:\\Users\\CXy\\AppData\\Local\\Temp\\tmpxhlrhwon\\stdafx.h\n",
      "2018-12-26 00:34:21,577 INFO     [persper.analytics.lsp_graph_server.callgraph.builder] Yielded 0 branches.\n",
      "2018-12-26 00:34:21,579 INFO     [persper.analytics.lsp_graph_server.callgraph.builder] Build call graph in: C:\\Users\\CXy\\AppData\\Local\\Temp\\tmpxhlrhwon\\TextFileParsers.cpp\n",
      "2018-12-26 00:34:22,468 INFO     [persper.analytics.lsp_graph_server.callgraph.builder] Yielded 80 branches.\n",
      "2018-12-26 00:34:22,470 INFO     [persper.analytics.lsp_graph_server.callgraph.builder] Build call graph in: C:\\Users\\CXy\\AppData\\Local\\Temp\\tmpxhlrhwon\\Utility.cpp\n",
      "2018-12-26 00:34:22,809 INFO     [persper.analytics.lsp_graph_server.callgraph.builder] Yielded 20 branches.\n",
      "2018-12-26 00:34:22,810 INFO     [persper.analytics.lsp_graph_server.callgraph.builder] Build call graph in: C:\\Users\\CXy\\AppData\\Local\\Temp\\tmpxhlrhwon\\TypeTraits.h\n",
      "2018-12-26 00:34:22,896 INFO     [persper.analytics.lsp_graph_server.callgraph.builder] Yielded 1 branches.\n",
      "2018-12-26 00:34:22,898 INFO     [persper.analytics.lsp_graph_server.callgraph.builder] Build call graph in: C:\\Users\\CXy\\AppData\\Local\\Temp\\tmpxhlrhwon\\TextFileParsers.h\n",
      "2018-12-26 00:34:23,515 INFO     [persper.analytics.lsp_graph_server.callgraph.builder] Yielded 39 branches.\n",
      "2018-12-26 00:34:23,516 INFO     [persper.analytics.lsp_graph_server.callgraph.builder] Build call graph in: C:\\Users\\CXy\\AppData\\Local\\Temp\\tmpxhlrhwon\\main.cpp\n",
      "2018-12-26 00:34:23,667 INFO     [persper.analytics.lsp_graph_server.callgraph.builder] Yielded 2 branches.\n",
      "2018-12-26 00:34:23,668 INFO     [persper.analytics.lsp_graph_server.callgraph.builder] Build call graph in: C:\\Users\\CXy\\AppData\\Local\\Temp\\tmpxhlrhwon\\stdafx.cpp\n",
      "2018-12-26 00:34:23,775 INFO     [persper.analytics.lsp_graph_server.callgraph.builder] Yielded 0 branches.\n",
      "2018-12-26 00:34:23,777 INFO     [persper.analytics.lsp_graph_server.callgraph.builder] Build call graph in: C:\\Users\\CXy\\AppData\\Local\\Temp\\tmpxhlrhwon\\Exceptions.h\n",
      "2018-12-26 00:34:24,150 INFO     [persper.analytics.lsp_graph_server.callgraph.builder] Yielded 27 branches.\n",
      "2018-12-26 00:34:24,151 INFO     [persper.analytics.lsp_graph_server.callgraph.manager] Added 130 branches (-> 130) from 9 files.\n",
      "2018-12-26 00:34:24,151 INFO     [persper.analytics.lsp_graph_server] End commit: 37d91e19997dcfac11c7213126761920ad57f0d5\n"
     ]
    },
    {
     "name": "stdout",
     "output_type": "stream",
     "text": [
      "----- No.2 1745919965e74be2ae6549d0db90eaa75af1b21c on main -----\n"
     ]
    },
    {
     "name": "stderr",
     "output_type": "stream",
     "text": [
      "2018-12-26 00:34:24,382 INFO     [persper.analytics.lsp_graph_server.callgraph.builder] Modified C:\\Users\\CXy\\AppData\\Local\\Temp\\tmpxhlrhwon\\Utility-1.cpp.\n",
      "2018-12-26 00:34:24,513 INFO     [persper.analytics.lsp_graph_server.callgraph.builder] Modified C:\\Users\\CXy\\AppData\\Local\\Temp\\tmpxhlrhwon\\main.cpp.\n",
      "2018-12-26 00:34:24,515 INFO     [persper.analytics.lsp_graph_server.callgraph] Removed 77 branches by 5 files.\n",
      "2018-12-26 00:34:24,516 INFO     [persper.analytics.lsp_graph_server] Invalidated 3 files, affected 5 files.\n",
      "2018-12-26 00:34:24,517 INFO     [persper.analytics.lsp_graph_server.callgraph.builder] Confirm deleted: C:\\Users\\CXy\\AppData\\Local\\Temp\\tmpxhlrhwon\\Utility.cpp\n",
      "2018-12-26 00:34:24,519 INFO     [persper.analytics.lsp_graph_server.callgraph.builder] Build call graph in: C:\\Users\\CXy\\AppData\\Local\\Temp\\tmpxhlrhwon\\Utility.h\n",
      "2018-12-26 00:34:26,972 INFO     [persper.analytics.lsp_graph_server.callgraph.builder] Yielded 81 branches.\n",
      "2018-12-26 00:34:26,974 INFO     [persper.analytics.lsp_graph_server.callgraph.builder] Build call graph in: C:\\Users\\CXy\\AppData\\Local\\Temp\\tmpxhlrhwon\\main.cpp\n",
      "2018-12-26 00:34:27,168 INFO     [persper.analytics.lsp_graph_server.callgraph.builder] Yielded 12 branches.\n",
      "2018-12-26 00:34:27,171 INFO     [persper.analytics.lsp_graph_server.callgraph.builder] Build call graph in: C:\\Users\\CXy\\AppData\\Local\\Temp\\tmpxhlrhwon\\TextFileParsers.cpp\n",
      "2018-12-26 00:34:28,186 INFO     [persper.analytics.lsp_graph_server.callgraph.builder] Yielded 80 branches.\n",
      "2018-12-26 00:34:28,189 INFO     [persper.analytics.lsp_graph_server.callgraph.builder] Build call graph in: C:\\Users\\CXy\\AppData\\Local\\Temp\\tmpxhlrhwon\\Utility-1.cpp\n",
      "2018-12-26 00:34:28,514 INFO     [persper.analytics.lsp_graph_server.callgraph.builder] Yielded 77 branches.\n",
      "2018-12-26 00:34:28,515 INFO     [persper.analytics.lsp_graph_server.callgraph.manager] Added 144 branches (-> 197) from 4 files.\n",
      "2018-12-26 00:34:28,516 INFO     [persper.analytics.lsp_graph_server] End commit: 1745919965e74be2ae6549d0db90eaa75af1b21c\n"
     ]
    },
    {
     "name": "stdout",
     "output_type": "stream",
     "text": [
      "----- No.3 1cb351c5c12916338c73aba2a2e4f0384ff06b07 on main -----\n"
     ]
    },
    {
     "name": "stderr",
     "output_type": "stream",
     "text": [
      "2018-12-26 00:34:28,854 INFO     [persper.analytics.lsp_graph_server.callgraph.builder] Modified C:\\Users\\CXy\\AppData\\Local\\Temp\\tmpxhlrhwon\\TextFileParsers.cpp.\n",
      "2018-12-26 00:34:29,091 INFO     [persper.analytics.lsp_graph_server.callgraph.builder] Modified C:\\Users\\CXy\\AppData\\Local\\Temp\\tmpxhlrhwon\\Utility.cpp.\n",
      "2018-12-26 00:34:29,287 INFO     [persper.analytics.lsp_graph_server.callgraph.builder] Modified C:\\Users\\CXy\\AppData\\Local\\Temp\\tmpxhlrhwon\\Utility.h.\n",
      "2018-12-26 00:34:29,476 INFO     [persper.analytics.lsp_graph_server.callgraph.builder] Modified C:\\Users\\CXy\\AppData\\Local\\Temp\\tmpxhlrhwon\\main.cpp.\n",
      "2018-12-26 00:34:29,481 INFO     [persper.analytics.lsp_graph_server.callgraph] Removed 144 branches by 5 files.\n",
      "2018-12-26 00:34:29,483 INFO     [persper.analytics.lsp_graph_server] Invalidated 5 files, affected 5 files.\n",
      "2018-12-26 00:34:29,485 INFO     [persper.analytics.lsp_graph_server.callgraph.builder] Confirm deleted: C:\\Users\\CXy\\AppData\\Local\\Temp\\tmpxhlrhwon\\Utility-1.cpp\n",
      "2018-12-26 00:34:29,487 INFO     [persper.analytics.lsp_graph_server.callgraph.builder] Build call graph in: C:\\Users\\CXy\\AppData\\Local\\Temp\\tmpxhlrhwon\\Utility.h\n",
      "2018-12-26 00:34:32,527 INFO     [persper.analytics.lsp_graph_server.callgraph.builder] Yielded 81 branches.\n",
      "2018-12-26 00:34:32,529 INFO     [persper.analytics.lsp_graph_server.callgraph.builder] Build call graph in: C:\\Users\\CXy\\AppData\\Local\\Temp\\tmpxhlrhwon\\TextFileParsers.cpp\n",
      "2018-12-26 00:34:33,509 INFO     [persper.analytics.lsp_graph_server.callgraph.builder] Yielded 162 branches.\n",
      "2018-12-26 00:34:33,511 INFO     [persper.analytics.lsp_graph_server.callgraph.builder] Build call graph in: C:\\Users\\CXy\\AppData\\Local\\Temp\\tmpxhlrhwon\\Utility.cpp\n",
      "2018-12-26 00:34:33,844 INFO     [persper.analytics.lsp_graph_server.callgraph.builder] Yielded 77 branches.\n",
      "2018-12-26 00:34:33,845 INFO     [persper.analytics.lsp_graph_server.callgraph.builder] Build call graph in: C:\\Users\\CXy\\AppData\\Local\\Temp\\tmpxhlrhwon\\main.cpp\n",
      "2018-12-26 00:34:33,996 INFO     [persper.analytics.lsp_graph_server.callgraph.builder] Yielded 6 branches.\n",
      "2018-12-26 00:34:33,997 INFO     [persper.analytics.lsp_graph_server.callgraph.manager] Added 273 branches (-> 326) from 4 files.\n",
      "2018-12-26 00:34:33,998 INFO     [persper.analytics.lsp_graph_server] End commit: 1cb351c5c12916338c73aba2a2e4f0384ff06b07\n"
     ]
    },
    {
     "name": "stdout",
     "output_type": "stream",
     "text": [
      "----- No.4 dc00db06e9013dc4b92c199887f081049e3a4276 on main -----\n"
     ]
    },
    {
     "name": "stderr",
     "output_type": "stream",
     "text": [
      "2018-12-26 00:34:34,232 INFO     [persper.analytics.lsp_graph_server.callgraph.builder] Modified C:\\Users\\CXy\\AppData\\Local\\Temp\\tmpxhlrhwon\\TextFileParsers.cpp.\n",
      "2018-12-26 00:34:34,397 INFO     [persper.analytics.lsp_graph_server.callgraph.builder] Modified C:\\Users\\CXy\\AppData\\Local\\Temp\\tmpxhlrhwon\\Utility.cpp.\n",
      "2018-12-26 00:34:34,562 INFO     [persper.analytics.lsp_graph_server.callgraph.builder] Modified C:\\Users\\CXy\\AppData\\Local\\Temp\\tmpxhlrhwon\\Utility.h.\n",
      "2018-12-26 00:34:34,728 INFO     [persper.analytics.lsp_graph_server.callgraph.builder] Modified C:\\Users\\CXy\\AppData\\Local\\Temp\\tmpxhlrhwon\\main.cpp.\n",
      "2018-12-26 00:34:34,733 INFO     [persper.analytics.lsp_graph_server.callgraph] Removed 273 branches by 4 files.\n",
      "2018-12-26 00:34:34,735 INFO     [persper.analytics.lsp_graph_server] Invalidated 4 files, affected 4 files.\n",
      "2018-12-26 00:34:34,737 INFO     [persper.analytics.lsp_graph_server.callgraph.builder] Build call graph in: C:\\Users\\CXy\\AppData\\Local\\Temp\\tmpxhlrhwon\\Utility.h\n",
      "2018-12-26 00:34:37,262 INFO     [persper.analytics.lsp_graph_server.callgraph.builder] Yielded 81 branches.\n",
      "2018-12-26 00:34:37,263 INFO     [persper.analytics.lsp_graph_server.callgraph.builder] Build call graph in: C:\\Users\\CXy\\AppData\\Local\\Temp\\tmpxhlrhwon\\TextFileParsers.cpp\n",
      "2018-12-26 00:34:37,971 INFO     [persper.analytics.lsp_graph_server.callgraph.builder] Yielded 162 branches.\n",
      "2018-12-26 00:34:37,972 INFO     [persper.analytics.lsp_graph_server.callgraph.builder] Build call graph in: C:\\Users\\CXy\\AppData\\Local\\Temp\\tmpxhlrhwon\\Utility.cpp\n",
      "2018-12-26 00:34:38,250 INFO     [persper.analytics.lsp_graph_server.callgraph.builder] Yielded 77 branches.\n",
      "2018-12-26 00:34:38,251 INFO     [persper.analytics.lsp_graph_server.callgraph.builder] Build call graph in: C:\\Users\\CXy\\AppData\\Local\\Temp\\tmpxhlrhwon\\main.cpp\n",
      "2018-12-26 00:34:38,399 INFO     [persper.analytics.lsp_graph_server.callgraph.builder] Yielded 3 branches.\n",
      "2018-12-26 00:34:38,400 INFO     [persper.analytics.lsp_graph_server.callgraph.manager] Added 270 branches (-> 323) from 4 files.\n",
      "2018-12-26 00:34:38,401 INFO     [persper.analytics.lsp_graph_server] End commit: dc00db06e9013dc4b92c199887f081049e3a4276\n",
      "2018-12-26 00:34:38,408 INFO     [persper.analytics.lsp_graph_server] Shutting down language server...\n",
      "2018-12-26 00:35:41,011 INFO     [persper.analytics.lsp_graph_server] Language server 24988 exited with code: 3221225786.\n"
     ]
    }
   ],
   "source": [
    "from persper.analytics.analyzer import Analyzer\n",
    "from persper.analytics.lsp_graph_server.ccls import CclsGraphServer\n",
    "from tempfile import mkdtemp\n",
    "\n",
    "dumpLogs = True\n",
    "workspaceRoot = mkdtemp()\n",
    "print(\"Workspace root: \", workspaceRoot)\n",
    "G = None\n",
    "async with CclsGraphServer(workspaceRoot, cacheRoot=\"./.ccls-cache\",\n",
    "                           languageServerCommand=\"../bin/ccls\" + (\" -log-file=ccls.log\" if dumpLogs else \"\"),\n",
    "                           dumpLogs=dumpLogs) as graphServer:\n",
    "    analyzer = Analyzer(\"../repos/cpp_test_repo\", graphServer)\n",
    "    graphServer.reset_graph()\n",
    "    await analyzer.analyze()\n",
    "    G = analyzer.get_graph()"
   ]
  },
  {
   "cell_type": "code",
   "execution_count": 3,
   "metadata": {},
   "outputs": [
    {
     "name": "stdout",
     "output_type": "stream",
     "text": [
      "Nodes: 41\n",
      "Edges: 71\n"
     ]
    }
   ],
   "source": [
    "print(\"Nodes:\", len(G.nodes()))\n",
    "print(\"Edges:\", len(G.edges()))"
   ]
  },
  {
   "cell_type": "code",
   "execution_count": 4,
   "metadata": {
    "scrolled": false
   },
   "outputs": [
    {
     "name": "stdout",
     "output_type": "stream",
     "text": [
      "_RangeToEnumerable<TIterator> RangeToEnumerable(const std::pair<TIterator, TIterator> range)  |  class _RangeToEnumerable {}\n",
      "template<> struct is_flags<StringComparison> : std::true_type {}  |  enum class StringComparison : int {}\n",
      "bool Equal(const std::string &lhs, const std::string &rhs, StringComparison comparision)  |  bool Equal(const int &lhs, const int &rhs, int comparision)\n",
      "bool Equal(const std::string &lhs, const std::string &rhs, StringComparison comparision)  |  enum class StringComparison : int {}\n",
      "bool Equal(const std::string &lhs, const std::string &rhs, StringComparison comparision)  |  bool Equal(const std::string &lhs, const std::string &rhs, StringComparison comparision)\n",
      "bool Equal(const int &lhs, const int &rhs, int comparision)  |  enum class StringComparison : int {}\n",
      "bool Confirm(const std::string &prompt)  |  bool Confirm(const int &prompt)\n",
      "bool Confirm(const std::string &prompt)  |  bool Confirm(const std::string &prompt)\n",
      "bool Confirm(const int &prompt)  |  class RowReader {}\n",
      "const char *FriendlyNameOf(const std::type_index &type)  |  const char *FriendlyNameOf()\n",
      "const char *FriendlyNameOf(const type_info &type)  |  const char *FriendlyNameOf()\n",
      "const char *FriendlyNameOf(const ReliabilityNetworkEntry &instance)  |  const char *FriendlyNameOf()\n",
      "void ReportException(const std::exception &ex, int level)  |  void ReportException(const int &ex, int level)\n",
      "void ReportException(const std::exception &ex, int level)  |  void ReportException(const std::exception &ex, int level)\n",
      "int &operator>>(int &reader, int &rhs)  |  class RowReader {}\n",
      "int &operator>>(int &reader, long &rhs)  |  class RowReader {}\n",
      "int &operator>>(int &reader, long &rhs)  |  int &operator>>(int &reader, int &rhs)\n",
      "int &operator>>(int &reader, float &rhs)  |  class RowReader {}\n",
      "int &operator>>(int &reader, float &rhs)  |  int &operator>>(int &reader, int &rhs)\n",
      "int &operator>>(int &reader, double &rhs)  |  class RowReader {}\n",
      "int &operator>>(int &reader, double &rhs)  |  int &operator>>(int &reader, int &rhs)\n",
      "int &operator>>(int &reader, bool &rhs)  |  class RowReader {}\n",
      "int &operator>>(int &reader, bool &rhs)  |  int &operator>>(int &reader, int &rhs)\n",
      "int &operator>>(int &reader, bool &rhs)  |  bool Equal(const int &lhs, const int &rhs, int comparision)\n",
      "int &operator>>(int &reader, bool &rhs)  |  enum class StringComparison : int {}\n",
      "int &operator>>(int &reader, bool &rhs)  |  bool Equal(const std::string &lhs, const std::string &rhs, StringComparison comparision)\n",
      "TStream &operator>>(TStream &s, RowReader &reader)  |  class RowReader {}\n",
      "RowReader &operator>>(RowReader &reader, std::string &rhs)  |  class RowReader {}\n",
      "RowReader &operator>>(RowReader &reader, int &rhs)  |  class RowReader {}\n",
      "RowReader &operator>>(RowReader &reader, int &rhs)  |  RowReader &operator>>(RowReader &reader, std::string &rhs)\n",
      "RowReader &operator>>(RowReader &reader, long &rhs)  |  class RowReader {}\n",
      "RowReader &operator>>(RowReader &reader, long &rhs)  |  RowReader &operator>>(RowReader &reader, int &rhs)\n",
      "RowReader &operator>>(RowReader &reader, long &rhs)  |  RowReader &operator>>(RowReader &reader, std::string &rhs)\n",
      "RowReader &operator>>(RowReader &reader, float &rhs)  |  class RowReader {}\n",
      "RowReader &operator>>(RowReader &reader, float &rhs)  |  RowReader &operator>>(RowReader &reader, int &rhs)\n",
      "RowReader &operator>>(RowReader &reader, float &rhs)  |  RowReader &operator>>(RowReader &reader, std::string &rhs)\n",
      "RowReader &operator>>(RowReader &reader, double &rhs)  |  class RowReader {}\n",
      "RowReader &operator>>(RowReader &reader, double &rhs)  |  RowReader &operator>>(RowReader &reader, int &rhs)\n",
      "RowReader &operator>>(RowReader &reader, double &rhs)  |  RowReader &operator>>(RowReader &reader, std::string &rhs)\n",
      "RowReader &operator>>(RowReader &reader, bool &rhs)  |  class RowReader {}\n",
      "RowReader &operator>>(RowReader &reader, bool &rhs)  |  RowReader &operator>>(RowReader &reader, int &rhs)\n",
      "RowReader &operator>>(RowReader &reader, bool &rhs)  |  bool Equal(const std::string &lhs, const std::string &rhs, StringComparison comparision)\n",
      "RowReader &operator>>(RowReader &reader, bool &rhs)  |  enum class StringComparison : int {}\n",
      "RowReader &operator>>(RowReader &reader, bool &rhs)  |  RowReader &operator>>(RowReader &reader, std::string &rhs)\n",
      "int main(int argc, char *argv[])  |  TStream OpenAndValidate(const TPath arg1)\n",
      "int main(int argc, char *argv[])  |  class ConfigurationParser {}\n",
      "int main(int argc, char *argv[])  |  void ReportException(const std::exception &ex, int level)\n",
      "int main(int argc, char *argv[])  |  bool ConfigurationParser::GetBool(const std::string &key, bool defaultValue) const\n",
      "class InvalidCastException : public Exception {}  |  class Exception : public std::exception {}\n",
      "class ArgumentException : public Exception {}  |  class Exception : public std::exception {}\n",
      "class OperationFailureException : public Exception {}  |  class Exception : public std::exception {}\n",
      "void ConfigurationParser::Load(std::istream &inputStream)  |  class ConfigurationParser {}\n",
      "void ConfigurationParser::Load(std::istream &inputStream)  |  RowReader &operator>>(RowReader &reader, int &rhs)\n",
      "void ConfigurationParser::Load(std::istream &inputStream)  |  class Exception : public std::exception {}\n",
      "std::string ConfigurationParser::GetString(const std::string &key, const std::string &defaultValue) const  |  class ConfigurationParser {}\n",
      "int ConfigurationParser::GetInt(const std::string &key, int defaultValue) const  |  class ConfigurationParser {}\n",
      "int ConfigurationParser::GetInt(const std::string &key, int defaultValue) const  |  std::string ConfigurationParser::GetString(const std::string &key, const std::string &defaultValue) const\n",
      "int ConfigurationParser::GetInt(const std::string &key, int defaultValue) const  |  class Exception : public std::exception {}\n",
      "double ConfigurationParser::GetDouble(const std::string &key, double defaultValue) const  |  class ConfigurationParser {}\n",
      "double ConfigurationParser::GetDouble(const std::string &key, double defaultValue) const  |  std::string ConfigurationParser::GetString(const std::string &key, const std::string &defaultValue) const\n",
      "double ConfigurationParser::GetDouble(const std::string &key, double defaultValue) const  |  class Exception : public std::exception {}\n",
      "bool ConfigurationParser::GetBool(const std::string &key, bool defaultValue) const  |  class ConfigurationParser {}\n",
      "bool ConfigurationParser::GetBool(const std::string &key, bool defaultValue) const  |  std::string ConfigurationParser::GetString(const std::string &key, const std::string &defaultValue) const\n",
      "bool ConfigurationParser::GetBool(const std::string &key, bool defaultValue) const  |  bool Equal(const std::string &lhs, const std::string &rhs, StringComparison comparision)\n",
      "bool ConfigurationParser::GetBool(const std::string &key, bool defaultValue) const  |  enum class StringComparison : int {}\n",
      "bool ConfigurationParser::GetBool(const std::string &key, bool defaultValue) const  |  class Exception : public std::exception {}\n",
      "ConfigurationParser::ConfigurationParser(std::istream &inputStream)  |  class ConfigurationParser {}\n",
      "ConfigurationParser::ConfigurationParser(std::istream &inputStream)  |  void ConfigurationParser::Load(std::istream &inputStream)\n",
      "ConfigurationParser::ConfigurationParser(std::filesystem::path filePath)  |  class ConfigurationParser {}\n",
      "ConfigurationParser::ConfigurationParser(std::filesystem::path filePath)  |  TStream OpenAndValidate(const TPath arg1)\n",
      "ConfigurationParser::ConfigurationParser(std::filesystem::path filePath)  |  void ConfigurationParser::Load(std::istream &inputStream)\n"
     ]
    }
   ],
   "source": [
    "import itertools\n",
    "for e in itertools.islice(G.edges(), 100):\n",
    "    print(e[0], \" | \", e[1])\n",
    "if len(G.edges()) > 100:\n",
    "    print(\"...\")"
   ]
  },
  {
   "cell_type": "code",
   "execution_count": 5,
   "metadata": {},
   "outputs": [],
   "source": [
    "# un-pickle test\n",
    "import pickle\n",
    "loaded = pickle.load(open(\"cpp_test_repo-finished-0.pickle\", \"rb\"))"
   ]
  },
  {
   "cell_type": "code",
   "execution_count": 6,
   "metadata": {},
   "outputs": [
    {
     "name": "stdout",
     "output_type": "stream",
     "text": [
      "_RangeToEnumerable<TIterator> RangeToEnumerable(const std::pair<TIterator, TIterator> range)  |  class _RangeToEnumerable {}\n",
      "template<> struct is_flags<StringComparison> : std::true_type {}  |  enum class StringComparison : int {}\n",
      "bool Equal(const std::string &lhs, const std::string &rhs, StringComparison comparision)  |  bool Equal(const int &lhs, const int &rhs, int comparision)\n",
      "bool Equal(const std::string &lhs, const std::string &rhs, StringComparison comparision)  |  enum class StringComparison : int {}\n",
      "bool Equal(const std::string &lhs, const std::string &rhs, StringComparison comparision)  |  bool Equal(const std::string &lhs, const std::string &rhs, StringComparison comparision)\n",
      "bool Equal(const int &lhs, const int &rhs, int comparision)  |  enum class StringComparison : int {}\n",
      "bool Confirm(const std::string &prompt)  |  bool Confirm(const int &prompt)\n",
      "bool Confirm(const std::string &prompt)  |  bool Confirm(const std::string &prompt)\n",
      "bool Confirm(const int &prompt)  |  class RowReader {}\n",
      "const char *FriendlyNameOf(const std::type_index &type)  |  const char *FriendlyNameOf()\n",
      "const char *FriendlyNameOf(const type_info &type)  |  const char *FriendlyNameOf()\n",
      "const char *FriendlyNameOf(const ReliabilityNetworkEntry &instance)  |  const char *FriendlyNameOf()\n",
      "void ReportException(const std::exception &ex, int level)  |  void ReportException(const int &ex, int level)\n",
      "void ReportException(const std::exception &ex, int level)  |  void ReportException(const std::exception &ex, int level)\n",
      "int &operator>>(int &reader, int &rhs)  |  class RowReader {}\n",
      "int &operator>>(int &reader, long &rhs)  |  class RowReader {}\n",
      "int &operator>>(int &reader, long &rhs)  |  int &operator>>(int &reader, int &rhs)\n",
      "int &operator>>(int &reader, float &rhs)  |  class RowReader {}\n",
      "int &operator>>(int &reader, float &rhs)  |  int &operator>>(int &reader, int &rhs)\n",
      "int &operator>>(int &reader, double &rhs)  |  class RowReader {}\n",
      "int &operator>>(int &reader, double &rhs)  |  int &operator>>(int &reader, int &rhs)\n",
      "int &operator>>(int &reader, bool &rhs)  |  class RowReader {}\n",
      "int &operator>>(int &reader, bool &rhs)  |  int &operator>>(int &reader, int &rhs)\n",
      "int &operator>>(int &reader, bool &rhs)  |  bool Equal(const int &lhs, const int &rhs, int comparision)\n",
      "int &operator>>(int &reader, bool &rhs)  |  enum class StringComparison : int {}\n",
      "int &operator>>(int &reader, bool &rhs)  |  bool Equal(const std::string &lhs, const std::string &rhs, StringComparison comparision)\n",
      "TStream &operator>>(TStream &s, RowReader &reader)  |  class RowReader {}\n",
      "RowReader &operator>>(RowReader &reader, std::string &rhs)  |  class RowReader {}\n",
      "RowReader &operator>>(RowReader &reader, int &rhs)  |  class RowReader {}\n",
      "RowReader &operator>>(RowReader &reader, int &rhs)  |  RowReader &operator>>(RowReader &reader, std::string &rhs)\n",
      "RowReader &operator>>(RowReader &reader, long &rhs)  |  class RowReader {}\n",
      "RowReader &operator>>(RowReader &reader, long &rhs)  |  RowReader &operator>>(RowReader &reader, int &rhs)\n",
      "RowReader &operator>>(RowReader &reader, long &rhs)  |  RowReader &operator>>(RowReader &reader, std::string &rhs)\n",
      "RowReader &operator>>(RowReader &reader, float &rhs)  |  class RowReader {}\n",
      "RowReader &operator>>(RowReader &reader, float &rhs)  |  RowReader &operator>>(RowReader &reader, int &rhs)\n",
      "RowReader &operator>>(RowReader &reader, float &rhs)  |  RowReader &operator>>(RowReader &reader, std::string &rhs)\n",
      "RowReader &operator>>(RowReader &reader, double &rhs)  |  class RowReader {}\n",
      "RowReader &operator>>(RowReader &reader, double &rhs)  |  RowReader &operator>>(RowReader &reader, int &rhs)\n",
      "RowReader &operator>>(RowReader &reader, double &rhs)  |  RowReader &operator>>(RowReader &reader, std::string &rhs)\n",
      "RowReader &operator>>(RowReader &reader, bool &rhs)  |  class RowReader {}\n",
      "RowReader &operator>>(RowReader &reader, bool &rhs)  |  RowReader &operator>>(RowReader &reader, int &rhs)\n",
      "RowReader &operator>>(RowReader &reader, bool &rhs)  |  bool Equal(const std::string &lhs, const std::string &rhs, StringComparison comparision)\n",
      "RowReader &operator>>(RowReader &reader, bool &rhs)  |  enum class StringComparison : int {}\n",
      "RowReader &operator>>(RowReader &reader, bool &rhs)  |  RowReader &operator>>(RowReader &reader, std::string &rhs)\n",
      "int main(int argc, char *argv[])  |  TStream OpenAndValidate(const TPath arg1)\n",
      "int main(int argc, char *argv[])  |  class ConfigurationParser {}\n",
      "int main(int argc, char *argv[])  |  void ReportException(const std::exception &ex, int level)\n",
      "int main(int argc, char *argv[])  |  bool ConfigurationParser::GetBool(const std::string &key, bool defaultValue) const\n",
      "class InvalidCastException : public Exception {}  |  class Exception : public std::exception {}\n",
      "class ArgumentException : public Exception {}  |  class Exception : public std::exception {}\n",
      "class OperationFailureException : public Exception {}  |  class Exception : public std::exception {}\n",
      "void ConfigurationParser::Load(std::istream &inputStream)  |  class ConfigurationParser {}\n",
      "void ConfigurationParser::Load(std::istream &inputStream)  |  RowReader &operator>>(RowReader &reader, int &rhs)\n",
      "void ConfigurationParser::Load(std::istream &inputStream)  |  class Exception : public std::exception {}\n",
      "std::string ConfigurationParser::GetString(const std::string &key, const std::string &defaultValue) const  |  class ConfigurationParser {}\n",
      "int ConfigurationParser::GetInt(const std::string &key, int defaultValue) const  |  class ConfigurationParser {}\n",
      "int ConfigurationParser::GetInt(const std::string &key, int defaultValue) const  |  std::string ConfigurationParser::GetString(const std::string &key, const std::string &defaultValue) const\n",
      "int ConfigurationParser::GetInt(const std::string &key, int defaultValue) const  |  class Exception : public std::exception {}\n",
      "double ConfigurationParser::GetDouble(const std::string &key, double defaultValue) const  |  class ConfigurationParser {}\n",
      "double ConfigurationParser::GetDouble(const std::string &key, double defaultValue) const  |  std::string ConfigurationParser::GetString(const std::string &key, const std::string &defaultValue) const\n",
      "double ConfigurationParser::GetDouble(const std::string &key, double defaultValue) const  |  class Exception : public std::exception {}\n",
      "bool ConfigurationParser::GetBool(const std::string &key, bool defaultValue) const  |  class ConfigurationParser {}\n",
      "bool ConfigurationParser::GetBool(const std::string &key, bool defaultValue) const  |  std::string ConfigurationParser::GetString(const std::string &key, const std::string &defaultValue) const\n",
      "bool ConfigurationParser::GetBool(const std::string &key, bool defaultValue) const  |  bool Equal(const std::string &lhs, const std::string &rhs, StringComparison comparision)\n",
      "bool ConfigurationParser::GetBool(const std::string &key, bool defaultValue) const  |  enum class StringComparison : int {}\n",
      "bool ConfigurationParser::GetBool(const std::string &key, bool defaultValue) const  |  class Exception : public std::exception {}\n",
      "ConfigurationParser::ConfigurationParser(std::istream &inputStream)  |  class ConfigurationParser {}\n",
      "ConfigurationParser::ConfigurationParser(std::istream &inputStream)  |  void ConfigurationParser::Load(std::istream &inputStream)\n",
      "ConfigurationParser::ConfigurationParser(std::filesystem::path filePath)  |  class ConfigurationParser {}\n",
      "ConfigurationParser::ConfigurationParser(std::filesystem::path filePath)  |  TStream OpenAndValidate(const TPath arg1)\n",
      "ConfigurationParser::ConfigurationParser(std::filesystem::path filePath)  |  void ConfigurationParser::Load(std::istream &inputStream)\n"
     ]
    }
   ],
   "source": [
    "for e in itertools.islice(loaded.get_graph().edges(), 100):\n",
    "    print(e[0], \" | \", e[1])\n",
    "if len(loaded.get_graph().edges()) > 100:\n",
    "    print(\"...\")"
   ]
  },
  {
   "cell_type": "code",
   "execution_count": 7,
   "metadata": {},
   "outputs": [
    {
     "name": "stderr",
     "output_type": "stream",
     "text": [
      "No traceback available to show.\n"
     ]
    }
   ],
   "source": [
    "%tb"
   ]
  }
 ],
 "metadata": {
  "kernelspec": {
   "display_name": "Python 3",
   "language": "python",
   "name": "python3"
  },
  "language_info": {
   "codemirror_mode": {
    "name": "ipython",
    "version": 3
   },
   "file_extension": ".py",
   "mimetype": "text/x-python",
   "name": "python",
   "nbconvert_exporter": "python",
   "pygments_lexer": "ipython3",
   "version": "3.7.0"
  }
 },
 "nbformat": 4,
 "nbformat_minor": 2
}
