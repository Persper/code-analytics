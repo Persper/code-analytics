{
 "cells": [
  {
   "cell_type": "code",
   "execution_count": 1,
   "metadata": {},
   "outputs": [],
   "source": [
    "import logging\n",
    "\n",
    "#logging.basicConfig(format='%(asctime)s %(levelname)-8s [%(name)s] %(message)s',\n",
    "#                    level=logging.INFO)\n",
    "#logging.getLogger('asyncio').setLevel(logging.CRITICAL)"
   ]
  },
  {
   "cell_type": "code",
   "execution_count": 2,
   "metadata": {
    "scrolled": false
   },
   "outputs": [
    {
     "name": "stdout",
     "output_type": "stream",
     "text": [
      "Workspace root:  C:\\Users\\CXy\\AppData\\Local\\Temp\\tmpp_gx74i7\n",
      "----- Overview ------\n",
      "# of commits on master: 4\n",
      "# of commits on branch: 0\n",
      "----- No.1 ad1187ea6cfc9dc5f2ea869db16895b3e7ae10f0 on main -----\n",
      "----- No.2 f3cce3b9fb9cffe48343abad7e9617dd724835d9 on main -----\n",
      "----- No.3 aca68e9d114665fb327b90234129cf4478800e10 on main -----\n",
      "----- No.4 f482b140071867d4b2cd30f045725775e5394ccd on main -----\n"
     ]
    }
   ],
   "source": [
    "from persper.analytics.analyzer import Analyzer\n",
    "from persper.analytics.lsp_graph_server.ccls import CclsGraphServer\n",
    "from tempfile import mkdtemp\n",
    "\n",
    "workspaceRoot = mkdtemp()\n",
    "print(\"Workspace root: \", workspaceRoot)\n",
    "G = None\n",
    "async with CclsGraphServer(workspaceRoot, cacheRoot=\"./.ccls-cache\", languageServerCommand=\"../bin/ccls -log-file=ccls.log\") as graphServer:\n",
    "    analyzer = Analyzer(\"../repos\", graphServer)\n",
    "    graphServer.reset_graph()\n",
    "    await analyzer.analyze()\n",
    "    G = await analyzer.get_graph()"
   ]
  },
  {
   "cell_type": "code",
   "execution_count": 3,
   "metadata": {},
   "outputs": [
    {
     "name": "stdout",
     "output_type": "stream",
     "text": [
      "['Equal', 'StringComparison', 'Confirm', 'c', 'ReportException', 'subEx', 'main', 'OpenAndValidate', 'ConfigurationParser', 'dynamic_kind_of', 'TSrc', 'pointer_kind_of', 'safe_cast', 'safe_pointer_cast', 'StreamStatusToString', 'TStream', 'TPath', 'ValidateStream', '_RangeToEnumerable', 'RangeToEnumerable', 'to_string', 'is_flags', 'operator&', 'TEnum', 'lhs', 'rhs', 'operator|', 'FriendlyNameOf', 'BlockExitHandler', 'e', 'operator>>', 'ConfigurationParser::Load', 'ConfigurationParser::ConfigurationParser', 'Exception', 'ConfigurationParser::GetString', 'ConfigurationParser::GetInt', 'ConfigurationParser::GetDouble', 'ConfigurationParser::GetBool', 'InvalidCastException', 'ArgumentException', 'OperationFailureException', 'is_flags_v']\n"
     ]
    }
   ],
   "source": [
    "print(G.nodes())"
   ]
  },
  {
   "cell_type": "code",
   "execution_count": 4,
   "metadata": {
    "scrolled": false
   },
   "outputs": [
    {
     "name": "stdout",
     "output_type": "stream",
     "text": [
      "Edges: 67\n",
      "Equal  |  Equal\n",
      "Equal  |  StringComparison\n",
      "StringComparison  |  StringComparison\n",
      "Confirm  |  Confirm\n",
      "Confirm  |  c\n",
      "ReportException  |  ReportException\n",
      "ReportException  |  subEx\n",
      "main  |  OpenAndValidate\n",
      "main  |  ConfigurationParser\n",
      "main  |  main\n",
      "main  |  ConfigurationParser::GetBool\n",
      "main  |  ConfigurationParser::GetDouble\n",
      "main  |  ConfigurationParser::GetString\n",
      "OpenAndValidate  |  TStream\n",
      "OpenAndValidate  |  TPath\n",
      "dynamic_kind_of  |  TSrc\n",
      "pointer_kind_of  |  TSrc\n",
      "safe_cast  |  TSrc\n",
      "safe_pointer_cast  |  TSrc\n",
      "StreamStatusToString  |  TStream\n",
      "ValidateStream  |  TStream\n",
      "_RangeToEnumerable  |  _RangeToEnumerable\n",
      "RangeToEnumerable  |  _RangeToEnumerable\n",
      "to_string  |  to_string\n",
      "is_flags  |  StringComparison\n",
      "operator&  |  TEnum\n",
      "lhs  |  TEnum\n",
      "rhs  |  TEnum\n",
      "operator|  |  TEnum\n",
      "FriendlyNameOf  |  FriendlyNameOf\n",
      "BlockExitHandler  |  BlockExitHandler\n",
      "BlockExitHandler  |  e\n",
      "operator>>  |  operator>>\n",
      "operator>>  |  c\n",
      "operator>>  |  Equal\n",
      "operator>>  |  StringComparison\n",
      "ConfigurationParser::Load  |  ConfigurationParser::ConfigurationParser\n",
      "ConfigurationParser::Load  |  ConfigurationParser::Load\n",
      "ConfigurationParser::Load  |  operator>>\n",
      "ConfigurationParser::Load  |  Exception\n",
      "ConfigurationParser::ConfigurationParser  |  ConfigurationParser::ConfigurationParser\n",
      "ConfigurationParser::ConfigurationParser  |  ConfigurationParser::Load\n",
      "ConfigurationParser::ConfigurationParser  |  OpenAndValidate\n",
      "Exception  |  Exception\n",
      "ConfigurationParser::GetString  |  ConfigurationParser::ConfigurationParser\n",
      "ConfigurationParser::GetString  |  ConfigurationParser::GetString\n",
      "ConfigurationParser::GetInt  |  ConfigurationParser::ConfigurationParser\n",
      "ConfigurationParser::GetInt  |  ConfigurationParser::GetString\n",
      "ConfigurationParser::GetInt  |  Exception\n",
      "ConfigurationParser::GetInt  |  ConfigurationParser::GetInt\n",
      "ConfigurationParser::GetDouble  |  ConfigurationParser::ConfigurationParser\n",
      "ConfigurationParser::GetDouble  |  ConfigurationParser::GetString\n",
      "ConfigurationParser::GetDouble  |  Exception\n",
      "ConfigurationParser::GetDouble  |  ConfigurationParser::GetDouble\n",
      "ConfigurationParser::GetBool  |  ConfigurationParser::ConfigurationParser\n",
      "ConfigurationParser::GetBool  |  ConfigurationParser::GetString\n",
      "ConfigurationParser::GetBool  |  Equal\n",
      "ConfigurationParser::GetBool  |  StringComparison\n",
      "ConfigurationParser::GetBool  |  Exception\n",
      "ConfigurationParser::GetBool  |  ConfigurationParser::GetBool\n",
      "InvalidCastException  |  Exception\n",
      "InvalidCastException  |  InvalidCastException\n",
      "ArgumentException  |  Exception\n",
      "ArgumentException  |  ArgumentException\n",
      "OperationFailureException  |  Exception\n",
      "OperationFailureException  |  OperationFailureException\n",
      "is_flags_v  |  is_flags\n"
     ]
    }
   ],
   "source": [
    "print(\"Edges:\", len(G.edges()))\n",
    "for e in G.edges():\n",
    "    print(e[0], \" | \", e[1])"
   ]
  },
  {
   "cell_type": "code",
   "execution_count": null,
   "metadata": {},
   "outputs": [],
   "source": []
  }
 ],
 "metadata": {
  "kernelspec": {
   "display_name": "Python 3",
   "language": "python",
   "name": "python3"
  },
  "language_info": {
   "codemirror_mode": {
    "name": "ipython",
    "version": 3
   },
   "file_extension": ".py",
   "mimetype": "text/x-python",
   "name": "python",
   "nbconvert_exporter": "python",
   "pygments_lexer": "ipython3",
   "version": "3.7.0"
  }
 },
 "nbformat": 4,
 "nbformat_minor": 2
}
