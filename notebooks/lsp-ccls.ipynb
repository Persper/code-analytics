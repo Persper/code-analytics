{
 "cells": [
  {
   "cell_type": "code",
   "execution_count": 1,
   "metadata": {},
   "outputs": [],
   "source": [
    "import logging\n",
    "\n",
    "logging.basicConfig(format='%(asctime)s %(levelname)-8s [%(name)s] %(message)s',\n",
    "                    level=logging.INFO)\n",
    "logging.getLogger(\"persper.analytics.lsp_graph_server.callgraph.manager\").setLevel(logging.INFO)\n",
    "# logging.getLogger('asyncio').setLevel(logging.CRITICAL)"
   ]
  },
  {
   "cell_type": "code",
   "execution_count": 2,
   "metadata": {
    "scrolled": false
   },
   "outputs": [
    {
     "name": "stdout",
     "output_type": "stream",
     "text": [
      "Workspace root:  C:\\Users\\CXy\\AppData\\Local\\Temp\\tmpfdobutn9\n"
     ]
    },
    {
     "name": "stderr",
     "output_type": "stream",
     "text": [
      "2019-01-17 23:45:01,005 INFO     [persper.analytics.lsp_graph_server.callgraph.builder] Modified C:\\Users\\CXy\\AppData\\Local\\Temp\\tmpfdobutn9\\Exceptions.h.\n"
     ]
    },
    {
     "name": "stdout",
     "output_type": "stream",
     "text": [
      "----- Overview ------\n",
      "# of commits on master: 4\n",
      "# of commits on branch: 0\n",
      "----- No.1 4965d8edcb63cab6e544c1ecd19454f37d9bb0d3 on main -----\n"
     ]
    },
    {
     "name": "stderr",
     "output_type": "stream",
     "text": [
      "2019-01-17 23:45:01,062 INFO     [persper.analytics.lsp_graph_server.callgraph.builder] Modified C:\\Users\\CXy\\AppData\\Local\\Temp\\tmpfdobutn9\\TextFileParsers.cpp.\n",
      "2019-01-17 23:45:01,118 INFO     [persper.analytics.lsp_graph_server.callgraph.builder] Modified C:\\Users\\CXy\\AppData\\Local\\Temp\\tmpfdobutn9\\TextFileParsers.h.\n",
      "2019-01-17 23:45:01,174 INFO     [persper.analytics.lsp_graph_server.callgraph.builder] Modified C:\\Users\\CXy\\AppData\\Local\\Temp\\tmpfdobutn9\\TypeTraits.h.\n",
      "2019-01-17 23:45:01,230 INFO     [persper.analytics.lsp_graph_server.callgraph.builder] Modified C:\\Users\\CXy\\AppData\\Local\\Temp\\tmpfdobutn9\\Utility.cpp.\n",
      "2019-01-17 23:45:01,284 INFO     [persper.analytics.lsp_graph_server.callgraph.builder] Modified C:\\Users\\CXy\\AppData\\Local\\Temp\\tmpfdobutn9\\Utility.h.\n",
      "2019-01-17 23:45:01,339 INFO     [persper.analytics.lsp_graph_server.callgraph.builder] Modified C:\\Users\\CXy\\AppData\\Local\\Temp\\tmpfdobutn9\\main.cpp.\n",
      "2019-01-17 23:45:01,396 INFO     [persper.analytics.lsp_graph_server.callgraph.builder] Modified C:\\Users\\CXy\\AppData\\Local\\Temp\\tmpfdobutn9\\stdafx.cpp.\n",
      "2019-01-17 23:45:01,452 INFO     [persper.analytics.lsp_graph_server.callgraph.builder] Modified C:\\Users\\CXy\\AppData\\Local\\Temp\\tmpfdobutn9\\stdafx.h.\n",
      "2019-01-17 23:45:01,455 INFO     [persper.analytics.lsp_graph_server] Invalidated 9 files, affected 9 files.\n",
      "2019-01-17 23:45:01,457 INFO     [persper.analytics.lsp_graph_server.callgraph.builder] Build call graph in: C:\\Users\\CXy\\AppData\\Local\\Temp\\tmpfdobutn9\\Utility.h\n",
      "2019-01-17 23:45:03,434 INFO     [persper.analytics.lsp_graph_server.callgraph.builder] Yielded 73 branches.\n",
      "2019-01-17 23:45:03,435 INFO     [persper.analytics.lsp_graph_server.callgraph.builder] Build call graph in: C:\\Users\\CXy\\AppData\\Local\\Temp\\tmpfdobutn9\\Exceptions.h\n",
      "2019-01-17 23:45:03,696 INFO     [persper.analytics.lsp_graph_server.callgraph.builder] Yielded 27 branches.\n",
      "2019-01-17 23:45:03,697 INFO     [persper.analytics.lsp_graph_server.callgraph.builder] Build call graph in: C:\\Users\\CXy\\AppData\\Local\\Temp\\tmpfdobutn9\\TypeTraits.h\n",
      "2019-01-17 23:45:03,770 INFO     [persper.analytics.lsp_graph_server.callgraph.builder] Yielded 1 branches.\n",
      "2019-01-17 23:45:03,771 INFO     [persper.analytics.lsp_graph_server.callgraph.builder] Build call graph in: C:\\Users\\CXy\\AppData\\Local\\Temp\\tmpfdobutn9\\main.cpp\n",
      "2019-01-17 23:45:05,443 INFO     [persper.analytics.lsp_graph_server.callgraph.builder] Yielded 6 branches.\n",
      "2019-01-17 23:45:05,444 INFO     [persper.analytics.lsp_graph_server.callgraph.builder] Build call graph in: C:\\Users\\CXy\\AppData\\Local\\Temp\\tmpfdobutn9\\TextFileParsers.h\n",
      "2019-01-17 23:45:07,225 INFO     [persper.analytics.lsp_graph_server.callgraph.builder] Yielded 40 branches.\n",
      "2019-01-17 23:45:07,226 INFO     [persper.analytics.lsp_graph_server.callgraph.builder] Build call graph in: C:\\Users\\CXy\\AppData\\Local\\Temp\\tmpfdobutn9\\Utility.cpp\n",
      "2019-01-17 23:45:08,342 INFO     [persper.analytics.lsp_graph_server.callgraph.builder] Yielded 77 branches.\n",
      "2019-01-17 23:45:08,343 INFO     [persper.analytics.lsp_graph_server.callgraph.builder] Build call graph in: C:\\Users\\CXy\\AppData\\Local\\Temp\\tmpfdobutn9\\stdafx.h\n",
      "2019-01-17 23:45:09,076 INFO     [persper.analytics.lsp_graph_server.callgraph.builder] Yielded 0 branches.\n",
      "2019-01-17 23:45:09,077 INFO     [persper.analytics.lsp_graph_server.callgraph.builder] Build call graph in: C:\\Users\\CXy\\AppData\\Local\\Temp\\tmpfdobutn9\\TextFileParsers.cpp\n",
      "2019-01-17 23:45:10,579 INFO     [persper.analytics.lsp_graph_server.callgraph.builder] Yielded 163 branches.\n",
      "2019-01-17 23:45:10,580 INFO     [persper.analytics.lsp_graph_server.callgraph.builder] Build call graph in: C:\\Users\\CXy\\AppData\\Local\\Temp\\tmpfdobutn9\\stdafx.cpp\n",
      "2019-01-17 23:45:11,346 INFO     [persper.analytics.lsp_graph_server.callgraph.builder] Yielded 0 branches.\n",
      "2019-01-17 23:45:11,347 INFO     [persper.analytics.lsp_graph_server.callgraph.manager] Added 387 branches from 9 files.\n",
      "2019-01-17 23:45:11,348 INFO     [persper.analytics.lsp_graph_server] End commit: 4965d8edcb63cab6e544c1ecd19454f37d9bb0d3\n",
      "2019-01-17 23:45:11,511 INFO     [persper.analytics.lsp_graph_server.callgraph.builder] Modified C:\\Users\\CXy\\AppData\\Local\\Temp\\tmpfdobutn9\\Utility-1.cpp.\n"
     ]
    },
    {
     "name": "stdout",
     "output_type": "stream",
     "text": [
      "----- No.2 12a65d92071e8ab32890bc0f69697b2efcb013f8 on main -----\n"
     ]
    },
    {
     "name": "stderr",
     "output_type": "stream",
     "text": [
      "2019-01-17 23:45:11,620 INFO     [persper.analytics.lsp_graph_server.callgraph.builder] Modified C:\\Users\\CXy\\AppData\\Local\\Temp\\tmpfdobutn9\\main.cpp.\n",
      "2019-01-17 23:45:11,622 INFO     [persper.analytics.lsp_graph_server] Invalidated 3 files, affected 3 files.\n",
      "2019-01-17 23:45:11,623 INFO     [persper.analytics.lsp_graph_server.callgraph.builder] Confirm deleted: C:\\Users\\CXy\\AppData\\Local\\Temp\\tmpfdobutn9\\Utility.cpp\n",
      "2019-01-17 23:45:11,625 INFO     [persper.analytics.lsp_graph_server.callgraph.builder] Build call graph in: C:\\Users\\CXy\\AppData\\Local\\Temp\\tmpfdobutn9\\Utility-1.cpp\n",
      "2019-01-17 23:45:12,790 INFO     [persper.analytics.lsp_graph_server.callgraph.builder] Yielded 77 branches.\n",
      "2019-01-17 23:45:12,791 INFO     [persper.analytics.lsp_graph_server.callgraph.builder] Build call graph in: C:\\Users\\CXy\\AppData\\Local\\Temp\\tmpfdobutn9\\main.cpp\n",
      "2019-01-17 23:45:13,805 INFO     [persper.analytics.lsp_graph_server.callgraph.builder] Yielded 12 branches.\n",
      "2019-01-17 23:45:13,807 INFO     [persper.analytics.lsp_graph_server.callgraph.manager] Added 89 branches from 2 files.\n",
      "2019-01-17 23:45:13,807 INFO     [persper.analytics.lsp_graph_server] End commit: 12a65d92071e8ab32890bc0f69697b2efcb013f8\n",
      "2019-01-17 23:45:13,984 INFO     [persper.analytics.lsp_graph_server.callgraph.builder] Modified C:\\Users\\CXy\\AppData\\Local\\Temp\\tmpfdobutn9\\TextFileParsers.cpp.\n"
     ]
    },
    {
     "name": "stdout",
     "output_type": "stream",
     "text": [
      "----- No.3 4928d2ec0ad82221b61b30f3ae2e1cc4c61a3ea0 on main -----\n"
     ]
    },
    {
     "name": "stderr",
     "output_type": "stream",
     "text": [
      "2019-01-17 23:45:14,090 INFO     [persper.analytics.lsp_graph_server.callgraph.builder] Modified C:\\Users\\CXy\\AppData\\Local\\Temp\\tmpfdobutn9\\Utility.cpp.\n",
      "2019-01-17 23:45:14,196 INFO     [persper.analytics.lsp_graph_server.callgraph.builder] Modified C:\\Users\\CXy\\AppData\\Local\\Temp\\tmpfdobutn9\\Utility.h.\n",
      "2019-01-17 23:45:14,300 INFO     [persper.analytics.lsp_graph_server.callgraph.builder] Modified C:\\Users\\CXy\\AppData\\Local\\Temp\\tmpfdobutn9\\main.cpp.\n",
      "2019-01-17 23:45:14,302 INFO     [persper.analytics.lsp_graph_server] Invalidated 5 files, affected 5 files.\n",
      "2019-01-17 23:45:14,303 INFO     [persper.analytics.lsp_graph_server.callgraph.builder] Confirm deleted: C:\\Users\\CXy\\AppData\\Local\\Temp\\tmpfdobutn9\\Utility-1.cpp\n",
      "2019-01-17 23:45:14,304 INFO     [persper.analytics.lsp_graph_server.callgraph.builder] Build call graph in: C:\\Users\\CXy\\AppData\\Local\\Temp\\tmpfdobutn9\\Utility.h\n",
      "2019-01-17 23:45:15,886 INFO     [persper.analytics.lsp_graph_server.callgraph.builder] Yielded 78 branches.\n",
      "2019-01-17 23:45:15,887 INFO     [persper.analytics.lsp_graph_server.callgraph.builder] Build call graph in: C:\\Users\\CXy\\AppData\\Local\\Temp\\tmpfdobutn9\\Utility.cpp\n",
      "2019-01-17 23:45:16,872 INFO     [persper.analytics.lsp_graph_server.callgraph.builder] Yielded 77 branches.\n",
      "2019-01-17 23:45:16,874 INFO     [persper.analytics.lsp_graph_server.callgraph.builder] Build call graph in: C:\\Users\\CXy\\AppData\\Local\\Temp\\tmpfdobutn9\\TextFileParsers.cpp\n",
      "2019-01-17 23:45:18,407 INFO     [persper.analytics.lsp_graph_server.callgraph.builder] Yielded 163 branches.\n",
      "2019-01-17 23:45:18,409 INFO     [persper.analytics.lsp_graph_server.callgraph.builder] Build call graph in: C:\\Users\\CXy\\AppData\\Local\\Temp\\tmpfdobutn9\\main.cpp\n",
      "2019-01-17 23:45:19,358 INFO     [persper.analytics.lsp_graph_server.callgraph.builder] Yielded 6 branches.\n",
      "2019-01-17 23:45:19,359 INFO     [persper.analytics.lsp_graph_server.callgraph.manager] Added 324 branches from 4 files.\n",
      "2019-01-17 23:45:19,359 INFO     [persper.analytics.lsp_graph_server] End commit: 4928d2ec0ad82221b61b30f3ae2e1cc4c61a3ea0\n",
      "2019-01-17 23:45:19,538 INFO     [persper.analytics.lsp_graph_server.callgraph.builder] Modified C:\\Users\\CXy\\AppData\\Local\\Temp\\tmpfdobutn9\\TextFileParsers.cpp.\n"
     ]
    },
    {
     "name": "stdout",
     "output_type": "stream",
     "text": [
      "----- No.4 639934cdc7499854e22df79835240ac786498300 on main -----\n"
     ]
    },
    {
     "name": "stderr",
     "output_type": "stream",
     "text": [
      "2019-01-17 23:45:19,647 INFO     [persper.analytics.lsp_graph_server.callgraph.builder] Modified C:\\Users\\CXy\\AppData\\Local\\Temp\\tmpfdobutn9\\Utility.cpp.\n",
      "2019-01-17 23:45:19,758 INFO     [persper.analytics.lsp_graph_server.callgraph.builder] Modified C:\\Users\\CXy\\AppData\\Local\\Temp\\tmpfdobutn9\\Utility.h.\n",
      "2019-01-17 23:45:19,869 INFO     [persper.analytics.lsp_graph_server.callgraph.builder] Modified C:\\Users\\CXy\\AppData\\Local\\Temp\\tmpfdobutn9\\main.cpp.\n",
      "2019-01-17 23:45:19,871 INFO     [persper.analytics.lsp_graph_server] Invalidated 4 files, affected 4 files.\n",
      "2019-01-17 23:45:19,874 INFO     [persper.analytics.lsp_graph_server.callgraph.builder] Build call graph in: C:\\Users\\CXy\\AppData\\Local\\Temp\\tmpfdobutn9\\TextFileParsers.cpp\n",
      "2019-01-17 23:45:22,915 INFO     [persper.analytics.lsp_graph_server.callgraph.builder] Yielded 163 branches.\n",
      "2019-01-17 23:45:22,916 INFO     [persper.analytics.lsp_graph_server.callgraph.builder] Build call graph in: C:\\Users\\CXy\\AppData\\Local\\Temp\\tmpfdobutn9\\Utility.h\n",
      "2019-01-17 23:45:24,290 INFO     [persper.analytics.lsp_graph_server.callgraph.builder] Yielded 87 branches.\n",
      "2019-01-17 23:45:24,291 INFO     [persper.analytics.lsp_graph_server.callgraph.builder] Build call graph in: C:\\Users\\CXy\\AppData\\Local\\Temp\\tmpfdobutn9\\Utility.cpp\n",
      "2019-01-17 23:45:24,503 INFO     [persper.analytics.lsp_graph_server.callgraph.builder] Yielded 77 branches.\n",
      "2019-01-17 23:45:24,505 INFO     [persper.analytics.lsp_graph_server.callgraph.builder] Build call graph in: C:\\Users\\CXy\\AppData\\Local\\Temp\\tmpfdobutn9\\main.cpp\n",
      "2019-01-17 23:45:25,399 INFO     [persper.analytics.lsp_graph_server.callgraph.builder] Yielded 3 branches.\n",
      "2019-01-17 23:45:25,400 INFO     [persper.analytics.lsp_graph_server.callgraph.manager] Added 330 branches from 4 files.\n",
      "2019-01-17 23:45:25,401 INFO     [persper.analytics.lsp_graph_server] End commit: 639934cdc7499854e22df79835240ac786498300\n",
      "2019-01-17 23:45:25,402 INFO     [persper.analytics.lsp_graph_server] Shutting down language server...\n",
      "2019-01-17 23:45:35,405 WARNING  [persper.analytics.lsp_graph_server] Killed language server 7904.\n"
     ]
    }
   ],
   "source": [
    "from persper.analytics.analyzer import Analyzer\n",
    "from persper.analytics.lsp_graph_server.ccls import CclsGraphServer\n",
    "from tempfile import mkdtemp\n",
    "\n",
    "dumpLogs = True\n",
    "workspaceRoot = mkdtemp()\n",
    "print(\"Workspace root: \", workspaceRoot)\n",
    "G = None\n",
    "async with CclsGraphServer(workspaceRoot, cacheRoot=\"./.ccls-cache\",\n",
    "                           languageServerCommand=\"../bin/ccls\" + (\" -log-file=ccls.log\" if dumpLogs else \"\"),\n",
    "                           dumpLogs=dumpLogs) as graphServer:\n",
    "    analyzer = Analyzer(\"../repos/cpp_test_repo\", graphServer)\n",
    "    graphServer.reset_graph()\n",
    "    await analyzer.analyze()\n",
    "    G = analyzer.get_graph()"
   ]
  },
  {
   "cell_type": "code",
   "execution_count": 3,
   "metadata": {},
   "outputs": [
    {
     "name": "stdout",
     "output_type": "stream",
     "text": [
      "Nodes: 56\n",
      "Edges: 58\n"
     ]
    }
   ],
   "source": [
    "print(\"Nodes:\", len(G.nodes()))\n",
    "print(\"Edges:\", len(G.edges()))"
   ]
  },
  {
   "cell_type": "code",
   "execution_count": 4,
   "metadata": {
    "scrolled": false
   },
   "outputs": [
    {
     "name": "stdout",
     "output_type": "stream",
     "text": [
      "_RangeToEnumerable<TIterator> RangeToEnumerable(const std::pair<TIterator, TIterator> range)  |  class _RangeToEnumerable {}\n",
      "template<> struct is_flags<StringComparison> : std::true_type {}  |  enum class StringComparison : int {}\n",
      "bool Equal(const std::string &lhs, const std::string &rhs, StringComparison comparision)  |  enum class StringComparison : int {}\n",
      "bool Equal(const std::string &lhs, const std::string &rhs, StringComparison comparision)  |  bool Equal(const std::string &lhs, const std::string &rhs, StringComparison comparision)\n",
      "const char *FriendlyNameOf(const std::type_index &type)  |  const char *FriendlyNameOf()\n",
      "const char *FriendlyNameOf(const std::type_index &type)  |  namespace std {}\n",
      "const char *FriendlyNameOf(const type_info &type)  |  const char *FriendlyNameOf()\n",
      "const char *FriendlyNameOf(const ReliabilityNetworkEntry &instance)  |  const char *FriendlyNameOf()\n",
      "class InvalidCastException : public Exception {}  |  class Exception : public std::exception {}\n",
      "class ArgumentException : public Exception {}  |  class Exception : public std::exception {}\n",
      "class OperationFailureException : public Exception {}  |  class Exception : public std::exception {}\n",
      "int main(int argc, char *argv[])  |  TStream OpenAndValidate(const TPath arg1)\n",
      "int main(int argc, char *argv[])  |  class ConfigurationParser {}\n",
      "int main(int argc, char *argv[])  |  bool ConfigurationParser::GetBool(const std::string &key, bool defaultValue) const\n",
      "int main(int argc, char *argv[])  |  double ConfigurationParser::GetDouble(const std::string &key, double defaultValue) const\n",
      "int main(int argc, char *argv[])  |  std::string ConfigurationParser::GetString(const std::string &key, const std::string &defaultValue) const\n",
      "int main(int argc, char *argv[])  |  void ReportException(const std::exception &ex, int level)\n",
      "class ConfigurationParser {}  |  namespace std {}\n",
      "RowReader &operator>>(RowReader &reader, std::string &rhs)  |  class RowReader {}\n",
      "TStream &operator>>(TStream &s, RowReader &reader)  |  class RowReader {}\n",
      "RowReader &operator>>(RowReader &reader, int &rhs)  |  class RowReader {}\n",
      "RowReader &operator>>(RowReader &reader, int &rhs)  |  RowReader &operator>>(RowReader &reader, std::string &rhs)\n",
      "RowReader &operator>>(RowReader &reader, long &rhs)  |  class RowReader {}\n",
      "RowReader &operator>>(RowReader &reader, long &rhs)  |  RowReader &operator>>(RowReader &reader, int &rhs)\n",
      "RowReader &operator>>(RowReader &reader, long &rhs)  |  RowReader &operator>>(RowReader &reader, std::string &rhs)\n",
      "RowReader &operator>>(RowReader &reader, float &rhs)  |  class RowReader {}\n",
      "RowReader &operator>>(RowReader &reader, float &rhs)  |  RowReader &operator>>(RowReader &reader, int &rhs)\n",
      "RowReader &operator>>(RowReader &reader, float &rhs)  |  RowReader &operator>>(RowReader &reader, std::string &rhs)\n",
      "RowReader &operator>>(RowReader &reader, double &rhs)  |  class RowReader {}\n",
      "RowReader &operator>>(RowReader &reader, double &rhs)  |  RowReader &operator>>(RowReader &reader, int &rhs)\n",
      "RowReader &operator>>(RowReader &reader, double &rhs)  |  RowReader &operator>>(RowReader &reader, std::string &rhs)\n",
      "RowReader &operator>>(RowReader &reader, bool &rhs)  |  class RowReader {}\n",
      "RowReader &operator>>(RowReader &reader, bool &rhs)  |  RowReader &operator>>(RowReader &reader, int &rhs)\n",
      "RowReader &operator>>(RowReader &reader, bool &rhs)  |  bool Equal(const std::string &lhs, const std::string &rhs, StringComparison comparision)\n",
      "RowReader &operator>>(RowReader &reader, bool &rhs)  |  enum class StringComparison : int {}\n",
      "RowReader &operator>>(RowReader &reader, bool &rhs)  |  RowReader &operator>>(RowReader &reader, std::string &rhs)\n",
      "bool Confirm(const std::string &prompt)  |  bool Confirm(const std::string &prompt)\n",
      "void ReportException(const std::exception &ex, int level)  |  void ReportException(const std::exception &ex, int level)\n",
      "void ConfigurationParser::Load(std::istream &inputStream)  |  class ConfigurationParser {}\n",
      "void ConfigurationParser::Load(std::istream &inputStream)  |  RowReader &operator>>(RowReader &reader, int &rhs)\n",
      "void ConfigurationParser::Load(std::istream &inputStream)  |  class Exception : public std::exception {}\n",
      "std::string ConfigurationParser::GetString(const std::string &key, const std::string &defaultValue) const  |  class ConfigurationParser {}\n",
      "int ConfigurationParser::GetInt(const std::string &key, int defaultValue) const  |  class ConfigurationParser {}\n",
      "int ConfigurationParser::GetInt(const std::string &key, int defaultValue) const  |  std::string ConfigurationParser::GetString(const std::string &key, const std::string &defaultValue) const\n",
      "int ConfigurationParser::GetInt(const std::string &key, int defaultValue) const  |  class Exception : public std::exception {}\n",
      "double ConfigurationParser::GetDouble(const std::string &key, double defaultValue) const  |  class ConfigurationParser {}\n",
      "double ConfigurationParser::GetDouble(const std::string &key, double defaultValue) const  |  std::string ConfigurationParser::GetString(const std::string &key, const std::string &defaultValue) const\n",
      "double ConfigurationParser::GetDouble(const std::string &key, double defaultValue) const  |  class Exception : public std::exception {}\n",
      "bool ConfigurationParser::GetBool(const std::string &key, bool defaultValue) const  |  class ConfigurationParser {}\n",
      "bool ConfigurationParser::GetBool(const std::string &key, bool defaultValue) const  |  std::string ConfigurationParser::GetString(const std::string &key, const std::string &defaultValue) const\n",
      "bool ConfigurationParser::GetBool(const std::string &key, bool defaultValue) const  |  bool Equal(const std::string &lhs, const std::string &rhs, StringComparison comparision)\n",
      "bool ConfigurationParser::GetBool(const std::string &key, bool defaultValue) const  |  enum class StringComparison : int {}\n",
      "bool ConfigurationParser::GetBool(const std::string &key, bool defaultValue) const  |  class Exception : public std::exception {}\n",
      "ConfigurationParser::ConfigurationParser(std::istream &inputStream)  |  class ConfigurationParser {}\n",
      "ConfigurationParser::ConfigurationParser(std::istream &inputStream)  |  void ConfigurationParser::Load(std::istream &inputStream)\n",
      "ConfigurationParser::ConfigurationParser(std::filesystem::path filePath)  |  class ConfigurationParser {}\n",
      "ConfigurationParser::ConfigurationParser(std::filesystem::path filePath)  |  TStream OpenAndValidate(const TPath arg1)\n",
      "ConfigurationParser::ConfigurationParser(std::filesystem::path filePath)  |  void ConfigurationParser::Load(std::istream &inputStream)\n"
     ]
    }
   ],
   "source": [
    "import itertools\n",
    "for e in itertools.islice(G.edges(), 100):\n",
    "    print(e[0], \" | \", e[1])\n",
    "if len(G.edges()) > 100:\n",
    "    print(\"...\")"
   ]
  },
  {
   "cell_type": "code",
   "execution_count": 5,
   "metadata": {},
   "outputs": [],
   "source": [
    "# un-pickle test\n",
    "import pickle\n",
    "loaded = pickle.load(open(\"cpp_test_repo-finished-0.pickle\", \"rb\"))"
   ]
  },
  {
   "cell_type": "code",
   "execution_count": 6,
   "metadata": {},
   "outputs": [
    {
     "name": "stdout",
     "output_type": "stream",
     "text": [
      "_RangeToEnumerable<TIterator> RangeToEnumerable(const std::pair<TIterator, TIterator> range)  |  class _RangeToEnumerable {}\n",
      "template<> struct is_flags<StringComparison> : std::true_type {}  |  enum class StringComparison : int {}\n",
      "bool Equal(const std::string &lhs, const std::string &rhs, StringComparison comparision)  |  enum class StringComparison : int {}\n",
      "bool Equal(const std::string &lhs, const std::string &rhs, StringComparison comparision)  |  bool Equal(const std::string &lhs, const std::string &rhs, StringComparison comparision)\n",
      "const char *FriendlyNameOf(const std::type_index &type)  |  const char *FriendlyNameOf()\n",
      "const char *FriendlyNameOf(const std::type_index &type)  |  namespace std {}\n",
      "const char *FriendlyNameOf(const type_info &type)  |  const char *FriendlyNameOf()\n",
      "const char *FriendlyNameOf(const ReliabilityNetworkEntry &instance)  |  const char *FriendlyNameOf()\n",
      "class InvalidCastException : public Exception {}  |  class Exception : public std::exception {}\n",
      "class ArgumentException : public Exception {}  |  class Exception : public std::exception {}\n",
      "class OperationFailureException : public Exception {}  |  class Exception : public std::exception {}\n",
      "int main(int argc, char *argv[])  |  TStream OpenAndValidate(const TPath arg1)\n",
      "int main(int argc, char *argv[])  |  class ConfigurationParser {}\n",
      "int main(int argc, char *argv[])  |  bool ConfigurationParser::GetBool(const std::string &key, bool defaultValue) const\n",
      "int main(int argc, char *argv[])  |  double ConfigurationParser::GetDouble(const std::string &key, double defaultValue) const\n",
      "int main(int argc, char *argv[])  |  std::string ConfigurationParser::GetString(const std::string &key, const std::string &defaultValue) const\n",
      "int main(int argc, char *argv[])  |  void ReportException(const std::exception &ex, int level)\n",
      "class ConfigurationParser {}  |  namespace std {}\n",
      "RowReader &operator>>(RowReader &reader, std::string &rhs)  |  class RowReader {}\n",
      "TStream &operator>>(TStream &s, RowReader &reader)  |  class RowReader {}\n",
      "RowReader &operator>>(RowReader &reader, int &rhs)  |  class RowReader {}\n",
      "RowReader &operator>>(RowReader &reader, int &rhs)  |  RowReader &operator>>(RowReader &reader, std::string &rhs)\n",
      "RowReader &operator>>(RowReader &reader, long &rhs)  |  class RowReader {}\n",
      "RowReader &operator>>(RowReader &reader, long &rhs)  |  RowReader &operator>>(RowReader &reader, int &rhs)\n",
      "RowReader &operator>>(RowReader &reader, long &rhs)  |  RowReader &operator>>(RowReader &reader, std::string &rhs)\n",
      "RowReader &operator>>(RowReader &reader, float &rhs)  |  class RowReader {}\n",
      "RowReader &operator>>(RowReader &reader, float &rhs)  |  RowReader &operator>>(RowReader &reader, int &rhs)\n",
      "RowReader &operator>>(RowReader &reader, float &rhs)  |  RowReader &operator>>(RowReader &reader, std::string &rhs)\n",
      "RowReader &operator>>(RowReader &reader, double &rhs)  |  class RowReader {}\n",
      "RowReader &operator>>(RowReader &reader, double &rhs)  |  RowReader &operator>>(RowReader &reader, int &rhs)\n",
      "RowReader &operator>>(RowReader &reader, double &rhs)  |  RowReader &operator>>(RowReader &reader, std::string &rhs)\n",
      "RowReader &operator>>(RowReader &reader, bool &rhs)  |  class RowReader {}\n",
      "RowReader &operator>>(RowReader &reader, bool &rhs)  |  RowReader &operator>>(RowReader &reader, int &rhs)\n",
      "RowReader &operator>>(RowReader &reader, bool &rhs)  |  bool Equal(const std::string &lhs, const std::string &rhs, StringComparison comparision)\n",
      "RowReader &operator>>(RowReader &reader, bool &rhs)  |  enum class StringComparison : int {}\n",
      "RowReader &operator>>(RowReader &reader, bool &rhs)  |  RowReader &operator>>(RowReader &reader, std::string &rhs)\n",
      "bool Confirm(const std::string &prompt)  |  bool Confirm(const std::string &prompt)\n",
      "void ReportException(const std::exception &ex, int level)  |  void ReportException(const std::exception &ex, int level)\n",
      "void ConfigurationParser::Load(std::istream &inputStream)  |  class ConfigurationParser {}\n",
      "void ConfigurationParser::Load(std::istream &inputStream)  |  RowReader &operator>>(RowReader &reader, int &rhs)\n",
      "void ConfigurationParser::Load(std::istream &inputStream)  |  class Exception : public std::exception {}\n",
      "std::string ConfigurationParser::GetString(const std::string &key, const std::string &defaultValue) const  |  class ConfigurationParser {}\n",
      "int ConfigurationParser::GetInt(const std::string &key, int defaultValue) const  |  class ConfigurationParser {}\n",
      "int ConfigurationParser::GetInt(const std::string &key, int defaultValue) const  |  std::string ConfigurationParser::GetString(const std::string &key, const std::string &defaultValue) const\n",
      "int ConfigurationParser::GetInt(const std::string &key, int defaultValue) const  |  class Exception : public std::exception {}\n",
      "double ConfigurationParser::GetDouble(const std::string &key, double defaultValue) const  |  class ConfigurationParser {}\n",
      "double ConfigurationParser::GetDouble(const std::string &key, double defaultValue) const  |  std::string ConfigurationParser::GetString(const std::string &key, const std::string &defaultValue) const\n",
      "double ConfigurationParser::GetDouble(const std::string &key, double defaultValue) const  |  class Exception : public std::exception {}\n",
      "bool ConfigurationParser::GetBool(const std::string &key, bool defaultValue) const  |  class ConfigurationParser {}\n",
      "bool ConfigurationParser::GetBool(const std::string &key, bool defaultValue) const  |  std::string ConfigurationParser::GetString(const std::string &key, const std::string &defaultValue) const\n",
      "bool ConfigurationParser::GetBool(const std::string &key, bool defaultValue) const  |  bool Equal(const std::string &lhs, const std::string &rhs, StringComparison comparision)\n",
      "bool ConfigurationParser::GetBool(const std::string &key, bool defaultValue) const  |  enum class StringComparison : int {}\n",
      "bool ConfigurationParser::GetBool(const std::string &key, bool defaultValue) const  |  class Exception : public std::exception {}\n",
      "ConfigurationParser::ConfigurationParser(std::istream &inputStream)  |  class ConfigurationParser {}\n",
      "ConfigurationParser::ConfigurationParser(std::istream &inputStream)  |  void ConfigurationParser::Load(std::istream &inputStream)\n",
      "ConfigurationParser::ConfigurationParser(std::filesystem::path filePath)  |  class ConfigurationParser {}\n",
      "ConfigurationParser::ConfigurationParser(std::filesystem::path filePath)  |  TStream OpenAndValidate(const TPath arg1)\n",
      "ConfigurationParser::ConfigurationParser(std::filesystem::path filePath)  |  void ConfigurationParser::Load(std::istream &inputStream)\n"
     ]
    }
   ],
   "source": [
    "for e in itertools.islice(loaded.get_graph().edges(), 100):\n",
    "    print(e[0], \" | \", e[1])\n",
    "if len(loaded.get_graph().edges()) > 100:\n",
    "    print(\"...\")"
   ]
  },
  {
   "cell_type": "code",
   "execution_count": 7,
   "metadata": {},
   "outputs": [
    {
     "name": "stderr",
     "output_type": "stream",
     "text": [
      "No traceback available to show.\n"
     ]
    }
   ],
   "source": [
    "%tb"
   ]
  },
  {
   "cell_type": "markdown",
   "metadata": {},
   "source": [
    "----"
   ]
  },
  {
   "cell_type": "code",
   "execution_count": 8,
   "metadata": {},
   "outputs": [
    {
     "name": "stdout",
     "output_type": "stream",
     "text": [
      "('bool Equal(const std::string &lhs, const std::string &rhs, StringComparison comparision)', 0.23606052783278517)\n",
      "('bool Confirm(const std::string &prompt)', 0.1098426006632092)\n",
      "('void ConfigurationParser::Load(std::istream &inputStream)', 0.07201434847105015)\n",
      "('class Exception : public std::exception {}', 0.06966460237711009)\n",
      "('class RowReader {}', 0.06380841209403623)\n",
      "('enum class StringComparison : int {}', 0.050441798119527724)\n",
      "('RowReader &operator>>(RowReader &reader, bool &rhs)', 0.04895870075815647)\n",
      "('std::string ConfigurationParser::GetString(const std::string &key, const std::string &defaultValue) const', 0.03924446648355976)\n",
      "('class ConfigurationParser {}', 0.03735805037229169)\n",
      "('bool ConfigurationParser::GetBool(const std::string &key, bool defaultValue) const', 0.03557813887174236)\n",
      "('namespace std {}', 0.033826737287587075)\n",
      "('class BlockExitHandler {}', 0.03199281435681512)\n",
      "('RowReader &operator>>(RowReader &reader, int &rhs)', 0.02457173934894065)\n",
      "('RowReader &operator>>(RowReader &reader, std::string &rhs)', 0.023712590188007344)\n",
      "('int ConfigurationParser::GetInt(const std::string &key, int defaultValue) const', 0.021328542904543415)\n",
      "('ConfigurationParser::ConfigurationParser(std::istream &inputStream)', 0.009694792229337916)\n",
      "('ConfigurationParser::ConfigurationParser(std::filesystem::path filePath)', 0.009694792229337916)\n",
      "('int main(int argc, char *argv[])', 0.00921005261787102)\n",
      "('class ArgumentException : public Exception {}', 0.007755833783470333)\n",
      "('void ReportException(const std::exception &ex, int level)', 0.007421220252219749)\n",
      "('template<> struct is_flags<StringComparison> : std::true_type {}', 0.007271094172003437)\n",
      "('class _RangeToEnumerable {}', 0.0067136448924616805)\n",
      "('double ConfigurationParser::GetDouble(const std::string &key, double defaultValue) const', 0.006670901038451692)\n",
      "('const char *FriendlyNameOf()', 0.004544443409840942)\n",
      "('RowReader &operator>>(RowReader &reader, long &rhs)', 0.0033931772802682707)\n",
      "('RowReader &operator>>(RowReader &reader, float &rhs)', 0.0033931772802682707)\n",
      "('RowReader &operator>>(RowReader &reader, double &rhs)', 0.0033931772802682707)\n",
      "('class InvalidCastException : public Exception {}', 0.002423698057334479)\n",
      "('inline std::string to_string(const std::pair<std::string, std::string> &value)', 0.0019389584458675833)\n",
      "('const char *FriendlyNameOf(const std::type_index &type)', 0.0014542188344006874)\n",
      "('const char *FriendlyNameOf(const type_info &type)', 0.0014542188344006874)\n",
      "('const char *FriendlyNameOf(const ReliabilityNetworkEntry &instance)', 0.0014542188344006874)\n",
      "('TEnum operator&(TEnum lhs, TEnum rhs)', 0.0014542188344006874)\n",
      "('TEnum operator|(TEnum lhs, TEnum rhs)', 0.0014542188344006874)\n",
      "('TStream OpenAndValidate(const TPath arg1)', 0.0006263408888268776)\n",
      "('_RangeToEnumerable<TIterator> RangeToEnumerable(const std::pair<TIterator, TIterator> range)', 0.0004847396114668958)\n",
      "('class OperationFailureException : public Exception {}', 0.0004847396114668958)\n",
      "('TStream &operator>>(TStream &s, RowReader &reader)', 0.0004847396114668958)\n",
      "('_DECLARE_ENUM', 0.0004847396114668958)\n",
      "('_DECLARE_ENUM_DEFAULT', 0.0004847396114668958)\n",
      "('ANSI_COLOR_RED', 0.0004847396114668958)\n",
      "('ANSI_COLOR_GREEN', 0.0004847396114668958)\n",
      "('ANSI_COLOR_YELLOW', 0.0004847396114668958)\n",
      "('ANSI_COLOR_BLUE', 0.0004847396114668958)\n",
      "('ANSI_COLOR_MAGENTA', 0.0004847396114668958)\n",
      "('ANSI_COLOR_CYAN', 0.0004847396114668958)\n",
      "('ANSI_COLOR_BRIGHT', 0.0004847396114668958)\n",
      "('ANSI_COLOR_RESET', 0.0004847396114668958)\n",
      "('bool dynamic_kind_of(const TSrc *obj)', 0.0004847396114668958)\n",
      "('bool pointer_kind_of(const std::shared_ptr<TSrc> obj)', 0.0004847396114668958)\n",
      "('TDest safe_cast(TSrc obj)', 0.0004847396114668958)\n",
      "('std::shared_ptr<TDest> safe_pointer_cast(const std::shared_ptr<TSrc> &obj)', 0.0004847396114668958)\n",
      "('std::string StreamStatusToString(const TStream &stream)', 0.0004847396114668958)\n",
      "('void ValidateStream(const TStream &stream)', 0.0004847396114668958)\n",
      "('_RE_TRACE', 0.0004847396114668958)\n",
      "('_SILENCE_STDEXT_ALLOCATORS_DEPRECATION_WARNING', 0.0004847396114668958)\n"
     ]
    }
   ],
   "source": [
    "for t in sorted(G.function_devranks(0.85).items(), key=lambda t:t[1], reverse=True):\n",
    "    print(t)"
   ]
  }
 ],
 "metadata": {
  "kernelspec": {
   "display_name": "Python 3",
   "language": "python",
   "name": "python3"
  },
  "language_info": {
   "codemirror_mode": {
    "name": "ipython",
    "version": 3
   },
   "file_extension": ".py",
   "mimetype": "text/x-python",
   "name": "python",
   "nbconvert_exporter": "python",
   "pygments_lexer": "ipython3",
   "version": "3.7.0"
  }
 },
 "nbformat": 4,
 "nbformat_minor": 2
}
