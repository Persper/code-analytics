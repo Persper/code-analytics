{
 "cells": [
  {
   "cell_type": "code",
   "execution_count": 1,
   "metadata": {},
   "outputs": [],
   "source": [
    "import logging\n",
    "\n",
    "logging.basicConfig(format='%(asctime)s %(levelname)-8s [%(name)s] %(message)s',\n",
    "                    level=logging.INFO)\n",
    "logging.getLogger('asyncio').setLevel(logging.CRITICAL)"
   ]
  },
  {
   "cell_type": "code",
   "execution_count": 2,
   "metadata": {
    "scrolled": false
   },
   "outputs": [
    {
     "name": "stdout",
     "output_type": "stream",
     "text": [
      "Workspace root:  C:\\Users\\CXy\\AppData\\Local\\Temp\\tmpvjc5oxj6\n"
     ]
    },
    {
     "name": "stderr",
     "output_type": "stream",
     "text": [
      "2018-12-02 22:54:11,892 INFO     [persper.analytics.lsp_graph_server.callgraph.builder] Created C:\\Users\\CXy\\AppData\\Local\\Temp\\tmpvjc5oxj6\\Exceptions.h.\n"
     ]
    },
    {
     "name": "stdout",
     "output_type": "stream",
     "text": [
      "----- Overview ------\n",
      "# of commits on master: 4\n",
      "# of commits on branch: 0\n",
      "----- No.1 e04529b7290fb09339c51df33b7b98123e5b6b77 on main -----\n"
     ]
    },
    {
     "name": "stderr",
     "output_type": "stream",
     "text": [
      "2018-12-02 22:54:11,958 INFO     [persper.analytics.lsp_graph_server.callgraph.builder] Created C:\\Users\\CXy\\AppData\\Local\\Temp\\tmpvjc5oxj6\\TextFileParsers.cpp.\n",
      "2018-12-02 22:54:12,022 INFO     [persper.analytics.lsp_graph_server.callgraph.builder] Created C:\\Users\\CXy\\AppData\\Local\\Temp\\tmpvjc5oxj6\\TextFileParsers.h.\n",
      "2018-12-02 22:54:12,090 INFO     [persper.analytics.lsp_graph_server.callgraph.builder] Created C:\\Users\\CXy\\AppData\\Local\\Temp\\tmpvjc5oxj6\\TypeTraits.h.\n",
      "2018-12-02 22:54:12,153 INFO     [persper.analytics.lsp_graph_server.callgraph.builder] Created C:\\Users\\CXy\\AppData\\Local\\Temp\\tmpvjc5oxj6\\Utility.cpp.\n",
      "2018-12-02 22:54:12,223 INFO     [persper.analytics.lsp_graph_server.callgraph.builder] Created C:\\Users\\CXy\\AppData\\Local\\Temp\\tmpvjc5oxj6\\Utility.h.\n",
      "2018-12-02 22:54:12,286 INFO     [persper.analytics.lsp_graph_server.callgraph.builder] Created C:\\Users\\CXy\\AppData\\Local\\Temp\\tmpvjc5oxj6\\main.cpp.\n",
      "2018-12-02 22:54:12,362 INFO     [persper.analytics.lsp_graph_server.callgraph.builder] Created C:\\Users\\CXy\\AppData\\Local\\Temp\\tmpvjc5oxj6\\stdafx.cpp.\n",
      "2018-12-02 22:54:12,425 INFO     [persper.analytics.lsp_graph_server.callgraph.builder] Created C:\\Users\\CXy\\AppData\\Local\\Temp\\tmpvjc5oxj6\\stdafx.h.\n",
      "2018-12-02 22:54:12,429 INFO     [persper.analytics.lsp_graph_server.callgraph] Removed 0 branches by 9 files.\n",
      "2018-12-02 22:54:12,430 INFO     [persper.analytics.lsp_graph_server] Invalidated 9 files, affected 9 files.\n",
      "2018-12-02 22:54:12,431 INFO     [persper.analytics.lsp_graph_server.callgraph.builder] Build call graph in: C:\\Users\\CXy\\AppData\\Local\\Temp\\tmpvjc5oxj6\\TextFileParsers.h\n",
      "2018-12-02 22:54:16,084 INFO     [persper.analytics.lsp_graph_server.callgraph.builder] Yielded 44 branches.\n",
      "2018-12-02 22:54:16,086 INFO     [persper.analytics.lsp_graph_server.callgraph.builder] Build call graph in: C:\\Users\\CXy\\AppData\\Local\\Temp\\tmpvjc5oxj6\\stdafx.cpp\n",
      "2018-12-02 22:54:16,196 INFO     [persper.analytics.lsp_graph_server.callgraph.builder] Yielded 0 branches.\n",
      "2018-12-02 22:54:16,197 INFO     [persper.analytics.lsp_graph_server.callgraph.builder] Build call graph in: C:\\Users\\CXy\\AppData\\Local\\Temp\\tmpvjc5oxj6\\Utility.h\n",
      "2018-12-02 22:54:17,486 INFO     [persper.analytics.lsp_graph_server.callgraph.builder] Yielded 79 branches.\n",
      "2018-12-02 22:54:17,487 INFO     [persper.analytics.lsp_graph_server.callgraph.builder] Build call graph in: C:\\Users\\CXy\\AppData\\Local\\Temp\\tmpvjc5oxj6\\main.cpp\n",
      "2018-12-02 22:54:17,623 INFO     [persper.analytics.lsp_graph_server.callgraph.builder] Yielded 6 branches.\n",
      "2018-12-02 22:54:17,624 INFO     [persper.analytics.lsp_graph_server.callgraph.builder] Build call graph in: C:\\Users\\CXy\\AppData\\Local\\Temp\\tmpvjc5oxj6\\TextFileParsers.cpp\n",
      "2018-12-02 22:54:18,126 INFO     [persper.analytics.lsp_graph_server.callgraph.builder] Yielded 102 branches.\n",
      "2018-12-02 22:54:18,127 INFO     [persper.analytics.lsp_graph_server.callgraph.builder] Build call graph in: C:\\Users\\CXy\\AppData\\Local\\Temp\\tmpvjc5oxj6\\stdafx.h\n",
      "2018-12-02 22:54:18,360 INFO     [persper.analytics.lsp_graph_server.callgraph.builder] Yielded 0 branches.\n",
      "2018-12-02 22:54:18,361 INFO     [persper.analytics.lsp_graph_server.callgraph.builder] Build call graph in: C:\\Users\\CXy\\AppData\\Local\\Temp\\tmpvjc5oxj6\\Utility.cpp\n",
      "2018-12-02 22:54:18,573 INFO     [persper.analytics.lsp_graph_server.callgraph.builder] Yielded 77 branches.\n",
      "2018-12-02 22:54:18,574 INFO     [persper.analytics.lsp_graph_server.callgraph.builder] Build call graph in: C:\\Users\\CXy\\AppData\\Local\\Temp\\tmpvjc5oxj6\\TypeTraits.h\n",
      "2018-12-02 22:54:18,696 INFO     [persper.analytics.lsp_graph_server.callgraph.builder] Yielded 2 branches.\n",
      "2018-12-02 22:54:18,698 INFO     [persper.analytics.lsp_graph_server.callgraph.builder] Build call graph in: C:\\Users\\CXy\\AppData\\Local\\Temp\\tmpvjc5oxj6\\Exceptions.h\n",
      "2018-12-02 22:54:18,876 INFO     [persper.analytics.lsp_graph_server.callgraph.builder] Yielded 16 branches.\n",
      "2018-12-02 22:54:18,877 INFO     [persper.analytics.lsp_graph_server.callgraph.manager] Added 256 branches.\n",
      "2018-12-02 22:54:18,877 INFO     [persper.analytics.lsp_graph_server] End commit: e04529b7290fb09339c51df33b7b98123e5b6b77\n",
      "2018-12-02 22:54:19,049 INFO     [persper.analytics.lsp_graph_server.callgraph.builder] Modified  C:\\Users\\CXy\\AppData\\Local\\Temp\\tmpvjc5oxj6\\main.cpp.\n",
      "2018-12-02 22:54:19,050 INFO     [persper.analytics.lsp_graph_server.callgraph] Removed 6 branches by 1 files.\n",
      "2018-12-02 22:54:19,051 INFO     [persper.analytics.lsp_graph_server] Invalidated 1 files, affected 1 files.\n",
      "2018-12-02 22:54:19,052 INFO     [persper.analytics.lsp_graph_server.callgraph.builder] Build call graph in: C:\\Users\\CXy\\AppData\\Local\\Temp\\tmpvjc5oxj6\\main.cpp\n"
     ]
    },
    {
     "name": "stdout",
     "output_type": "stream",
     "text": [
      "----- No.2 ff47723c41d94eb1d90fa005986cafdc0b5ba7b3 on main -----\n"
     ]
    },
    {
     "name": "stderr",
     "output_type": "stream",
     "text": [
      "2018-12-02 22:54:20,010 INFO     [persper.analytics.lsp_graph_server.callgraph.builder] Yielded 10 branches.\n",
      "2018-12-02 22:54:20,011 INFO     [persper.analytics.lsp_graph_server.callgraph.manager] Added 10 branches.\n",
      "2018-12-02 22:54:20,012 INFO     [persper.analytics.lsp_graph_server] End commit: ff47723c41d94eb1d90fa005986cafdc0b5ba7b3\n",
      "2018-12-02 22:54:20,199 INFO     [persper.analytics.lsp_graph_server.callgraph.builder] Modified  C:\\Users\\CXy\\AppData\\Local\\Temp\\tmpvjc5oxj6\\TextFileParsers.cpp."
     ]
    },
    {
     "name": "stdout",
     "output_type": "stream",
     "text": [
      "----- No.3 4ff40e1456a4de88d802c410e755f34ad31ff303 on main -----\n"
     ]
    },
    {
     "name": "stderr",
     "output_type": "stream",
     "text": [
      "\n",
      "2018-12-02 22:54:20,315 INFO     [persper.analytics.lsp_graph_server.callgraph.builder] Modified  C:\\Users\\CXy\\AppData\\Local\\Temp\\tmpvjc5oxj6\\Utility.cpp.\n",
      "2018-12-02 22:54:20,436 INFO     [persper.analytics.lsp_graph_server.callgraph.builder] Modified  C:\\Users\\CXy\\AppData\\Local\\Temp\\tmpvjc5oxj6\\Utility.h.\n",
      "2018-12-02 22:54:20,565 INFO     [persper.analytics.lsp_graph_server.callgraph.builder] Modified  C:\\Users\\CXy\\AppData\\Local\\Temp\\tmpvjc5oxj6\\main.cpp.\n",
      "2018-12-02 22:54:20,567 INFO     [persper.analytics.lsp_graph_server.callgraph] Removed 260 branches by 5 files.\n",
      "2018-12-02 22:54:20,568 INFO     [persper.analytics.lsp_graph_server] Invalidated 4 files, affected 5 files.\n",
      "2018-12-02 22:54:20,570 INFO     [persper.analytics.lsp_graph_server.callgraph.builder] Build call graph in: C:\\Users\\CXy\\AppData\\Local\\Temp\\tmpvjc5oxj6\\TextFileParsers.h\n",
      "2018-12-02 22:54:23,189 INFO     [persper.analytics.lsp_graph_server.callgraph.builder] Yielded 44 branches.\n",
      "2018-12-02 22:54:23,190 INFO     [persper.analytics.lsp_graph_server.callgraph.builder] Build call graph in: C:\\Users\\CXy\\AppData\\Local\\Temp\\tmpvjc5oxj6\\Utility.h\n",
      "2018-12-02 22:54:24,340 INFO     [persper.analytics.lsp_graph_server.callgraph.builder] Yielded 85 branches.\n",
      "2018-12-02 22:54:24,342 INFO     [persper.analytics.lsp_graph_server.callgraph.builder] Build call graph in: C:\\Users\\CXy\\AppData\\Local\\Temp\\tmpvjc5oxj6\\main.cpp\n",
      "2018-12-02 22:54:24,474 INFO     [persper.analytics.lsp_graph_server.callgraph.builder] Yielded 6 branches.\n",
      "2018-12-02 22:54:24,475 INFO     [persper.analytics.lsp_graph_server.callgraph.builder] Build call graph in: C:\\Users\\CXy\\AppData\\Local\\Temp\\tmpvjc5oxj6\\TextFileParsers.cpp\n",
      "2018-12-02 22:54:24,987 INFO     [persper.analytics.lsp_graph_server.callgraph.builder] Yielded 161 branches.\n",
      "2018-12-02 22:54:24,987 INFO     [persper.analytics.lsp_graph_server.callgraph.builder] Build call graph in: C:\\Users\\CXy\\AppData\\Local\\Temp\\tmpvjc5oxj6\\Utility.cpp\n",
      "2018-12-02 22:54:25,207 INFO     [persper.analytics.lsp_graph_server.callgraph.builder] Yielded 77 branches.\n",
      "2018-12-02 22:54:25,208 INFO     [persper.analytics.lsp_graph_server.callgraph.manager] Added 327 branches.\n",
      "2018-12-02 22:54:25,209 INFO     [persper.analytics.lsp_graph_server] End commit: 4ff40e1456a4de88d802c410e755f34ad31ff303\n",
      "2018-12-02 22:54:25,391 INFO     [persper.analytics.lsp_graph_server.callgraph.builder] Modified  C:\\Users\\CXy\\AppData\\Local\\Temp\\tmpvjc5oxj6\\TextFileParsers.cpp.\n"
     ]
    },
    {
     "name": "stdout",
     "output_type": "stream",
     "text": [
      "----- No.4 62d85a54623c6ddafdef5b6bef0e24f53d49aa65 on main -----\n"
     ]
    },
    {
     "name": "stderr",
     "output_type": "stream",
     "text": [
      "2018-12-02 22:54:25,508 INFO     [persper.analytics.lsp_graph_server.callgraph.builder] Modified  C:\\Users\\CXy\\AppData\\Local\\Temp\\tmpvjc5oxj6\\Utility.cpp.\n",
      "2018-12-02 22:54:25,627 INFO     [persper.analytics.lsp_graph_server.callgraph.builder] Modified  C:\\Users\\CXy\\AppData\\Local\\Temp\\tmpvjc5oxj6\\Utility.h.\n",
      "2018-12-02 22:54:25,747 INFO     [persper.analytics.lsp_graph_server.callgraph.builder] Modified  C:\\Users\\CXy\\AppData\\Local\\Temp\\tmpvjc5oxj6\\main.cpp.\n",
      "2018-12-02 22:54:25,750 INFO     [persper.analytics.lsp_graph_server.callgraph] Removed 327 branches by 5 files.\n",
      "2018-12-02 22:54:25,750 INFO     [persper.analytics.lsp_graph_server] Invalidated 4 files, affected 5 files.\n",
      "2018-12-02 22:54:25,752 INFO     [persper.analytics.lsp_graph_server.callgraph.builder] Build call graph in: C:\\Users\\CXy\\AppData\\Local\\Temp\\tmpvjc5oxj6\\TextFileParsers.h\n",
      "2018-12-02 22:54:28,442 INFO     [persper.analytics.lsp_graph_server.callgraph.builder] Yielded 44 branches.\n",
      "2018-12-02 22:54:28,444 INFO     [persper.analytics.lsp_graph_server.callgraph.builder] Build call graph in: C:\\Users\\CXy\\AppData\\Local\\Temp\\tmpvjc5oxj6\\Utility.h\n",
      "2018-12-02 22:54:29,587 INFO     [persper.analytics.lsp_graph_server.callgraph.builder] Yielded 85 branches.\n",
      "2018-12-02 22:54:29,589 INFO     [persper.analytics.lsp_graph_server.callgraph.builder] Build call graph in: C:\\Users\\CXy\\AppData\\Local\\Temp\\tmpvjc5oxj6\\TextFileParsers.cpp\n",
      "2018-12-02 22:54:30,116 INFO     [persper.analytics.lsp_graph_server.callgraph.builder] Yielded 161 branches.\n",
      "2018-12-02 22:54:30,117 INFO     [persper.analytics.lsp_graph_server.callgraph.builder] Build call graph in: C:\\Users\\CXy\\AppData\\Local\\Temp\\tmpvjc5oxj6\\main.cpp\n",
      "2018-12-02 22:54:30,251 INFO     [persper.analytics.lsp_graph_server.callgraph.builder] Yielded 3 branches.\n",
      "2018-12-02 22:54:30,253 INFO     [persper.analytics.lsp_graph_server.callgraph.builder] Build call graph in: C:\\Users\\CXy\\AppData\\Local\\Temp\\tmpvjc5oxj6\\Utility.cpp\n",
      "2018-12-02 22:54:30,480 INFO     [persper.analytics.lsp_graph_server.callgraph.builder] Yielded 77 branches.\n",
      "2018-12-02 22:54:30,481 INFO     [persper.analytics.lsp_graph_server.callgraph.manager] Added 324 branches.\n",
      "2018-12-02 22:54:30,481 INFO     [persper.analytics.lsp_graph_server] End commit: 62d85a54623c6ddafdef5b6bef0e24f53d49aa65\n",
      "2018-12-02 22:54:30,482 INFO     [persper.analytics.lsp_graph_server] Shutting down language server...\n",
      "2018-12-02 22:54:30,563 INFO     [persper.analytics.lsp_graph_server] Language server 21420 exited with code: 0.\n"
     ]
    }
   ],
   "source": [
    "from persper.analytics.analyzer import Analyzer\n",
    "from persper.analytics.lsp_graph_server.ccls import CclsGraphServer\n",
    "from tempfile import mkdtemp\n",
    "\n",
    "workspaceRoot = mkdtemp()\n",
    "print(\"Workspace root: \", workspaceRoot)\n",
    "G = None\n",
    "async with CclsGraphServer(workspaceRoot, cacheRoot=\"./.ccls-cache\", languageServerCommand=\"../bin/ccls -log-file=ccls.log\") as graphServer:\n",
    "    analyzer = Analyzer(\"../repos\", graphServer)\n",
    "    graphServer.reset_graph()\n",
    "    await analyzer.analyze()\n",
    "    G = await analyzer.get_graph()"
   ]
  },
  {
   "cell_type": "code",
   "execution_count": 3,
   "metadata": {},
   "outputs": [
    {
     "name": "stdout",
     "output_type": "stream",
     "text": [
      "['RowReader', 'TStream', 'operator>>', 'ConfigurationParser', 'ConfigurationParser::Load', 'ConfigurationParser::GetString', 'ConfigurationParser::GetInt', 'ConfigurationParser::GetDouble', 'ConfigurationParser::GetBool', 'ConfigurationParser::ConfigurationParser', 'dynamic_kind_of', 'TSrc', 'pointer_kind_of', 'safe_cast', 'safe_pointer_cast', 'StreamStatusToString', 'OpenAndValidate', 'TPath', 'ValidateStream', '_RangeToEnumerable', 'RangeToEnumerable', 'to_string', 'StringComparison', 'is_flags', 'Equal', 'operator&', 'TEnum', 'lhs', 'rhs', 'operator|', 'Confirm', 'FriendlyNameOf', 'BlockExitHandler', 'e', 'ReportException', 'main', 'Exception', 'c', 'subEx', 'stream', 'status', 'arg1', 'fs']\n"
     ]
    }
   ],
   "source": [
    "print(G.nodes())"
   ]
  },
  {
   "cell_type": "code",
   "execution_count": 4,
   "metadata": {},
   "outputs": [
    {
     "name": "stdout",
     "output_type": "stream",
     "text": [
      "[('RowReader', 'RowReader'), ('RowReader', 'TStream'), ('operator>>', 'TStream'), ('operator>>', 'RowReader'), ('operator>>', 'operator>>'), ('operator>>', 'Equal'), ('operator>>', 'StringComparison'), ('operator>>', 'c'), ('ConfigurationParser', 'ConfigurationParser::Load'), ('ConfigurationParser', 'ConfigurationParser::GetString'), ('ConfigurationParser', 'ConfigurationParser::GetInt'), ('ConfigurationParser', 'ConfigurationParser::GetDouble'), ('ConfigurationParser', 'ConfigurationParser::GetBool'), ('ConfigurationParser', 'ConfigurationParser::ConfigurationParser'), ('ConfigurationParser', 'ConfigurationParser'), ('ConfigurationParser::Load', 'ConfigurationParser'), ('ConfigurationParser::Load', 'operator>>'), ('ConfigurationParser::Load', 'RowReader'), ('ConfigurationParser::Load', 'Exception'), ('ConfigurationParser::Load', 'to_string'), ('ConfigurationParser::Load', 'ConfigurationParser::Load'), ('ConfigurationParser::GetString', 'ConfigurationParser'), ('ConfigurationParser::GetString', '_RangeToEnumerable'), ('ConfigurationParser::GetString', 'ConfigurationParser::GetString'), ('ConfigurationParser::GetInt', 'ConfigurationParser'), ('ConfigurationParser::GetInt', 'ConfigurationParser::GetString'), ('ConfigurationParser::GetInt', '_RangeToEnumerable'), ('ConfigurationParser::GetInt', 'Exception'), ('ConfigurationParser::GetDouble', 'ConfigurationParser'), ('ConfigurationParser::GetDouble', 'ConfigurationParser::GetString'), ('ConfigurationParser::GetDouble', '_RangeToEnumerable'), ('ConfigurationParser::GetDouble', 'Exception'), ('ConfigurationParser::GetBool', 'ConfigurationParser'), ('ConfigurationParser::GetBool', 'ConfigurationParser::GetString'), ('ConfigurationParser::GetBool', '_RangeToEnumerable'), ('ConfigurationParser::GetBool', 'Equal'), ('ConfigurationParser::GetBool', 'StringComparison'), ('ConfigurationParser::GetBool', 'Exception'), ('ConfigurationParser::ConfigurationParser', 'ConfigurationParser'), ('ConfigurationParser::ConfigurationParser', 'ConfigurationParser::Load'), ('ConfigurationParser::ConfigurationParser', 'OpenAndValidate'), ('ConfigurationParser::ConfigurationParser', 'ConfigurationParser::ConfigurationParser'), ('dynamic_kind_of', 'TSrc'), ('pointer_kind_of', 'TSrc'), ('safe_cast', 'TSrc'), ('safe_pointer_cast', 'TSrc'), ('StreamStatusToString', 'TStream'), ('OpenAndValidate', 'TStream'), ('OpenAndValidate', 'TPath'), ('ValidateStream', 'TStream'), ('_RangeToEnumerable', '_RangeToEnumerable'), ('RangeToEnumerable', '_RangeToEnumerable'), ('to_string', 'to_string'), ('StringComparison', 'StringComparison'), ('is_flags', 'StringComparison'), ('Equal', 'Equal'), ('Equal', 'StringComparison'), ('operator&', 'TEnum'), ('lhs', 'TEnum'), ('rhs', 'TEnum'), ('operator|', 'TEnum'), ('Confirm', 'Confirm'), ('Confirm', 'c'), ('FriendlyNameOf', 'FriendlyNameOf'), ('BlockExitHandler', 'BlockExitHandler'), ('BlockExitHandler', 'e'), ('ReportException', 'ReportException'), ('ReportException', 'subEx'), ('main', 'OpenAndValidate'), ('main', 'ConfigurationParser'), ('main', 'main'), ('main', 'ConfigurationParser::GetBool'), ('main', 'ConfigurationParser::GetDouble'), ('main', 'ConfigurationParser::GetString'), ('stream', 'TStream'), ('status', 'stream'), ('arg1', 'TPath'), ('fs', 'arg1')]\n"
     ]
    }
   ],
   "source": [
    "print(G.edges())"
   ]
  },
  {
   "cell_type": "code",
   "execution_count": null,
   "metadata": {},
   "outputs": [],
   "source": []
  }
 ],
 "metadata": {
  "kernelspec": {
   "display_name": "Python 3",
   "language": "python",
   "name": "python3"
  },
  "language_info": {
   "codemirror_mode": {
    "name": "ipython",
    "version": 3
   },
   "file_extension": ".py",
   "mimetype": "text/x-python",
   "name": "python",
   "nbconvert_exporter": "python",
   "pygments_lexer": "ipython3",
   "version": "3.7.0"
  }
 },
 "nbformat": 4,
 "nbformat_minor": 2
}
