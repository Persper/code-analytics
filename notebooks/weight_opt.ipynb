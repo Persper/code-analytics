{
 "cells": [
  {
   "cell_type": "markdown",
   "metadata": {},
   "source": [
    "## Preparation\n",
    "### Install\n",
    "```bash\n",
    "$ sudo -H pip3 install numpy pyswarm\n",
    "```"
   ]
  },
  {
   "cell_type": "markdown",
   "metadata": {},
   "source": [
    "## Objective function to be *minimized*\n",
    "The first argument is the weight vector"
   ]
  },
  {
   "cell_type": "code",
   "execution_count": null,
   "metadata": {},
   "outputs": [],
   "source": [
    "import numpy as np\n",
    "\n",
    "def accuracy_error(weights, *args):\n",
    "    # In this example, we assume [1, 2, 3, 4] is the optimal weight vector.\n",
    "    # We do not use the \n",
    "    t = np.array([1, 2, 3, 4])\n",
    "    w = np.array(weights)\n",
    "    diff = np.sum((w - t)**2)\n",
    "    # args can be used to pass other data\n",
    "    assert(args[0] == 'hi')\n",
    "    return diff\n",
    "\n",
    "print(accuracy_error([1, 1, 4, 2], 'hi'))"
   ]
  },
  {
   "cell_type": "markdown",
   "metadata": {},
   "source": [
    "## Searching parameters"
   ]
  },
  {
   "cell_type": "code",
   "execution_count": null,
   "metadata": {},
   "outputs": [],
   "source": [
    "lower_bound = [1, 1, 1, 1] # Min of each weight\n",
    "upper_bound = [10, 10, 10, 10] # Max of each weight\n",
    "\n",
    "# A number of particles will search in the space together.\n",
    "num_particles = 100\n",
    "\n",
    "# A particle tends to move towards the best position it has ever seen (bp) and\n",
    "# the best position other particles have ever seen (bg).\n",
    "# In each step, a particle moves v distance from its current position x,\n",
    "# where v is determined by:\n",
    "# v = omega * v + phip * (pb - x) + phig * (pg - x)\n",
    "omega = 0.5 # Particle velocity scaling factor\n",
    "phip = 0.5 # Factor to search away from the particle’s best known position\n",
    "phig = 0.5 # Factor to search away from the global best known position\n",
    "\n",
    "# Searching config.\n",
    "maxiter = 100 # The max number of iterations to search\n",
    "minstep = 1e-8 # The min step of the best position before the search terminates\n",
    "mindiff = 1e-8 # The min change of the objective value before the search terminates\n",
    "debug = True # Whether to show progress for every iteration"
   ]
  },
  {
   "cell_type": "code",
   "execution_count": null,
   "metadata": {},
   "outputs": [],
   "source": [
    "from pyswarm import pso\n",
    "\n",
    "weights, error = pso(accuracy_error, lower_bound, upper_bound, args=['hi'],\n",
    "                     swarmsize=num_particles, omega=omega, phip=phip, phig=phig,\n",
    "                     maxiter=maxiter, minstep=minstep, minfunc=mindiff, debug=debug)\n",
    "\n",
    "print(weights, error)"
   ]
  },
  {
   "cell_type": "markdown",
   "metadata": {},
   "source": [
    "## Persper-specific processing"
   ]
  },
  {
   "cell_type": "markdown",
   "metadata": {},
   "source": [
    "### Load JIRA issue data sets"
   ]
  },
  {
   "cell_type": "code",
   "execution_count": null,
   "metadata": {},
   "outputs": [],
   "source": [
    "import pickle\n",
    "\n",
    "# Download the test pickle file from https://share.weiyun.com/9ecbf5799502577312baa6b17a584b17\n",
    "datasets = pickle.load(open('../data/jira-issues-test.pickle', 'rb'))"
   ]
  },
  {
   "cell_type": "markdown",
   "metadata": {},
   "source": [
    "### Convert type string to index in the weight vector\n",
    "This facilitates using the weight vector."
   ]
  },
  {
   "cell_type": "code",
   "execution_count": null,
   "metadata": {},
   "outputs": [],
   "source": [
    "import sys\n",
    "sys.path.append('../lib')\n",
    "import labeler\n",
    "from labeler import apache_type\n",
    "\n",
    "def weight_index(commit_type):\n",
    "    if commit_type == labeler.BUG:\n",
    "        return 0\n",
    "    elif commit_type == labeler.IMPROVEMENT:\n",
    "        return 1\n",
    "    elif commit_type == labeler.FEATURE:\n",
    "        return 2\n",
    "    else:\n",
    "        assert(commit_type == labeler.MAINTENANCE)\n",
    "        return 3\n",
    "\n",
    "print(weight_index('bug'))\n",
    "print(weight_index('feature'))\n",
    "print(weight_index('maintenance'))\n",
    "print(weight_index('improvement'))"
   ]
  },
  {
   "cell_type": "markdown",
   "metadata": {},
   "source": [
    "### Get commit-to-type mappings\n",
    "**NOTE:** The type here refers to the index of a type in the weight vector.\n",
    "Run the above cells first."
   ]
  },
  {
   "cell_type": "code",
   "execution_count": null,
   "metadata": {},
   "outputs": [],
   "source": [
    "def get_commit_type(datasets, repo_name):\n",
    "    commit_type = { }\n",
    "    for issue_id, issue in datasets[repo_name].items():\n",
    "        for commit in issue['commits']:\n",
    "            std_type = apache_type[issue['type']]\n",
    "            if std_type == labeler.SKIP:\n",
    "                continue\n",
    "            commit_type[commit] = weight_index(std_type)\n",
    "    return commit_type\n",
    "\n",
    "get_commit_type(datasets, 'zookeeper')"
   ]
  },
  {
   "cell_type": "code",
   "execution_count": null,
   "metadata": {},
   "outputs": [],
   "source": []
  }
 ],
 "metadata": {
  "kernelspec": {
   "display_name": "Python 3",
   "language": "python",
   "name": "python3"
  },
  "language_info": {
   "codemirror_mode": {
    "name": "ipython",
    "version": 3
   },
   "file_extension": ".py",
   "mimetype": "text/x-python",
   "name": "python",
   "nbconvert_exporter": "python",
   "pygments_lexer": "ipython3",
   "version": "3.5.2"
  }
 },
 "nbformat": 4,
 "nbformat_minor": 2
}
