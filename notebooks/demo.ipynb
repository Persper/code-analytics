{
 "cells": [
  {
   "cell_type": "code",
   "execution_count": null,
   "metadata": {},
   "outputs": [],
   "source": [
    "# import deps\n",
    "import os\n",
    "from persper.analytics.c import CGraphServer\n",
    "from persper.analytics.analyzer2 import Analyzer\n",
    "from persper.analytics.graph_server import C_FILENAME_REGEXES\n",
    "from persper.util.path import root_path"
   ]
  },
  {
   "cell_type": "code",
   "execution_count": null,
   "metadata": {},
   "outputs": [],
   "source": [
    "# configure your project\n",
    "repo_path = os.path.join(root_path, 'repos/<your_repo_name>')\n",
    "\n",
    "# configure alpha for devrank\n",
    "alpha = 0.5"
   ]
  },
  {
   "cell_type": "code",
   "execution_count": null,
   "metadata": {},
   "outputs": [],
   "source": [
    "# start analysis and show commit devrank values\n",
    "az = Analyzer(repo_path, CGraphServer(C_FILENAME_REGEXES))\n",
    "await az.analyze()\n",
    "ccgraph = az.graph\n",
    "ccgraph.commit_devranks(alpha)"
   ]
  },
  {
   "cell_type": "code",
   "execution_count": null,
   "metadata": {},
   "outputs": [],
   "source": []
  }
 ],
 "metadata": {
  "kernelspec": {
   "display_name": "code-analytics-8iDyuztf",
   "language": "python",
   "name": "code-analytics-8idyuztf"
  },
  "language_info": {
   "codemirror_mode": {
    "name": "ipython",
    "version": 3
   },
   "file_extension": ".py",
   "mimetype": "text/x-python",
   "name": "python",
   "nbconvert_exporter": "python",
   "pygments_lexer": "ipython3",
   "version": "3.6.6"
  }
 },
 "nbformat": 4,
 "nbformat_minor": 2
}
