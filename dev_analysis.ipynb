{
 "cells": [
  {
   "cell_type": "code",
   "execution_count": null,
   "metadata": {
    "collapsed": false,
    "deletable": true,
    "editable": true
   },
   "outputs": [],
   "source": [
    "# Global import -- to be run with any following cell\n",
    "import glob\n",
    "import pdb\n",
    "import cProfile\n",
    "import os\n",
    "import networkx as nx\n",
    "from lxml import etree\n",
    "from graphs import call_graph\n",
    "from graphs.devrank import devrank\n",
    "from graphs.pagerank import pagerank\n",
    "from graphs.call_commit_graph import CallCommitGraph"
   ]
  },
  {
   "cell_type": "code",
   "execution_count": null,
   "metadata": {
    "collapsed": false,
    "deletable": true,
    "editable": true
   },
   "outputs": [],
   "source": [
    "# Call graph -- to be run with any following cell\n",
    "# Input\n",
    "xml_dir = '~/Persper/repos/linux-xml/kernel' # v4.10\n",
    "\n",
    "xml_dir = os.path.expanduser(xml_dir)\n",
    "c_roots = []\n",
    "for xml in glob.glob(xml_dir + '/**/*.c.xml', recursive=True):\n",
    "    tree = etree.parse(xml)\n",
    "    c_roots.append(tree.getroot())\n",
    "G, func_to_file = call_graph.c.build_call_graph(c_roots, {})\n",
    "print(\"Number of nodes: {}\".format(len(G.nodes())))\n",
    "print(\"Number of edges: {}\".format(len(G.edges())))\n",
    "print(\"Number of connected components: {}\".format(nx.number_weakly_connected_components(G)))"
   ]
  },
  {
   "cell_type": "code",
   "execution_count": null,
   "metadata": {
    "collapsed": false,
    "deletable": true,
    "editable": true
   },
   "outputs": [],
   "source": [
    "# Print functions -- to be run with following cells\n",
    "\n",
    "def rel_path(path):\n",
    "    pre = os.path.commonprefix((xml_dir, '/' + path))\n",
    "    # TODO: Append '/' to all func_to_file items. Use a standard form.\n",
    "    return path[len(pre):]\n",
    "\n",
    "def to_csv(index, item):\n",
    "    # Potentially, this format can be output and used by Excel\n",
    "    file = rel_path(func_to_file[item[0]]) if item[0] in func_to_file else 'Unknown'\n",
    "    return str(index) + ', ' + item[0] + ', ' + str(item[1]) + ',' + file\n",
    "\n",
    "def print_top_bottom(ranks, n):\n",
    "    sorted_ranks = sorted(ranks.items(), key=lambda r: r[1])\n",
    "    \n",
    "    top = [r for r in reversed(sorted_ranks[-n:])]\n",
    "    bottom = [r for r in sorted_ranks[:n]]\n",
    "\n",
    "    print('Top ' + str(n))\n",
    "    for i, r in enumerate(top):\n",
    "        print(to_csv(i + 1, r))\n",
    "        \n",
    "    print('Bottom ' + str(n))\n",
    "    for i, r in enumerate(bottom):\n",
    "        print(to_csv(i + 1, r))"
   ]
  },
  {
   "cell_type": "code",
   "execution_count": null,
   "metadata": {
    "collapsed": false,
    "deletable": true,
    "editable": true
   },
   "outputs": [],
   "source": [
    "# PageRank with a specific alpha\n",
    "# Input\n",
    "alpha = 0.5\n",
    "num_func = 20 # top/bottom n to list\n",
    "\n",
    "pr = pagerank(G, alpha=alpha)\n",
    "print_top_bottom(pr, num_func)"
   ]
  },
  {
   "cell_type": "code",
   "execution_count": null,
   "metadata": {
    "collapsed": false,
    "deletable": true,
    "editable": true
   },
   "outputs": [],
   "source": [
    "# DevRank with a specific alpha\n",
    "# Input\n",
    "alpha = 0.5\n",
    "num_func = 20 # top/bottom n to list\n",
    "\n",
    "dr = devrank(G, alpha=alpha)\n",
    "print_top_bottom(dr, num_func)"
   ]
  },
  {
   "cell_type": "code",
   "execution_count": null,
   "metadata": {
    "collapsed": false,
    "deletable": true,
    "editable": true
   },
   "outputs": [],
   "source": [
    "# DevRank with a range of alpha\n",
    "# Input\n",
    "alpha_low = 0.1\n",
    "alpha_high = 0.9\n",
    "alpha_step = 0.1\n",
    "num_func = 20 # top/bottom n to list\n",
    "\n",
    "a = alpha_low\n",
    "while (a <= alpha_high):\n",
    "    print(\"alpha = \" + str(a))\n",
    "    dr = devrank(G, alpha=a)\n",
    "    print_top_bottom(dr, num_func)\n",
    "    a += alpha_step"
   ]
  },
  {
   "cell_type": "code",
   "execution_count": null,
   "metadata": {
    "collapsed": false,
    "deletable": true,
    "editable": true
   },
   "outputs": [],
   "source": [
    "# PageRank with a range of alpha\n",
    "# Input\n",
    "alpha_low = 0.1\n",
    "alpha_high = 0.9\n",
    "alpha_step = 0.1\n",
    "num_func = 20 # top/bottom n to list\n",
    "\n",
    "a = alpha_low\n",
    "while (a <= alpha_high):\n",
    "    print(\"alpha = \" + str(a))\n",
    "    dr = pagerank(G, alpha=a)\n",
    "    print_top_bottom(dr, num_func)\n",
    "    a += alpha_step"
   ]
  },
  {
   "cell_type": "code",
   "execution_count": null,
   "metadata": {
    "collapsed": false,
    "deletable": true,
    "editable": true
   },
   "outputs": [],
   "source": [
    "# Call-commit graph\n",
    "\n",
    "g = CallCommitGraph('~/Persper/repos/linux')\n",
    "#g.process(from_beginning=True, num_commits=5)\n",
    "g.process(rev='v4.10', num_commits=5)\n",
    "g.devrank_functions(0.85)"
   ]
  },
  {
   "cell_type": "code",
   "execution_count": null,
   "metadata": {
    "collapsed": true,
    "deletable": true,
    "editable": true
   },
   "outputs": [],
   "source": []
  }
 ],
 "metadata": {
  "anaconda-cloud": {},
  "kernelspec": {
   "display_name": "Python 3",
   "language": "python",
   "name": "python3"
  },
  "language_info": {
   "codemirror_mode": {
    "name": "ipython",
    "version": 3
   },
   "file_extension": ".py",
   "mimetype": "text/x-python",
   "name": "python",
   "nbconvert_exporter": "python",
   "pygments_lexer": "ipython3",
   "version": "3.5.2"
  }
 },
 "nbformat": 4,
 "nbformat_minor": 1
}
