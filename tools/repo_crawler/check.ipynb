{
 "cells": [
  {
   "cell_type": "markdown",
   "metadata": {},
   "source": [
    "### Retrieve repo info from the crawler config file"
   ]
  },
  {
   "cell_type": "code",
   "execution_count": null,
   "metadata": {
    "collapsed": true
   },
   "outputs": [],
   "source": [
    "CONFIG_FILE = 'icse_repos.config'\n",
    "\n",
    "def get_config_repos():\n",
    "    config_repos = [ ]\n",
    "    with open(CONFIG_FILE, 'r') as config_file:\n",
    "        for line in config_file:\n",
    "            path, key, tag, url = line.split()\n",
    "            config_repos.append({\n",
    "                'path': path,\n",
    "                'key': key,\n",
    "                'tag': tag,\n",
    "                'url': url\n",
    "            })\n",
    "    return config_repos\n",
    "\n",
    "def writeout_config(config_repos):\n",
    "    with open(CONFIG_FILE, 'w') as config_file:\n",
    "        for repo in config_repos:\n",
    "            print('%s\\t%s\\t%s\\t%s' %\n",
    "                  (repo['path'], repo['key'], repo['tag'], repo['url']),\n",
    "                  file=config_file)"
   ]
  },
  {
   "cell_type": "markdown",
   "metadata": {},
   "source": [
    "### Update tags of the config file to a (good) guess in batch\n",
    "**NOTE: Reserve the original config file before executing this cell!**"
   ]
  },
  {
   "cell_type": "code",
   "execution_count": null,
   "metadata": {
    "collapsed": true
   },
   "outputs": [],
   "source": [
    "import re\n",
    "\n",
    "config_repos = get_config_repos()\n",
    "\n",
    "with open('crawl.errors', 'r') as errors:\n",
    "    for line in errors:\n",
    "        m = re.match('../../dataset/icse/.+', line)\n",
    "        if not m: continue\n",
    "        name = m.group()\n",
    "        for repo in config_repos:\n",
    "            if repo['path'] == name:\n",
    "                repo['tag'] = 'trunk'\n",
    "                continue\n",
    "\n",
    "writeout_config(config_repos)"
   ]
  },
  {
   "cell_type": "markdown",
   "metadata": {
    "collapsed": true
   },
   "source": [
    "## Check mistach between git repos and issue dirs"
   ]
  },
  {
   "cell_type": "code",
   "execution_count": null,
   "metadata": {
    "collapsed": true
   },
   "outputs": [],
   "source": [
    "import os\n",
    "\n",
    "PATH = '../../dataset/icse'\n",
    "\n",
    "repos = set()\n",
    "issues_dirs = set()\n",
    "\n",
    "for d in os.listdir(PATH):\n",
    "    if not os.path.isdir(os.path.join(PATH, d)):\n",
    "        continue\n",
    "    if d.endswith('-issues'):\n",
    "        issues_dirs.add(d[:-len('-issues')])\n",
    "    else:\n",
    "        repos.add(d)\n",
    "\n",
    "print('# git repos = %d\\t# issues dirs = %d' %\n",
    "      (len(repos), len(issues_dirs)))\n",
    "print('Git repos without issues:', repos - issues_dirs)\n",
    "print('Issues without git repos:', issues_dirs - repos)"
   ]
  },
  {
   "cell_type": "markdown",
   "metadata": {},
   "source": [
    "## Stats the number of issues for each git repo\n",
    "*Run the above cell first to construct the issues dir set.*"
   ]
  },
  {
   "cell_type": "code",
   "execution_count": null,
   "metadata": {
    "collapsed": true
   },
   "outputs": [],
   "source": [
    "from sh.contrib import git\n",
    "import os\n",
    "import re\n",
    "\n",
    "dir_issue_count = { }\n",
    "\n",
    "def count_issues(dir_name):\n",
    "    issues = set()\n",
    "    for f in os.listdir(os.path.join(PATH, dir_name + '-issues')):\n",
    "        match = pattern.match(f)\n",
    "        if match:\n",
    "            issues.add(match.group(1))\n",
    "    return len(issues)\n",
    "\n",
    "def count_commits(dir_name):\n",
    "    repo_dir = os.path.join(PATH, dir_name)\n",
    "    repo_dir = os.path.expanduser(repo_dir)\n",
    "    git_repo = git.bake(\"-C\", repo_dir)\n",
    "    return sum(1 for line in git_repo.log('--oneline'))\n",
    "\n",
    "pattern = re.compile(r'[\\dabcdef]+-([A-Z\\d]+-[\\d]+)\\.xml')\n",
    "\n",
    "for d in repos:\n",
    "    n_issues = count_issues(d)\n",
    "    n_commits = count_commits(d)\n",
    "    if n_issues < 100 and n_commits > 1000 and n_issues * 10 < n_commits:\n",
    "        print('Warning: missing issues? %s: %d/%d' %\n",
    "              (d, n_issues, n_commits))\n",
    "        continue\n",
    "    dir_issue_count[d] = n_issues\n",
    "\n",
    "dir_list = [ ]\n",
    "\n",
    "total = 0\n",
    "for d, n in sorted(dir_issue_count.items(), key=lambda x: x[1], reverse=True):\n",
    "    total += n\n",
    "    dir_list.append([d, n])\n",
    "    print(d, n, total)"
   ]
  },
  {
   "cell_type": "markdown",
   "metadata": {},
   "source": [
    "### DANGEROUS: Remove small projects"
   ]
  },
  {
   "cell_type": "code",
   "execution_count": null,
   "metadata": {
    "collapsed": true
   },
   "outputs": [],
   "source": [
    "import os\n",
    "import shutil\n",
    "\n",
    "def remove(name):\n",
    "    repo_path = os.path.join(PATH, name)\n",
    "    config_repos = [x for x in get_config_repos() if x['path'] != repo_path]\n",
    "    writeout_config(config_repos)\n",
    "    shutil.rmtree(repo_path)\n",
    "    shutil.rmtree(os.path.join(PATH, name + '-issues'))"
   ]
  },
  {
   "cell_type": "code",
   "execution_count": null,
   "metadata": {
    "collapsed": true
   },
   "outputs": [],
   "source": [
    "remove('manifoldcf-integration-solr-3.x')"
   ]
  },
  {
   "cell_type": "code",
   "execution_count": null,
   "metadata": {
    "collapsed": true
   },
   "outputs": [],
   "source": [
    "THRESHOLD = 100 # Projects with less issues shall be removed\n",
    "\n",
    "for d, n in dir_issue_count.items():\n",
    "    if n < THRESHOLD:\n",
    "        remove(d)"
   ]
  },
  {
   "cell_type": "markdown",
   "metadata": {
    "collapsed": true
   },
   "source": [
    "### Check no selected projects are omitted from above removal"
   ]
  },
  {
   "cell_type": "code",
   "execution_count": null,
   "metadata": {
    "collapsed": true
   },
   "outputs": [],
   "source": [
    "import sys\n",
    "sys.path.append('../')\n",
    "from jira_stats.process_stats import get_issue_stats\n",
    "\n",
    "ISSUE_STATS_FILE = '../jira_stats/selected_projects.csv'\n",
    "\n",
    "issue_stats = get_issue_stats(ISSUE_STATS_FILE)\n",
    "pre_keys = set()\n",
    "for project in issue_stats:\n",
    "    pre_keys.add(project['key'])\n",
    "\n",
    "post_keys = set()\n",
    "for repo in get_config_repos():\n",
    "    post_keys.add(repo['key'])\n",
    "\n",
    "print(pre_keys - post_keys)"
   ]
  },
  {
   "cell_type": "code",
   "execution_count": null,
   "metadata": {
    "collapsed": true
   },
   "outputs": [],
   "source": []
  }
 ],
 "metadata": {
  "kernelspec": {
   "display_name": "Python 3",
   "language": "python",
   "name": "python3"
  },
  "language_info": {
   "codemirror_mode": {
    "name": "ipython",
    "version": 3
   },
   "file_extension": ".py",
   "mimetype": "text/x-python",
   "name": "python",
   "nbconvert_exporter": "python",
   "pygments_lexer": "ipython3",
   "version": "3.6.1"
  }
 },
 "nbformat": 4,
 "nbformat_minor": 2
}
