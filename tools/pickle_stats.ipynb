{
 "cells": [
  {
   "cell_type": "markdown",
   "metadata": {
    "deletable": true,
    "editable": true
   },
   "source": [
    "## 0. Import the target pickle file"
   ]
  },
  {
   "cell_type": "code",
   "execution_count": null,
   "metadata": {
    "collapsed": false,
    "deletable": true,
    "editable": true
   },
   "outputs": [],
   "source": [
    "import argparse\n",
    "import pickle\n",
    "\n",
    "import sys\n",
    "sys.path.append('../lib')\n",
    "import labeler\n",
    "\n",
    "PICKLE_FILE_PATH = \"../data/jira-issues.pickle\"\n",
    "\n",
    "datasets = pickle.load(open(PICKLE_FILE_PATH, 'rb'))"
   ]
  },
  {
   "cell_type": "code",
   "execution_count": null,
   "metadata": {
    "collapsed": true,
    "deletable": true,
    "editable": true
   },
   "outputs": [],
   "source": [
    "def process_type(project, index, issue, labeler=None):\n",
    "    if project not in type_stats.keys():\n",
    "        type_stats[project] = { }\n",
    "    t = labeler[issue['type']] if labeler else issue['type']\n",
    "    if t not in type_stats[project].keys():\n",
    "        type_stats[project][t] = [ index ]\n",
    "    else:\n",
    "        type_stats[project][t] += [ index ]\n",
    "\n",
    "def process_priority(project, index, issue):\n",
    "    if project not in priority_stats.keys():\n",
    "        priority_stats[project] = { }\n",
    "    p = issue['priority']\n",
    "    if p not in priority_stats[project].keys():\n",
    "        priority_stats[project][p] = [ index ]\n",
    "    else:\n",
    "        priority_stats[project][p] += [index]"
   ]
  },
  {
   "cell_type": "markdown",
   "metadata": {
    "deletable": true,
    "editable": true
   },
   "source": [
    "## 1. Stats of labels\n",
    "### Stats of raw types"
   ]
  },
  {
   "cell_type": "code",
   "execution_count": null,
   "metadata": {
    "collapsed": false,
    "deletable": true,
    "editable": true
   },
   "outputs": [],
   "source": [
    "type_stats = { }\n",
    "\n",
    "for project in datasets.keys():\n",
    "    for index, issue in enumerate(datasets[project]):\n",
    "        process_type(project, index, issue)"
   ]
  },
  {
   "cell_type": "markdown",
   "metadata": {
    "deletable": true,
    "editable": true
   },
   "source": [
    "### Stats of standard types"
   ]
  },
  {
   "cell_type": "code",
   "execution_count": null,
   "metadata": {
    "collapsed": false,
    "deletable": true,
    "editable": true
   },
   "outputs": [],
   "source": [
    "import sys\n",
    "sys.path.append('../lib')\n",
    "from labeler import apache_labeler\n",
    "\n",
    "type_stats = { }\n",
    "\n",
    "for project in datasets.keys():\n",
    "    for index, issue in enumerate(datasets[project]):\n",
    "        process_type(project, index, issue, apache_labeler)"
   ]
  },
  {
   "cell_type": "markdown",
   "metadata": {},
   "source": [
    "### Stats of priorities"
   ]
  },
  {
   "cell_type": "code",
   "execution_count": null,
   "metadata": {
    "collapsed": true
   },
   "outputs": [],
   "source": [
    "priority_stats = {}\n",
    "\n",
    "for project in datasets.keys():\n",
    "    for index, issue in enumerate(datasets[project]):\n",
    "        process_priority(project, index, issue)"
   ]
  },
  {
   "cell_type": "markdown",
   "metadata": {
    "deletable": true,
    "editable": true
   },
   "source": [
    "## 2. Utils"
   ]
  },
  {
   "cell_type": "markdown",
   "metadata": {
    "deletable": true,
    "editable": true
   },
   "source": [
    "### Show stats"
   ]
  },
  {
   "cell_type": "code",
   "execution_count": null,
   "metadata": {
    "collapsed": false,
    "deletable": true,
    "editable": true
   },
   "outputs": [],
   "source": [
    "def print_stats(stats):\n",
    "    for project in stats.keys():\n",
    "        total = 0\n",
    "        for _, issues in stats[project].items():\n",
    "            total += len(issues)\n",
    "        print(\"%s: %d\" % (project, total))\n",
    "        for t, issues in stats[project].items():\n",
    "            print(\"\\t%s: %d (%4.2f%%)\" % (t, len(issues), len(issues) / total * 100))"
   ]
  },
  {
   "cell_type": "code",
   "execution_count": null,
   "metadata": {
    "collapsed": false
   },
   "outputs": [],
   "source": [
    "print_stats(type_stats)"
   ]
  },
  {
   "cell_type": "code",
   "execution_count": null,
   "metadata": {
    "collapsed": false
   },
   "outputs": [],
   "source": [
    "print_stats(priority_stats)"
   ]
  },
  {
   "cell_type": "markdown",
   "metadata": {
    "deletable": true,
    "editable": true
   },
   "source": [
    "### Show a certain issue"
   ]
  },
  {
   "cell_type": "code",
   "execution_count": null,
   "metadata": {
    "collapsed": false,
    "deletable": true,
    "editable": true
   },
   "outputs": [],
   "source": [
    "PROJECT = 'spark'\n",
    "LABEL = 'maintenance'\n",
    "NUMBER = 100 # Pick up any below the number of that label.\n",
    "\n",
    "index = type_stats[PROJECT][LABEL][NUMBER]\n",
    "print(datasets[PROJECT][index])"
   ]
  },
  {
   "cell_type": "markdown",
   "metadata": {
    "deletable": true,
    "editable": true
   },
   "source": [
    "## Modify and output the pickle file"
   ]
  },
  {
   "cell_type": "code",
   "execution_count": null,
   "metadata": {
    "collapsed": true,
    "deletable": true,
    "editable": true
   },
   "outputs": [],
   "source": [
    "del datasets['aurora']"
   ]
  },
  {
   "cell_type": "code",
   "execution_count": null,
   "metadata": {
    "collapsed": true,
    "deletable": true,
    "editable": true
   },
   "outputs": [],
   "source": [
    "pickle.dump(datasets, open(PICKLE_FILE_PATH, 'wb'), True)"
   ]
  },
  {
   "cell_type": "code",
   "execution_count": null,
   "metadata": {
    "collapsed": true
   },
   "outputs": [],
   "source": []
  }
 ],
 "metadata": {
  "kernelspec": {
   "display_name": "Python 3",
   "language": "python",
   "name": "python3"
  },
  "language_info": {
   "codemirror_mode": {
    "name": "ipython",
    "version": 3
   },
   "file_extension": ".py",
   "mimetype": "text/x-python",
   "name": "python",
   "nbconvert_exporter": "python",
   "pygments_lexer": "ipython3",
   "version": "3.5.2"
  }
 },
 "nbformat": 4,
 "nbformat_minor": 2
}
