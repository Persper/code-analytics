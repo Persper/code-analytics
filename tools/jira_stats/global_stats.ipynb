{
 "cells": [
  {
   "cell_type": "markdown",
   "metadata": {},
   "source": [
    "### Download a full Apache project list"
   ]
  },
  {
   "cell_type": "code",
   "execution_count": null,
   "metadata": {},
   "outputs": [],
   "source": [
    "import requests\n",
    "\n",
    "PROJECTS_URL = 'https://issues.apache.org/jira/secure/BrowseProjects.jspa'\n",
    "payload = {'selectedCategory': 'all'}\n",
    "\n",
    "resp = requests.get(PROJECTS_URL, params=payload)"
   ]
  },
  {
   "cell_type": "markdown",
   "metadata": {},
   "source": [
    "### Parse the list and show project names and keys"
   ]
  },
  {
   "cell_type": "code",
   "execution_count": null,
   "metadata": {},
   "outputs": [],
   "source": [
    "import json\n",
    "import re\n",
    "\n",
    "DATA_HEADER = r'WRM._unparsedData[\"com.atlassian.jira.project.browse:projects\"]=\"'\n",
    "\n",
    "header_escaped = re.escape(DATA_HEADER)\n",
    "json_escaped = re.search(header_escaped + r'(\\[.*\\])', resp.text).group(1)\n",
    "projects = json.loads(json_escaped.encode().decode('unicode-escape'))\n",
    "\n",
    "for project in projects[:10]:\n",
    "    print(project['name'], project['key'])\n",
    "print('...')\n",
    "for project in projects[-10:]:\n",
    "    print(project['name'], project['key'])\n",
    "print()\n",
    "print('In total:', len(projects))"
   ]
  },
  {
   "cell_type": "markdown",
   "metadata": {},
   "source": [
    "### Query issue stats and output to a file"
   ]
  },
  {
   "cell_type": "code",
   "execution_count": null,
   "metadata": {},
   "outputs": [],
   "source": [
    "import time\n",
    "\n",
    "pattern = re.compile(r'\"([\\w\\-\\s]+): (\\d+) issues \\(([\\d\\.]+)\\%\\)\"')\n",
    "\n",
    "def retrieve(url, payload):\n",
    "    while True:\n",
    "        try:\n",
    "            resp = requests.get(url, params=payload)\n",
    "            return resp\n",
    "        except Exception as e:\n",
    "            print('Querying ', payload, type(e), e)\n",
    "            time.sleep(10)\n",
    "            continue\n",
    "\n",
    "def parse(text, labeler):\n",
    "    filt = { }\n",
    "    stats = { }\n",
    "    stats['count'] = 0\n",
    "    for match in pattern.finditer(text):\n",
    "        label = match.group(1)\n",
    "        count = int(match.group(2))\n",
    "        ratio = float(match.group(3)) / 100\n",
    "        if not label in filt:\n",
    "            filt[label] = count\n",
    "        elif filt[label] == count:\n",
    "            continue\n",
    "        else:\n",
    "            raise LookupError(label + ' has conflicting counts!')\n",
    "        stats['count'] += count\n",
    "        if not label in labeler:\n",
    "            print('New label found: %s (%d)' % (label, count))\n",
    "            continue\n",
    "        std_label = labeler[label]\n",
    "        if std_label in stats:\n",
    "            stats[std_label] += ratio\n",
    "        else:\n",
    "            stats[std_label] = ratio\n",
    "    return stats"
   ]
  },
  {
   "cell_type": "code",
   "execution_count": null,
   "metadata": {},
   "outputs": [],
   "source": [
    "import sys\n",
    "sys.path.append('../../lib')\n",
    "from labeler import apache_type, apache_priority\n",
    "\n",
    "file_name = 'project_issue_stats.csv'\n",
    "\n",
    "STATS_URL = 'https://issues.apache.org/jira/secure/ConfigureReport.jspa'\n",
    "\n",
    "queried = set()\n",
    "try:\n",
    "    with open(file_name, 'r') as in_file:\n",
    "        for line in in_file:\n",
    "            queried.add(line.split(',')[2])\n",
    "except Exception:\n",
    "    print('Info: There seem no previous stats.')\n",
    "\n",
    "with open(file_name, 'a') as out:\n",
    "    if not queried:\n",
    "        print('name', 'key', 'id', 'count',\n",
    "              'feature', 'bug', 'improvement', 'maintenance',\n",
    "              'high', 'mid', 'low',\n",
    "              sep=',', file=out)\n",
    "\n",
    "    payload = {'reportKey': r'com.atlassian.jira.plugin.system.reports:pie-report'}\n",
    "\n",
    "    for project in projects:\n",
    "        if str(project['id']) in queried: continue\n",
    "        \n",
    "        payload['projectOrFilterId'] = 'project-' + str(project['id'])\n",
    "        \n",
    "        for i in range(3):\n",
    "            payload['statistictype'] = 'issuetype'\n",
    "            resp = retrieve(STATS_URL, payload)\n",
    "            type_stats = parse(resp.text, apache_type)\n",
    "            \n",
    "            payload['statistictype'] = 'priorities'\n",
    "            resp = retrieve(STATS_URL, payload)\n",
    "            priority_stats = parse(resp.text, apache_priority)\n",
    "            \n",
    "            print('Queried ' + project['name'])\n",
    "            if type_stats['count'] == priority_stats['count']:\n",
    "                if priority_stats['count'] <= 1:\n",
    "                    print('Warning: Too few issues - ' + resp.url, resp.status_code)\n",
    "                break\n",
    "            elif i == 4:\n",
    "                print(\"[Error] Failed in retry: \" + project['name'], type_stats, priority_stats)\n",
    "        \n",
    "        print(project['name'], project['key'], project['id'],\n",
    "              type_stats['count'],\n",
    "              type_stats.get('feature', 0), type_stats.get('bug', 0),\n",
    "              type_stats.get('improvement', 0), type_stats.get('maintenance', 0),\n",
    "              priority_stats.get('high', 0), priority_stats.get('mid', 0), priority_stats.get('low', 0),\n",
    "              sep=',', file=out)\n"
   ]
  },
  {
   "cell_type": "markdown",
   "metadata": {},
   "source": [
    "**Note: A very small number of projects cannot be queried in this way. Manually check warnings by clicking their links.**\n",
    "\n",
    "Know inaccurate queries for:\n",
    "\n",
    "https://issues.apache.org/jira/browse/MYNEWT\n",
    "\n",
    "https://issues.apache.org/jira/browse/YOKO"
   ]
  },
  {
   "cell_type": "code",
   "execution_count": null,
   "metadata": {},
   "outputs": [],
   "source": []
  }
 ],
 "metadata": {
  "kernelspec": {
   "display_name": "Python 3",
   "language": "python",
   "name": "python3"
  },
  "language_info": {
   "codemirror_mode": {
    "name": "ipython",
    "version": 3
   },
   "file_extension": ".py",
   "mimetype": "text/x-python",
   "name": "python",
   "nbconvert_exporter": "python",
   "pygments_lexer": "ipython3",
   "version": "3.5.2"
  }
 },
 "nbformat": 4,
 "nbformat_minor": 2
}
